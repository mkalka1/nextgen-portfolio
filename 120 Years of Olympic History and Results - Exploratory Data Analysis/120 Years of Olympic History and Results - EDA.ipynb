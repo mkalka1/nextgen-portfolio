{
 "cells": [
  {
   "attachments": {},
   "cell_type": "markdown",
   "metadata": {},
   "source": [
    "### <p style=\"text-align: center;\">120 years of Olympic History<br>Athletes and Results</p>\n",
    "#### <p style=\"text-align: center;\">DSC 530 – Exploratory Data Analysis<br/>Fall 2020<br/> Manish Kalkar</p>\n",
    "### <p style=\"text-align: center;\">Final Project Code - EDA</p>"
   ]
  },
  {
   "cell_type": "code",
   "execution_count": 1,
   "metadata": {},
   "outputs": [
    {
     "data": {
      "text/plain": [
       "(271116, 15)"
      ]
     },
     "execution_count": 1,
     "metadata": {},
     "output_type": "execute_result"
    }
   ],
   "source": [
    "# Load the libraries\n",
    "import pandas as pd\n",
    "import seaborn as sns\n",
    "\n",
    "# Data Load - Load the data with Pandas, and check its size\n",
    "olympic_df = pd.read_csv('athlete_events.csv')\n",
    "olympic_df.shape"
   ]
  },
  {
   "cell_type": "code",
   "execution_count": 2,
   "metadata": {
    "scrolled": true
   },
   "outputs": [
    {
     "data": {
      "text/plain": [
       "['ID',\n",
       " 'Name',\n",
       " 'Sex',\n",
       " 'Age',\n",
       " 'Height',\n",
       " 'Weight',\n",
       " 'Team',\n",
       " 'NOC',\n",
       " 'Games',\n",
       " 'Year',\n",
       " 'Season',\n",
       " 'City',\n",
       " 'Sport',\n",
       " 'Event',\n",
       " 'Medal']"
      ]
     },
     "execution_count": 2,
     "metadata": {},
     "output_type": "execute_result"
    }
   ],
   "source": [
    "# List the columns\n",
    "list(olympic_df)"
   ]
  },
  {
   "cell_type": "code",
   "execution_count": 3,
   "metadata": {},
   "outputs": [
    {
     "data": {
      "text/html": [
       "<div>\n",
       "<style scoped>\n",
       "    .dataframe tbody tr th:only-of-type {\n",
       "        vertical-align: middle;\n",
       "    }\n",
       "\n",
       "    .dataframe tbody tr th {\n",
       "        vertical-align: top;\n",
       "    }\n",
       "\n",
       "    .dataframe thead th {\n",
       "        text-align: right;\n",
       "    }\n",
       "</style>\n",
       "<table border=\"1\" class=\"dataframe\">\n",
       "  <thead>\n",
       "    <tr style=\"text-align: right;\">\n",
       "      <th></th>\n",
       "      <th>ID</th>\n",
       "      <th>Name</th>\n",
       "      <th>Sex</th>\n",
       "      <th>Age</th>\n",
       "      <th>Height</th>\n",
       "      <th>Weight</th>\n",
       "      <th>Team</th>\n",
       "      <th>NOC</th>\n",
       "      <th>Games</th>\n",
       "      <th>Year</th>\n",
       "      <th>Season</th>\n",
       "      <th>City</th>\n",
       "      <th>Sport</th>\n",
       "      <th>Event</th>\n",
       "      <th>Medal</th>\n",
       "    </tr>\n",
       "  </thead>\n",
       "  <tbody>\n",
       "    <tr>\n",
       "      <th>0</th>\n",
       "      <td>1</td>\n",
       "      <td>A Dijiang</td>\n",
       "      <td>M</td>\n",
       "      <td>24.0</td>\n",
       "      <td>180.0</td>\n",
       "      <td>80.0</td>\n",
       "      <td>China</td>\n",
       "      <td>CHN</td>\n",
       "      <td>1992 Summer</td>\n",
       "      <td>1992</td>\n",
       "      <td>Summer</td>\n",
       "      <td>Barcelona</td>\n",
       "      <td>Basketball</td>\n",
       "      <td>Basketball Men's Basketball</td>\n",
       "      <td>NaN</td>\n",
       "    </tr>\n",
       "    <tr>\n",
       "      <th>1</th>\n",
       "      <td>2</td>\n",
       "      <td>A Lamusi</td>\n",
       "      <td>M</td>\n",
       "      <td>23.0</td>\n",
       "      <td>170.0</td>\n",
       "      <td>60.0</td>\n",
       "      <td>China</td>\n",
       "      <td>CHN</td>\n",
       "      <td>2012 Summer</td>\n",
       "      <td>2012</td>\n",
       "      <td>Summer</td>\n",
       "      <td>London</td>\n",
       "      <td>Judo</td>\n",
       "      <td>Judo Men's Extra-Lightweight</td>\n",
       "      <td>NaN</td>\n",
       "    </tr>\n",
       "    <tr>\n",
       "      <th>2</th>\n",
       "      <td>3</td>\n",
       "      <td>Gunnar Nielsen Aaby</td>\n",
       "      <td>M</td>\n",
       "      <td>24.0</td>\n",
       "      <td>NaN</td>\n",
       "      <td>NaN</td>\n",
       "      <td>Denmark</td>\n",
       "      <td>DEN</td>\n",
       "      <td>1920 Summer</td>\n",
       "      <td>1920</td>\n",
       "      <td>Summer</td>\n",
       "      <td>Antwerpen</td>\n",
       "      <td>Football</td>\n",
       "      <td>Football Men's Football</td>\n",
       "      <td>NaN</td>\n",
       "    </tr>\n",
       "    <tr>\n",
       "      <th>3</th>\n",
       "      <td>4</td>\n",
       "      <td>Edgar Lindenau Aabye</td>\n",
       "      <td>M</td>\n",
       "      <td>34.0</td>\n",
       "      <td>NaN</td>\n",
       "      <td>NaN</td>\n",
       "      <td>Denmark/Sweden</td>\n",
       "      <td>DEN</td>\n",
       "      <td>1900 Summer</td>\n",
       "      <td>1900</td>\n",
       "      <td>Summer</td>\n",
       "      <td>Paris</td>\n",
       "      <td>Tug-Of-War</td>\n",
       "      <td>Tug-Of-War Men's Tug-Of-War</td>\n",
       "      <td>Gold</td>\n",
       "    </tr>\n",
       "    <tr>\n",
       "      <th>4</th>\n",
       "      <td>5</td>\n",
       "      <td>Christine Jacoba Aaftink</td>\n",
       "      <td>F</td>\n",
       "      <td>21.0</td>\n",
       "      <td>185.0</td>\n",
       "      <td>82.0</td>\n",
       "      <td>Netherlands</td>\n",
       "      <td>NED</td>\n",
       "      <td>1988 Winter</td>\n",
       "      <td>1988</td>\n",
       "      <td>Winter</td>\n",
       "      <td>Calgary</td>\n",
       "      <td>Speed Skating</td>\n",
       "      <td>Speed Skating Women's 500 metres</td>\n",
       "      <td>NaN</td>\n",
       "    </tr>\n",
       "  </tbody>\n",
       "</table>\n",
       "</div>"
      ],
      "text/plain": [
       "   ID                      Name Sex   Age  Height  Weight            Team  \\\n",
       "0   1                 A Dijiang   M  24.0   180.0    80.0           China   \n",
       "1   2                  A Lamusi   M  23.0   170.0    60.0           China   \n",
       "2   3       Gunnar Nielsen Aaby   M  24.0     NaN     NaN         Denmark   \n",
       "3   4      Edgar Lindenau Aabye   M  34.0     NaN     NaN  Denmark/Sweden   \n",
       "4   5  Christine Jacoba Aaftink   F  21.0   185.0    82.0     Netherlands   \n",
       "\n",
       "   NOC        Games  Year  Season       City          Sport  \\\n",
       "0  CHN  1992 Summer  1992  Summer  Barcelona     Basketball   \n",
       "1  CHN  2012 Summer  2012  Summer     London           Judo   \n",
       "2  DEN  1920 Summer  1920  Summer  Antwerpen       Football   \n",
       "3  DEN  1900 Summer  1900  Summer      Paris     Tug-Of-War   \n",
       "4  NED  1988 Winter  1988  Winter    Calgary  Speed Skating   \n",
       "\n",
       "                              Event Medal  \n",
       "0       Basketball Men's Basketball   NaN  \n",
       "1      Judo Men's Extra-Lightweight   NaN  \n",
       "2           Football Men's Football   NaN  \n",
       "3       Tug-Of-War Men's Tug-Of-War  Gold  \n",
       "4  Speed Skating Women's 500 metres   NaN  "
      ]
     },
     "execution_count": 3,
     "metadata": {},
     "output_type": "execute_result"
    }
   ],
   "source": [
    "# Display the data - First five rows\n",
    "olympic_df.head(5)"
   ]
  },
  {
   "cell_type": "code",
   "execution_count": 4,
   "metadata": {},
   "outputs": [],
   "source": [
    "# Missing data / Null values\n",
    "def NaN_percent(df, column_name):\n",
    "    row_count = df[column_name].shape[0]\n",
    "    empty_values = row_count - df[column_name].count()\n",
    "    return (100.0*empty_values)/row_count"
   ]
  },
  {
   "cell_type": "code",
   "execution_count": 5,
   "metadata": {},
   "outputs": [
    {
     "data": {
      "text/plain": [
       "22.193821095029435"
      ]
     },
     "execution_count": 5,
     "metadata": {},
     "output_type": "execute_result"
    }
   ],
   "source": [
    "# Missing data percentage\n",
    "NaN_percent(olympic_df, 'Height')"
   ]
  },
  {
   "cell_type": "code",
   "execution_count": 6,
   "metadata": {},
   "outputs": [
    {
     "name": "stdout",
     "output_type": "stream",
     "text": [
      "ID: 0.0%\n",
      "Name: 0.0%\n",
      "Sex: 0.0%\n",
      "Age: 3.49444518213606%\n",
      "Height: 22.193821095029435%\n",
      "Weight: 23.19118015904631%\n",
      "Team: 0.0%\n",
      "NOC: 0.0%\n",
      "Games: 0.0%\n",
      "Year: 0.0%\n",
      "Season: 0.0%\n",
      "City: 0.0%\n",
      "Sport: 0.0%\n",
      "Event: 0.0%\n",
      "Medal: 85.3262072323286%\n"
     ]
    }
   ],
   "source": [
    "# Missing data percentage by column\n",
    "for i in list(olympic_df):\n",
    "    print(i +': ' + str(NaN_percent(olympic_df,i))+'%')"
   ]
  },
  {
   "cell_type": "code",
   "execution_count": 7,
   "metadata": {},
   "outputs": [
    {
     "data": {
      "text/plain": [
       "'271116 134732 28202'"
      ]
     },
     "execution_count": 7,
     "metadata": {},
     "output_type": "execute_result"
    }
   ],
   "source": [
    "# How many athletes won a medal since 1900?\n",
    "total_rows = olympic_df.shape[0]\n",
    "unique_athletes = len(olympic_df.Name.unique())\n",
    "medal_winners = len(olympic_df[olympic_df.Medal.fillna('None')!='None'].Name.unique())\n",
    "\n",
    "\"{0} {1} {2}\".format(total_rows, unique_athletes, medal_winners)"
   ]
  },
  {
   "cell_type": "code",
   "execution_count": 8,
   "metadata": {
    "scrolled": true
   },
   "outputs": [
    {
     "name": "stdout",
     "output_type": "stream",
     "text": [
      "Gold      13372\n",
      "Bronze    13295\n",
      "Silver    13116\n",
      "Name: Medal, dtype: int64\n"
     ]
    },
    {
     "data": {
      "text/plain": [
       "39783"
      ]
     },
     "execution_count": 8,
     "metadata": {},
     "output_type": "execute_result"
    }
   ],
   "source": [
    "# See Medal distribution\n",
    "print(olympic_df[olympic_df.Medal.fillna('None')!='None'].Medal.value_counts())\n",
    "\n",
    "# How many medals have been earned throughout 120 years?\n",
    "olympic_df[olympic_df.Medal.fillna('None')!='None'].shape[0]"
   ]
  },
  {
   "cell_type": "code",
   "execution_count": 9,
   "metadata": {
    "scrolled": false
   },
   "outputs": [
    {
     "data": {
      "text/html": [
       "<div>\n",
       "<style scoped>\n",
       "    .dataframe tbody tr th:only-of-type {\n",
       "        vertical-align: middle;\n",
       "    }\n",
       "\n",
       "    .dataframe tbody tr th {\n",
       "        vertical-align: top;\n",
       "    }\n",
       "\n",
       "    .dataframe thead th {\n",
       "        text-align: right;\n",
       "    }\n",
       "</style>\n",
       "<table border=\"1\" class=\"dataframe\">\n",
       "  <thead>\n",
       "    <tr style=\"text-align: right;\">\n",
       "      <th></th>\n",
       "      <th>Team</th>\n",
       "      <th>Medal</th>\n",
       "      <th>count</th>\n",
       "    </tr>\n",
       "  </thead>\n",
       "  <tbody>\n",
       "    <tr>\n",
       "      <th>726</th>\n",
       "      <td>United States</td>\n",
       "      <td>Gold</td>\n",
       "      <td>2474</td>\n",
       "    </tr>\n",
       "    <tr>\n",
       "      <th>727</th>\n",
       "      <td>United States</td>\n",
       "      <td>Silver</td>\n",
       "      <td>1512</td>\n",
       "    </tr>\n",
       "    <tr>\n",
       "      <th>725</th>\n",
       "      <td>United States</td>\n",
       "      <td>Bronze</td>\n",
       "      <td>1233</td>\n",
       "    </tr>\n",
       "    <tr>\n",
       "      <th>627</th>\n",
       "      <td>Soviet Union</td>\n",
       "      <td>Gold</td>\n",
       "      <td>1058</td>\n",
       "    </tr>\n",
       "    <tr>\n",
       "      <th>628</th>\n",
       "      <td>Soviet Union</td>\n",
       "      <td>Silver</td>\n",
       "      <td>716</td>\n",
       "    </tr>\n",
       "    <tr>\n",
       "      <th>263</th>\n",
       "      <td>Germany</td>\n",
       "      <td>Gold</td>\n",
       "      <td>679</td>\n",
       "    </tr>\n",
       "    <tr>\n",
       "      <th>262</th>\n",
       "      <td>Germany</td>\n",
       "      <td>Bronze</td>\n",
       "      <td>678</td>\n",
       "    </tr>\n",
       "    <tr>\n",
       "      <th>626</th>\n",
       "      <td>Soviet Union</td>\n",
       "      <td>Bronze</td>\n",
       "      <td>677</td>\n",
       "    </tr>\n",
       "    <tr>\n",
       "      <th>264</th>\n",
       "      <td>Germany</td>\n",
       "      <td>Silver</td>\n",
       "      <td>627</td>\n",
       "    </tr>\n",
       "    <tr>\n",
       "      <th>278</th>\n",
       "      <td>Great Britain</td>\n",
       "      <td>Silver</td>\n",
       "      <td>582</td>\n",
       "    </tr>\n",
       "  </tbody>\n",
       "</table>\n",
       "</div>"
      ],
      "text/plain": [
       "              Team   Medal  count\n",
       "726  United States    Gold   2474\n",
       "727  United States  Silver   1512\n",
       "725  United States  Bronze   1233\n",
       "627   Soviet Union    Gold   1058\n",
       "628   Soviet Union  Silver    716\n",
       "263        Germany    Gold    679\n",
       "262        Germany  Bronze    678\n",
       "626   Soviet Union  Bronze    677\n",
       "264        Germany  Silver    627\n",
       "278  Great Britain  Silver    582"
      ]
     },
     "execution_count": 9,
     "metadata": {},
     "output_type": "execute_result"
    }
   ],
   "source": [
    "# Medal distribution by countries - Number of medals by each country\n",
    "team_medal_count = olympic_df.groupby(['Team','Medal']).Medal.agg('count')\n",
    "\n",
    "# order them by quantity\n",
    "team_medal_count = team_medal_count.reset_index(name='count').sort_values(['count'], ascending=False)\n",
    "\n",
    "# Show the first 10 rows\n",
    "team_medal_count.head(10)"
   ]
  },
  {
   "cell_type": "code",
   "execution_count": 10,
   "metadata": {},
   "outputs": [],
   "source": [
    "# Function Definition - Medal distribution by countries - Continued\n",
    "def get_country_stats(country):\n",
    "    return team_medal_count[team_medal_count.Team==country]"
   ]
  },
  {
   "cell_type": "code",
   "execution_count": 11,
   "metadata": {},
   "outputs": [
    {
     "data": {
      "text/html": [
       "<div>\n",
       "<style scoped>\n",
       "    .dataframe tbody tr th:only-of-type {\n",
       "        vertical-align: middle;\n",
       "    }\n",
       "\n",
       "    .dataframe tbody tr th {\n",
       "        vertical-align: top;\n",
       "    }\n",
       "\n",
       "    .dataframe thead th {\n",
       "        text-align: right;\n",
       "    }\n",
       "</style>\n",
       "<table border=\"1\" class=\"dataframe\">\n",
       "  <thead>\n",
       "    <tr style=\"text-align: right;\">\n",
       "      <th></th>\n",
       "      <th>Team</th>\n",
       "      <th>Medal</th>\n",
       "      <th>count</th>\n",
       "    </tr>\n",
       "  </thead>\n",
       "  <tbody>\n",
       "    <tr>\n",
       "      <th>13</th>\n",
       "      <td>Argentina</td>\n",
       "      <td>Gold</td>\n",
       "      <td>91</td>\n",
       "    </tr>\n",
       "    <tr>\n",
       "      <th>12</th>\n",
       "      <td>Argentina</td>\n",
       "      <td>Bronze</td>\n",
       "      <td>91</td>\n",
       "    </tr>\n",
       "    <tr>\n",
       "      <th>14</th>\n",
       "      <td>Argentina</td>\n",
       "      <td>Silver</td>\n",
       "      <td>84</td>\n",
       "    </tr>\n",
       "  </tbody>\n",
       "</table>\n",
       "</div>"
      ],
      "text/plain": [
       "         Team   Medal  count\n",
       "13  Argentina    Gold     91\n",
       "12  Argentina  Bronze     91\n",
       "14  Argentina  Silver     84"
      ]
     },
     "execution_count": 11,
     "metadata": {},
     "output_type": "execute_result"
    }
   ],
   "source": [
    "# Medal distribution by countries - Argentina\n",
    "get_country_stats('Argentina')"
   ]
  },
  {
   "cell_type": "code",
   "execution_count": 12,
   "metadata": {},
   "outputs": [
    {
     "data": {
      "text/html": [
       "<div>\n",
       "<style scoped>\n",
       "    .dataframe tbody tr th:only-of-type {\n",
       "        vertical-align: middle;\n",
       "    }\n",
       "\n",
       "    .dataframe tbody tr th {\n",
       "        vertical-align: top;\n",
       "    }\n",
       "\n",
       "    .dataframe thead th {\n",
       "        text-align: right;\n",
       "    }\n",
       "</style>\n",
       "<table border=\"1\" class=\"dataframe\">\n",
       "  <thead>\n",
       "    <tr style=\"text-align: right;\">\n",
       "      <th></th>\n",
       "      <th>Team</th>\n",
       "      <th>Medal</th>\n",
       "      <th>count</th>\n",
       "    </tr>\n",
       "  </thead>\n",
       "  <tbody>\n",
       "    <tr>\n",
       "      <th>444</th>\n",
       "      <td>Mexico</td>\n",
       "      <td>Bronze</td>\n",
       "      <td>51</td>\n",
       "    </tr>\n",
       "    <tr>\n",
       "      <th>445</th>\n",
       "      <td>Mexico</td>\n",
       "      <td>Gold</td>\n",
       "      <td>30</td>\n",
       "    </tr>\n",
       "    <tr>\n",
       "      <th>446</th>\n",
       "      <td>Mexico</td>\n",
       "      <td>Silver</td>\n",
       "      <td>26</td>\n",
       "    </tr>\n",
       "  </tbody>\n",
       "</table>\n",
       "</div>"
      ],
      "text/plain": [
       "       Team   Medal  count\n",
       "444  Mexico  Bronze     51\n",
       "445  Mexico    Gold     30\n",
       "446  Mexico  Silver     26"
      ]
     },
     "execution_count": 12,
     "metadata": {},
     "output_type": "execute_result"
    }
   ],
   "source": [
    "# Medal distribution by countries - Mexico\n",
    "get_country_stats('Mexico')"
   ]
  },
  {
   "cell_type": "code",
   "execution_count": 13,
   "metadata": {},
   "outputs": [
    {
     "data": {
      "text/html": [
       "<div>\n",
       "<style scoped>\n",
       "    .dataframe tbody tr th:only-of-type {\n",
       "        vertical-align: middle;\n",
       "    }\n",
       "\n",
       "    .dataframe tbody tr th {\n",
       "        vertical-align: top;\n",
       "    }\n",
       "\n",
       "    .dataframe thead th {\n",
       "        text-align: right;\n",
       "    }\n",
       "</style>\n",
       "<table border=\"1\" class=\"dataframe\">\n",
       "  <thead>\n",
       "    <tr style=\"text-align: right;\">\n",
       "      <th></th>\n",
       "      <th>Team</th>\n",
       "      <th>Medal</th>\n",
       "      <th>count</th>\n",
       "    </tr>\n",
       "  </thead>\n",
       "  <tbody>\n",
       "    <tr>\n",
       "      <th>126</th>\n",
       "      <td>China</td>\n",
       "      <td>Silver</td>\n",
       "      <td>325</td>\n",
       "    </tr>\n",
       "    <tr>\n",
       "      <th>125</th>\n",
       "      <td>China</td>\n",
       "      <td>Gold</td>\n",
       "      <td>308</td>\n",
       "    </tr>\n",
       "    <tr>\n",
       "      <th>124</th>\n",
       "      <td>China</td>\n",
       "      <td>Bronze</td>\n",
       "      <td>268</td>\n",
       "    </tr>\n",
       "  </tbody>\n",
       "</table>\n",
       "</div>"
      ],
      "text/plain": [
       "      Team   Medal  count\n",
       "126  China  Silver    325\n",
       "125  China    Gold    308\n",
       "124  China  Bronze    268"
      ]
     },
     "execution_count": 13,
     "metadata": {},
     "output_type": "execute_result"
    }
   ],
   "source": [
    "# Medal distribution by countries - China\n",
    "get_country_stats('China')"
   ]
  },
  {
   "cell_type": "code",
   "execution_count": 14,
   "metadata": {
    "scrolled": true
   },
   "outputs": [
    {
     "data": {
      "text/plain": [
       "array([1928, 1984, 1988, 1992, 1996, 2004, 2008, 2016, 1948, 1980, 1956,\n",
       "       2006, 1964, 1976, 1932, 1936, 2000, 1952, 1960, 2012, 1972, 1920,\n",
       "       1968, 1924, 2014, 1998, 2002, 2010, 1900], dtype=int64)"
      ]
     },
     "execution_count": 14,
     "metadata": {},
     "output_type": "execute_result"
    }
   ],
   "source": [
    "# Participation by Country - India\n",
    "olympic_df[olympic_df.Team=='India'].Year.unique()"
   ]
  },
  {
   "cell_type": "code",
   "execution_count": 15,
   "metadata": {
    "scrolled": true
   },
   "outputs": [
    {
     "name": "stdout",
     "output_type": "stream",
     "text": [
      "33808 100979 11253 28530 \n"
     ]
    },
    {
     "data": {
      "text/plain": [
       "1900"
      ]
     },
     "execution_count": 15,
     "metadata": {},
     "output_type": "execute_result"
    }
   ],
   "source": [
    "# Men and Women participation\n",
    "unique_women = len(olympic_df[olympic_df.Sex=='F'].Name.unique())\n",
    "unique_men = len(olympic_df[olympic_df.Sex=='M'].Name.unique())\n",
    "women_medals = olympic_df[olympic_df.Sex=='F'].Medal.count()\n",
    "men_medals = olympic_df[olympic_df.Sex=='M'].Medal.count()\n",
    "\n",
    "print(\"{} {} {} {} \".format(unique_women, unique_men, women_medals, men_medals ))\n",
    "\n",
    "olympic_df[olympic_df.Sex=='F'].Year.min()"
   ]
  },
  {
   "cell_type": "code",
   "execution_count": 16,
   "metadata": {},
   "outputs": [
    {
     "data": {
      "text/plain": [
       "<matplotlib.axes._subplots.AxesSubplot at 0x1808049d940>"
      ]
     },
     "execution_count": 16,
     "metadata": {},
     "output_type": "execute_result"
    },
    {
     "data": {
      "image/png": "[encoded data removed]",
      "text/plain": [
       "<Figure size 432x288 with 1 Axes>"
      ]
     },
     "metadata": {
      "needs_background": "light"
     },
     "output_type": "display_data"
    }
   ],
   "source": [
    "# Women participation – Time Series Analysis – Scatter Plot\n",
    "female = olympic_df[olympic_df.Sex=='F']\n",
    "year_count = female.groupby('Year').agg('count')\n",
    "years = list(year_count.index)\n",
    "counts =  list(year_count.Name)\n",
    "sns.scatterplot(x = years, y = counts)"
   ]
  },
  {
   "cell_type": "code",
   "execution_count": 17,
   "metadata": {},
   "outputs": [
    {
     "data": {
      "text/plain": [
       "(<matplotlib.axes._subplots.AxesSubplot at 0x18080e333a0>,\n",
       " <matplotlib.axes._subplots.AxesSubplot at 0x18080e333a0>)"
      ]
     },
     "execution_count": 17,
     "metadata": {},
     "output_type": "execute_result"
    },
    {
     "data": {
      "image/png": "[encoded data removed]",
      "text/plain": [
       "<Figure size 432x288 with 1 Axes>"
      ]
     },
     "metadata": {
      "needs_background": "light"
     },
     "output_type": "display_data"
    }
   ],
   "source": [
    "# Men vs. Women participation – Time Series Analysis – Scatter Plot\n",
    "f_year_count = olympic_df[olympic_df.Sex=='F'].groupby('Year').agg('count').Name\n",
    "m_year_count = olympic_df[olympic_df.Sex=='M'].groupby('Year').agg('count').Name\n",
    "(sns.scatterplot(data= m_year_count),\n",
    " sns.scatterplot(data =f_year_count))"
   ]
  },
  {
   "cell_type": "code",
   "execution_count": 18,
   "metadata": {
    "scrolled": false
   },
   "outputs": [
    {
     "data": {
      "text/plain": [
       "Athletics        38624\n",
       "Gymnastics       26707\n",
       "Swimming         23195\n",
       "Shooting         11448\n",
       "Cycling          10859\n",
       "                 ...  \n",
       "Racquets            12\n",
       "Jeu De Paume        11\n",
       "Roque                4\n",
       "Basque Pelota        2\n",
       "Aeronautics          1\n",
       "Name: Sport, Length: 66, dtype: int64"
      ]
     },
     "execution_count": 18,
     "metadata": {},
     "output_type": "execute_result"
    }
   ],
   "source": [
    "# Athletes by sport\n",
    "olympic_df.Sport.value_counts()"
   ]
  },
  {
   "cell_type": "code",
   "execution_count": 19,
   "metadata": {},
   "outputs": [
    {
     "data": {
      "text/plain": [
       "<matplotlib.axes._subplots.AxesSubplot at 0x18080e9a970>"
      ]
     },
     "execution_count": 19,
     "metadata": {},
     "output_type": "execute_result"
    },
    {
     "data": {
      "image/png": "[encoded data removed]",
      "text/plain": [
       "<Figure size 432x288 with 1 Axes>"
      ]
     },
     "metadata": {
      "needs_background": "light"
     },
     "output_type": "display_data"
    }
   ],
   "source": [
    "# Weight of Athletes – Histogram with Analytical Distribution\n",
    "weight = olympic_df['Weight']\n",
    "sns.distplot(weight.dropna())"
   ]
  },
  {
   "cell_type": "code",
   "execution_count": 20,
   "metadata": {
    "scrolled": true
   },
   "outputs": [
    {
     "data": {
      "text/plain": [
       "<matplotlib.axes._subplots.AxesSubplot at 0x18080ed3880>"
      ]
     },
     "execution_count": 20,
     "metadata": {},
     "output_type": "execute_result"
    },
    {
     "data": {
      "image/png": "[encoded data removed]",
      "text/plain": [
       "<Figure size 432x288 with 1 Axes>"
      ]
     },
     "metadata": {
      "needs_background": "light"
     },
     "output_type": "display_data"
    }
   ],
   "source": [
    "# Height of Athletes – Histogram with Analytical Distribution\n",
    "height = olympic_df['Height']\n",
    "sns.distplot(height.dropna())"
   ]
  },
  {
   "cell_type": "code",
   "execution_count": 21,
   "metadata": {},
   "outputs": [
    {
     "data": {
      "text/plain": [
       "<matplotlib.axes._subplots.AxesSubplot at 0x18080ed39a0>"
      ]
     },
     "execution_count": 21,
     "metadata": {},
     "output_type": "execute_result"
    },
    {
     "data": {
      "image/png": "[encoded data removed]",
      "text/plain": [
       "<Figure size 432x288 with 1 Axes>"
      ]
     },
     "metadata": {
      "needs_background": "light"
     },
     "output_type": "display_data"
    }
   ],
   "source": [
    "# Age of Athletes – Histogram with Analytical Distribution\n",
    "age = olympic_df['Age']\n",
    "sns.distplot(age.dropna())"
   ]
  },
  {
   "cell_type": "code",
   "execution_count": 22,
   "metadata": {
    "scrolled": true
   },
   "outputs": [
    {
     "name": "stderr",
     "output_type": "stream",
     "text": [
      "<ipython-input-22-3489892ef954>:2: FutureWarning: Indexing with multiple keys (implicitly converted to a tuple of keys) will be deprecated, use a list instead.\n",
      "  sport_weight_height_metrics = male_df.groupby(['Sport'])['Weight','Height'].agg(['min','max','mean'])\n"
     ]
    },
    {
     "data": {
      "text/html": [
       "<div>\n",
       "<style scoped>\n",
       "    .dataframe tbody tr th:only-of-type {\n",
       "        vertical-align: middle;\n",
       "    }\n",
       "\n",
       "    .dataframe tbody tr th {\n",
       "        vertical-align: top;\n",
       "    }\n",
       "\n",
       "    .dataframe thead th {\n",
       "        text-align: right;\n",
       "    }\n",
       "</style>\n",
       "<table border=\"1\" class=\"dataframe\">\n",
       "  <thead>\n",
       "    <tr style=\"text-align: right;\">\n",
       "      <th></th>\n",
       "      <th>min</th>\n",
       "      <th>max</th>\n",
       "      <th>mean</th>\n",
       "    </tr>\n",
       "    <tr>\n",
       "      <th>Sport</th>\n",
       "      <th></th>\n",
       "      <th></th>\n",
       "      <th></th>\n",
       "    </tr>\n",
       "  </thead>\n",
       "  <tbody>\n",
       "    <tr>\n",
       "      <th>Tug-Of-War</th>\n",
       "      <td>75.0</td>\n",
       "      <td>118.0</td>\n",
       "      <td>95.615385</td>\n",
       "    </tr>\n",
       "    <tr>\n",
       "      <th>Basketball</th>\n",
       "      <td>59.0</td>\n",
       "      <td>156.0</td>\n",
       "      <td>91.683529</td>\n",
       "    </tr>\n",
       "    <tr>\n",
       "      <th>Rugby Sevens</th>\n",
       "      <td>65.0</td>\n",
       "      <td>113.0</td>\n",
       "      <td>91.006623</td>\n",
       "    </tr>\n",
       "    <tr>\n",
       "      <th>Bobsleigh</th>\n",
       "      <td>55.0</td>\n",
       "      <td>145.0</td>\n",
       "      <td>90.387385</td>\n",
       "    </tr>\n",
       "    <tr>\n",
       "      <th>Beach Volleyball</th>\n",
       "      <td>62.0</td>\n",
       "      <td>110.0</td>\n",
       "      <td>89.512821</td>\n",
       "    </tr>\n",
       "  </tbody>\n",
       "</table>\n",
       "</div>"
      ],
      "text/plain": [
       "                   min    max       mean\n",
       "Sport                                   \n",
       "Tug-Of-War        75.0  118.0  95.615385\n",
       "Basketball        59.0  156.0  91.683529\n",
       "Rugby Sevens      65.0  113.0  91.006623\n",
       "Bobsleigh         55.0  145.0  90.387385\n",
       "Beach Volleyball  62.0  110.0  89.512821"
      ]
     },
     "execution_count": 22,
     "metadata": {},
     "output_type": "execute_result"
    }
   ],
   "source": [
    "# What sports have the heaviest and tallest players, and the lightest or shortest? - MALE\n",
    "male_df = olympic_df[olympic_df.Sex=='M']\n",
    "sport_weight_height_metrics = male_df.groupby(['Sport'])['Weight','Height'].agg(['min','max','mean'])\n",
    "\n",
    "sport_weight_height_metrics.Weight.dropna().sort_values('mean', ascending=False)[:5]"
   ]
  },
  {
   "cell_type": "code",
   "execution_count": 23,
   "metadata": {},
   "outputs": [
    {
     "data": {
      "text/plain": [
       "<matplotlib.axes._subplots.AxesSubplot at 0x180832816a0>"
      ]
     },
     "execution_count": 23,
     "metadata": {},
     "output_type": "execute_result"
    },
    {
     "data": {
      "image/png": "[encoded data removed]",
      "text/plain": [
       "<Figure size 432x288 with 1 Axes>"
      ]
     },
     "metadata": {
      "needs_background": "light"
     },
     "output_type": "display_data"
    }
   ],
   "source": [
    "# Histogram - Mean weight and Mean height for each sport\n",
    "sns.distplot(sport_weight_height_metrics.Weight.dropna()['mean'])"
   ]
  },
  {
   "cell_type": "code",
   "execution_count": 24,
   "metadata": {
    "scrolled": true
   },
   "outputs": [
    {
     "data": {
      "text/plain": [
       "<matplotlib.axes._subplots.AxesSubplot at 0x180832eab80>"
      ]
     },
     "execution_count": 24,
     "metadata": {},
     "output_type": "execute_result"
    },
    {
     "data": {
      "image/png": "[encoded data removed]",
      "text/plain": [
       "<Figure size 432x288 with 1 Axes>"
      ]
     },
     "metadata": {
      "needs_background": "light"
     },
     "output_type": "display_data"
    }
   ],
   "source": [
    "# Histogram - Mean weight and Mean height for each sport\n",
    "sns.distplot(sport_weight_height_metrics.Height.dropna()['mean'])"
   ]
  },
  {
   "cell_type": "code",
   "execution_count": 25,
   "metadata": {},
   "outputs": [
    {
     "name": "stderr",
     "output_type": "stream",
     "text": [
      "<ipython-input-25-ffbdd81e9666>:2: FutureWarning: Indexing with multiple keys (implicitly converted to a tuple of keys) will be deprecated, use a list instead.\n",
      "  sport_weight_height_metrics = female_df.groupby(['Sport'])['Weight','Height'].agg(\n"
     ]
    },
    {
     "data": {
      "text/html": [
       "<div>\n",
       "<style scoped>\n",
       "    .dataframe tbody tr th:only-of-type {\n",
       "        vertical-align: middle;\n",
       "    }\n",
       "\n",
       "    .dataframe tbody tr th {\n",
       "        vertical-align: top;\n",
       "    }\n",
       "\n",
       "    .dataframe thead th {\n",
       "        text-align: right;\n",
       "    }\n",
       "</style>\n",
       "<table border=\"1\" class=\"dataframe\">\n",
       "  <thead>\n",
       "    <tr style=\"text-align: right;\">\n",
       "      <th></th>\n",
       "      <th>min</th>\n",
       "      <th>max</th>\n",
       "      <th>mean</th>\n",
       "    </tr>\n",
       "    <tr>\n",
       "      <th>Sport</th>\n",
       "      <th></th>\n",
       "      <th></th>\n",
       "      <th></th>\n",
       "    </tr>\n",
       "  </thead>\n",
       "  <tbody>\n",
       "    <tr>\n",
       "      <th>Basketball</th>\n",
       "      <td>50.0</td>\n",
       "      <td>128.0</td>\n",
       "      <td>73.685170</td>\n",
       "    </tr>\n",
       "    <tr>\n",
       "      <th>Bobsleigh</th>\n",
       "      <td>55.0</td>\n",
       "      <td>95.0</td>\n",
       "      <td>72.804196</td>\n",
       "    </tr>\n",
       "    <tr>\n",
       "      <th>Water Polo</th>\n",
       "      <td>50.0</td>\n",
       "      <td>104.0</td>\n",
       "      <td>70.180328</td>\n",
       "    </tr>\n",
       "    <tr>\n",
       "      <th>Rowing</th>\n",
       "      <td>39.0</td>\n",
       "      <td>97.0</td>\n",
       "      <td>70.102214</td>\n",
       "    </tr>\n",
       "    <tr>\n",
       "      <th>Volleyball</th>\n",
       "      <td>30.0</td>\n",
       "      <td>98.0</td>\n",
       "      <td>69.333779</td>\n",
       "    </tr>\n",
       "    <tr>\n",
       "      <th>Handball</th>\n",
       "      <td>48.0</td>\n",
       "      <td>105.0</td>\n",
       "      <td>68.876851</td>\n",
       "    </tr>\n",
       "    <tr>\n",
       "      <th>Beach Volleyball</th>\n",
       "      <td>55.0</td>\n",
       "      <td>81.0</td>\n",
       "      <td>68.350943</td>\n",
       "    </tr>\n",
       "    <tr>\n",
       "      <th>Weightlifting</th>\n",
       "      <td>47.0</td>\n",
       "      <td>167.0</td>\n",
       "      <td>67.724622</td>\n",
       "    </tr>\n",
       "    <tr>\n",
       "      <th>Softball</th>\n",
       "      <td>45.0</td>\n",
       "      <td>109.0</td>\n",
       "      <td>67.471655</td>\n",
       "    </tr>\n",
       "    <tr>\n",
       "      <th>Judo</th>\n",
       "      <td>46.0</td>\n",
       "      <td>163.0</td>\n",
       "      <td>67.067164</td>\n",
       "    </tr>\n",
       "  </tbody>\n",
       "</table>\n",
       "</div>"
      ],
      "text/plain": [
       "                   min    max       mean\n",
       "Sport                                   \n",
       "Basketball        50.0  128.0  73.685170\n",
       "Bobsleigh         55.0   95.0  72.804196\n",
       "Water Polo        50.0  104.0  70.180328\n",
       "Rowing            39.0   97.0  70.102214\n",
       "Volleyball        30.0   98.0  69.333779\n",
       "Handball          48.0  105.0  68.876851\n",
       "Beach Volleyball  55.0   81.0  68.350943\n",
       "Weightlifting     47.0  167.0  67.724622\n",
       "Softball          45.0  109.0  67.471655\n",
       "Judo              46.0  163.0  67.067164"
      ]
     },
     "execution_count": 25,
     "metadata": {},
     "output_type": "execute_result"
    }
   ],
   "source": [
    "# What sports have the heaviest and tallest players, and the lightest or shortest? - FEMALE\n",
    "female_df = olympic_df[olympic_df.Sex=='F']\n",
    "sport_weight_height_metrics = female_df.groupby(['Sport'])['Weight','Height'].agg(\n",
    "  ['min','max','mean'])\n",
    "\n",
    "sport_weight_height_metrics.Weight.dropna().sort_values('mean', ascending=False)[:10]"
   ]
  },
  {
   "cell_type": "code",
   "execution_count": 26,
   "metadata": {},
   "outputs": [
    {
     "data": {
      "text/plain": [
       "<matplotlib.axes._subplots.AxesSubplot at 0x18084c0a2b0>"
      ]
     },
     "execution_count": 26,
     "metadata": {},
     "output_type": "execute_result"
    },
    {
     "data": {
      "image/png": "[encoded data removed]",
      "text/plain": [
       "<Figure size 432x288 with 1 Axes>"
      ]
     },
     "metadata": {
      "needs_background": "light"
     },
     "output_type": "display_data"
    }
   ],
   "source": [
    "# Histogram - Mean weight and Mean height for each sport\n",
    "sns.distplot(sport_weight_height_metrics.Weight.dropna()['mean'])"
   ]
  },
  {
   "cell_type": "code",
   "execution_count": 27,
   "metadata": {},
   "outputs": [
    {
     "data": {
      "text/plain": [
       "<matplotlib.axes._subplots.AxesSubplot at 0x18084f86df0>"
      ]
     },
     "execution_count": 27,
     "metadata": {},
     "output_type": "execute_result"
    },
    {
     "data": {
      "image/png": "[encoded data removed]",
      "text/plain": [
       "<Figure size 432x288 with 1 Axes>"
      ]
     },
     "metadata": {
      "needs_background": "light"
     },
     "output_type": "display_data"
    }
   ],
   "source": [
    "# Histogram - Mean weight and Mean height for each sport\n",
    "sns.distplot(sport_weight_height_metrics.Height.dropna()['mean'])"
   ]
  },
  {
   "cell_type": "code",
   "execution_count": 28,
   "metadata": {
    "scrolled": true
   },
   "outputs": [
    {
     "data": {
      "text/plain": [
       "<matplotlib.axes._subplots.AxesSubplot at 0x18085003a30>"
      ]
     },
     "execution_count": 28,
     "metadata": {},
     "output_type": "execute_result"
    },
    {
     "data": {
      "image/png": "[encoded data removed]",
      "text/plain": [
       "<Figure size 432x288 with 1 Axes>"
      ]
     },
     "metadata": {
      "needs_background": "light"
     },
     "output_type": "display_data"
    }
   ],
   "source": [
    "# Distribution between Height and Weight  – Scatter Plot\n",
    "height = olympic_df.Height.values.tolist()\n",
    "weight = olympic_df.Weight.values.tolist()\n",
    "\n",
    "data = {'x':height, 'y':weight}\n",
    "sns.scatterplot(data=data, x = 'x', y='y')"
   ]
  },
  {
   "cell_type": "code",
   "execution_count": 29,
   "metadata": {},
   "outputs": [
    {
     "data": {
      "text/plain": [
       "<matplotlib.axes._subplots.AxesSubplot at 0x18086f5a9a0>"
      ]
     },
     "execution_count": 29,
     "metadata": {},
     "output_type": "execute_result"
    },
    {
     "data": {
      "image/png": "[encoded data removed]",
      "text/plain": [
       "<Figure size 432x288 with 1 Axes>"
      ]
     },
     "metadata": {
      "needs_background": "light"
     },
     "output_type": "display_data"
    }
   ],
   "source": [
    "# Scatter plot to identify the outliers\n",
    "means = list(sport_weight_height_metrics.Weight.dropna()['mean'])\n",
    "sports = list(sport_weight_height_metrics.Weight.dropna().index)\n",
    "plot_data = sorted(zip(sports, means), key = lambda x:x[1])\n",
    "plot_data_dict = {\n",
    "    'x' : [i for i, _ in enumerate(plot_data)],\n",
    "    'y' : [v[1] for i, v in enumerate(plot_data)],\n",
    "    'group' :  [v[0] for i, v in enumerate(plot_data)]\n",
    "}\n",
    "sns.scatterplot(data = plot_data_dict, x = 'x' , y = 'y')"
   ]
  },
  {
   "cell_type": "code",
   "execution_count": 30,
   "metadata": {
    "scrolled": true
   },
   "outputs": [
    {
     "data": {
      "text/plain": [
       "<matplotlib.axes._subplots.AxesSubplot at 0x1808326deb0>"
      ]
     },
     "execution_count": 30,
     "metadata": {},
     "output_type": "execute_result"
    },
    {
     "data": {
      "image/png": "[encoded data removed]",
      "text/plain": [
       "<Figure size 432x288 with 1 Axes>"
      ]
     },
     "metadata": {
      "needs_background": "light"
     },
     "output_type": "display_data"
    }
   ],
   "source": [
    "# Scatter plot to identify the outliers\n",
    "means = list(sport_weight_height_metrics.Height.dropna()['mean'])\n",
    "sports = list(sport_weight_height_metrics.Height.dropna().index)\n",
    "plot_data = sorted(zip(sports, means), key = lambda x:x[1])\n",
    "plot_data_dict = {\n",
    "    'x' : [i for i, _ in enumerate(plot_data)],\n",
    "    'y' : [v[1] for i, v in enumerate(plot_data)],\n",
    "    'group' :  [v[0] for i, v in enumerate(plot_data)]\n",
    "}\n",
    "sns.scatterplot(data = plot_data_dict, x = 'x' , y = 'y')"
   ]
  },
  {
   "cell_type": "code",
   "execution_count": 31,
   "metadata": {},
   "outputs": [
    {
     "name": "stdout",
     "output_type": "stream",
     "text": [
      "lightest:\n",
      "Gymnastics: 156.14332460732984\n",
      "Art Competitions: 160.0\n",
      "Weightlifting: 160.4673913043478\n",
      "Figure Skating: 160.61084905660377\n",
      "Diving: 161.1736040609137\n"
     ]
    }
   ],
   "source": [
    "# Sports that have the lightest players\n",
    "print('lightest:')\n",
    "for sport,weight in plot_data[:5]:\n",
    "    print(sport + ': ' + str(weight))"
   ]
  },
  {
   "cell_type": "code",
   "execution_count": 32,
   "metadata": {},
   "outputs": [
    {
     "name": "stdout",
     "output_type": "stream",
     "text": [
      "\n",
      "heaviest:\n",
      "Water Polo: 175.56352459016392\n",
      "Rowing: 176.77107866227038\n",
      "Beach Volleyball: 178.86666666666667\n",
      "Volleyball: 179.49498327759198\n",
      "Basketball: 182.45483613109513\n"
     ]
    }
   ],
   "source": [
    "# Sports that have the heaviest players\n",
    "print('\\nheaviest:')    \n",
    "for sport,weight in plot_data[-5:]:\n",
    "    print(sport + ': ' + str(weight))"
   ]
  },
  {
   "cell_type": "code",
   "execution_count": 33,
   "metadata": {},
   "outputs": [
    {
     "name": "stdout",
     "output_type": "stream",
     "text": [
      "shortest:\n",
      "Gymnastics: 156.14332460732984\n",
      "Art Competitions: 160.0\n",
      "Weightlifting: 160.4673913043478\n",
      "Figure Skating: 160.61084905660377\n",
      "Diving: 161.1736040609137\n"
     ]
    }
   ],
   "source": [
    "# Sports that have the shortest players\n",
    "print('shortest:')\n",
    "for sport,height in plot_data[:5]:\n",
    "    print(sport + ': ' + str(height))"
   ]
  },
  {
   "cell_type": "code",
   "execution_count": 34,
   "metadata": {},
   "outputs": [
    {
     "name": "stdout",
     "output_type": "stream",
     "text": [
      "\n",
      "tallest:\n",
      "Water Polo: 175.56352459016392\n",
      "Rowing: 176.77107866227038\n",
      "Beach Volleyball: 178.86666666666667\n",
      "Volleyball: 179.49498327759198\n",
      "Basketball: 182.45483613109513\n"
     ]
    }
   ],
   "source": [
    "# # Sports that have the tallest players\n",
    "print('\\ntallest:')    \n",
    "for sport,height in plot_data[-5:]:\n",
    "    print(sport + ': ' + str(height))"
   ]
  },
  {
   "cell_type": "code",
   "execution_count": 35,
   "metadata": {},
   "outputs": [
    {
     "data": {
      "text/plain": [
       "<matplotlib.axes._subplots.AxesSubplot at 0x18087358970>"
      ]
     },
     "execution_count": 35,
     "metadata": {},
     "output_type": "execute_result"
    },
    {
     "data": {
      "image/png": "[encoded data removed]",
      "text/plain": [
       "<Figure size 432x288 with 1 Axes>"
      ]
     },
     "metadata": {
      "needs_background": "light"
     },
     "output_type": "display_data"
    }
   ],
   "source": [
    "# Build (weight/height) per each sport\n",
    "mean_heights = sport_weight_height_metrics.Height.dropna()['mean']\n",
    "mean_weights = sport_weight_height_metrics.Weight.dropna()['mean']\n",
    "avg_build = mean_weights/mean_heights\n",
    "avg_build.sort_values(ascending = True)\n",
    "builds = list(avg_build.sort_values(ascending = True))\n",
    "\n",
    "plot_dict = {'x':[i for i,_ in enumerate(builds)],'y':builds}\n",
    "sns.lineplot(data=plot_dict, x='x', y='y')"
   ]
  },
  {
   "cell_type": "code",
   "execution_count": 36,
   "metadata": {},
   "outputs": [
    {
     "data": {
      "text/plain": [
       "Sport\n",
       "Weightlifting                0.422046\n",
       "Bobsleigh                    0.420392\n",
       "Basketball                   0.403854\n",
       "Judo                         0.403370\n",
       "Water Polo                   0.399743\n",
       "Softball                     0.398309\n",
       "Rugby Sevens                 0.397456\n",
       "Rowing                       0.396571\n",
       "Luge                         0.395757\n",
       "Handball                     0.393942\n",
       "Ice Hockey                   0.390661\n",
       "Volleyball                   0.386271\n",
       "Canoeing                     0.382475\n",
       "Beach Volleyball             0.382133\n",
       "Golf                         0.375956\n",
       "Curling                      0.375407\n",
       "Alpine Skiing                0.374596\n",
       "Archery                      0.370969\n",
       "Shooting                     0.370716\n",
       "Speed Skating                0.370385\n",
       "Sailing                      0.370344\n",
       "Wrestling                    0.369538\n",
       "Boxing                       0.366327\n",
       "Badminton                    0.365631\n",
       "Hockey                       0.364369\n",
       "Snowboarding                 0.363469\n",
       "Football                     0.363354\n",
       "Skeleton                     0.363262\n",
       "Tennis                       0.360311\n",
       "Fencing                      0.359009\n",
       "Swimming                     0.358565\n",
       "Taekwondo                    0.357920\n",
       "Athletics                    0.355847\n",
       "Cycling                      0.355738\n",
       "Freestyle Skiing             0.354129\n",
       "Table Tennis                 0.351545\n",
       "Equestrianism                0.349079\n",
       "Short Track Speed Skating    0.347189\n",
       "Cross Country Skiing         0.344961\n",
       "Biathlon                     0.344100\n",
       "Modern Pentathlon            0.342858\n",
       "Diving                       0.332353\n",
       "Synchronized Swimming        0.331571\n",
       "Triathlon                    0.327697\n",
       "Trampolining                 0.327040\n",
       "Ski Jumping                  0.319656\n",
       "Figure Skating               0.310446\n",
       "Gymnastics                   0.306073\n",
       "Rhythmic Gymnastics          0.290468\n",
       "Art Competitions                  NaN\n",
       "Name: mean, dtype: float64"
      ]
     },
     "execution_count": 36,
     "metadata": {},
     "output_type": "execute_result"
    }
   ],
   "source": [
    "avg_build.sort_values(ascending=False)"
   ]
  },
  {
   "cell_type": "code",
   "execution_count": 37,
   "metadata": {},
   "outputs": [
    {
     "data": {
      "text/plain": [
       "<matplotlib.axes._subplots.AxesSubplot at 0x180873c8820>"
      ]
     },
     "execution_count": 37,
     "metadata": {},
     "output_type": "execute_result"
    },
    {
     "data": {
      "image/png": "[encoded data removed]",
      "text/plain": [
       "<Figure size 432x288 with 1 Axes>"
      ]
     },
     "metadata": {
      "needs_background": "light"
     },
     "output_type": "display_data"
    }
   ],
   "source": [
    "# New sports introduced each year in Olympics\n",
    "sport_min_year = male_df.groupby('Sport').Year.agg(['min','max'])['min'].sort_values('index')\n",
    "year_count = {}\n",
    "for y in sport_min_year:\n",
    "    try:\n",
    "        year_count[y] += 1\n",
    "    except:\n",
    "        year_count[y] = 1\n",
    "year = [k for k,v in year_count.items()]\n",
    "new_sports = [v for k,v in year_count.items()]\n",
    "\n",
    "data = {'x':year, 'y':new_sports}\n",
    "sns.scatterplot(data=data, x = 'x', y='y')"
   ]
  },
  {
   "cell_type": "code",
   "execution_count": 38,
   "metadata": {},
   "outputs": [
    {
     "data": {
      "text/plain": [
       "<matplotlib.axes._subplots.AxesSubplot at 0x1808649a970>"
      ]
     },
     "execution_count": 38,
     "metadata": {},
     "output_type": "execute_result"
    },
    {
     "data": {
      "image/png": "[encoded data removed]",
      "text/plain": [
       "<Figure size 432x288 with 1 Axes>"
      ]
     },
     "metadata": {
      "needs_background": "light"
     },
     "output_type": "display_data"
    }
   ],
   "source": [
    "# Disapproved sports from Olympics\n",
    "sport_max_year = male_df.groupby('Sport').Year.agg(['min','max'])['max'].sort_values('index')\n",
    "year_count = {}\n",
    "for y in sport_max_year:\n",
    "    try:\n",
    "        year_count[y] += 1\n",
    "    except:\n",
    "        year_count[y] = 1\n",
    "year = [k for k,v in year_count.items()]\n",
    "deprecated_sports = [v for k,v in year_count.items()]\n",
    "\n",
    "data = {'x':year, 'y':deprecated_sports}\n",
    "sns.scatterplot(data=data, x = 'x', y='y')"
   ]
  },
  {
   "cell_type": "code",
   "execution_count": 39,
   "metadata": {},
   "outputs": [
    {
     "data": {
      "text/plain": [
       "Sport\n",
       "Biathlon                     1960\n",
       "Luge                         1964\n",
       "Volleyball                   1964\n",
       "Judo                         1964\n",
       "Table Tennis                 1988\n",
       "Baseball                     1992\n",
       "Short Track Speed Skating    1992\n",
       "Badminton                    1992\n",
       "Freestyle Skiing             1992\n",
       "Beach Volleyball             1996\n",
       "Snowboarding                 1998\n",
       "Taekwondo                    2000\n",
       "Trampolining                 2000\n",
       "Triathlon                    2000\n",
       "Rugby Sevens                 2016\n",
       "Name: min, dtype: int64"
      ]
     },
     "execution_count": 39,
     "metadata": {},
     "output_type": "execute_result"
    }
   ],
   "source": [
    "# Sports with minimum participation\n",
    "sport_min_year[sport_min_year >1936]"
   ]
  },
  {
   "cell_type": "code",
   "execution_count": 40,
   "metadata": {
    "scrolled": true
   },
   "outputs": [
    {
     "data": {
      "text/plain": [
       "Sport\n",
       "Basque Pelota          1900\n",
       "Croquet                1900\n",
       "Cricket                1900\n",
       "Roque                  1904\n",
       "Jeu De Paume           1908\n",
       "Racquets               1908\n",
       "Motorboating           1908\n",
       "Lacrosse               1908\n",
       "Tug-Of-War             1920\n",
       "Rugby                  1924\n",
       "Military Ski Patrol    1924\n",
       "Polo                   1936\n",
       "Aeronautics            1936\n",
       "Alpinism               1936\n",
       "Art Competitions       1948\n",
       "Name: max, dtype: int64"
      ]
     },
     "execution_count": 40,
     "metadata": {},
     "output_type": "execute_result"
    }
   ],
   "source": [
    "# # Sports with maximum participation\n",
    "sport_max_year[sport_max_year <2000]"
   ]
  },
  {
   "cell_type": "code",
   "execution_count": null,
   "metadata": {},
   "outputs": [],
   "source": [
    "\n"
   ]
  }
 ],
 "metadata": {
  "kernelspec": {
   "display_name": "Python 3",
   "language": "python",
   "name": "python3"
  },
  "language_info": {
   "codemirror_mode": {
    "name": "ipython",
    "version": 3
   },
   "file_extension": ".py",
   "mimetype": "text/x-python",
   "name": "python",
   "nbconvert_exporter": "python",
   "pygments_lexer": "ipython3",
   "version": "3.8.3"
  }
 },
 "nbformat": 4,
 "nbformat_minor": 4
}
