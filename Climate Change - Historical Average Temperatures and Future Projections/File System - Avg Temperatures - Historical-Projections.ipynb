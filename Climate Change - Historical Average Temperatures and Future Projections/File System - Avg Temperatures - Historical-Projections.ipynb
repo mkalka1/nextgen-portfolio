{
 "cells": [
  {
   "cell_type": "markdown",
   "metadata": {},
   "source": [
    "### <p style=\"text-align: center;\">Climate Change Knowledge Portal <br/> Historical Data and Projections</p>\n",
    "#### <p style=\"text-align: center;\">DSC540 – Data Preparation <br/> Term Project - Milestone 2 <br/> Winter 2020 <br/> Manish Kalkar</p>\n",
    "### <p style=\"text-align: center;\">Cleaning / Formatting Flat File Source</p>"
   ]
  },
  {
   "cell_type": "markdown",
   "metadata": {},
   "source": [
    "### Load the necessary libraries"
   ]
  },
  {
   "cell_type": "code",
   "execution_count": 1,
   "metadata": {},
   "outputs": [],
   "source": [
    "import pandas as pd\n",
    "import numpy as np\n",
    "import matplotlib.pyplot as plt"
   ]
  },
  {
   "cell_type": "markdown",
   "metadata": {},
   "source": [
    "### Read Input File and display content"
   ]
  },
  {
   "cell_type": "code",
   "execution_count": 2,
   "metadata": {},
   "outputs": [
    {
     "data": {
      "text/html": [
       "<div>\n",
       "<style scoped>\n",
       "    .dataframe tbody tr th:only-of-type {\n",
       "        vertical-align: middle;\n",
       "    }\n",
       "\n",
       "    .dataframe tbody tr th {\n",
       "        vertical-align: top;\n",
       "    }\n",
       "\n",
       "    .dataframe thead th {\n",
       "        text-align: right;\n",
       "    }\n",
       "</style>\n",
       "<table border=\"1\" class=\"dataframe\">\n",
       "  <thead>\n",
       "    <tr style=\"text-align: right;\">\n",
       "      <th></th>\n",
       "      <th>Temperature - (Celsius)</th>\n",
       "      <th>Year</th>\n",
       "      <th>Statistics</th>\n",
       "      <th>Country</th>\n",
       "      <th>ISO3</th>\n",
       "    </tr>\n",
       "  </thead>\n",
       "  <tbody>\n",
       "    <tr>\n",
       "      <th>0</th>\n",
       "      <td>-5.71120</td>\n",
       "      <td>1901</td>\n",
       "      <td>Jan Average</td>\n",
       "      <td>United States</td>\n",
       "      <td>USA</td>\n",
       "    </tr>\n",
       "    <tr>\n",
       "      <th>1</th>\n",
       "      <td>-6.55770</td>\n",
       "      <td>1901</td>\n",
       "      <td>Feb Average</td>\n",
       "      <td>United States</td>\n",
       "      <td>USA</td>\n",
       "    </tr>\n",
       "    <tr>\n",
       "      <th>2</th>\n",
       "      <td>-0.00450</td>\n",
       "      <td>1901</td>\n",
       "      <td>Mar Average</td>\n",
       "      <td>United States</td>\n",
       "      <td>USA</td>\n",
       "    </tr>\n",
       "    <tr>\n",
       "      <th>3</th>\n",
       "      <td>4.78677</td>\n",
       "      <td>1901</td>\n",
       "      <td>Apr Average</td>\n",
       "      <td>United States</td>\n",
       "      <td>USA</td>\n",
       "    </tr>\n",
       "    <tr>\n",
       "      <th>4</th>\n",
       "      <td>12.08400</td>\n",
       "      <td>1901</td>\n",
       "      <td>May Average</td>\n",
       "      <td>United States</td>\n",
       "      <td>USA</td>\n",
       "    </tr>\n",
       "    <tr>\n",
       "      <th>5</th>\n",
       "      <td>16.93490</td>\n",
       "      <td>1901</td>\n",
       "      <td>Jun Average</td>\n",
       "      <td>United States</td>\n",
       "      <td>USA</td>\n",
       "    </tr>\n",
       "    <tr>\n",
       "      <th>6</th>\n",
       "      <td>20.84160</td>\n",
       "      <td>1901</td>\n",
       "      <td>Jul Average</td>\n",
       "      <td>United States</td>\n",
       "      <td>USA</td>\n",
       "    </tr>\n",
       "    <tr>\n",
       "      <th>7</th>\n",
       "      <td>19.09190</td>\n",
       "      <td>1901</td>\n",
       "      <td>Aug Average</td>\n",
       "      <td>United States</td>\n",
       "      <td>USA</td>\n",
       "    </tr>\n",
       "    <tr>\n",
       "      <th>8</th>\n",
       "      <td>13.91670</td>\n",
       "      <td>1901</td>\n",
       "      <td>Sep Average</td>\n",
       "      <td>United States</td>\n",
       "      <td>USA</td>\n",
       "    </tr>\n",
       "    <tr>\n",
       "      <th>9</th>\n",
       "      <td>8.83625</td>\n",
       "      <td>1901</td>\n",
       "      <td>Oct Average</td>\n",
       "      <td>United States</td>\n",
       "      <td>USA</td>\n",
       "    </tr>\n",
       "    <tr>\n",
       "      <th>10</th>\n",
       "      <td>0.48142</td>\n",
       "      <td>1901</td>\n",
       "      <td>Nov Average</td>\n",
       "      <td>United States</td>\n",
       "      <td>USA</td>\n",
       "    </tr>\n",
       "    <tr>\n",
       "      <th>11</th>\n",
       "      <td>-4.40480</td>\n",
       "      <td>1901</td>\n",
       "      <td>Dec Average</td>\n",
       "      <td>United States</td>\n",
       "      <td>USA</td>\n",
       "    </tr>\n",
       "  </tbody>\n",
       "</table>\n",
       "</div>"
      ],
      "text/plain": [
       "    Temperature - (Celsius)   Year    Statistics         Country  ISO3\n",
       "0                  -5.71120   1901   Jan Average   United States   USA\n",
       "1                  -6.55770   1901   Feb Average   United States   USA\n",
       "2                  -0.00450   1901   Mar Average   United States   USA\n",
       "3                   4.78677   1901   Apr Average   United States   USA\n",
       "4                  12.08400   1901   May Average   United States   USA\n",
       "5                  16.93490   1901   Jun Average   United States   USA\n",
       "6                  20.84160   1901   Jul Average   United States   USA\n",
       "7                  19.09190   1901   Aug Average   United States   USA\n",
       "8                  13.91670   1901   Sep Average   United States   USA\n",
       "9                   8.83625   1901   Oct Average   United States   USA\n",
       "10                  0.48142   1901   Nov Average   United States   USA\n",
       "11                 -4.40480   1901   Dec Average   United States   USA"
      ]
     },
     "execution_count": 2,
     "metadata": {},
     "output_type": "execute_result"
    }
   ],
   "source": [
    "avg_temp_df = pd.read_csv(\"tas_1901_2016_USA.csv\")\n",
    "avg_temp_df.head(12)"
   ]
  },
  {
   "cell_type": "markdown",
   "metadata": {},
   "source": [
    "### Display Column Names"
   ]
  },
  {
   "cell_type": "code",
   "execution_count": 3,
   "metadata": {},
   "outputs": [
    {
     "data": {
      "text/plain": [
       "Index(['Temperature - (Celsius)', ' Year', ' Statistics', ' Country', ' ISO3'], dtype='object')"
      ]
     },
     "execution_count": 3,
     "metadata": {},
     "output_type": "execute_result"
    }
   ],
   "source": [
    "avg_temp_df.columns"
   ]
  },
  {
   "cell_type": "markdown",
   "metadata": {},
   "source": [
    "### Remove White Spaces within column names"
   ]
  },
  {
   "cell_type": "code",
   "execution_count": 4,
   "metadata": {},
   "outputs": [],
   "source": [
    "avg_temp_df = avg_temp_df.rename(columns={' Year': 'Year'})\n",
    "avg_temp_df = avg_temp_df.rename(columns={' Statistics': 'Statistics'})\n",
    "avg_temp_df = avg_temp_df.rename(columns={' Country': 'Country'})\n",
    "avg_temp_df = avg_temp_df.rename(columns={' ISO3': 'ISO3'})"
   ]
  },
  {
   "cell_type": "code",
   "execution_count": 5,
   "metadata": {},
   "outputs": [
    {
     "data": {
      "text/plain": [
       "Index(['Temperature - (Celsius)', 'Year', 'Statistics', 'Country', 'ISO3'], dtype='object')"
      ]
     },
     "execution_count": 5,
     "metadata": {},
     "output_type": "execute_result"
    }
   ],
   "source": [
    "avg_temp_df.columns"
   ]
  },
  {
   "cell_type": "markdown",
   "metadata": {},
   "source": [
    "### Delete column Country - Column not needed due to redundant data - Country Name = United States "
   ]
  },
  {
   "cell_type": "code",
   "execution_count": 6,
   "metadata": {},
   "outputs": [
    {
     "data": {
      "text/html": [
       "<div>\n",
       "<style scoped>\n",
       "    .dataframe tbody tr th:only-of-type {\n",
       "        vertical-align: middle;\n",
       "    }\n",
       "\n",
       "    .dataframe tbody tr th {\n",
       "        vertical-align: top;\n",
       "    }\n",
       "\n",
       "    .dataframe thead th {\n",
       "        text-align: right;\n",
       "    }\n",
       "</style>\n",
       "<table border=\"1\" class=\"dataframe\">\n",
       "  <thead>\n",
       "    <tr style=\"text-align: right;\">\n",
       "      <th></th>\n",
       "      <th>Temperature - (Celsius)</th>\n",
       "      <th>Year</th>\n",
       "      <th>Statistics</th>\n",
       "      <th>ISO3</th>\n",
       "    </tr>\n",
       "  </thead>\n",
       "  <tbody>\n",
       "    <tr>\n",
       "      <th>0</th>\n",
       "      <td>-5.71120</td>\n",
       "      <td>1901</td>\n",
       "      <td>Jan Average</td>\n",
       "      <td>USA</td>\n",
       "    </tr>\n",
       "    <tr>\n",
       "      <th>1</th>\n",
       "      <td>-6.55770</td>\n",
       "      <td>1901</td>\n",
       "      <td>Feb Average</td>\n",
       "      <td>USA</td>\n",
       "    </tr>\n",
       "    <tr>\n",
       "      <th>2</th>\n",
       "      <td>-0.00450</td>\n",
       "      <td>1901</td>\n",
       "      <td>Mar Average</td>\n",
       "      <td>USA</td>\n",
       "    </tr>\n",
       "    <tr>\n",
       "      <th>3</th>\n",
       "      <td>4.78677</td>\n",
       "      <td>1901</td>\n",
       "      <td>Apr Average</td>\n",
       "      <td>USA</td>\n",
       "    </tr>\n",
       "    <tr>\n",
       "      <th>4</th>\n",
       "      <td>12.08400</td>\n",
       "      <td>1901</td>\n",
       "      <td>May Average</td>\n",
       "      <td>USA</td>\n",
       "    </tr>\n",
       "    <tr>\n",
       "      <th>5</th>\n",
       "      <td>16.93490</td>\n",
       "      <td>1901</td>\n",
       "      <td>Jun Average</td>\n",
       "      <td>USA</td>\n",
       "    </tr>\n",
       "    <tr>\n",
       "      <th>6</th>\n",
       "      <td>20.84160</td>\n",
       "      <td>1901</td>\n",
       "      <td>Jul Average</td>\n",
       "      <td>USA</td>\n",
       "    </tr>\n",
       "    <tr>\n",
       "      <th>7</th>\n",
       "      <td>19.09190</td>\n",
       "      <td>1901</td>\n",
       "      <td>Aug Average</td>\n",
       "      <td>USA</td>\n",
       "    </tr>\n",
       "    <tr>\n",
       "      <th>8</th>\n",
       "      <td>13.91670</td>\n",
       "      <td>1901</td>\n",
       "      <td>Sep Average</td>\n",
       "      <td>USA</td>\n",
       "    </tr>\n",
       "    <tr>\n",
       "      <th>9</th>\n",
       "      <td>8.83625</td>\n",
       "      <td>1901</td>\n",
       "      <td>Oct Average</td>\n",
       "      <td>USA</td>\n",
       "    </tr>\n",
       "    <tr>\n",
       "      <th>10</th>\n",
       "      <td>0.48142</td>\n",
       "      <td>1901</td>\n",
       "      <td>Nov Average</td>\n",
       "      <td>USA</td>\n",
       "    </tr>\n",
       "    <tr>\n",
       "      <th>11</th>\n",
       "      <td>-4.40480</td>\n",
       "      <td>1901</td>\n",
       "      <td>Dec Average</td>\n",
       "      <td>USA</td>\n",
       "    </tr>\n",
       "  </tbody>\n",
       "</table>\n",
       "</div>"
      ],
      "text/plain": [
       "    Temperature - (Celsius)  Year    Statistics  ISO3\n",
       "0                  -5.71120  1901   Jan Average   USA\n",
       "1                  -6.55770  1901   Feb Average   USA\n",
       "2                  -0.00450  1901   Mar Average   USA\n",
       "3                   4.78677  1901   Apr Average   USA\n",
       "4                  12.08400  1901   May Average   USA\n",
       "5                  16.93490  1901   Jun Average   USA\n",
       "6                  20.84160  1901   Jul Average   USA\n",
       "7                  19.09190  1901   Aug Average   USA\n",
       "8                  13.91670  1901   Sep Average   USA\n",
       "9                   8.83625  1901   Oct Average   USA\n",
       "10                  0.48142  1901   Nov Average   USA\n",
       "11                 -4.40480  1901   Dec Average   USA"
      ]
     },
     "execution_count": 6,
     "metadata": {},
     "output_type": "execute_result"
    }
   ],
   "source": [
    "avg_temp_df.drop('Country', axis=1, inplace=True)\n",
    "avg_temp_df.head(12)"
   ]
  },
  {
   "cell_type": "markdown",
   "metadata": {},
   "source": [
    "### Replace Headers"
   ]
  },
  {
   "cell_type": "code",
   "execution_count": 7,
   "metadata": {},
   "outputs": [],
   "source": [
    "avg_temp_df = avg_temp_df.rename(columns={'Temperature - (Celsius)': 'Average_Temperature_Deg_C'})\n",
    "avg_temp_df = avg_temp_df.rename(columns={'Statistics': 'Month'})\n",
    "avg_temp_df = avg_temp_df.rename(columns={'ISO3': 'Country'})"
   ]
  },
  {
   "cell_type": "code",
   "execution_count": 8,
   "metadata": {},
   "outputs": [
    {
     "data": {
      "text/html": [
       "<div>\n",
       "<style scoped>\n",
       "    .dataframe tbody tr th:only-of-type {\n",
       "        vertical-align: middle;\n",
       "    }\n",
       "\n",
       "    .dataframe tbody tr th {\n",
       "        vertical-align: top;\n",
       "    }\n",
       "\n",
       "    .dataframe thead th {\n",
       "        text-align: right;\n",
       "    }\n",
       "</style>\n",
       "<table border=\"1\" class=\"dataframe\">\n",
       "  <thead>\n",
       "    <tr style=\"text-align: right;\">\n",
       "      <th></th>\n",
       "      <th>Average_Temperature_Deg_C</th>\n",
       "      <th>Year</th>\n",
       "      <th>Month</th>\n",
       "      <th>Country</th>\n",
       "    </tr>\n",
       "  </thead>\n",
       "  <tbody>\n",
       "    <tr>\n",
       "      <th>0</th>\n",
       "      <td>-5.71120</td>\n",
       "      <td>1901</td>\n",
       "      <td>Jan Average</td>\n",
       "      <td>USA</td>\n",
       "    </tr>\n",
       "    <tr>\n",
       "      <th>1</th>\n",
       "      <td>-6.55770</td>\n",
       "      <td>1901</td>\n",
       "      <td>Feb Average</td>\n",
       "      <td>USA</td>\n",
       "    </tr>\n",
       "    <tr>\n",
       "      <th>2</th>\n",
       "      <td>-0.00450</td>\n",
       "      <td>1901</td>\n",
       "      <td>Mar Average</td>\n",
       "      <td>USA</td>\n",
       "    </tr>\n",
       "    <tr>\n",
       "      <th>3</th>\n",
       "      <td>4.78677</td>\n",
       "      <td>1901</td>\n",
       "      <td>Apr Average</td>\n",
       "      <td>USA</td>\n",
       "    </tr>\n",
       "    <tr>\n",
       "      <th>4</th>\n",
       "      <td>12.08400</td>\n",
       "      <td>1901</td>\n",
       "      <td>May Average</td>\n",
       "      <td>USA</td>\n",
       "    </tr>\n",
       "    <tr>\n",
       "      <th>5</th>\n",
       "      <td>16.93490</td>\n",
       "      <td>1901</td>\n",
       "      <td>Jun Average</td>\n",
       "      <td>USA</td>\n",
       "    </tr>\n",
       "    <tr>\n",
       "      <th>6</th>\n",
       "      <td>20.84160</td>\n",
       "      <td>1901</td>\n",
       "      <td>Jul Average</td>\n",
       "      <td>USA</td>\n",
       "    </tr>\n",
       "    <tr>\n",
       "      <th>7</th>\n",
       "      <td>19.09190</td>\n",
       "      <td>1901</td>\n",
       "      <td>Aug Average</td>\n",
       "      <td>USA</td>\n",
       "    </tr>\n",
       "    <tr>\n",
       "      <th>8</th>\n",
       "      <td>13.91670</td>\n",
       "      <td>1901</td>\n",
       "      <td>Sep Average</td>\n",
       "      <td>USA</td>\n",
       "    </tr>\n",
       "    <tr>\n",
       "      <th>9</th>\n",
       "      <td>8.83625</td>\n",
       "      <td>1901</td>\n",
       "      <td>Oct Average</td>\n",
       "      <td>USA</td>\n",
       "    </tr>\n",
       "    <tr>\n",
       "      <th>10</th>\n",
       "      <td>0.48142</td>\n",
       "      <td>1901</td>\n",
       "      <td>Nov Average</td>\n",
       "      <td>USA</td>\n",
       "    </tr>\n",
       "    <tr>\n",
       "      <th>11</th>\n",
       "      <td>-4.40480</td>\n",
       "      <td>1901</td>\n",
       "      <td>Dec Average</td>\n",
       "      <td>USA</td>\n",
       "    </tr>\n",
       "  </tbody>\n",
       "</table>\n",
       "</div>"
      ],
      "text/plain": [
       "    Average_Temperature_Deg_C  Year         Month Country\n",
       "0                    -5.71120  1901   Jan Average     USA\n",
       "1                    -6.55770  1901   Feb Average     USA\n",
       "2                    -0.00450  1901   Mar Average     USA\n",
       "3                     4.78677  1901   Apr Average     USA\n",
       "4                    12.08400  1901   May Average     USA\n",
       "5                    16.93490  1901   Jun Average     USA\n",
       "6                    20.84160  1901   Jul Average     USA\n",
       "7                    19.09190  1901   Aug Average     USA\n",
       "8                    13.91670  1901   Sep Average     USA\n",
       "9                     8.83625  1901   Oct Average     USA\n",
       "10                    0.48142  1901   Nov Average     USA\n",
       "11                   -4.40480  1901   Dec Average     USA"
      ]
     },
     "execution_count": 8,
     "metadata": {},
     "output_type": "execute_result"
    }
   ],
   "source": [
    "avg_temp_df.head(12)"
   ]
  },
  {
   "cell_type": "markdown",
   "metadata": {},
   "source": [
    "### Format data"
   ]
  },
  {
   "cell_type": "markdown",
   "metadata": {},
   "source": [
    "#### Get rid of White Spaces in the data within Month and Country columns"
   ]
  },
  {
   "cell_type": "code",
   "execution_count": 9,
   "metadata": {},
   "outputs": [],
   "source": [
    "avg_temp_df[\"Month\"] = avg_temp_df[\"Month\"].str.strip()\n",
    "avg_temp_df[\"Country\"] = avg_temp_df[\"Country\"].str.strip()"
   ]
  },
  {
   "cell_type": "markdown",
   "metadata": {},
   "source": [
    "#### Ger rid of redundant data - Keyword \"Average\" in column Month"
   ]
  },
  {
   "cell_type": "code",
   "execution_count": 10,
   "metadata": {},
   "outputs": [
    {
     "data": {
      "text/html": [
       "<div>\n",
       "<style scoped>\n",
       "    .dataframe tbody tr th:only-of-type {\n",
       "        vertical-align: middle;\n",
       "    }\n",
       "\n",
       "    .dataframe tbody tr th {\n",
       "        vertical-align: top;\n",
       "    }\n",
       "\n",
       "    .dataframe thead th {\n",
       "        text-align: right;\n",
       "    }\n",
       "</style>\n",
       "<table border=\"1\" class=\"dataframe\">\n",
       "  <thead>\n",
       "    <tr style=\"text-align: right;\">\n",
       "      <th></th>\n",
       "      <th>Average_Temperature_Deg_C</th>\n",
       "      <th>Year</th>\n",
       "      <th>Month</th>\n",
       "      <th>Country</th>\n",
       "    </tr>\n",
       "  </thead>\n",
       "  <tbody>\n",
       "    <tr>\n",
       "      <th>0</th>\n",
       "      <td>-5.71120</td>\n",
       "      <td>1901</td>\n",
       "      <td>January</td>\n",
       "      <td>USA</td>\n",
       "    </tr>\n",
       "    <tr>\n",
       "      <th>1</th>\n",
       "      <td>-6.55770</td>\n",
       "      <td>1901</td>\n",
       "      <td>February</td>\n",
       "      <td>USA</td>\n",
       "    </tr>\n",
       "    <tr>\n",
       "      <th>2</th>\n",
       "      <td>-0.00450</td>\n",
       "      <td>1901</td>\n",
       "      <td>March</td>\n",
       "      <td>USA</td>\n",
       "    </tr>\n",
       "    <tr>\n",
       "      <th>3</th>\n",
       "      <td>4.78677</td>\n",
       "      <td>1901</td>\n",
       "      <td>April</td>\n",
       "      <td>USA</td>\n",
       "    </tr>\n",
       "    <tr>\n",
       "      <th>4</th>\n",
       "      <td>12.08400</td>\n",
       "      <td>1901</td>\n",
       "      <td>May</td>\n",
       "      <td>USA</td>\n",
       "    </tr>\n",
       "    <tr>\n",
       "      <th>5</th>\n",
       "      <td>16.93490</td>\n",
       "      <td>1901</td>\n",
       "      <td>June</td>\n",
       "      <td>USA</td>\n",
       "    </tr>\n",
       "    <tr>\n",
       "      <th>6</th>\n",
       "      <td>20.84160</td>\n",
       "      <td>1901</td>\n",
       "      <td>July</td>\n",
       "      <td>USA</td>\n",
       "    </tr>\n",
       "    <tr>\n",
       "      <th>7</th>\n",
       "      <td>19.09190</td>\n",
       "      <td>1901</td>\n",
       "      <td>August</td>\n",
       "      <td>USA</td>\n",
       "    </tr>\n",
       "    <tr>\n",
       "      <th>8</th>\n",
       "      <td>13.91670</td>\n",
       "      <td>1901</td>\n",
       "      <td>September</td>\n",
       "      <td>USA</td>\n",
       "    </tr>\n",
       "    <tr>\n",
       "      <th>9</th>\n",
       "      <td>8.83625</td>\n",
       "      <td>1901</td>\n",
       "      <td>October</td>\n",
       "      <td>USA</td>\n",
       "    </tr>\n",
       "    <tr>\n",
       "      <th>10</th>\n",
       "      <td>0.48142</td>\n",
       "      <td>1901</td>\n",
       "      <td>November</td>\n",
       "      <td>USA</td>\n",
       "    </tr>\n",
       "    <tr>\n",
       "      <th>11</th>\n",
       "      <td>-4.40480</td>\n",
       "      <td>1901</td>\n",
       "      <td>December</td>\n",
       "      <td>USA</td>\n",
       "    </tr>\n",
       "  </tbody>\n",
       "</table>\n",
       "</div>"
      ],
      "text/plain": [
       "    Average_Temperature_Deg_C  Year      Month Country\n",
       "0                    -5.71120  1901    January     USA\n",
       "1                    -6.55770  1901   February     USA\n",
       "2                    -0.00450  1901      March     USA\n",
       "3                     4.78677  1901      April     USA\n",
       "4                    12.08400  1901        May     USA\n",
       "5                    16.93490  1901       June     USA\n",
       "6                    20.84160  1901       July     USA\n",
       "7                    19.09190  1901     August     USA\n",
       "8                    13.91670  1901  September     USA\n",
       "9                     8.83625  1901    October     USA\n",
       "10                    0.48142  1901   November     USA\n",
       "11                   -4.40480  1901   December     USA"
      ]
     },
     "execution_count": 10,
     "metadata": {},
     "output_type": "execute_result"
    }
   ],
   "source": [
    "avg_temp_df.replace(to_replace = \"Jan Average\", value = \"January\", inplace = True)\n",
    "avg_temp_df.replace(to_replace = \"Feb Average\", value = \"February\", inplace = True)\n",
    "avg_temp_df.replace(to_replace = \"Mar Average\", value = \"March\", inplace = True)\n",
    "avg_temp_df.replace(to_replace = \"Apr Average\", value = \"April\", inplace = True)\n",
    "avg_temp_df.replace(to_replace = \"May Average\", value = \"May\", inplace = True)\n",
    "avg_temp_df.replace(to_replace = \"Jun Average\", value = \"June\", inplace = True)\n",
    "avg_temp_df.replace(to_replace = \"Jul Average\", value = \"July\", inplace = True)\n",
    "avg_temp_df.replace(to_replace = \"Aug Average\", value = \"August\", inplace = True)\n",
    "avg_temp_df.replace(to_replace = \"Sep Average\", value = \"September\", inplace = True)\n",
    "avg_temp_df.replace(to_replace = \"Oct Average\", value = \"October\", inplace = True)\n",
    "avg_temp_df.replace(to_replace = \"Nov Average\", value = \"November\", inplace = True)\n",
    "avg_temp_df.replace(to_replace = \"Dec Average\", value = \"December\", inplace = True)\n",
    "avg_temp_df.head(12)"
   ]
  },
  {
   "cell_type": "markdown",
   "metadata": {},
   "source": [
    "### Check for duplicates"
   ]
  },
  {
   "cell_type": "code",
   "execution_count": 11,
   "metadata": {},
   "outputs": [
    {
     "name": "stdout",
     "output_type": "stream",
     "text": [
      "Average Temperature is duplictaed - True\n",
      "Year is duplictaed - True\n",
      "Month is duplictaed - True\n",
      "Country is duplictaed - True\n"
     ]
    }
   ],
   "source": [
    "print(\"Average Temperature is duplictaed - {}\".format(any(avg_temp_df.Average_Temperature_Deg_C.duplicated())))\n",
    "print(\"Year is duplictaed - {}\".format(any(avg_temp_df.Year.duplicated())))\n",
    "print(\"Month is duplictaed - {}\".format(any(avg_temp_df.Month.duplicated())))\n",
    "print(\"Country is duplictaed - {}\".format(any(avg_temp_df.Country.duplicated())))"
   ]
  },
  {
   "cell_type": "markdown",
   "metadata": {},
   "source": [
    "### Check for NaN values"
   ]
  },
  {
   "cell_type": "code",
   "execution_count": 12,
   "metadata": {},
   "outputs": [
    {
     "name": "stdout",
     "output_type": "stream",
     "text": [
      "The column Average Temperature contains NaN - False \n",
      "The column Year contains NaN - False \n",
      "The column Month contains NaN - False \n",
      "The column Country contains NaN - False \n"
     ]
    }
   ],
   "source": [
    "print(\"The column Average Temperature contains NaN - %r \" % avg_temp_df.Average_Temperature_Deg_C.isnull().values.any())\n",
    "print(\"The column Year contains NaN - %r \" % avg_temp_df.Year.isnull().values.any())\n",
    "print(\"The column Month contains NaN - %r \" % avg_temp_df.Month.isnull().values.any())\n",
    "print(\"The column Country contains NaN - %r \" % avg_temp_df.Country.isnull().values.any())"
   ]
  },
  {
   "cell_type": "markdown",
   "metadata": {},
   "source": [
    "### Fix inconsistent values"
   ]
  },
  {
   "cell_type": "markdown",
   "metadata": {},
   "source": [
    "#### Average Temperature column has inconsistent decimal places."
   ]
  },
  {
   "cell_type": "markdown",
   "metadata": {},
   "source": [
    "#### Round up Average Temperature Values to \"Two\" decimals"
   ]
  },
  {
   "cell_type": "code",
   "execution_count": 13,
   "metadata": {},
   "outputs": [
    {
     "data": {
      "text/html": [
       "<div>\n",
       "<style scoped>\n",
       "    .dataframe tbody tr th:only-of-type {\n",
       "        vertical-align: middle;\n",
       "    }\n",
       "\n",
       "    .dataframe tbody tr th {\n",
       "        vertical-align: top;\n",
       "    }\n",
       "\n",
       "    .dataframe thead th {\n",
       "        text-align: right;\n",
       "    }\n",
       "</style>\n",
       "<table border=\"1\" class=\"dataframe\">\n",
       "  <thead>\n",
       "    <tr style=\"text-align: right;\">\n",
       "      <th></th>\n",
       "      <th>Average_Temperature_Deg_C</th>\n",
       "      <th>Year</th>\n",
       "      <th>Month</th>\n",
       "      <th>Country</th>\n",
       "    </tr>\n",
       "  </thead>\n",
       "  <tbody>\n",
       "    <tr>\n",
       "      <th>0</th>\n",
       "      <td>-5.71</td>\n",
       "      <td>1901</td>\n",
       "      <td>January</td>\n",
       "      <td>USA</td>\n",
       "    </tr>\n",
       "    <tr>\n",
       "      <th>1</th>\n",
       "      <td>-6.56</td>\n",
       "      <td>1901</td>\n",
       "      <td>February</td>\n",
       "      <td>USA</td>\n",
       "    </tr>\n",
       "    <tr>\n",
       "      <th>2</th>\n",
       "      <td>-0.00</td>\n",
       "      <td>1901</td>\n",
       "      <td>March</td>\n",
       "      <td>USA</td>\n",
       "    </tr>\n",
       "    <tr>\n",
       "      <th>3</th>\n",
       "      <td>4.79</td>\n",
       "      <td>1901</td>\n",
       "      <td>April</td>\n",
       "      <td>USA</td>\n",
       "    </tr>\n",
       "    <tr>\n",
       "      <th>4</th>\n",
       "      <td>12.08</td>\n",
       "      <td>1901</td>\n",
       "      <td>May</td>\n",
       "      <td>USA</td>\n",
       "    </tr>\n",
       "    <tr>\n",
       "      <th>5</th>\n",
       "      <td>16.93</td>\n",
       "      <td>1901</td>\n",
       "      <td>June</td>\n",
       "      <td>USA</td>\n",
       "    </tr>\n",
       "    <tr>\n",
       "      <th>6</th>\n",
       "      <td>20.84</td>\n",
       "      <td>1901</td>\n",
       "      <td>July</td>\n",
       "      <td>USA</td>\n",
       "    </tr>\n",
       "    <tr>\n",
       "      <th>7</th>\n",
       "      <td>19.09</td>\n",
       "      <td>1901</td>\n",
       "      <td>August</td>\n",
       "      <td>USA</td>\n",
       "    </tr>\n",
       "    <tr>\n",
       "      <th>8</th>\n",
       "      <td>13.92</td>\n",
       "      <td>1901</td>\n",
       "      <td>September</td>\n",
       "      <td>USA</td>\n",
       "    </tr>\n",
       "    <tr>\n",
       "      <th>9</th>\n",
       "      <td>8.84</td>\n",
       "      <td>1901</td>\n",
       "      <td>October</td>\n",
       "      <td>USA</td>\n",
       "    </tr>\n",
       "    <tr>\n",
       "      <th>10</th>\n",
       "      <td>0.48</td>\n",
       "      <td>1901</td>\n",
       "      <td>November</td>\n",
       "      <td>USA</td>\n",
       "    </tr>\n",
       "    <tr>\n",
       "      <th>11</th>\n",
       "      <td>-4.40</td>\n",
       "      <td>1901</td>\n",
       "      <td>December</td>\n",
       "      <td>USA</td>\n",
       "    </tr>\n",
       "  </tbody>\n",
       "</table>\n",
       "</div>"
      ],
      "text/plain": [
       "    Average_Temperature_Deg_C  Year      Month Country\n",
       "0                       -5.71  1901    January     USA\n",
       "1                       -6.56  1901   February     USA\n",
       "2                       -0.00  1901      March     USA\n",
       "3                        4.79  1901      April     USA\n",
       "4                       12.08  1901        May     USA\n",
       "5                       16.93  1901       June     USA\n",
       "6                       20.84  1901       July     USA\n",
       "7                       19.09  1901     August     USA\n",
       "8                       13.92  1901  September     USA\n",
       "9                        8.84  1901    October     USA\n",
       "10                       0.48  1901   November     USA\n",
       "11                      -4.40  1901   December     USA"
      ]
     },
     "execution_count": 13,
     "metadata": {},
     "output_type": "execute_result"
    }
   ],
   "source": [
    "avg_temp_df[\"Average_Temperature_Deg_C\"] = round(avg_temp_df.Average_Temperature_Deg_C, 2)\n",
    "avg_temp_df.head(12)"
   ]
  },
  {
   "cell_type": "markdown",
   "metadata": {},
   "source": [
    "### Identify Outliers - Create a box plot"
   ]
  },
  {
   "cell_type": "code",
   "execution_count": 14,
   "metadata": {},
   "outputs": [
    {
     "data": {
      "text/plain": [
       "{'whiskers': [<matplotlib.lines.Line2D at 0x1f7a6a82b20>,\n",
       "  <matplotlib.lines.Line2D at 0x1f7a6a82e80>],\n",
       " 'caps': [<matplotlib.lines.Line2D at 0x1f7a6a97220>,\n",
       "  <matplotlib.lines.Line2D at 0x1f7a6a97580>],\n",
       " 'boxes': [<matplotlib.lines.Line2D at 0x1f7a6a827c0>],\n",
       " 'medians': [<matplotlib.lines.Line2D at 0x1f7a6a978e0>],\n",
       " 'fliers': [<matplotlib.lines.Line2D at 0x1f7a6a97be0>],\n",
       " 'means': []}"
      ]
     },
     "execution_count": 14,
     "metadata": {},
     "output_type": "execute_result"
    },
    {
     "data": {
      "image/png": "[encoded data removed]",
      "text/plain": [
       "<Figure size 432x288 with 1 Axes>"
      ]
     },
     "metadata": {
      "needs_background": "light"
     },
     "output_type": "display_data"
    }
   ],
   "source": [
    "plt.boxplot(avg_temp_df.Average_Temperature_Deg_C, notch=True)"
   ]
  },
  {
   "cell_type": "code",
   "execution_count": 15,
   "metadata": {},
   "outputs": [
    {
     "data": {
      "text/plain": [
       "21.37"
      ]
     },
     "execution_count": 15,
     "metadata": {},
     "output_type": "execute_result"
    }
   ],
   "source": [
    "# Find maximum average temperature\n",
    "avg_temp_df.Average_Temperature_Deg_C.max()"
   ]
  },
  {
   "cell_type": "code",
   "execution_count": 16,
   "metadata": {},
   "outputs": [
    {
     "data": {
      "text/plain": [
       "-8.58"
      ]
     },
     "execution_count": 16,
     "metadata": {},
     "output_type": "execute_result"
    }
   ],
   "source": [
    "# Find minimum average temperature\n",
    "avg_temp_df.Average_Temperature_Deg_C.min()"
   ]
  },
  {
   "cell_type": "markdown",
   "metadata": {},
   "source": [
    "#### Data in this column in the interval (-8.58 Deg C, 21.37 Deg C). However, the main concentration of the data is between -2 Deg C to 16 Deg C. Anything beyond 21 Deg C and bellow -8 Deg C are outliers."
   ]
  },
  {
   "cell_type": "markdown",
   "metadata": {},
   "source": [
    "### Report the size before getting rid of the outliers"
   ]
  },
  {
   "cell_type": "code",
   "execution_count": 17,
   "metadata": {},
   "outputs": [
    {
     "data": {
      "text/plain": [
       "(1392, 4)"
      ]
     },
     "execution_count": 17,
     "metadata": {},
     "output_type": "execute_result"
    }
   ],
   "source": [
    "avg_temp_df.shape"
   ]
  },
  {
   "cell_type": "markdown",
   "metadata": {},
   "source": [
    "### Get rid of the outliers"
   ]
  },
  {
   "cell_type": "code",
   "execution_count": 18,
   "metadata": {},
   "outputs": [],
   "source": [
    "avg_temp_minus_outliers_df = avg_temp_df[(avg_temp_df['Average_Temperature_Deg_C'] < 21) & (avg_temp_df['Average_Temperature_Deg_C'] > -8)]"
   ]
  },
  {
   "cell_type": "markdown",
   "metadata": {},
   "source": [
    "### Report the size after getting rid of the outliers"
   ]
  },
  {
   "cell_type": "code",
   "execution_count": 19,
   "metadata": {},
   "outputs": [
    {
     "data": {
      "text/plain": [
       "(1380, 4)"
      ]
     },
     "execution_count": 19,
     "metadata": {},
     "output_type": "execute_result"
    }
   ],
   "source": [
    "avg_temp_minus_outliers_df.shape"
   ]
  },
  {
   "cell_type": "markdown",
   "metadata": {},
   "source": [
    "### Export Dataframe into Output csv File"
   ]
  },
  {
   "cell_type": "code",
   "execution_count": 20,
   "metadata": {},
   "outputs": [],
   "source": [
    "avg_temp_minus_outliers_df.to_csv('Average_Temperatures_1901_2016_USA.csv', index=False)"
   ]
  },
  {
   "cell_type": "code",
   "execution_count": null,
   "metadata": {},
   "outputs": [],
   "source": []
  }
 ],
 "metadata": {
  "kernelspec": {
   "display_name": "Python 3",
   "language": "python",
   "name": "python3"
  },
  "language_info": {
   "codemirror_mode": {
    "name": "ipython",
    "version": 3
   },
   "file_extension": ".py",
   "mimetype": "text/x-python",
   "name": "python",
   "nbconvert_exporter": "python",
   "pygments_lexer": "ipython3",
   "version": "3.8.3"
  }
 },
 "nbformat": 4,
 "nbformat_minor": 4
}
