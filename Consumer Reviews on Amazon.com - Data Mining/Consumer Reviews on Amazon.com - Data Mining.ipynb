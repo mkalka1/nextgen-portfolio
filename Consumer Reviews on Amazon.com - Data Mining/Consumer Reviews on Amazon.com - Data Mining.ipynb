{
 "cells": [
  {
   "cell_type": "markdown",
   "metadata": {},
   "source": [
    "### <p style=\"text-align: center;\">Amazon Musical Instruments Reviews <br/> Understand the Customer Feedback</p>\n",
    "#### <p style=\"text-align: center;\">DSC550 – Data Mining <br/> Spring 2021 <br/> Manish Kalkar</p>\n",
    "### <p style=\"text-align: center;\">Final Project - Code</p>"
   ]
  },
  {
   "cell_type": "markdown",
   "metadata": {},
   "source": [
    "## Milestone 1 - Graphical Analysis"
   ]
  },
  {
   "cell_type": "markdown",
   "metadata": {},
   "source": [
    "### Load the dataset into the DataFrame and display the data"
   ]
  },
  {
   "cell_type": "code",
   "execution_count": 1,
   "metadata": {},
   "outputs": [],
   "source": [
    "# Load necessary libraries\n",
    "import pandas as pd\n",
    "import numpy as np\n",
    "import matplotlib.pyplot as plt\n",
    "%matplotlib inline\n",
    "import seaborn as sns"
   ]
  },
  {
   "cell_type": "code",
   "execution_count": 2,
   "metadata": {},
   "outputs": [],
   "source": [
    "# Load the dataset into the DataFrame\n",
    "df_feedback = pd.read_csv(\"Musical_instruments_reviews.csv\")"
   ]
  },
  {
   "cell_type": "code",
   "execution_count": 4,
   "metadata": {},
   "outputs": [
    {
     "data": {
      "text/html": [
       "<div>\n",
       "<style scoped>\n",
       "    .dataframe tbody tr th:only-of-type {\n",
       "        vertical-align: middle;\n",
       "    }\n",
       "\n",
       "    .dataframe tbody tr th {\n",
       "        vertical-align: top;\n",
       "    }\n",
       "\n",
       "    .dataframe thead th {\n",
       "        text-align: right;\n",
       "    }\n",
       "</style>\n",
       "<table border=\"1\" class=\"dataframe\">\n",
       "  <thead>\n",
       "    <tr style=\"text-align: right;\">\n",
       "      <th></th>\n",
       "      <th>reviewerID</th>\n",
       "      <th>asin</th>\n",
       "      <th>reviewerName</th>\n",
       "      <th>helpful</th>\n",
       "      <th>reviewText</th>\n",
       "      <th>overall</th>\n",
       "      <th>summary</th>\n",
       "      <th>unixReviewTime</th>\n",
       "      <th>reviewTime</th>\n",
       "    </tr>\n",
       "  </thead>\n",
       "  <tbody>\n",
       "    <tr>\n",
       "      <th>0</th>\n",
       "      <td>A2IBPI20UZIR0U</td>\n",
       "      <td>1384719342</td>\n",
       "      <td>cassandra tu \"Yeah, well, that's just like, u...</td>\n",
       "      <td>[0, 0]</td>\n",
       "      <td>Not much to write about here, but it does exac...</td>\n",
       "      <td>5.0</td>\n",
       "      <td>good</td>\n",
       "      <td>1393545600</td>\n",
       "      <td>02 28, 2014</td>\n",
       "    </tr>\n",
       "    <tr>\n",
       "      <th>1</th>\n",
       "      <td>A14VAT5EAX3D9S</td>\n",
       "      <td>1384719342</td>\n",
       "      <td>Jake</td>\n",
       "      <td>[13, 14]</td>\n",
       "      <td>The product does exactly as it should and is q...</td>\n",
       "      <td>5.0</td>\n",
       "      <td>Jake</td>\n",
       "      <td>1363392000</td>\n",
       "      <td>03 16, 2013</td>\n",
       "    </tr>\n",
       "    <tr>\n",
       "      <th>2</th>\n",
       "      <td>A195EZSQDW3E21</td>\n",
       "      <td>1384719342</td>\n",
       "      <td>Rick Bennette \"Rick Bennette\"</td>\n",
       "      <td>[1, 1]</td>\n",
       "      <td>The primary job of this device is to block the...</td>\n",
       "      <td>5.0</td>\n",
       "      <td>It Does The Job Well</td>\n",
       "      <td>1377648000</td>\n",
       "      <td>08 28, 2013</td>\n",
       "    </tr>\n",
       "    <tr>\n",
       "      <th>3</th>\n",
       "      <td>A2C00NNG1ZQQG2</td>\n",
       "      <td>1384719342</td>\n",
       "      <td>RustyBill \"Sunday Rocker\"</td>\n",
       "      <td>[0, 0]</td>\n",
       "      <td>Nice windscreen protects my MXL mic and preven...</td>\n",
       "      <td>5.0</td>\n",
       "      <td>GOOD WINDSCREEN FOR THE MONEY</td>\n",
       "      <td>1392336000</td>\n",
       "      <td>02 14, 2014</td>\n",
       "    </tr>\n",
       "    <tr>\n",
       "      <th>4</th>\n",
       "      <td>A94QU4C90B1AX</td>\n",
       "      <td>1384719342</td>\n",
       "      <td>SEAN MASLANKA</td>\n",
       "      <td>[0, 0]</td>\n",
       "      <td>This pop filter is great. It looks and perform...</td>\n",
       "      <td>5.0</td>\n",
       "      <td>No more pops when I record my vocals.</td>\n",
       "      <td>1392940800</td>\n",
       "      <td>02 21, 2014</td>\n",
       "    </tr>\n",
       "  </tbody>\n",
       "</table>\n",
       "</div>"
      ],
      "text/plain": [
       "       reviewerID        asin  \\\n",
       "0  A2IBPI20UZIR0U  1384719342   \n",
       "1  A14VAT5EAX3D9S  1384719342   \n",
       "2  A195EZSQDW3E21  1384719342   \n",
       "3  A2C00NNG1ZQQG2  1384719342   \n",
       "4   A94QU4C90B1AX  1384719342   \n",
       "\n",
       "                                       reviewerName   helpful  \\\n",
       "0  cassandra tu \"Yeah, well, that's just like, u...    [0, 0]   \n",
       "1                                              Jake  [13, 14]   \n",
       "2                     Rick Bennette \"Rick Bennette\"    [1, 1]   \n",
       "3                         RustyBill \"Sunday Rocker\"    [0, 0]   \n",
       "4                                     SEAN MASLANKA    [0, 0]   \n",
       "\n",
       "                                          reviewText  overall  \\\n",
       "0  Not much to write about here, but it does exac...      5.0   \n",
       "1  The product does exactly as it should and is q...      5.0   \n",
       "2  The primary job of this device is to block the...      5.0   \n",
       "3  Nice windscreen protects my MXL mic and preven...      5.0   \n",
       "4  This pop filter is great. It looks and perform...      5.0   \n",
       "\n",
       "                                 summary  unixReviewTime   reviewTime  \n",
       "0                                   good      1393545600  02 28, 2014  \n",
       "1                                   Jake      1363392000  03 16, 2013  \n",
       "2                   It Does The Job Well      1377648000  08 28, 2013  \n",
       "3          GOOD WINDSCREEN FOR THE MONEY      1392336000  02 14, 2014  \n",
       "4  No more pops when I record my vocals.      1392940800  02 21, 2014  "
      ]
     },
     "execution_count": 4,
     "metadata": {},
     "output_type": "execute_result"
    }
   ],
   "source": [
    "# Display the data\n",
    "df_feedback.head(5)"
   ]
  },
  {
   "cell_type": "code",
   "execution_count": 5,
   "metadata": {},
   "outputs": [
    {
     "data": {
      "text/plain": [
       "(10261, 9)"
      ]
     },
     "execution_count": 5,
     "metadata": {},
     "output_type": "execute_result"
    }
   ],
   "source": [
    "# Find the total number of rows (customer reviews) in DatFrame\n",
    "df_feedback.shape"
   ]
  },
  {
   "cell_type": "markdown",
   "metadata": {},
   "source": [
    "### 1. Plot the Total Number of Overall Ratings (Counts) of the customer reviews"
   ]
  },
  {
   "cell_type": "code",
   "execution_count": 7,
   "metadata": {},
   "outputs": [
    {
     "data": {
      "text/plain": [
       "5.0    6938\n",
       "4.0    2084\n",
       "3.0     772\n",
       "2.0     250\n",
       "1.0     217\n",
       "Name: overall, dtype: int64"
      ]
     },
     "execution_count": 7,
     "metadata": {},
     "output_type": "execute_result"
    }
   ],
   "source": [
    "# Counts of each Overall Rating of the customer review in the DataFrame\n",
    "df_feedback['overall'].value_counts()"
   ]
  },
  {
   "cell_type": "code",
   "execution_count": 9,
   "metadata": {},
   "outputs": [
    {
     "data": {
      "text/plain": [
       "<matplotlib.axes._subplots.AxesSubplot at 0x1ffcddd5e50>"
      ]
     },
     "execution_count": 9,
     "metadata": {},
     "output_type": "execute_result"
    },
    {
     "data": {
      "image/png": "[encoded data removed]",
      "text/plain": [
       "<Figure size 432x288 with 1 Axes>"
      ]
     },
     "metadata": {
      "needs_background": "light"
     },
     "output_type": "display_data"
    }
   ],
   "source": [
    "# Plot the counts of each Overall Rating of the customer review in the DataFrame\n",
    "sns.countplot(x=df_feedback['overall'],data=df_feedback)"
   ]
  },
  {
   "cell_type": "markdown",
   "metadata": {},
   "source": [
    "### Analysis"
   ]
  },
  {
   "cell_type": "markdown",
   "metadata": {},
   "source": [
    "<P>\n",
    "Overall Rating 5.0 has got highest number of counts followed by 4.0 and 3.0. The Overall Ratings of 2.0 and 1.0 belong to unhappy customers remain almost the same in terms of the counts.\n",
    "</P>"
   ]
  },
  {
   "cell_type": "markdown",
   "metadata": {},
   "source": [
    "### 2. Plot the Total Number of Overall Ratings (Percentages) of the customer reviews"
   ]
  },
  {
   "cell_type": "code",
   "execution_count": 13,
   "metadata": {},
   "outputs": [
    {
     "data": {
      "text/plain": [
       "5.0    67.615242\n",
       "4.0    20.309911\n",
       "3.0     7.523633\n",
       "2.0     2.436410\n",
       "1.0     2.114804\n",
       "Name: overall, dtype: float64"
      ]
     },
     "execution_count": 13,
     "metadata": {},
     "output_type": "execute_result"
    }
   ],
   "source": [
    "# Calculate percentages of each Overall Rating of the customer review in the DataFrame\n",
    "df_feedback['overall'].value_counts(normalize=True)*100"
   ]
  },
  {
   "cell_type": "code",
   "execution_count": 12,
   "metadata": {},
   "outputs": [
    {
     "data": {
      "image/png": "[encoded data removed]",
      "text/plain": [
       "<Figure size 720x432 with 1 Axes>"
      ]
     },
     "metadata": {
      "needs_background": "light"
     },
     "output_type": "display_data"
    }
   ],
   "source": [
    "# Plot the Overall Ratings - Percentages\n",
    "t=pd.DataFrame(data=df_feedback['overall'].value_counts(normalize=True)*100)\n",
    "plt.figure(figsize=(10,6))\n",
    "sns.barplot(x=t.index, y=t.overall)\n",
    "plt.xlabel('Rating',fontsize=20)\n",
    "plt.ylabel('Percent of Total Ratings',fontsize=20)\n",
    "plt.show()"
   ]
  },
  {
   "cell_type": "markdown",
   "metadata": {},
   "source": [
    "### Analysis"
   ]
  },
  {
   "cell_type": "markdown",
   "metadata": {},
   "source": [
    "<P>\n",
    "Overall Rating 5.0 has got highest percentage followed by 4.0 and 3.0. The Overall Ratings of 2.0 and 1.0 belong to unhappy customers remain almost the same in terms of the percentages.\n",
    "</P>"
   ]
  },
  {
   "cell_type": "markdown",
   "metadata": {},
   "source": [
    "## 3. Plot the Pie Chart showing Overall Ratings - Percentages"
   ]
  },
  {
   "cell_type": "code",
   "execution_count": 51,
   "metadata": {},
   "outputs": [
    {
     "data": {
      "image/png": "[encoded data removed]",
      "text/plain": [
       "<Figure size 432x288 with 1 Axes>"
      ]
     },
     "metadata": {},
     "output_type": "display_data"
    }
   ],
   "source": [
    "# Assign the labels - Overall Rating\n",
    "x = ['5.0','4.0','3.0','2.0','1.0']\n",
    "\n",
    "# Calculate the percentage of each Overall Rating\n",
    "y = df_feedback['overall'].value_counts(normalize=True)*100\n",
    "\n",
    "# Define function to covert percentages into actual values\n",
    "# to be displayed on the pie chart\n",
    "def autopct_format(values):\n",
    "    def my_format(pct):\n",
    "        total = sum(values)\n",
    "        val = int(round(pct*total/100.0))\n",
    "        return '{v:d}'.format(v=val)\n",
    "    return my_format\n",
    "\n",
    "# plot the pie chart\n",
    "plt.pie(y, labels = x, autopct = autopct_format(y))\n",
    "plt.show()"
   ]
  },
  {
   "cell_type": "markdown",
   "metadata": {},
   "source": [
    "### Analysis"
   ]
  },
  {
   "cell_type": "markdown",
   "metadata": {},
   "source": [
    "<P>\n",
    "Above Pie Chart shows the Overall Rating 5.0 has got highest percentage of 68%, the rating 4.0 has got 20% and 3.0 has got 8% of the Overall Rating. The Overall Ratings of 2.0 and 1.0 belong to unhappy customers remain almost the same - 2% each.\n",
    "</P>"
   ]
  },
  {
   "cell_type": "markdown",
   "metadata": {},
   "source": [
    "## 4. Plot the Musical Instruments with the Highest Number of Ratings (Top 20)"
   ]
  },
  {
   "cell_type": "code",
   "execution_count": 40,
   "metadata": {},
   "outputs": [
    {
     "data": {
      "text/plain": [
       "1429"
      ]
     },
     "execution_count": 40,
     "metadata": {},
     "output_type": "execute_result"
    }
   ],
   "source": [
    "# Total number of unique reviewers\n",
    "unique_reviewers = len(df_feedback.reviewerID.unique())\n",
    "unique_reviewers"
   ]
  },
  {
   "cell_type": "code",
   "execution_count": 27,
   "metadata": {},
   "outputs": [
    {
     "data": {
      "text/plain": [
       "900"
      ]
     },
     "execution_count": 27,
     "metadata": {},
     "output_type": "execute_result"
    }
   ],
   "source": [
    "# Total number of unique Musical Instruments\n",
    "unique_musical_instruments = len(df_feedback.asin.unique())\n",
    "unique_musical_instruments"
   ]
  },
  {
   "cell_type": "code",
   "execution_count": 58,
   "metadata": {
    "scrolled": true
   },
   "outputs": [
    {
     "data": {
      "image/png": "[encoded data removed]",
      "text/plain": [
       "<Figure size 720x432 with 1 Axes>"
      ]
     },
     "metadata": {
      "needs_background": "light"
     },
     "output_type": "display_data"
    }
   ],
   "source": [
    "# plot the top 20 highest number of ratings\n",
    "top_20=df_feedback.asin.value_counts().head(20)\n",
    "top_20_df=pd.DataFrame()\n",
    "top_20_ids=list(top_20.index)\n",
    "for i in top_20_ids:\n",
    "    top_20_df=top_20_df.append(df_feedback[df_feedback['asin']==i],ignore_index=True)\n",
    "table = pd.pivot_table(top_20_df, values='overall',index=top_20_df['asin'],aggfunc=np.mean)\n",
    "\n",
    "#Create Figure\n",
    "plt.figure(figsize=(10,6))\n",
    "sns.barplot(x=table.index, y='overall', data=table)\n",
    "plt.xticks(rotation=90)\n",
    "plt.xlabel('Instrument ID')\n",
    "plt.ylabel('Average Rating for Instrument')\n",
    "plt.title('Instruments with the Highest Number of Ratings (Top 20)')\n",
    "plt.tight_layout()\n",
    "plt.show()"
   ]
  },
  {
   "cell_type": "markdown",
   "metadata": {},
   "source": [
    "## 5. Plot the Musical Instruments with the Fewest Number of Ratings (Bottom 20)"
   ]
  },
  {
   "cell_type": "code",
   "execution_count": 57,
   "metadata": {
    "scrolled": false
   },
   "outputs": [
    {
     "data": {
      "image/png": "[encoded data removed]",
      "text/plain": [
       "<Figure size 720x432 with 1 Axes>"
      ]
     },
     "metadata": {
      "needs_background": "light"
     },
     "output_type": "display_data"
    }
   ],
   "source": [
    "# plot the top 20 fewest number of ratings\n",
    "btm_20 = df_feedback.asin.value_counts().tail(20)\n",
    "btm_20_df=pd.DataFrame()\n",
    "btm_20_ids=list(btm_20.index)\n",
    "for i in btm_20_ids:\n",
    "    btm_20_df=btm_20_df.append(df_feedback[df_feedback['asin']==i],ignore_index=True)\n",
    "table_btm = pd.pivot_table(btm_20_df, values='overall',index=btm_20_df['asin'],aggfunc=np.mean)\n",
    "\n",
    "#Create Figure\n",
    "plt.figure(figsize=(10,6))\n",
    "sns.barplot(x=table_btm.index, y='overall', data=table_btm)\n",
    "plt.xticks(rotation=90)\n",
    "plt.xlabel('Instrument ID')\n",
    "plt.ylabel('Average Rating for Instrument')\n",
    "plt.title('Instruments with Fewest Number of Ratings (Bottom 20)')\n",
    "plt.tight_layout()\n",
    "plt.show()"
   ]
  },
  {
   "cell_type": "markdown",
   "metadata": {},
   "source": [
    "### Analysis - 4 and 5"
   ]
  },
  {
   "cell_type": "markdown",
   "metadata": {},
   "source": [
    "<P>\n",
    "The dataset contains total 10261 reviews on amazon.com provided by 1429 customers on total 900 unique Musical Instruments. Plot 4 shows Musical Instruments with the Highest Number of Ratings (Top 20) and Plot 5 shows Musical Instruments with the Fewest Number of Ratings (Bottom 20). In both cases, Average Rating for the instruments have been plotted.\n",
    "</P>"
   ]
  },
  {
   "cell_type": "markdown",
   "metadata": {},
   "source": [
    "## Milestone 2 - Dimensionality / Feature Reduction and Feature Engineering"
   ]
  },
  {
   "cell_type": "code",
   "execution_count": 1,
   "metadata": {},
   "outputs": [],
   "source": [
    "# Load necessary libraries\n",
    "import pandas as pd\n",
    "import numpy as np\n",
    "import matplotlib.pyplot as plt\n",
    "%matplotlib inline\n",
    "import seaborn as sns\n",
    "\n",
    "import nltk\n",
    "\n",
    "from nltk.tokenize import sent_tokenize\n",
    "from nltk.tokenize import word_tokenize\n",
    "from sklearn.feature_extraction.text import TfidfVectorizer\n",
    "from sklearn.feature_extraction.text import TfidfTransformer\n",
    "from sklearn.feature_extraction.text import CountVectorizer\n",
    "\n",
    "from textblob import TextBlob\n",
    "from textblob import Blobber\n",
    "from textblob.sentiments import NaiveBayesAnalyzer\n",
    "\n",
    "from vaderSentiment.vaderSentiment import SentimentIntensityAnalyzer\n",
    "\n",
    "import re\n",
    "import string"
   ]
  },
  {
   "cell_type": "code",
   "execution_count": 2,
   "metadata": {},
   "outputs": [],
   "source": [
    "# Load the dataset into the DataFrame\n",
    "df_feedback = pd.read_csv(\"Musical_instruments_reviews.csv\")"
   ]
  },
  {
   "cell_type": "code",
   "execution_count": 3,
   "metadata": {},
   "outputs": [
    {
     "data": {
      "text/html": [
       "<div>\n",
       "<style scoped>\n",
       "    .dataframe tbody tr th:only-of-type {\n",
       "        vertical-align: middle;\n",
       "    }\n",
       "\n",
       "    .dataframe tbody tr th {\n",
       "        vertical-align: top;\n",
       "    }\n",
       "\n",
       "    .dataframe thead th {\n",
       "        text-align: right;\n",
       "    }\n",
       "</style>\n",
       "<table border=\"1\" class=\"dataframe\">\n",
       "  <thead>\n",
       "    <tr style=\"text-align: right;\">\n",
       "      <th></th>\n",
       "      <th>reviewerID</th>\n",
       "      <th>asin</th>\n",
       "      <th>reviewerName</th>\n",
       "      <th>helpful</th>\n",
       "      <th>reviewText</th>\n",
       "      <th>overall</th>\n",
       "      <th>summary</th>\n",
       "      <th>unixReviewTime</th>\n",
       "      <th>reviewTime</th>\n",
       "    </tr>\n",
       "  </thead>\n",
       "  <tbody>\n",
       "    <tr>\n",
       "      <th>0</th>\n",
       "      <td>A2IBPI20UZIR0U</td>\n",
       "      <td>1384719342</td>\n",
       "      <td>cassandra tu \"Yeah, well, that's just like, u...</td>\n",
       "      <td>[0, 0]</td>\n",
       "      <td>Not much to write about here, but it does exac...</td>\n",
       "      <td>5.0</td>\n",
       "      <td>good</td>\n",
       "      <td>1393545600</td>\n",
       "      <td>02 28, 2014</td>\n",
       "    </tr>\n",
       "    <tr>\n",
       "      <th>1</th>\n",
       "      <td>A14VAT5EAX3D9S</td>\n",
       "      <td>1384719342</td>\n",
       "      <td>Jake</td>\n",
       "      <td>[13, 14]</td>\n",
       "      <td>The product does exactly as it should and is q...</td>\n",
       "      <td>5.0</td>\n",
       "      <td>Jake</td>\n",
       "      <td>1363392000</td>\n",
       "      <td>03 16, 2013</td>\n",
       "    </tr>\n",
       "    <tr>\n",
       "      <th>2</th>\n",
       "      <td>A195EZSQDW3E21</td>\n",
       "      <td>1384719342</td>\n",
       "      <td>Rick Bennette \"Rick Bennette\"</td>\n",
       "      <td>[1, 1]</td>\n",
       "      <td>The primary job of this device is to block the...</td>\n",
       "      <td>5.0</td>\n",
       "      <td>It Does The Job Well</td>\n",
       "      <td>1377648000</td>\n",
       "      <td>08 28, 2013</td>\n",
       "    </tr>\n",
       "    <tr>\n",
       "      <th>3</th>\n",
       "      <td>A2C00NNG1ZQQG2</td>\n",
       "      <td>1384719342</td>\n",
       "      <td>RustyBill \"Sunday Rocker\"</td>\n",
       "      <td>[0, 0]</td>\n",
       "      <td>Nice windscreen protects my MXL mic and preven...</td>\n",
       "      <td>5.0</td>\n",
       "      <td>GOOD WINDSCREEN FOR THE MONEY</td>\n",
       "      <td>1392336000</td>\n",
       "      <td>02 14, 2014</td>\n",
       "    </tr>\n",
       "    <tr>\n",
       "      <th>4</th>\n",
       "      <td>A94QU4C90B1AX</td>\n",
       "      <td>1384719342</td>\n",
       "      <td>SEAN MASLANKA</td>\n",
       "      <td>[0, 0]</td>\n",
       "      <td>This pop filter is great. It looks and perform...</td>\n",
       "      <td>5.0</td>\n",
       "      <td>No more pops when I record my vocals.</td>\n",
       "      <td>1392940800</td>\n",
       "      <td>02 21, 2014</td>\n",
       "    </tr>\n",
       "  </tbody>\n",
       "</table>\n",
       "</div>"
      ],
      "text/plain": [
       "       reviewerID        asin  \\\n",
       "0  A2IBPI20UZIR0U  1384719342   \n",
       "1  A14VAT5EAX3D9S  1384719342   \n",
       "2  A195EZSQDW3E21  1384719342   \n",
       "3  A2C00NNG1ZQQG2  1384719342   \n",
       "4   A94QU4C90B1AX  1384719342   \n",
       "\n",
       "                                       reviewerName   helpful  \\\n",
       "0  cassandra tu \"Yeah, well, that's just like, u...    [0, 0]   \n",
       "1                                              Jake  [13, 14]   \n",
       "2                     Rick Bennette \"Rick Bennette\"    [1, 1]   \n",
       "3                         RustyBill \"Sunday Rocker\"    [0, 0]   \n",
       "4                                     SEAN MASLANKA    [0, 0]   \n",
       "\n",
       "                                          reviewText  overall  \\\n",
       "0  Not much to write about here, but it does exac...      5.0   \n",
       "1  The product does exactly as it should and is q...      5.0   \n",
       "2  The primary job of this device is to block the...      5.0   \n",
       "3  Nice windscreen protects my MXL mic and preven...      5.0   \n",
       "4  This pop filter is great. It looks and perform...      5.0   \n",
       "\n",
       "                                 summary  unixReviewTime   reviewTime  \n",
       "0                                   good      1393545600  02 28, 2014  \n",
       "1                                   Jake      1363392000  03 16, 2013  \n",
       "2                   It Does The Job Well      1377648000  08 28, 2013  \n",
       "3          GOOD WINDSCREEN FOR THE MONEY      1392336000  02 14, 2014  \n",
       "4  No more pops when I record my vocals.      1392940800  02 21, 2014  "
      ]
     },
     "execution_count": 3,
     "metadata": {},
     "output_type": "execute_result"
    }
   ],
   "source": [
    "# Display the data\n",
    "df_feedback.head(5)"
   ]
  },
  {
   "cell_type": "code",
   "execution_count": 4,
   "metadata": {},
   "outputs": [
    {
     "data": {
      "text/plain": [
       "(10261, 9)"
      ]
     },
     "execution_count": 4,
     "metadata": {},
     "output_type": "execute_result"
    }
   ],
   "source": [
    "# Find the total number of rows (customer reviews) in DatFrame\n",
    "df_feedback.shape"
   ]
  },
  {
   "cell_type": "code",
   "execution_count": 5,
   "metadata": {},
   "outputs": [
    {
     "name": "stdout",
     "output_type": "stream",
     "text": [
      "reviewerID\n",
      "asin\n",
      "reviewerName\n",
      "helpful\n",
      "reviewText\n",
      "overall\n",
      "summary\n",
      "unixReviewTime\n",
      "reviewTime\n"
     ]
    }
   ],
   "source": [
    "# Display columns of the DataFrame\n",
    "# iterating through the columns\n",
    "for feedback_columns in df_feedback.columns:\n",
    "    print(feedback_columns)"
   ]
  },
  {
   "cell_type": "markdown",
   "metadata": {},
   "source": [
    "## Dimensionality / Feature Reduction"
   ]
  },
  {
   "cell_type": "code",
   "execution_count": 6,
   "metadata": {},
   "outputs": [],
   "source": [
    "# Drop the unnecessary features from the dataset\n",
    "df_feedback = df_feedback.drop(['reviewerID','asin','reviewerName','unixReviewTime','reviewTime','helpful'],axis=1)"
   ]
  },
  {
   "cell_type": "markdown",
   "metadata": {},
   "source": [
    "### Justify Dimensionality / Feature Reduction"
   ]
  },
  {
   "cell_type": "markdown",
   "metadata": {},
   "source": [
    "#### The goal is to perform text analysis / mining of the Customer Feedback Reviews along with the Sentiment Analysis of the reviews and build model to predict the Overall Rating of the products (Musical Instruments). reviewText, Overall and Summary are the only relevant features / colums in the dataset. Rest of the features can be dropped. Above line of code drop all the irrelevant features, which are not needed for the text analysis / data mining."
   ]
  },
  {
   "cell_type": "code",
   "execution_count": 7,
   "metadata": {},
   "outputs": [
    {
     "data": {
      "text/html": [
       "<div>\n",
       "<style scoped>\n",
       "    .dataframe tbody tr th:only-of-type {\n",
       "        vertical-align: middle;\n",
       "    }\n",
       "\n",
       "    .dataframe tbody tr th {\n",
       "        vertical-align: top;\n",
       "    }\n",
       "\n",
       "    .dataframe thead th {\n",
       "        text-align: right;\n",
       "    }\n",
       "</style>\n",
       "<table border=\"1\" class=\"dataframe\">\n",
       "  <thead>\n",
       "    <tr style=\"text-align: right;\">\n",
       "      <th></th>\n",
       "      <th>reviewText</th>\n",
       "      <th>overall</th>\n",
       "      <th>summary</th>\n",
       "    </tr>\n",
       "  </thead>\n",
       "  <tbody>\n",
       "    <tr>\n",
       "      <th>0</th>\n",
       "      <td>Not much to write about here, but it does exac...</td>\n",
       "      <td>5.0</td>\n",
       "      <td>good</td>\n",
       "    </tr>\n",
       "    <tr>\n",
       "      <th>1</th>\n",
       "      <td>The product does exactly as it should and is q...</td>\n",
       "      <td>5.0</td>\n",
       "      <td>Jake</td>\n",
       "    </tr>\n",
       "    <tr>\n",
       "      <th>2</th>\n",
       "      <td>The primary job of this device is to block the...</td>\n",
       "      <td>5.0</td>\n",
       "      <td>It Does The Job Well</td>\n",
       "    </tr>\n",
       "    <tr>\n",
       "      <th>3</th>\n",
       "      <td>Nice windscreen protects my MXL mic and preven...</td>\n",
       "      <td>5.0</td>\n",
       "      <td>GOOD WINDSCREEN FOR THE MONEY</td>\n",
       "    </tr>\n",
       "    <tr>\n",
       "      <th>4</th>\n",
       "      <td>This pop filter is great. It looks and perform...</td>\n",
       "      <td>5.0</td>\n",
       "      <td>No more pops when I record my vocals.</td>\n",
       "    </tr>\n",
       "    <tr>\n",
       "      <th>...</th>\n",
       "      <td>...</td>\n",
       "      <td>...</td>\n",
       "      <td>...</td>\n",
       "    </tr>\n",
       "    <tr>\n",
       "      <th>10256</th>\n",
       "      <td>Great, just as expected.  Thank to all.</td>\n",
       "      <td>5.0</td>\n",
       "      <td>Five Stars</td>\n",
       "    </tr>\n",
       "    <tr>\n",
       "      <th>10257</th>\n",
       "      <td>I've been thinking about trying the Nanoweb st...</td>\n",
       "      <td>5.0</td>\n",
       "      <td>Long life, and for some players, a good econom...</td>\n",
       "    </tr>\n",
       "    <tr>\n",
       "      <th>10258</th>\n",
       "      <td>I have tried coated strings in the past ( incl...</td>\n",
       "      <td>4.0</td>\n",
       "      <td>Good for coated.</td>\n",
       "    </tr>\n",
       "    <tr>\n",
       "      <th>10259</th>\n",
       "      <td>Well, MADE by Elixir and DEVELOPED with Taylor...</td>\n",
       "      <td>4.0</td>\n",
       "      <td>Taylor Made</td>\n",
       "    </tr>\n",
       "    <tr>\n",
       "      <th>10260</th>\n",
       "      <td>These strings are really quite good, but I wou...</td>\n",
       "      <td>4.0</td>\n",
       "      <td>These strings are really quite good, but I wou...</td>\n",
       "    </tr>\n",
       "  </tbody>\n",
       "</table>\n",
       "<p>10261 rows × 3 columns</p>\n",
       "</div>"
      ],
      "text/plain": [
       "                                              reviewText  overall  \\\n",
       "0      Not much to write about here, but it does exac...      5.0   \n",
       "1      The product does exactly as it should and is q...      5.0   \n",
       "2      The primary job of this device is to block the...      5.0   \n",
       "3      Nice windscreen protects my MXL mic and preven...      5.0   \n",
       "4      This pop filter is great. It looks and perform...      5.0   \n",
       "...                                                  ...      ...   \n",
       "10256            Great, just as expected.  Thank to all.      5.0   \n",
       "10257  I've been thinking about trying the Nanoweb st...      5.0   \n",
       "10258  I have tried coated strings in the past ( incl...      4.0   \n",
       "10259  Well, MADE by Elixir and DEVELOPED with Taylor...      4.0   \n",
       "10260  These strings are really quite good, but I wou...      4.0   \n",
       "\n",
       "                                                 summary  \n",
       "0                                                   good  \n",
       "1                                                   Jake  \n",
       "2                                   It Does The Job Well  \n",
       "3                          GOOD WINDSCREEN FOR THE MONEY  \n",
       "4                  No more pops when I record my vocals.  \n",
       "...                                                  ...  \n",
       "10256                                         Five Stars  \n",
       "10257  Long life, and for some players, a good econom...  \n",
       "10258                                   Good for coated.  \n",
       "10259                                        Taylor Made  \n",
       "10260  These strings are really quite good, but I wou...  \n",
       "\n",
       "[10261 rows x 3 columns]"
      ]
     },
     "execution_count": 7,
     "metadata": {},
     "output_type": "execute_result"
    }
   ],
   "source": [
    "# Display the data after Feature Reduction\n",
    "df_feedback"
   ]
  },
  {
   "cell_type": "markdown",
   "metadata": {},
   "source": [
    "### Address any missing data issues"
   ]
  },
  {
   "cell_type": "code",
   "execution_count": 8,
   "metadata": {},
   "outputs": [
    {
     "data": {
      "text/plain": [
       "reviewText    7\n",
       "overall       0\n",
       "summary       0\n",
       "dtype: int64"
      ]
     },
     "execution_count": 8,
     "metadata": {},
     "output_type": "execute_result"
    }
   ],
   "source": [
    "# Determine / Find missing values\n",
    "df_feedback.isnull().sum()"
   ]
  },
  {
   "cell_type": "code",
   "execution_count": 9,
   "metadata": {},
   "outputs": [],
   "source": [
    "# fill in the missing values\n",
    "df_feedback.reviewText.fillna(\"\",inplace = True)"
   ]
  },
  {
   "cell_type": "code",
   "execution_count": 10,
   "metadata": {},
   "outputs": [
    {
     "data": {
      "text/plain": [
       "reviewText    0\n",
       "overall       0\n",
       "summary       0\n",
       "dtype: int64"
      ]
     },
     "execution_count": 10,
     "metadata": {},
     "output_type": "execute_result"
    }
   ],
   "source": [
    "# Check the result / Double check the missing values, if any\n",
    "df_feedback.isnull().sum()"
   ]
  },
  {
   "cell_type": "markdown",
   "metadata": {},
   "source": [
    "### Build any new features that are needed for the model"
   ]
  },
  {
   "cell_type": "code",
   "execution_count": 11,
   "metadata": {},
   "outputs": [],
   "source": [
    "# Build new feature feedbackText by combining two features reviewText and summary\n",
    "df_feedback['feedbackText'] = df_feedback['reviewText']+ ' '+df_feedback['summary']"
   ]
  },
  {
   "cell_type": "code",
   "execution_count": 12,
   "metadata": {},
   "outputs": [],
   "source": [
    "# Furthre reduce the features by dropping the features reviewText and summary as we do not need them anymore.\n",
    "df_feedback = df_feedback.drop(['reviewText','summary'],axis=1)"
   ]
  },
  {
   "cell_type": "code",
   "execution_count": 13,
   "metadata": {},
   "outputs": [
    {
     "data": {
      "text/html": [
       "<div>\n",
       "<style scoped>\n",
       "    .dataframe tbody tr th:only-of-type {\n",
       "        vertical-align: middle;\n",
       "    }\n",
       "\n",
       "    .dataframe tbody tr th {\n",
       "        vertical-align: top;\n",
       "    }\n",
       "\n",
       "    .dataframe thead th {\n",
       "        text-align: right;\n",
       "    }\n",
       "</style>\n",
       "<table border=\"1\" class=\"dataframe\">\n",
       "  <thead>\n",
       "    <tr style=\"text-align: right;\">\n",
       "      <th></th>\n",
       "      <th>overall</th>\n",
       "      <th>feedbackText</th>\n",
       "    </tr>\n",
       "  </thead>\n",
       "  <tbody>\n",
       "    <tr>\n",
       "      <th>0</th>\n",
       "      <td>5.0</td>\n",
       "      <td>Not much to write about here, but it does exac...</td>\n",
       "    </tr>\n",
       "    <tr>\n",
       "      <th>1</th>\n",
       "      <td>5.0</td>\n",
       "      <td>The product does exactly as it should and is q...</td>\n",
       "    </tr>\n",
       "    <tr>\n",
       "      <th>2</th>\n",
       "      <td>5.0</td>\n",
       "      <td>The primary job of this device is to block the...</td>\n",
       "    </tr>\n",
       "    <tr>\n",
       "      <th>3</th>\n",
       "      <td>5.0</td>\n",
       "      <td>Nice windscreen protects my MXL mic and preven...</td>\n",
       "    </tr>\n",
       "    <tr>\n",
       "      <th>4</th>\n",
       "      <td>5.0</td>\n",
       "      <td>This pop filter is great. It looks and perform...</td>\n",
       "    </tr>\n",
       "    <tr>\n",
       "      <th>...</th>\n",
       "      <td>...</td>\n",
       "      <td>...</td>\n",
       "    </tr>\n",
       "    <tr>\n",
       "      <th>10256</th>\n",
       "      <td>5.0</td>\n",
       "      <td>Great, just as expected.  Thank to all. Five S...</td>\n",
       "    </tr>\n",
       "    <tr>\n",
       "      <th>10257</th>\n",
       "      <td>5.0</td>\n",
       "      <td>I've been thinking about trying the Nanoweb st...</td>\n",
       "    </tr>\n",
       "    <tr>\n",
       "      <th>10258</th>\n",
       "      <td>4.0</td>\n",
       "      <td>I have tried coated strings in the past ( incl...</td>\n",
       "    </tr>\n",
       "    <tr>\n",
       "      <th>10259</th>\n",
       "      <td>4.0</td>\n",
       "      <td>Well, MADE by Elixir and DEVELOPED with Taylor...</td>\n",
       "    </tr>\n",
       "    <tr>\n",
       "      <th>10260</th>\n",
       "      <td>4.0</td>\n",
       "      <td>These strings are really quite good, but I wou...</td>\n",
       "    </tr>\n",
       "  </tbody>\n",
       "</table>\n",
       "<p>10261 rows × 2 columns</p>\n",
       "</div>"
      ],
      "text/plain": [
       "       overall                                       feedbackText\n",
       "0          5.0  Not much to write about here, but it does exac...\n",
       "1          5.0  The product does exactly as it should and is q...\n",
       "2          5.0  The primary job of this device is to block the...\n",
       "3          5.0  Nice windscreen protects my MXL mic and preven...\n",
       "4          5.0  This pop filter is great. It looks and perform...\n",
       "...        ...                                                ...\n",
       "10256      5.0  Great, just as expected.  Thank to all. Five S...\n",
       "10257      5.0  I've been thinking about trying the Nanoweb st...\n",
       "10258      4.0  I have tried coated strings in the past ( incl...\n",
       "10259      4.0  Well, MADE by Elixir and DEVELOPED with Taylor...\n",
       "10260      4.0  These strings are really quite good, but I wou...\n",
       "\n",
       "[10261 rows x 2 columns]"
      ]
     },
     "execution_count": 13,
     "metadata": {},
     "output_type": "execute_result"
    }
   ],
   "source": [
    "# Display the data after Dimensionality / Feature Reduction\n",
    "df_feedback"
   ]
  },
  {
   "cell_type": "markdown",
   "metadata": {},
   "source": [
    "## Sentiment Analysis"
   ]
  },
  {
   "cell_type": "markdown",
   "metadata": {},
   "source": [
    "### Sentiment Analysis has been performed based on below listed methods:"
   ]
  },
  {
   "cell_type": "markdown",
   "metadata": {},
   "source": [
    "1. VADER\n",
    "2. textblob\n",
    "3. Based on mapping of Overall Rating Score"
   ]
  },
  {
   "cell_type": "code",
   "execution_count": 14,
   "metadata": {},
   "outputs": [],
   "source": [
    "# Add two new features / columns to accomodate sentiment data\n",
    "# Initialize new columns with no values\n",
    "df_feedback['sentiment'] = \"\"\n",
    "df_feedback['sentimentScore'] = \"\""
   ]
  },
  {
   "cell_type": "code",
   "execution_count": 15,
   "metadata": {},
   "outputs": [
    {
     "data": {
      "text/html": [
       "<div>\n",
       "<style scoped>\n",
       "    .dataframe tbody tr th:only-of-type {\n",
       "        vertical-align: middle;\n",
       "    }\n",
       "\n",
       "    .dataframe tbody tr th {\n",
       "        vertical-align: top;\n",
       "    }\n",
       "\n",
       "    .dataframe thead th {\n",
       "        text-align: right;\n",
       "    }\n",
       "</style>\n",
       "<table border=\"1\" class=\"dataframe\">\n",
       "  <thead>\n",
       "    <tr style=\"text-align: right;\">\n",
       "      <th></th>\n",
       "      <th>overall</th>\n",
       "      <th>feedbackText</th>\n",
       "      <th>sentiment</th>\n",
       "      <th>sentimentScore</th>\n",
       "    </tr>\n",
       "  </thead>\n",
       "  <tbody>\n",
       "    <tr>\n",
       "      <th>0</th>\n",
       "      <td>5.0</td>\n",
       "      <td>Not much to write about here, but it does exac...</td>\n",
       "      <td></td>\n",
       "      <td></td>\n",
       "    </tr>\n",
       "    <tr>\n",
       "      <th>1</th>\n",
       "      <td>5.0</td>\n",
       "      <td>The product does exactly as it should and is q...</td>\n",
       "      <td></td>\n",
       "      <td></td>\n",
       "    </tr>\n",
       "    <tr>\n",
       "      <th>2</th>\n",
       "      <td>5.0</td>\n",
       "      <td>The primary job of this device is to block the...</td>\n",
       "      <td></td>\n",
       "      <td></td>\n",
       "    </tr>\n",
       "    <tr>\n",
       "      <th>3</th>\n",
       "      <td>5.0</td>\n",
       "      <td>Nice windscreen protects my MXL mic and preven...</td>\n",
       "      <td></td>\n",
       "      <td></td>\n",
       "    </tr>\n",
       "    <tr>\n",
       "      <th>4</th>\n",
       "      <td>5.0</td>\n",
       "      <td>This pop filter is great. It looks and perform...</td>\n",
       "      <td></td>\n",
       "      <td></td>\n",
       "    </tr>\n",
       "    <tr>\n",
       "      <th>...</th>\n",
       "      <td>...</td>\n",
       "      <td>...</td>\n",
       "      <td>...</td>\n",
       "      <td>...</td>\n",
       "    </tr>\n",
       "    <tr>\n",
       "      <th>10256</th>\n",
       "      <td>5.0</td>\n",
       "      <td>Great, just as expected.  Thank to all. Five S...</td>\n",
       "      <td></td>\n",
       "      <td></td>\n",
       "    </tr>\n",
       "    <tr>\n",
       "      <th>10257</th>\n",
       "      <td>5.0</td>\n",
       "      <td>I've been thinking about trying the Nanoweb st...</td>\n",
       "      <td></td>\n",
       "      <td></td>\n",
       "    </tr>\n",
       "    <tr>\n",
       "      <th>10258</th>\n",
       "      <td>4.0</td>\n",
       "      <td>I have tried coated strings in the past ( incl...</td>\n",
       "      <td></td>\n",
       "      <td></td>\n",
       "    </tr>\n",
       "    <tr>\n",
       "      <th>10259</th>\n",
       "      <td>4.0</td>\n",
       "      <td>Well, MADE by Elixir and DEVELOPED with Taylor...</td>\n",
       "      <td></td>\n",
       "      <td></td>\n",
       "    </tr>\n",
       "    <tr>\n",
       "      <th>10260</th>\n",
       "      <td>4.0</td>\n",
       "      <td>These strings are really quite good, but I wou...</td>\n",
       "      <td></td>\n",
       "      <td></td>\n",
       "    </tr>\n",
       "  </tbody>\n",
       "</table>\n",
       "<p>10261 rows × 4 columns</p>\n",
       "</div>"
      ],
      "text/plain": [
       "       overall                                       feedbackText sentiment  \\\n",
       "0          5.0  Not much to write about here, but it does exac...             \n",
       "1          5.0  The product does exactly as it should and is q...             \n",
       "2          5.0  The primary job of this device is to block the...             \n",
       "3          5.0  Nice windscreen protects my MXL mic and preven...             \n",
       "4          5.0  This pop filter is great. It looks and perform...             \n",
       "...        ...                                                ...       ...   \n",
       "10256      5.0  Great, just as expected.  Thank to all. Five S...             \n",
       "10257      5.0  I've been thinking about trying the Nanoweb st...             \n",
       "10258      4.0  I have tried coated strings in the past ( incl...             \n",
       "10259      4.0  Well, MADE by Elixir and DEVELOPED with Taylor...             \n",
       "10260      4.0  These strings are really quite good, but I wou...             \n",
       "\n",
       "      sentimentScore  \n",
       "0                     \n",
       "1                     \n",
       "2                     \n",
       "3                     \n",
       "4                     \n",
       "...              ...  \n",
       "10256                 \n",
       "10257                 \n",
       "10258                 \n",
       "10259                 \n",
       "10260                 \n",
       "\n",
       "[10261 rows x 4 columns]"
      ]
     },
     "execution_count": 15,
     "metadata": {},
     "output_type": "execute_result"
    }
   ],
   "source": [
    "# Display DataFrame with two new features\n",
    "df_feedback"
   ]
  },
  {
   "cell_type": "markdown",
   "metadata": {},
   "source": [
    "### Sentiment Analysis - Method 1 - Using VADER"
   ]
  },
  {
   "cell_type": "code",
   "execution_count": 16,
   "metadata": {},
   "outputs": [],
   "source": [
    "# Find the Sentiment Analysis using VADER for each record in the DataFrame\n",
    "\n",
    "# Create a VADER SentimentIntensityAnalyzer object.\n",
    "sid_obj = SentimentIntensityAnalyzer()\n",
    "\n",
    "# Loop through each record in the DataFrame\n",
    "for index, row in df_feedback.iterrows():\n",
    "\n",
    "    # polarity_scores method of SentimentIntensityAnalyzer\n",
    "    # object gives a sentiment dictionary.\n",
    "    # which contains pos, neg, neu, and compound scores.    \n",
    "    sentiment_dict = sid_obj.polarity_scores(row['feedbackText'])\n",
    "    \n",
    "    # decide sentiment as positive, negative and neutral\n",
    "    # sentiment - sentiment data (pos - Postive, neg - Negative, neu - Neutral)\n",
    "    # sentimentScore - measure sentiment (2 for Postive, 0 for Negative and 0 for Neutral)\n",
    "    if sentiment_dict['compound'] >= 0.05:\n",
    "        df_feedback.at[index, 'sentiment'] = \"pos\"\n",
    "        df_feedback.at[index, 'sentimentScore'] = 2\n",
    "    elif sentiment_dict['compound'] <= - 0.05:\n",
    "        df_feedback.at[index, 'sentiment'] = \"neg\"\n",
    "        df_feedback.at[index, 'sentimentScore'] = 0 \n",
    "    else:\n",
    "        df_feedback.at[index, 'sentiment'] = \"neu\"\n",
    "        df_feedback.at[index, 'sentimentScore'] = 1"
   ]
  },
  {
   "cell_type": "code",
   "execution_count": 17,
   "metadata": {},
   "outputs": [
    {
     "data": {
      "text/html": [
       "<div>\n",
       "<style scoped>\n",
       "    .dataframe tbody tr th:only-of-type {\n",
       "        vertical-align: middle;\n",
       "    }\n",
       "\n",
       "    .dataframe tbody tr th {\n",
       "        vertical-align: top;\n",
       "    }\n",
       "\n",
       "    .dataframe thead th {\n",
       "        text-align: right;\n",
       "    }\n",
       "</style>\n",
       "<table border=\"1\" class=\"dataframe\">\n",
       "  <thead>\n",
       "    <tr style=\"text-align: right;\">\n",
       "      <th></th>\n",
       "      <th>overall</th>\n",
       "      <th>feedbackText</th>\n",
       "      <th>sentiment</th>\n",
       "      <th>sentimentScore</th>\n",
       "    </tr>\n",
       "  </thead>\n",
       "  <tbody>\n",
       "    <tr>\n",
       "      <th>0</th>\n",
       "      <td>5.0</td>\n",
       "      <td>Not much to write about here, but it does exac...</td>\n",
       "      <td>pos</td>\n",
       "      <td>2</td>\n",
       "    </tr>\n",
       "    <tr>\n",
       "      <th>1</th>\n",
       "      <td>5.0</td>\n",
       "      <td>The product does exactly as it should and is q...</td>\n",
       "      <td>pos</td>\n",
       "      <td>2</td>\n",
       "    </tr>\n",
       "    <tr>\n",
       "      <th>2</th>\n",
       "      <td>5.0</td>\n",
       "      <td>The primary job of this device is to block the...</td>\n",
       "      <td>neg</td>\n",
       "      <td>0</td>\n",
       "    </tr>\n",
       "    <tr>\n",
       "      <th>3</th>\n",
       "      <td>5.0</td>\n",
       "      <td>Nice windscreen protects my MXL mic and preven...</td>\n",
       "      <td>pos</td>\n",
       "      <td>2</td>\n",
       "    </tr>\n",
       "    <tr>\n",
       "      <th>4</th>\n",
       "      <td>5.0</td>\n",
       "      <td>This pop filter is great. It looks and perform...</td>\n",
       "      <td>pos</td>\n",
       "      <td>2</td>\n",
       "    </tr>\n",
       "    <tr>\n",
       "      <th>...</th>\n",
       "      <td>...</td>\n",
       "      <td>...</td>\n",
       "      <td>...</td>\n",
       "      <td>...</td>\n",
       "    </tr>\n",
       "    <tr>\n",
       "      <th>10256</th>\n",
       "      <td>5.0</td>\n",
       "      <td>Great, just as expected.  Thank to all. Five S...</td>\n",
       "      <td>pos</td>\n",
       "      <td>2</td>\n",
       "    </tr>\n",
       "    <tr>\n",
       "      <th>10257</th>\n",
       "      <td>5.0</td>\n",
       "      <td>I've been thinking about trying the Nanoweb st...</td>\n",
       "      <td>pos</td>\n",
       "      <td>2</td>\n",
       "    </tr>\n",
       "    <tr>\n",
       "      <th>10258</th>\n",
       "      <td>4.0</td>\n",
       "      <td>I have tried coated strings in the past ( incl...</td>\n",
       "      <td>pos</td>\n",
       "      <td>2</td>\n",
       "    </tr>\n",
       "    <tr>\n",
       "      <th>10259</th>\n",
       "      <td>4.0</td>\n",
       "      <td>Well, MADE by Elixir and DEVELOPED with Taylor...</td>\n",
       "      <td>pos</td>\n",
       "      <td>2</td>\n",
       "    </tr>\n",
       "    <tr>\n",
       "      <th>10260</th>\n",
       "      <td>4.0</td>\n",
       "      <td>These strings are really quite good, but I wou...</td>\n",
       "      <td>pos</td>\n",
       "      <td>2</td>\n",
       "    </tr>\n",
       "  </tbody>\n",
       "</table>\n",
       "<p>10261 rows × 4 columns</p>\n",
       "</div>"
      ],
      "text/plain": [
       "       overall                                       feedbackText sentiment  \\\n",
       "0          5.0  Not much to write about here, but it does exac...       pos   \n",
       "1          5.0  The product does exactly as it should and is q...       pos   \n",
       "2          5.0  The primary job of this device is to block the...       neg   \n",
       "3          5.0  Nice windscreen protects my MXL mic and preven...       pos   \n",
       "4          5.0  This pop filter is great. It looks and perform...       pos   \n",
       "...        ...                                                ...       ...   \n",
       "10256      5.0  Great, just as expected.  Thank to all. Five S...       pos   \n",
       "10257      5.0  I've been thinking about trying the Nanoweb st...       pos   \n",
       "10258      4.0  I have tried coated strings in the past ( incl...       pos   \n",
       "10259      4.0  Well, MADE by Elixir and DEVELOPED with Taylor...       pos   \n",
       "10260      4.0  These strings are really quite good, but I wou...       pos   \n",
       "\n",
       "      sentimentScore  \n",
       "0                  2  \n",
       "1                  2  \n",
       "2                  0  \n",
       "3                  2  \n",
       "4                  2  \n",
       "...              ...  \n",
       "10256              2  \n",
       "10257              2  \n",
       "10258              2  \n",
       "10259              2  \n",
       "10260              2  \n",
       "\n",
       "[10261 rows x 4 columns]"
      ]
     },
     "execution_count": 17,
     "metadata": {},
     "output_type": "execute_result"
    }
   ],
   "source": [
    "# Display the DataFrame with Sentiment Data\n",
    "df_feedback"
   ]
  },
  {
   "cell_type": "code",
   "execution_count": 18,
   "metadata": {},
   "outputs": [
    {
     "data": {
      "text/plain": [
       "2    91.833155\n",
       "0     6.656271\n",
       "1     1.510574\n",
       "Name: sentimentScore, dtype: float64"
      ]
     },
     "execution_count": 18,
     "metadata": {},
     "output_type": "execute_result"
    }
   ],
   "source": [
    "# Determine percentage of Postive, Negative and Neutral Reviews\n",
    "df_feedback.sentimentScore.value_counts(normalize=True)*100"
   ]
  },
  {
   "cell_type": "markdown",
   "metadata": {},
   "source": [
    "#### There are 92% positive reviews and only 6.65% with negative reviews."
   ]
  },
  {
   "cell_type": "code",
   "execution_count": 19,
   "metadata": {},
   "outputs": [
    {
     "data": {
      "image/png": "[encoded data removed]",
      "text/plain": [
       "<Figure size 720x432 with 1 Axes>"
      ]
     },
     "metadata": {},
     "output_type": "display_data"
    }
   ],
   "source": [
    "# Plot Sentiment Analysis - Percentages\n",
    "plt.figure(figsize=(10,6))\n",
    "colors=['#99ff99','#ff9999','#66b3ff']\n",
    " \n",
    "plt.pie(df_feedback['sentimentScore'].value_counts(normalize=True),colors=colors,labels=['Positive','Negative','Neutral'],autopct='%1.2f%%',shadow=True)\n",
    "plt.title('Sentiment Analysis using VADER',fontsize=20)\n",
    "\n",
    "plt.show()"
   ]
  },
  {
   "cell_type": "markdown",
   "metadata": {},
   "source": [
    "### Sentiment Analysis - Method 2 - Using textblob and NaiveBayesAnalyzer"
   ]
  },
  {
   "cell_type": "code",
   "execution_count": 20,
   "metadata": {},
   "outputs": [],
   "source": [
    "# Find the Sentiment Analysis using textBlob Blobber for each record in the DataFrame\n",
    "tb = Blobber(analyzer=NaiveBayesAnalyzer())\n",
    "for index, row in df_feedback.iterrows():\n",
    "    blob = tb(row['feedbackText'])\n",
    "    sentiment = blob.sentiment.classification\n",
    "    # sentiment - sentiment data (pos - Postive, neg - Negative)\n",
    "    # sentimentScore - measure sentiment (1 for Postive, 0 for Negative)    \n",
    "    if sentiment == \"pos\":\n",
    "        df_feedback.at[index, 'sentiment'] = \"pos\"\n",
    "        df_feedback.at[index, 'sentimentScore'] = 1\n",
    "    elif sentiment == \"neg\":\n",
    "        df_feedback.at[index, 'sentiment'] = \"neg\"\n",
    "        df_feedback.at[index, 'sentimentScore'] = 0"
   ]
  },
  {
   "cell_type": "code",
   "execution_count": 21,
   "metadata": {},
   "outputs": [
    {
     "data": {
      "text/html": [
       "<div>\n",
       "<style scoped>\n",
       "    .dataframe tbody tr th:only-of-type {\n",
       "        vertical-align: middle;\n",
       "    }\n",
       "\n",
       "    .dataframe tbody tr th {\n",
       "        vertical-align: top;\n",
       "    }\n",
       "\n",
       "    .dataframe thead th {\n",
       "        text-align: right;\n",
       "    }\n",
       "</style>\n",
       "<table border=\"1\" class=\"dataframe\">\n",
       "  <thead>\n",
       "    <tr style=\"text-align: right;\">\n",
       "      <th></th>\n",
       "      <th>overall</th>\n",
       "      <th>feedbackText</th>\n",
       "      <th>sentiment</th>\n",
       "      <th>sentimentScore</th>\n",
       "    </tr>\n",
       "  </thead>\n",
       "  <tbody>\n",
       "    <tr>\n",
       "      <th>0</th>\n",
       "      <td>5.0</td>\n",
       "      <td>Not much to write about here, but it does exac...</td>\n",
       "      <td>neg</td>\n",
       "      <td>0</td>\n",
       "    </tr>\n",
       "    <tr>\n",
       "      <th>1</th>\n",
       "      <td>5.0</td>\n",
       "      <td>The product does exactly as it should and is q...</td>\n",
       "      <td>pos</td>\n",
       "      <td>1</td>\n",
       "    </tr>\n",
       "    <tr>\n",
       "      <th>2</th>\n",
       "      <td>5.0</td>\n",
       "      <td>The primary job of this device is to block the...</td>\n",
       "      <td>pos</td>\n",
       "      <td>1</td>\n",
       "    </tr>\n",
       "    <tr>\n",
       "      <th>3</th>\n",
       "      <td>5.0</td>\n",
       "      <td>Nice windscreen protects my MXL mic and preven...</td>\n",
       "      <td>neg</td>\n",
       "      <td>0</td>\n",
       "    </tr>\n",
       "    <tr>\n",
       "      <th>4</th>\n",
       "      <td>5.0</td>\n",
       "      <td>This pop filter is great. It looks and perform...</td>\n",
       "      <td>pos</td>\n",
       "      <td>1</td>\n",
       "    </tr>\n",
       "    <tr>\n",
       "      <th>...</th>\n",
       "      <td>...</td>\n",
       "      <td>...</td>\n",
       "      <td>...</td>\n",
       "      <td>...</td>\n",
       "    </tr>\n",
       "    <tr>\n",
       "      <th>10256</th>\n",
       "      <td>5.0</td>\n",
       "      <td>Great, just as expected.  Thank to all. Five S...</td>\n",
       "      <td>neg</td>\n",
       "      <td>0</td>\n",
       "    </tr>\n",
       "    <tr>\n",
       "      <th>10257</th>\n",
       "      <td>5.0</td>\n",
       "      <td>I've been thinking about trying the Nanoweb st...</td>\n",
       "      <td>pos</td>\n",
       "      <td>1</td>\n",
       "    </tr>\n",
       "    <tr>\n",
       "      <th>10258</th>\n",
       "      <td>4.0</td>\n",
       "      <td>I have tried coated strings in the past ( incl...</td>\n",
       "      <td>pos</td>\n",
       "      <td>1</td>\n",
       "    </tr>\n",
       "    <tr>\n",
       "      <th>10259</th>\n",
       "      <td>4.0</td>\n",
       "      <td>Well, MADE by Elixir and DEVELOPED with Taylor...</td>\n",
       "      <td>pos</td>\n",
       "      <td>1</td>\n",
       "    </tr>\n",
       "    <tr>\n",
       "      <th>10260</th>\n",
       "      <td>4.0</td>\n",
       "      <td>These strings are really quite good, but I wou...</td>\n",
       "      <td>pos</td>\n",
       "      <td>1</td>\n",
       "    </tr>\n",
       "  </tbody>\n",
       "</table>\n",
       "<p>10261 rows × 4 columns</p>\n",
       "</div>"
      ],
      "text/plain": [
       "       overall                                       feedbackText sentiment  \\\n",
       "0          5.0  Not much to write about here, but it does exac...       neg   \n",
       "1          5.0  The product does exactly as it should and is q...       pos   \n",
       "2          5.0  The primary job of this device is to block the...       pos   \n",
       "3          5.0  Nice windscreen protects my MXL mic and preven...       neg   \n",
       "4          5.0  This pop filter is great. It looks and perform...       pos   \n",
       "...        ...                                                ...       ...   \n",
       "10256      5.0  Great, just as expected.  Thank to all. Five S...       neg   \n",
       "10257      5.0  I've been thinking about trying the Nanoweb st...       pos   \n",
       "10258      4.0  I have tried coated strings in the past ( incl...       pos   \n",
       "10259      4.0  Well, MADE by Elixir and DEVELOPED with Taylor...       pos   \n",
       "10260      4.0  These strings are really quite good, but I wou...       pos   \n",
       "\n",
       "      sentimentScore  \n",
       "0                  0  \n",
       "1                  1  \n",
       "2                  1  \n",
       "3                  0  \n",
       "4                  1  \n",
       "...              ...  \n",
       "10256              0  \n",
       "10257              1  \n",
       "10258              1  \n",
       "10259              1  \n",
       "10260              1  \n",
       "\n",
       "[10261 rows x 4 columns]"
      ]
     },
     "execution_count": 21,
     "metadata": {},
     "output_type": "execute_result"
    }
   ],
   "source": [
    "# Display the DataFrame with Sentiment Data\n",
    "df_feedback"
   ]
  },
  {
   "cell_type": "code",
   "execution_count": 22,
   "metadata": {},
   "outputs": [
    {
     "data": {
      "text/plain": [
       "1    82.711237\n",
       "0    17.288763\n",
       "Name: sentimentScore, dtype: float64"
      ]
     },
     "execution_count": 22,
     "metadata": {},
     "output_type": "execute_result"
    }
   ],
   "source": [
    "# Determine percentage of Postive, Negative Reviews\n",
    "df_feedback.sentimentScore.value_counts(normalize=True)*100"
   ]
  },
  {
   "cell_type": "markdown",
   "metadata": {},
   "source": [
    "#### There are 83% positive reviews and 17% with negative reviews. Neutral category is not considered in textblob, which causes Negative Review category percentage to go up."
   ]
  },
  {
   "cell_type": "code",
   "execution_count": 23,
   "metadata": {},
   "outputs": [
    {
     "data": {
      "image/png": "[encoded data removed]",
      "text/plain": [
       "<Figure size 720x432 with 1 Axes>"
      ]
     },
     "metadata": {},
     "output_type": "display_data"
    }
   ],
   "source": [
    "# Plot Sentiment Analysis - Percentages\n",
    "plt.figure(figsize=(10,6))\n",
    "#colors=['#99ff99','#ff9999']\n",
    " \n",
    "plt.pie(df_feedback['sentimentScore'].value_counts(normalize=True),labels=['Positive','Negative'],autopct='%1.2f%%',shadow=True)\n",
    "plt.title('Sentiment Analysis using  textblob and NaiveBayesAnalyzer',fontsize=20)\n",
    "\n",
    "plt.show()"
   ]
  },
  {
   "cell_type": "markdown",
   "metadata": {},
   "source": [
    "### Sentiment Analysis - Method 3 - Based on Overall Rating Score"
   ]
  },
  {
   "cell_type": "code",
   "execution_count": 24,
   "metadata": {},
   "outputs": [],
   "source": [
    "# Map overall rating values to measure the sentiment (sentimentScore)\n",
    "\n",
    "# overall sentimentScore\n",
    "#    5        2\n",
    "#    4        2\n",
    "#    3        1\n",
    "#    2        0\n",
    "#    1        0\n",
    "\n",
    "# Sentiment 2 - Positive\n",
    "# Sentiment 1 - Neutral\n",
    "# Sentiment 0 - Negative\n",
    "\n",
    "# sentiment feature is not needed. Drop the column - sentiment\n",
    "df_feedback = df_feedback.drop(['sentiment'],axis=1)\n",
    "\n",
    "# Mapping is done on sentimentScore                                \n",
    "df_feedback['sentimentScore'] = df_feedback['overall'].map({5:2,4:2,3:1,2:0,1:0})   "
   ]
  },
  {
   "cell_type": "code",
   "execution_count": 25,
   "metadata": {},
   "outputs": [
    {
     "data": {
      "text/html": [
       "<div>\n",
       "<style scoped>\n",
       "    .dataframe tbody tr th:only-of-type {\n",
       "        vertical-align: middle;\n",
       "    }\n",
       "\n",
       "    .dataframe tbody tr th {\n",
       "        vertical-align: top;\n",
       "    }\n",
       "\n",
       "    .dataframe thead th {\n",
       "        text-align: right;\n",
       "    }\n",
       "</style>\n",
       "<table border=\"1\" class=\"dataframe\">\n",
       "  <thead>\n",
       "    <tr style=\"text-align: right;\">\n",
       "      <th></th>\n",
       "      <th>overall</th>\n",
       "      <th>feedbackText</th>\n",
       "      <th>sentimentScore</th>\n",
       "    </tr>\n",
       "  </thead>\n",
       "  <tbody>\n",
       "    <tr>\n",
       "      <th>0</th>\n",
       "      <td>5.0</td>\n",
       "      <td>Not much to write about here, but it does exac...</td>\n",
       "      <td>2</td>\n",
       "    </tr>\n",
       "    <tr>\n",
       "      <th>1</th>\n",
       "      <td>5.0</td>\n",
       "      <td>The product does exactly as it should and is q...</td>\n",
       "      <td>2</td>\n",
       "    </tr>\n",
       "    <tr>\n",
       "      <th>2</th>\n",
       "      <td>5.0</td>\n",
       "      <td>The primary job of this device is to block the...</td>\n",
       "      <td>2</td>\n",
       "    </tr>\n",
       "    <tr>\n",
       "      <th>3</th>\n",
       "      <td>5.0</td>\n",
       "      <td>Nice windscreen protects my MXL mic and preven...</td>\n",
       "      <td>2</td>\n",
       "    </tr>\n",
       "    <tr>\n",
       "      <th>4</th>\n",
       "      <td>5.0</td>\n",
       "      <td>This pop filter is great. It looks and perform...</td>\n",
       "      <td>2</td>\n",
       "    </tr>\n",
       "    <tr>\n",
       "      <th>...</th>\n",
       "      <td>...</td>\n",
       "      <td>...</td>\n",
       "      <td>...</td>\n",
       "    </tr>\n",
       "    <tr>\n",
       "      <th>10256</th>\n",
       "      <td>5.0</td>\n",
       "      <td>Great, just as expected.  Thank to all. Five S...</td>\n",
       "      <td>2</td>\n",
       "    </tr>\n",
       "    <tr>\n",
       "      <th>10257</th>\n",
       "      <td>5.0</td>\n",
       "      <td>I've been thinking about trying the Nanoweb st...</td>\n",
       "      <td>2</td>\n",
       "    </tr>\n",
       "    <tr>\n",
       "      <th>10258</th>\n",
       "      <td>4.0</td>\n",
       "      <td>I have tried coated strings in the past ( incl...</td>\n",
       "      <td>2</td>\n",
       "    </tr>\n",
       "    <tr>\n",
       "      <th>10259</th>\n",
       "      <td>4.0</td>\n",
       "      <td>Well, MADE by Elixir and DEVELOPED with Taylor...</td>\n",
       "      <td>2</td>\n",
       "    </tr>\n",
       "    <tr>\n",
       "      <th>10260</th>\n",
       "      <td>4.0</td>\n",
       "      <td>These strings are really quite good, but I wou...</td>\n",
       "      <td>2</td>\n",
       "    </tr>\n",
       "  </tbody>\n",
       "</table>\n",
       "<p>10261 rows × 3 columns</p>\n",
       "</div>"
      ],
      "text/plain": [
       "       overall                                       feedbackText  \\\n",
       "0          5.0  Not much to write about here, but it does exac...   \n",
       "1          5.0  The product does exactly as it should and is q...   \n",
       "2          5.0  The primary job of this device is to block the...   \n",
       "3          5.0  Nice windscreen protects my MXL mic and preven...   \n",
       "4          5.0  This pop filter is great. It looks and perform...   \n",
       "...        ...                                                ...   \n",
       "10256      5.0  Great, just as expected.  Thank to all. Five S...   \n",
       "10257      5.0  I've been thinking about trying the Nanoweb st...   \n",
       "10258      4.0  I have tried coated strings in the past ( incl...   \n",
       "10259      4.0  Well, MADE by Elixir and DEVELOPED with Taylor...   \n",
       "10260      4.0  These strings are really quite good, but I wou...   \n",
       "\n",
       "       sentimentScore  \n",
       "0                   2  \n",
       "1                   2  \n",
       "2                   2  \n",
       "3                   2  \n",
       "4                   2  \n",
       "...               ...  \n",
       "10256               2  \n",
       "10257               2  \n",
       "10258               2  \n",
       "10259               2  \n",
       "10260               2  \n",
       "\n",
       "[10261 rows x 3 columns]"
      ]
     },
     "execution_count": 25,
     "metadata": {},
     "output_type": "execute_result"
    }
   ],
   "source": [
    "# Display the DataFrame with Sentiment Data\n",
    "df_feedback"
   ]
  },
  {
   "cell_type": "code",
   "execution_count": 26,
   "metadata": {},
   "outputs": [
    {
     "data": {
      "text/plain": [
       "2    87.925153\n",
       "1     7.523633\n",
       "0     4.551213\n",
       "Name: sentimentScore, dtype: float64"
      ]
     },
     "execution_count": 26,
     "metadata": {},
     "output_type": "execute_result"
    }
   ],
   "source": [
    "# Determine percentage of Postive, Negative, Neutral Reviews\n",
    "df_feedback.sentimentScore.value_counts(normalize=True)*100"
   ]
  },
  {
   "cell_type": "markdown",
   "metadata": {},
   "source": [
    "#### There are 88% positive reviews and only 4.5% with negative reviews."
   ]
  },
  {
   "cell_type": "code",
   "execution_count": 27,
   "metadata": {},
   "outputs": [
    {
     "name": "stderr",
     "output_type": "stream",
     "text": [
      "<ipython-input-27-1a24b55054f6>:14: MatplotlibDeprecationWarning: Non-1D inputs to pie() are currently squeeze()d, but this behavior is deprecated since 3.1 and will be removed in 3.3; pass a 1D array instead.\n",
      "  plt.pie(sizes, labels=labels, colors=colors, startangle=90,frame=True,explode=explode)\n",
      "<ipython-input-27-1a24b55054f6>:15: MatplotlibDeprecationWarning: Non-1D inputs to pie() are currently squeeze()d, but this behavior is deprecated since 3.1 and will be removed in 3.3; pass a 1D array instead.\n",
      "  plt.pie(sizes_rating,labels=labels_rating,colors=colors_rating,radius=0.75,startangle=90,explode=explode_ratings)\n"
     ]
    },
    {
     "data": {
      "image/png": "[encoded data removed]",
      "text/plain": [
       "<Figure size 432x288 with 1 Axes>"
      ]
     },
     "metadata": {},
     "output_type": "display_data"
    }
   ],
   "source": [
    "# Data to plot\n",
    "labels=['Positive','Neutral','Negative']\n",
    "sizes = [df_feedback['sentimentScore'].value_counts(normalize=True)]\n",
    "labels_rating = ['5','4','3','2','1']\n",
    "sizes_rating = [df_feedback['overall'].value_counts(normalize=True)]\n",
    "#colors = ['olive','lightcoral']\n",
    "#colors_rating = ['blue','cyan', 'purple','gray']\n",
    "colors_rating=sns.color_palette(\"BuGn_r\")\n",
    "colors=sns.color_palette(\"PuRd\")\n",
    "explode = (0.1,0.1,0.1) \n",
    "explode_ratings = (0.1,0.1,0.1,0.1,0.1)\n",
    "\n",
    "# Plot Sentiment Analysis - Overall Ratings\n",
    "plt.pie(sizes, labels=labels, colors=colors, startangle=90,frame=True,explode=explode)\n",
    "plt.pie(sizes_rating,labels=labels_rating,colors=colors_rating,radius=0.75,startangle=90,explode=explode_ratings)\n",
    "centre_circle = plt.Circle((0,0),0.5,color='black', fc='white',linewidth=0)\n",
    "fig = plt.gcf()\n",
    "fig.gca().add_artist(centre_circle)\n",
    " \n",
    "plt.axis('equal')\n",
    "plt.tight_layout()\n",
    "plt.show()"
   ]
  },
  {
   "cell_type": "code",
   "execution_count": 28,
   "metadata": {},
   "outputs": [
    {
     "data": {
      "image/png": "[encoded data removed]",
      "text/plain": [
       "<Figure size 720x432 with 1 Axes>"
      ]
     },
     "metadata": {},
     "output_type": "display_data"
    }
   ],
   "source": [
    "# Plot Sentiment Analysis - Percentages\n",
    "plt.figure(figsize=(10,6))\n",
    "colors=['olive','yellow','lightcoral']\n",
    " \n",
    "plt.pie(df_feedback['sentimentScore'].value_counts(normalize=True),colors=colors,labels=['Positive','Neutral','Negative'],autopct='%1.2f%%',shadow=True)\n",
    "plt.title('Sentiment Analysis based on Overall Rating Score',fontsize=20)\n",
    "\n",
    "plt.show()"
   ]
  },
  {
   "cell_type": "markdown",
   "metadata": {},
   "source": [
    "## Feature Engineering"
   ]
  },
  {
   "cell_type": "markdown",
   "metadata": {},
   "source": [
    "### Make raw data ready for modeling"
   ]
  },
  {
   "cell_type": "code",
   "execution_count": 29,
   "metadata": {},
   "outputs": [],
   "source": [
    "# Define function to perform below text cleaning\n",
    "# Make text lowercase\n",
    "# Remove text in square brackets\n",
    "# Remove links\n",
    "# Remove special characters\n",
    "# Remove words containing numbers\n",
    "# Remove punctuation\n",
    "\n",
    "def text_cleaning(text):\n",
    "\n",
    "    text = text.lower()\n",
    "    text = re.sub('\\[.*?\\]', '', text)\n",
    "    text = re.sub(\"\\\\W\",\" \",text) # remove special chars\n",
    "    text = re.sub('https?://\\S+|www\\.\\S+', '', text)\n",
    "    text = re.sub('<.*?>+', '', text)\n",
    "    text = re.sub('[%s]' % re.escape(string.punctuation), '', text)\n",
    "    text = re.sub('\\n', '', text)\n",
    "    text = re.sub('\\w*\\d\\w*', '', text)\n",
    "    \n",
    "    return text"
   ]
  },
  {
   "cell_type": "code",
   "execution_count": 30,
   "metadata": {},
   "outputs": [],
   "source": [
    "# Apply text cleaning function to the DataFrame\n",
    "df_feedback['feedbackText'] = df_feedback['feedbackText'].apply(text_cleaning)"
   ]
  },
  {
   "cell_type": "code",
   "execution_count": 31,
   "metadata": {},
   "outputs": [
    {
     "data": {
      "text/html": [
       "<div>\n",
       "<style scoped>\n",
       "    .dataframe tbody tr th:only-of-type {\n",
       "        vertical-align: middle;\n",
       "    }\n",
       "\n",
       "    .dataframe tbody tr th {\n",
       "        vertical-align: top;\n",
       "    }\n",
       "\n",
       "    .dataframe thead th {\n",
       "        text-align: right;\n",
       "    }\n",
       "</style>\n",
       "<table border=\"1\" class=\"dataframe\">\n",
       "  <thead>\n",
       "    <tr style=\"text-align: right;\">\n",
       "      <th></th>\n",
       "      <th>overall</th>\n",
       "      <th>feedbackText</th>\n",
       "      <th>sentimentScore</th>\n",
       "    </tr>\n",
       "  </thead>\n",
       "  <tbody>\n",
       "    <tr>\n",
       "      <th>0</th>\n",
       "      <td>5.0</td>\n",
       "      <td>not much to write about here  but it does exac...</td>\n",
       "      <td>2</td>\n",
       "    </tr>\n",
       "    <tr>\n",
       "      <th>1</th>\n",
       "      <td>5.0</td>\n",
       "      <td>the product does exactly as it should and is q...</td>\n",
       "      <td>2</td>\n",
       "    </tr>\n",
       "    <tr>\n",
       "      <th>2</th>\n",
       "      <td>5.0</td>\n",
       "      <td>the primary job of this device is to block the...</td>\n",
       "      <td>2</td>\n",
       "    </tr>\n",
       "    <tr>\n",
       "      <th>3</th>\n",
       "      <td>5.0</td>\n",
       "      <td>nice windscreen protects my mxl mic and preven...</td>\n",
       "      <td>2</td>\n",
       "    </tr>\n",
       "    <tr>\n",
       "      <th>4</th>\n",
       "      <td>5.0</td>\n",
       "      <td>this pop filter is great  it looks and perform...</td>\n",
       "      <td>2</td>\n",
       "    </tr>\n",
       "    <tr>\n",
       "      <th>...</th>\n",
       "      <td>...</td>\n",
       "      <td>...</td>\n",
       "      <td>...</td>\n",
       "    </tr>\n",
       "    <tr>\n",
       "      <th>10256</th>\n",
       "      <td>5.0</td>\n",
       "      <td>great  just as expected   thank to all  five s...</td>\n",
       "      <td>2</td>\n",
       "    </tr>\n",
       "    <tr>\n",
       "      <th>10257</th>\n",
       "      <td>5.0</td>\n",
       "      <td>i ve been thinking about trying the nanoweb st...</td>\n",
       "      <td>2</td>\n",
       "    </tr>\n",
       "    <tr>\n",
       "      <th>10258</th>\n",
       "      <td>4.0</td>\n",
       "      <td>i have tried coated strings in the past   incl...</td>\n",
       "      <td>2</td>\n",
       "    </tr>\n",
       "    <tr>\n",
       "      <th>10259</th>\n",
       "      <td>4.0</td>\n",
       "      <td>well  made by elixir and developed with taylor...</td>\n",
       "      <td>2</td>\n",
       "    </tr>\n",
       "    <tr>\n",
       "      <th>10260</th>\n",
       "      <td>4.0</td>\n",
       "      <td>these strings are really quite good  but i wou...</td>\n",
       "      <td>2</td>\n",
       "    </tr>\n",
       "  </tbody>\n",
       "</table>\n",
       "<p>10261 rows × 3 columns</p>\n",
       "</div>"
      ],
      "text/plain": [
       "       overall                                       feedbackText  \\\n",
       "0          5.0  not much to write about here  but it does exac...   \n",
       "1          5.0  the product does exactly as it should and is q...   \n",
       "2          5.0  the primary job of this device is to block the...   \n",
       "3          5.0  nice windscreen protects my mxl mic and preven...   \n",
       "4          5.0  this pop filter is great  it looks and perform...   \n",
       "...        ...                                                ...   \n",
       "10256      5.0  great  just as expected   thank to all  five s...   \n",
       "10257      5.0  i ve been thinking about trying the nanoweb st...   \n",
       "10258      4.0  i have tried coated strings in the past   incl...   \n",
       "10259      4.0  well  made by elixir and developed with taylor...   \n",
       "10260      4.0  these strings are really quite good  but i wou...   \n",
       "\n",
       "       sentimentScore  \n",
       "0                   2  \n",
       "1                   2  \n",
       "2                   2  \n",
       "3                   2  \n",
       "4                   2  \n",
       "...               ...  \n",
       "10256               2  \n",
       "10257               2  \n",
       "10258               2  \n",
       "10259               2  \n",
       "10260               2  \n",
       "\n",
       "[10261 rows x 3 columns]"
      ]
     },
     "execution_count": 31,
     "metadata": {},
     "output_type": "execute_result"
    }
   ],
   "source": [
    "# Display the cleaned data\n",
    "df_feedback"
   ]
  },
  {
   "cell_type": "markdown",
   "metadata": {},
   "source": [
    "### Vectorizing text data"
   ]
  },
  {
   "cell_type": "code",
   "execution_count": 32,
   "metadata": {},
   "outputs": [
    {
     "data": {
      "text/plain": [
       "(10261, 14561)"
      ]
     },
     "execution_count": 32,
     "metadata": {},
     "output_type": "execute_result"
    }
   ],
   "source": [
    "# TFIDF Vectorizer\n",
    "tfidf = TfidfVectorizer(sublinear_tf=True, min_df=5, norm='l2', encoding='latin-1', ngram_range=(1, 2), stop_words='english')\n",
    "featureCounts = tfidf.fit_transform(df_feedback.feedbackText)\n",
    "tfidf_transformer = TfidfTransformer()\n",
    "features = tfidf_transformer.fit_transform(featureCounts)\n",
    "labels = df_feedback.overall\n",
    "features.shape"
   ]
  },
  {
   "cell_type": "code",
   "execution_count": 33,
   "metadata": {},
   "outputs": [
    {
     "data": {
      "text/plain": [
       "(10261, 21446)"
      ]
     },
     "execution_count": 33,
     "metadata": {},
     "output_type": "execute_result"
    }
   ],
   "source": [
    "# Bag of Words\n",
    "vectorizer = CountVectorizer(min_df=10,ngram_range=(1,4))\n",
    "vectorizer.fit(df_feedback['feedbackText'].values) \n",
    "\n",
    "# Use the fitted CountVectorizer to convert the text to vector\n",
    "bow = vectorizer.transform(df_feedback['feedbackText'].values)\n",
    "\n",
    "bow.shape"
   ]
  },
  {
   "cell_type": "markdown",
   "metadata": {},
   "source": [
    "## Milestone 3 and 4 - Model Selection and Evaluation"
   ]
  },
  {
   "cell_type": "code",
   "execution_count": 77,
   "metadata": {},
   "outputs": [],
   "source": [
    "# Load necessary libraries\n",
    "import pandas as pd\n",
    "import numpy as np\n",
    "import matplotlib.pyplot as plt\n",
    "%matplotlib inline\n",
    "import seaborn as sns\n",
    "\n",
    "import nltk\n",
    "\n",
    "from nltk.tokenize import sent_tokenize\n",
    "from nltk.tokenize import word_tokenize\n",
    "from sklearn.feature_extraction.text import TfidfVectorizer\n",
    "from sklearn.feature_extraction.text import TfidfTransformer\n",
    "from sklearn.feature_extraction.text import CountVectorizer\n",
    "from sklearn.pipeline import Pipeline\n",
    "from scipy.stats import uniform\n",
    "from scipy import interp\n",
    "\n",
    "from sklearn.model_selection import train_test_split\n",
    "from sklearn.model_selection import RandomizedSearchCV\n",
    "from sklearn.model_selection import StratifiedKFold\n",
    "from sklearn.model_selection import cross_val_score\n",
    "from sklearn.model_selection import cross_validate\n",
    "from sklearn.model_selection import RepeatedStratifiedKFold\n",
    "\n",
    "from sklearn.metrics import accuracy_score\n",
    "from sklearn.metrics import f1_score\n",
    "from sklearn.metrics import confusion_matrix\n",
    "from sklearn.metrics import plot_confusion_matrix\n",
    "from sklearn.metrics import classification_report\n",
    "\n",
    "from sklearn.naive_bayes import MultinomialNB\n",
    "from sklearn.linear_model import LogisticRegression\n",
    "from sklearn.ensemble import RandomForestClassifier\n",
    "from sklearn.svm import LinearSVC\n",
    "from xgboost import XGBClassifier\n",
    "from sklearn.neural_network import MLPClassifier\n",
    "\n",
    "from sklearn.datasets import make_classification\n",
    "\n",
    "from yellowbrick.classifier import ConfusionMatrix\n",
    "from yellowbrick.classifier import ClassificationReport\n",
    "from yellowbrick.classifier import ROCAUC\n",
    "\n",
    "from sklearn import preprocessing\n",
    "from keras.preprocessing.text import Tokenizer\n",
    "\n",
    "import keras\n",
    "from keras.models import Sequential\n",
    "from keras.layers import Dense\n",
    "\n",
    "import re\n",
    "import string\n",
    "from numpy import mean\n",
    "from sklearn.utils import resample\n",
    "\n",
    "import warnings\n",
    "warnings.filterwarnings('ignore')"
   ]
  },
  {
   "cell_type": "code",
   "execution_count": 78,
   "metadata": {},
   "outputs": [],
   "source": [
    "# Load the dataset into the DataFrame\n",
    "df_feedback = pd.read_csv(\"Musical_instruments_reviews.csv\")"
   ]
  },
  {
   "cell_type": "code",
   "execution_count": 79,
   "metadata": {},
   "outputs": [
    {
     "data": {
      "text/html": [
       "<div>\n",
       "<style scoped>\n",
       "    .dataframe tbody tr th:only-of-type {\n",
       "        vertical-align: middle;\n",
       "    }\n",
       "\n",
       "    .dataframe tbody tr th {\n",
       "        vertical-align: top;\n",
       "    }\n",
       "\n",
       "    .dataframe thead th {\n",
       "        text-align: right;\n",
       "    }\n",
       "</style>\n",
       "<table border=\"1\" class=\"dataframe\">\n",
       "  <thead>\n",
       "    <tr style=\"text-align: right;\">\n",
       "      <th></th>\n",
       "      <th>reviewerID</th>\n",
       "      <th>asin</th>\n",
       "      <th>reviewerName</th>\n",
       "      <th>helpful</th>\n",
       "      <th>reviewText</th>\n",
       "      <th>overall</th>\n",
       "      <th>summary</th>\n",
       "      <th>unixReviewTime</th>\n",
       "      <th>reviewTime</th>\n",
       "    </tr>\n",
       "  </thead>\n",
       "  <tbody>\n",
       "    <tr>\n",
       "      <th>0</th>\n",
       "      <td>A2IBPI20UZIR0U</td>\n",
       "      <td>1384719342</td>\n",
       "      <td>cassandra tu \"Yeah, well, that's just like, u...</td>\n",
       "      <td>[0, 0]</td>\n",
       "      <td>Not much to write about here, but it does exac...</td>\n",
       "      <td>5.0</td>\n",
       "      <td>good</td>\n",
       "      <td>1393545600</td>\n",
       "      <td>02 28, 2014</td>\n",
       "    </tr>\n",
       "    <tr>\n",
       "      <th>1</th>\n",
       "      <td>A14VAT5EAX3D9S</td>\n",
       "      <td>1384719342</td>\n",
       "      <td>Jake</td>\n",
       "      <td>[13, 14]</td>\n",
       "      <td>The product does exactly as it should and is q...</td>\n",
       "      <td>5.0</td>\n",
       "      <td>Jake</td>\n",
       "      <td>1363392000</td>\n",
       "      <td>03 16, 2013</td>\n",
       "    </tr>\n",
       "    <tr>\n",
       "      <th>2</th>\n",
       "      <td>A195EZSQDW3E21</td>\n",
       "      <td>1384719342</td>\n",
       "      <td>Rick Bennette \"Rick Bennette\"</td>\n",
       "      <td>[1, 1]</td>\n",
       "      <td>The primary job of this device is to block the...</td>\n",
       "      <td>5.0</td>\n",
       "      <td>It Does The Job Well</td>\n",
       "      <td>1377648000</td>\n",
       "      <td>08 28, 2013</td>\n",
       "    </tr>\n",
       "    <tr>\n",
       "      <th>3</th>\n",
       "      <td>A2C00NNG1ZQQG2</td>\n",
       "      <td>1384719342</td>\n",
       "      <td>RustyBill \"Sunday Rocker\"</td>\n",
       "      <td>[0, 0]</td>\n",
       "      <td>Nice windscreen protects my MXL mic and preven...</td>\n",
       "      <td>5.0</td>\n",
       "      <td>GOOD WINDSCREEN FOR THE MONEY</td>\n",
       "      <td>1392336000</td>\n",
       "      <td>02 14, 2014</td>\n",
       "    </tr>\n",
       "    <tr>\n",
       "      <th>4</th>\n",
       "      <td>A94QU4C90B1AX</td>\n",
       "      <td>1384719342</td>\n",
       "      <td>SEAN MASLANKA</td>\n",
       "      <td>[0, 0]</td>\n",
       "      <td>This pop filter is great. It looks and perform...</td>\n",
       "      <td>5.0</td>\n",
       "      <td>No more pops when I record my vocals.</td>\n",
       "      <td>1392940800</td>\n",
       "      <td>02 21, 2014</td>\n",
       "    </tr>\n",
       "  </tbody>\n",
       "</table>\n",
       "</div>"
      ],
      "text/plain": [
       "       reviewerID        asin  \\\n",
       "0  A2IBPI20UZIR0U  1384719342   \n",
       "1  A14VAT5EAX3D9S  1384719342   \n",
       "2  A195EZSQDW3E21  1384719342   \n",
       "3  A2C00NNG1ZQQG2  1384719342   \n",
       "4   A94QU4C90B1AX  1384719342   \n",
       "\n",
       "                                       reviewerName   helpful  \\\n",
       "0  cassandra tu \"Yeah, well, that's just like, u...    [0, 0]   \n",
       "1                                              Jake  [13, 14]   \n",
       "2                     Rick Bennette \"Rick Bennette\"    [1, 1]   \n",
       "3                         RustyBill \"Sunday Rocker\"    [0, 0]   \n",
       "4                                     SEAN MASLANKA    [0, 0]   \n",
       "\n",
       "                                          reviewText  overall  \\\n",
       "0  Not much to write about here, but it does exac...      5.0   \n",
       "1  The product does exactly as it should and is q...      5.0   \n",
       "2  The primary job of this device is to block the...      5.0   \n",
       "3  Nice windscreen protects my MXL mic and preven...      5.0   \n",
       "4  This pop filter is great. It looks and perform...      5.0   \n",
       "\n",
       "                                 summary  unixReviewTime   reviewTime  \n",
       "0                                   good      1393545600  02 28, 2014  \n",
       "1                                   Jake      1363392000  03 16, 2013  \n",
       "2                   It Does The Job Well      1377648000  08 28, 2013  \n",
       "3          GOOD WINDSCREEN FOR THE MONEY      1392336000  02 14, 2014  \n",
       "4  No more pops when I record my vocals.      1392940800  02 21, 2014  "
      ]
     },
     "execution_count": 79,
     "metadata": {},
     "output_type": "execute_result"
    }
   ],
   "source": [
    "# Display the data\n",
    "df_feedback.head(5)"
   ]
  },
  {
   "cell_type": "code",
   "execution_count": 80,
   "metadata": {},
   "outputs": [
    {
     "data": {
      "text/plain": [
       "(10261, 9)"
      ]
     },
     "execution_count": 80,
     "metadata": {},
     "output_type": "execute_result"
    }
   ],
   "source": [
    "# Find the total number of rows (customer reviews) in DatFrame\n",
    "df_feedback.shape"
   ]
  },
  {
   "cell_type": "code",
   "execution_count": 81,
   "metadata": {},
   "outputs": [
    {
     "name": "stdout",
     "output_type": "stream",
     "text": [
      "reviewerID\n",
      "asin\n",
      "reviewerName\n",
      "helpful\n",
      "reviewText\n",
      "overall\n",
      "summary\n",
      "unixReviewTime\n",
      "reviewTime\n"
     ]
    }
   ],
   "source": [
    "# Display columns of the DataFrame\n",
    "# iterating through the columns\n",
    "for feedback_columns in df_feedback.columns:\n",
    "    print(feedback_columns)"
   ]
  },
  {
   "cell_type": "markdown",
   "metadata": {},
   "source": [
    "## Dimensionality / Feature Reduction"
   ]
  },
  {
   "cell_type": "code",
   "execution_count": 82,
   "metadata": {},
   "outputs": [],
   "source": [
    "# Drop the unnecessary features from the dataset\n",
    "df_feedback = df_feedback.drop(['reviewerID','asin','reviewerName','unixReviewTime','reviewTime','helpful'],axis=1)"
   ]
  },
  {
   "cell_type": "code",
   "execution_count": 83,
   "metadata": {},
   "outputs": [
    {
     "data": {
      "text/html": [
       "<div>\n",
       "<style scoped>\n",
       "    .dataframe tbody tr th:only-of-type {\n",
       "        vertical-align: middle;\n",
       "    }\n",
       "\n",
       "    .dataframe tbody tr th {\n",
       "        vertical-align: top;\n",
       "    }\n",
       "\n",
       "    .dataframe thead th {\n",
       "        text-align: right;\n",
       "    }\n",
       "</style>\n",
       "<table border=\"1\" class=\"dataframe\">\n",
       "  <thead>\n",
       "    <tr style=\"text-align: right;\">\n",
       "      <th></th>\n",
       "      <th>reviewText</th>\n",
       "      <th>overall</th>\n",
       "      <th>summary</th>\n",
       "    </tr>\n",
       "  </thead>\n",
       "  <tbody>\n",
       "    <tr>\n",
       "      <th>0</th>\n",
       "      <td>Not much to write about here, but it does exac...</td>\n",
       "      <td>5.0</td>\n",
       "      <td>good</td>\n",
       "    </tr>\n",
       "    <tr>\n",
       "      <th>1</th>\n",
       "      <td>The product does exactly as it should and is q...</td>\n",
       "      <td>5.0</td>\n",
       "      <td>Jake</td>\n",
       "    </tr>\n",
       "    <tr>\n",
       "      <th>2</th>\n",
       "      <td>The primary job of this device is to block the...</td>\n",
       "      <td>5.0</td>\n",
       "      <td>It Does The Job Well</td>\n",
       "    </tr>\n",
       "    <tr>\n",
       "      <th>3</th>\n",
       "      <td>Nice windscreen protects my MXL mic and preven...</td>\n",
       "      <td>5.0</td>\n",
       "      <td>GOOD WINDSCREEN FOR THE MONEY</td>\n",
       "    </tr>\n",
       "    <tr>\n",
       "      <th>4</th>\n",
       "      <td>This pop filter is great. It looks and perform...</td>\n",
       "      <td>5.0</td>\n",
       "      <td>No more pops when I record my vocals.</td>\n",
       "    </tr>\n",
       "    <tr>\n",
       "      <th>...</th>\n",
       "      <td>...</td>\n",
       "      <td>...</td>\n",
       "      <td>...</td>\n",
       "    </tr>\n",
       "    <tr>\n",
       "      <th>10256</th>\n",
       "      <td>Great, just as expected.  Thank to all.</td>\n",
       "      <td>5.0</td>\n",
       "      <td>Five Stars</td>\n",
       "    </tr>\n",
       "    <tr>\n",
       "      <th>10257</th>\n",
       "      <td>I've been thinking about trying the Nanoweb st...</td>\n",
       "      <td>5.0</td>\n",
       "      <td>Long life, and for some players, a good econom...</td>\n",
       "    </tr>\n",
       "    <tr>\n",
       "      <th>10258</th>\n",
       "      <td>I have tried coated strings in the past ( incl...</td>\n",
       "      <td>4.0</td>\n",
       "      <td>Good for coated.</td>\n",
       "    </tr>\n",
       "    <tr>\n",
       "      <th>10259</th>\n",
       "      <td>Well, MADE by Elixir and DEVELOPED with Taylor...</td>\n",
       "      <td>4.0</td>\n",
       "      <td>Taylor Made</td>\n",
       "    </tr>\n",
       "    <tr>\n",
       "      <th>10260</th>\n",
       "      <td>These strings are really quite good, but I wou...</td>\n",
       "      <td>4.0</td>\n",
       "      <td>These strings are really quite good, but I wou...</td>\n",
       "    </tr>\n",
       "  </tbody>\n",
       "</table>\n",
       "<p>10261 rows × 3 columns</p>\n",
       "</div>"
      ],
      "text/plain": [
       "                                              reviewText  overall  \\\n",
       "0      Not much to write about here, but it does exac...      5.0   \n",
       "1      The product does exactly as it should and is q...      5.0   \n",
       "2      The primary job of this device is to block the...      5.0   \n",
       "3      Nice windscreen protects my MXL mic and preven...      5.0   \n",
       "4      This pop filter is great. It looks and perform...      5.0   \n",
       "...                                                  ...      ...   \n",
       "10256            Great, just as expected.  Thank to all.      5.0   \n",
       "10257  I've been thinking about trying the Nanoweb st...      5.0   \n",
       "10258  I have tried coated strings in the past ( incl...      4.0   \n",
       "10259  Well, MADE by Elixir and DEVELOPED with Taylor...      4.0   \n",
       "10260  These strings are really quite good, but I wou...      4.0   \n",
       "\n",
       "                                                 summary  \n",
       "0                                                   good  \n",
       "1                                                   Jake  \n",
       "2                                   It Does The Job Well  \n",
       "3                          GOOD WINDSCREEN FOR THE MONEY  \n",
       "4                  No more pops when I record my vocals.  \n",
       "...                                                  ...  \n",
       "10256                                         Five Stars  \n",
       "10257  Long life, and for some players, a good econom...  \n",
       "10258                                   Good for coated.  \n",
       "10259                                        Taylor Made  \n",
       "10260  These strings are really quite good, but I wou...  \n",
       "\n",
       "[10261 rows x 3 columns]"
      ]
     },
     "execution_count": 83,
     "metadata": {},
     "output_type": "execute_result"
    }
   ],
   "source": [
    "# Display the data after Feature Reduction\n",
    "df_feedback"
   ]
  },
  {
   "cell_type": "markdown",
   "metadata": {},
   "source": [
    "### Address any missing data issues"
   ]
  },
  {
   "cell_type": "code",
   "execution_count": 84,
   "metadata": {},
   "outputs": [
    {
     "data": {
      "text/plain": [
       "reviewText    7\n",
       "overall       0\n",
       "summary       0\n",
       "dtype: int64"
      ]
     },
     "execution_count": 84,
     "metadata": {},
     "output_type": "execute_result"
    }
   ],
   "source": [
    "# Determine / Find missing values\n",
    "df_feedback.isnull().sum()"
   ]
  },
  {
   "cell_type": "code",
   "execution_count": 85,
   "metadata": {},
   "outputs": [],
   "source": [
    "# fill in the missing values\n",
    "df_feedback.reviewText.fillna(\"\",inplace = True)"
   ]
  },
  {
   "cell_type": "code",
   "execution_count": 86,
   "metadata": {},
   "outputs": [
    {
     "data": {
      "text/plain": [
       "reviewText    0\n",
       "overall       0\n",
       "summary       0\n",
       "dtype: int64"
      ]
     },
     "execution_count": 86,
     "metadata": {},
     "output_type": "execute_result"
    }
   ],
   "source": [
    "# Check the result / Double check the missing values, if any\n",
    "df_feedback.isnull().sum()"
   ]
  },
  {
   "cell_type": "markdown",
   "metadata": {},
   "source": [
    "### Build any new features that are needed for the model"
   ]
  },
  {
   "cell_type": "code",
   "execution_count": 87,
   "metadata": {},
   "outputs": [],
   "source": [
    "# Build new feature feedbackText by combining two features reviewText and summary\n",
    "df_feedback['feedbackText'] = df_feedback['reviewText']+ ' '+df_feedback['summary']"
   ]
  },
  {
   "cell_type": "code",
   "execution_count": 88,
   "metadata": {},
   "outputs": [],
   "source": [
    "# Furthre reduce the features by dropping the features reviewText and summary as we do not need them anymore.\n",
    "df_feedback = df_feedback.drop(['reviewText','summary'],axis=1)"
   ]
  },
  {
   "cell_type": "code",
   "execution_count": 89,
   "metadata": {},
   "outputs": [
    {
     "data": {
      "text/html": [
       "<div>\n",
       "<style scoped>\n",
       "    .dataframe tbody tr th:only-of-type {\n",
       "        vertical-align: middle;\n",
       "    }\n",
       "\n",
       "    .dataframe tbody tr th {\n",
       "        vertical-align: top;\n",
       "    }\n",
       "\n",
       "    .dataframe thead th {\n",
       "        text-align: right;\n",
       "    }\n",
       "</style>\n",
       "<table border=\"1\" class=\"dataframe\">\n",
       "  <thead>\n",
       "    <tr style=\"text-align: right;\">\n",
       "      <th></th>\n",
       "      <th>overall</th>\n",
       "      <th>feedbackText</th>\n",
       "    </tr>\n",
       "  </thead>\n",
       "  <tbody>\n",
       "    <tr>\n",
       "      <th>0</th>\n",
       "      <td>5.0</td>\n",
       "      <td>Not much to write about here, but it does exac...</td>\n",
       "    </tr>\n",
       "    <tr>\n",
       "      <th>1</th>\n",
       "      <td>5.0</td>\n",
       "      <td>The product does exactly as it should and is q...</td>\n",
       "    </tr>\n",
       "    <tr>\n",
       "      <th>2</th>\n",
       "      <td>5.0</td>\n",
       "      <td>The primary job of this device is to block the...</td>\n",
       "    </tr>\n",
       "    <tr>\n",
       "      <th>3</th>\n",
       "      <td>5.0</td>\n",
       "      <td>Nice windscreen protects my MXL mic and preven...</td>\n",
       "    </tr>\n",
       "    <tr>\n",
       "      <th>4</th>\n",
       "      <td>5.0</td>\n",
       "      <td>This pop filter is great. It looks and perform...</td>\n",
       "    </tr>\n",
       "    <tr>\n",
       "      <th>...</th>\n",
       "      <td>...</td>\n",
       "      <td>...</td>\n",
       "    </tr>\n",
       "    <tr>\n",
       "      <th>10256</th>\n",
       "      <td>5.0</td>\n",
       "      <td>Great, just as expected.  Thank to all. Five S...</td>\n",
       "    </tr>\n",
       "    <tr>\n",
       "      <th>10257</th>\n",
       "      <td>5.0</td>\n",
       "      <td>I've been thinking about trying the Nanoweb st...</td>\n",
       "    </tr>\n",
       "    <tr>\n",
       "      <th>10258</th>\n",
       "      <td>4.0</td>\n",
       "      <td>I have tried coated strings in the past ( incl...</td>\n",
       "    </tr>\n",
       "    <tr>\n",
       "      <th>10259</th>\n",
       "      <td>4.0</td>\n",
       "      <td>Well, MADE by Elixir and DEVELOPED with Taylor...</td>\n",
       "    </tr>\n",
       "    <tr>\n",
       "      <th>10260</th>\n",
       "      <td>4.0</td>\n",
       "      <td>These strings are really quite good, but I wou...</td>\n",
       "    </tr>\n",
       "  </tbody>\n",
       "</table>\n",
       "<p>10261 rows × 2 columns</p>\n",
       "</div>"
      ],
      "text/plain": [
       "       overall                                       feedbackText\n",
       "0          5.0  Not much to write about here, but it does exac...\n",
       "1          5.0  The product does exactly as it should and is q...\n",
       "2          5.0  The primary job of this device is to block the...\n",
       "3          5.0  Nice windscreen protects my MXL mic and preven...\n",
       "4          5.0  This pop filter is great. It looks and perform...\n",
       "...        ...                                                ...\n",
       "10256      5.0  Great, just as expected.  Thank to all. Five S...\n",
       "10257      5.0  I've been thinking about trying the Nanoweb st...\n",
       "10258      4.0  I have tried coated strings in the past ( incl...\n",
       "10259      4.0  Well, MADE by Elixir and DEVELOPED with Taylor...\n",
       "10260      4.0  These strings are really quite good, but I wou...\n",
       "\n",
       "[10261 rows x 2 columns]"
      ]
     },
     "execution_count": 89,
     "metadata": {},
     "output_type": "execute_result"
    }
   ],
   "source": [
    "# Display the data after Dimensionality / Feature Reduction\n",
    "df_feedback"
   ]
  },
  {
   "cell_type": "markdown",
   "metadata": {},
   "source": [
    "## Feature Engineering"
   ]
  },
  {
   "cell_type": "markdown",
   "metadata": {},
   "source": [
    "### Make raw data ready for modeling"
   ]
  },
  {
   "cell_type": "code",
   "execution_count": 90,
   "metadata": {},
   "outputs": [],
   "source": [
    "# Define function to perform below text cleaning\n",
    "# Make text lowercase\n",
    "# Remove text in square brackets\n",
    "# Remove links\n",
    "# Remove special characters\n",
    "# Remove words containing numbers\n",
    "# Remove punctuation\n",
    "\n",
    "def text_cleaning(text):\n",
    "\n",
    "    text = text.lower()\n",
    "    text = re.sub('\\[.*?\\]', '', text)\n",
    "    text = re.sub(\"\\\\W\",\" \",text) # remove special chars\n",
    "    text = re.sub('https?://\\S+|www\\.\\S+', '', text)\n",
    "    text = re.sub('<.*?>+', '', text)\n",
    "    text = re.sub('[%s]' % re.escape(string.punctuation), '', text)\n",
    "    text = re.sub('\\n', '', text)\n",
    "    text = re.sub('\\w*\\d\\w*', '', text)\n",
    "    \n",
    "    return text"
   ]
  },
  {
   "cell_type": "code",
   "execution_count": 91,
   "metadata": {},
   "outputs": [],
   "source": [
    "# Apply text cleaning function to the DataFrame\n",
    "df_feedback['feedbackText'] = df_feedback['feedbackText'].apply(text_cleaning)"
   ]
  },
  {
   "cell_type": "code",
   "execution_count": 92,
   "metadata": {
    "scrolled": true
   },
   "outputs": [
    {
     "data": {
      "text/html": [
       "<div>\n",
       "<style scoped>\n",
       "    .dataframe tbody tr th:only-of-type {\n",
       "        vertical-align: middle;\n",
       "    }\n",
       "\n",
       "    .dataframe tbody tr th {\n",
       "        vertical-align: top;\n",
       "    }\n",
       "\n",
       "    .dataframe thead th {\n",
       "        text-align: right;\n",
       "    }\n",
       "</style>\n",
       "<table border=\"1\" class=\"dataframe\">\n",
       "  <thead>\n",
       "    <tr style=\"text-align: right;\">\n",
       "      <th></th>\n",
       "      <th>overall</th>\n",
       "      <th>feedbackText</th>\n",
       "    </tr>\n",
       "  </thead>\n",
       "  <tbody>\n",
       "    <tr>\n",
       "      <th>0</th>\n",
       "      <td>5.0</td>\n",
       "      <td>not much to write about here  but it does exac...</td>\n",
       "    </tr>\n",
       "    <tr>\n",
       "      <th>1</th>\n",
       "      <td>5.0</td>\n",
       "      <td>the product does exactly as it should and is q...</td>\n",
       "    </tr>\n",
       "    <tr>\n",
       "      <th>2</th>\n",
       "      <td>5.0</td>\n",
       "      <td>the primary job of this device is to block the...</td>\n",
       "    </tr>\n",
       "    <tr>\n",
       "      <th>3</th>\n",
       "      <td>5.0</td>\n",
       "      <td>nice windscreen protects my mxl mic and preven...</td>\n",
       "    </tr>\n",
       "    <tr>\n",
       "      <th>4</th>\n",
       "      <td>5.0</td>\n",
       "      <td>this pop filter is great  it looks and perform...</td>\n",
       "    </tr>\n",
       "    <tr>\n",
       "      <th>...</th>\n",
       "      <td>...</td>\n",
       "      <td>...</td>\n",
       "    </tr>\n",
       "    <tr>\n",
       "      <th>10256</th>\n",
       "      <td>5.0</td>\n",
       "      <td>great  just as expected   thank to all  five s...</td>\n",
       "    </tr>\n",
       "    <tr>\n",
       "      <th>10257</th>\n",
       "      <td>5.0</td>\n",
       "      <td>i ve been thinking about trying the nanoweb st...</td>\n",
       "    </tr>\n",
       "    <tr>\n",
       "      <th>10258</th>\n",
       "      <td>4.0</td>\n",
       "      <td>i have tried coated strings in the past   incl...</td>\n",
       "    </tr>\n",
       "    <tr>\n",
       "      <th>10259</th>\n",
       "      <td>4.0</td>\n",
       "      <td>well  made by elixir and developed with taylor...</td>\n",
       "    </tr>\n",
       "    <tr>\n",
       "      <th>10260</th>\n",
       "      <td>4.0</td>\n",
       "      <td>these strings are really quite good  but i wou...</td>\n",
       "    </tr>\n",
       "  </tbody>\n",
       "</table>\n",
       "<p>10261 rows × 2 columns</p>\n",
       "</div>"
      ],
      "text/plain": [
       "       overall                                       feedbackText\n",
       "0          5.0  not much to write about here  but it does exac...\n",
       "1          5.0  the product does exactly as it should and is q...\n",
       "2          5.0  the primary job of this device is to block the...\n",
       "3          5.0  nice windscreen protects my mxl mic and preven...\n",
       "4          5.0  this pop filter is great  it looks and perform...\n",
       "...        ...                                                ...\n",
       "10256      5.0  great  just as expected   thank to all  five s...\n",
       "10257      5.0  i ve been thinking about trying the nanoweb st...\n",
       "10258      4.0  i have tried coated strings in the past   incl...\n",
       "10259      4.0  well  made by elixir and developed with taylor...\n",
       "10260      4.0  these strings are really quite good  but i wou...\n",
       "\n",
       "[10261 rows x 2 columns]"
      ]
     },
     "execution_count": 92,
     "metadata": {},
     "output_type": "execute_result"
    }
   ],
   "source": [
    "# Display the cleaned data\n",
    "df_feedback"
   ]
  },
  {
   "cell_type": "code",
   "execution_count": 93,
   "metadata": {},
   "outputs": [
    {
     "data": {
      "text/html": [
       "<div>\n",
       "<style scoped>\n",
       "    .dataframe tbody tr th:only-of-type {\n",
       "        vertical-align: middle;\n",
       "    }\n",
       "\n",
       "    .dataframe tbody tr th {\n",
       "        vertical-align: top;\n",
       "    }\n",
       "\n",
       "    .dataframe thead th {\n",
       "        text-align: right;\n",
       "    }\n",
       "</style>\n",
       "<table border=\"1\" class=\"dataframe\">\n",
       "  <thead>\n",
       "    <tr style=\"text-align: right;\">\n",
       "      <th></th>\n",
       "      <th>overall</th>\n",
       "      <th>feedbackText</th>\n",
       "    </tr>\n",
       "  </thead>\n",
       "  <tbody>\n",
       "    <tr>\n",
       "      <th>0</th>\n",
       "      <td>1</td>\n",
       "      <td>not much to write about here  but it does exac...</td>\n",
       "    </tr>\n",
       "    <tr>\n",
       "      <th>1</th>\n",
       "      <td>1</td>\n",
       "      <td>the product does exactly as it should and is q...</td>\n",
       "    </tr>\n",
       "    <tr>\n",
       "      <th>2</th>\n",
       "      <td>1</td>\n",
       "      <td>the primary job of this device is to block the...</td>\n",
       "    </tr>\n",
       "    <tr>\n",
       "      <th>3</th>\n",
       "      <td>1</td>\n",
       "      <td>nice windscreen protects my mxl mic and preven...</td>\n",
       "    </tr>\n",
       "    <tr>\n",
       "      <th>4</th>\n",
       "      <td>1</td>\n",
       "      <td>this pop filter is great  it looks and perform...</td>\n",
       "    </tr>\n",
       "    <tr>\n",
       "      <th>...</th>\n",
       "      <td>...</td>\n",
       "      <td>...</td>\n",
       "    </tr>\n",
       "    <tr>\n",
       "      <th>10256</th>\n",
       "      <td>1</td>\n",
       "      <td>great  just as expected   thank to all  five s...</td>\n",
       "    </tr>\n",
       "    <tr>\n",
       "      <th>10257</th>\n",
       "      <td>1</td>\n",
       "      <td>i ve been thinking about trying the nanoweb st...</td>\n",
       "    </tr>\n",
       "    <tr>\n",
       "      <th>10258</th>\n",
       "      <td>1</td>\n",
       "      <td>i have tried coated strings in the past   incl...</td>\n",
       "    </tr>\n",
       "    <tr>\n",
       "      <th>10259</th>\n",
       "      <td>1</td>\n",
       "      <td>well  made by elixir and developed with taylor...</td>\n",
       "    </tr>\n",
       "    <tr>\n",
       "      <th>10260</th>\n",
       "      <td>1</td>\n",
       "      <td>these strings are really quite good  but i wou...</td>\n",
       "    </tr>\n",
       "  </tbody>\n",
       "</table>\n",
       "<p>10261 rows × 2 columns</p>\n",
       "</div>"
      ],
      "text/plain": [
       "       overall                                       feedbackText\n",
       "0            1  not much to write about here  but it does exac...\n",
       "1            1  the product does exactly as it should and is q...\n",
       "2            1  the primary job of this device is to block the...\n",
       "3            1  nice windscreen protects my mxl mic and preven...\n",
       "4            1  this pop filter is great  it looks and perform...\n",
       "...        ...                                                ...\n",
       "10256        1  great  just as expected   thank to all  five s...\n",
       "10257        1  i ve been thinking about trying the nanoweb st...\n",
       "10258        1  i have tried coated strings in the past   incl...\n",
       "10259        1  well  made by elixir and developed with taylor...\n",
       "10260        1  these strings are really quite good  but i wou...\n",
       "\n",
       "[10261 rows x 2 columns]"
      ]
     },
     "execution_count": 93,
     "metadata": {},
     "output_type": "execute_result"
    }
   ],
   "source": [
    "# Simplify Overall ratings by re-assigning the values as below\n",
    "# Overall Ratings 4 and above = 1\n",
    "# Overall Ratings 3 and below = 0\n",
    "df_feedback['overall'] = df_feedback.overall.apply(lambda x: 1 if x>=4.0 else 0)\n",
    "df_feedback"
   ]
  },
  {
   "cell_type": "code",
   "execution_count": 94,
   "metadata": {},
   "outputs": [
    {
     "data": {
      "text/plain": [
       "1    9022\n",
       "0    1239\n",
       "Name: overall, dtype: int64"
      ]
     },
     "execution_count": 94,
     "metadata": {},
     "output_type": "execute_result"
    }
   ],
   "source": [
    "# Display value counts for Overall Rating\n",
    "df_feedback.overall.value_counts()"
   ]
  },
  {
   "cell_type": "code",
   "execution_count": 95,
   "metadata": {},
   "outputs": [
    {
     "data": {
      "text/plain": [
       "<matplotlib.axes._subplots.AxesSubplot at 0x2bc9188e370>"
      ]
     },
     "execution_count": 95,
     "metadata": {},
     "output_type": "execute_result"
    },
    {
     "data": {
      "image/png": "[encoded data removed]",
      "text/plain": [
       "<Figure size 432x288 with 1 Axes>"
      ]
     },
     "metadata": {
      "needs_background": "light"
     },
     "output_type": "display_data"
    }
   ],
   "source": [
    "sns.countplot(df_feedback.overall)"
   ]
  },
  {
   "cell_type": "code",
   "execution_count": 96,
   "metadata": {},
   "outputs": [
    {
     "data": {
      "text/plain": [
       "1    87.925153\n",
       "0    12.074847\n",
       "Name: overall, dtype: float64"
      ]
     },
     "execution_count": 96,
     "metadata": {},
     "output_type": "execute_result"
    }
   ],
   "source": [
    "# Calculate percentages of each Overall Rating of the customer review in the DataFrame\n",
    "df_feedback['overall'].value_counts(normalize=True)*100"
   ]
  },
  {
   "cell_type": "markdown",
   "metadata": {},
   "source": [
    "### Split the data for modeling"
   ]
  },
  {
   "cell_type": "code",
   "execution_count": 97,
   "metadata": {},
   "outputs": [],
   "source": [
    "#split the data\n",
    "X = df_feedback.feedbackText\n",
    "y = df_feedback.overall\n",
    "\n",
    "x_train,x_test,y_train,y_test = train_test_split(X,y,test_size = 0.2 , random_state = 0)"
   ]
  },
  {
   "cell_type": "markdown",
   "metadata": {},
   "source": [
    "### Vectorizing text data"
   ]
  },
  {
   "cell_type": "code",
   "execution_count": 98,
   "metadata": {},
   "outputs": [
    {
     "name": "stdout",
     "output_type": "stream",
     "text": [
      "tfidf_x_train: (8208, 196753)\n",
      "tfidf_x_test: (2053, 196753)\n"
     ]
    }
   ],
   "source": [
    "# TFIDF Vectorizer\n",
    "\n",
    "tv = TfidfVectorizer(min_df=0,max_df=1,use_idf=True,ngram_range=(1,2), stop_words='english')\n",
    "\n",
    "tfidf_x_train = tv.fit_transform(x_train)\n",
    "tfidf_x_test = tv.transform(x_test)\n",
    "\n",
    "print('tfidf_x_train:',tfidf_x_train.shape)\n",
    "print('tfidf_x_test:',tfidf_x_test.shape)"
   ]
  },
  {
   "cell_type": "markdown",
   "metadata": {},
   "source": [
    "## Model Selection"
   ]
  },
  {
   "cell_type": "markdown",
   "metadata": {},
   "source": [
    "### With 88% of positive customer feedback reviews, as many as five types of models are selected to run as listed below:"
   ]
  },
  {
   "cell_type": "markdown",
   "metadata": {},
   "source": [
    "1. Multinomial Naive Bayes\n",
    "2. Random Forest\n",
    "3. Linear SVC\n",
    "4. Logistic Regression\n",
    "5. XGB Classifier"
   ]
  },
  {
   "cell_type": "markdown",
   "metadata": {},
   "source": [
    "### 1. Naive Bayes"
   ]
  },
  {
   "cell_type": "code",
   "execution_count": 23,
   "metadata": {},
   "outputs": [
    {
     "name": "stdout",
     "output_type": "stream",
     "text": [
      "NB accuracy: 0.8889430102289333\n",
      "NB f1: 0.8366792128250661\n",
      "              precision    recall  f1-score   support\n",
      "\n",
      "           0       0.00      0.00      0.00       228\n",
      "           1       0.89      1.00      0.94      1825\n",
      "\n",
      "    accuracy                           0.89      2053\n",
      "   macro avg       0.44      0.50      0.47      2053\n",
      "weighted avg       0.79      0.89      0.84      2053\n",
      "\n"
     ]
    }
   ],
   "source": [
    "#Naive Bayes\n",
    "nb = MultinomialNB()\n",
    "\n",
    "#fit\n",
    "tfidf = nb.fit(tfidf_x_train, y_train)\n",
    "\n",
    "#predict\n",
    "nb_tfidf_predict = nb.predict(tfidf_x_test)\n",
    "\n",
    "#accuracy\n",
    "nb_tfidf = accuracy_score(y_test,nb_tfidf_predict)\n",
    "\n",
    "# f1 Score\n",
    "nb_f1 = f1_score(y_test, nb_tfidf_predict, average= 'weighted')\n",
    "\n",
    "print('NB accuracy:', nb_tfidf)\n",
    "print('NB f1:', nb_f1)\n",
    "print(classification_report(y_test, nb_tfidf_predict))"
   ]
  },
  {
   "cell_type": "markdown",
   "metadata": {},
   "source": [
    "#### MultinomialNB Confusion Matrix"
   ]
  },
  {
   "cell_type": "code",
   "execution_count": 24,
   "metadata": {},
   "outputs": [
    {
     "data": {
      "image/png": "[encoded data removed]",
      "text/plain": [
       "<Figure size 576x396 with 1 Axes>"
      ]
     },
     "metadata": {},
     "output_type": "display_data"
    },
    {
     "data": {
      "text/plain": [
       "<matplotlib.axes._subplots.AxesSubplot at 0x2bc8f5adbb0>"
      ]
     },
     "execution_count": 24,
     "metadata": {},
     "output_type": "execute_result"
    }
   ],
   "source": [
    "#The ConfusionMatrix visualizer taxes a model\n",
    "classes = ['0','1']\n",
    "cm = ConfusionMatrix(nb, classes=classes, percent=False)\n",
    "\n",
    "# Fit the model\n",
    "cm.fit(tfidf_x_train, y_train)\n",
    "\n",
    "#Score runs predict() on the data and then creates the confusion_matrix\n",
    "cm.score(tfidf_x_test, y_test)\n",
    "\n",
    "# change fontsize of the labels in the figure\n",
    "for label in cm.ax.texts:\n",
    "    label.set_size(20)\n",
    "    \n",
    "#Plot the confusion matrix\n",
    "cm.poof()"
   ]
  },
  {
   "cell_type": "code",
   "execution_count": 25,
   "metadata": {},
   "outputs": [
    {
     "data": {
      "image/png": "[encoded data removed]",
      "text/plain": [
       "<Figure size 576x396 with 1 Axes>"
      ]
     },
     "metadata": {},
     "output_type": "display_data"
    }
   ],
   "source": [
    "# ROC and AUC\n",
    "#Instantiate the visualizer\n",
    "visualizer = ROCAUC(nb)\n",
    "\n",
    "visualizer.fit(tfidf_x_train, y_train)  # Fit the training data to the visualizer\n",
    "visualizer.score(tfidf_x_test, y_test)  # Evaluate the model on the test data\n",
    "g = visualizer.poof()"
   ]
  },
  {
   "cell_type": "markdown",
   "metadata": {},
   "source": [
    "### 2. Random Forest"
   ]
  },
  {
   "cell_type": "code",
   "execution_count": 26,
   "metadata": {},
   "outputs": [
    {
     "name": "stdout",
     "output_type": "stream",
     "text": [
      "rf accuracy: 0.8889430102289333\n",
      "rf f1: 0.8366792128250661\n",
      "              precision    recall  f1-score   support\n",
      "\n",
      "           0       0.00      0.00      0.00       228\n",
      "           1       0.89      1.00      0.94      1825\n",
      "\n",
      "    accuracy                           0.89      2053\n",
      "   macro avg       0.44      0.50      0.47      2053\n",
      "weighted avg       0.79      0.89      0.84      2053\n",
      "\n",
      "****Confusion Matrix****\n",
      "[[   0  228]\n",
      " [   0 1825]]\n"
     ]
    }
   ],
   "source": [
    "#random forest\n",
    "rf = RandomForestClassifier(n_estimators=200, max_depth=3, random_state=0)\n",
    "\n",
    "#fit\n",
    "tfidf = rf.fit(tfidf_x_train, y_train)\n",
    "\n",
    "#predict\n",
    "rf_tfidf_predict = rf.predict(tfidf_x_test)\n",
    "\n",
    "#accuracy\n",
    "rf_tfidf = accuracy_score(y_test,rf_tfidf_predict)\n",
    "\n",
    "# f1 Score\n",
    "rf_f1 = f1_score(y_test, rf_tfidf_predict, average= 'weighted')\n",
    "\n",
    "print('rf accuracy:', rf_tfidf)\n",
    "print('rf f1:', rf_f1)\n",
    "print(classification_report(y_test, rf_tfidf_predict))\n",
    "print('****Confusion Matrix****')\n",
    "print(confusion_matrix(y_test, rf_tfidf_predict))"
   ]
  },
  {
   "cell_type": "markdown",
   "metadata": {},
   "source": [
    "#### Random Forest Classifier Confusion Matrix"
   ]
  },
  {
   "cell_type": "code",
   "execution_count": 27,
   "metadata": {},
   "outputs": [
    {
     "data": {
      "image/png": "[encoded data removed]",
      "text/plain": [
       "<Figure size 576x396 with 1 Axes>"
      ]
     },
     "metadata": {},
     "output_type": "display_data"
    },
    {
     "data": {
      "text/plain": [
       "<matplotlib.axes._subplots.AxesSubplot at 0x2bc90ca6f70>"
      ]
     },
     "execution_count": 27,
     "metadata": {},
     "output_type": "execute_result"
    }
   ],
   "source": [
    "#The ConfusionMatrix visualizer taxes a model\n",
    "classes = ['0','1']\n",
    "cm = ConfusionMatrix(rf, classes=classes, percent=False)\n",
    "\n",
    "# Fit the model\n",
    "cm.fit(tfidf_x_train, y_train)\n",
    "\n",
    "#Score runs predict() on the data and then creates the confusion_matrix\n",
    "cm.score(tfidf_x_test, y_test)\n",
    "\n",
    "# change fontsize of the labels in the figure\n",
    "for label in cm.ax.texts:\n",
    "    label.set_size(20)\n",
    "    \n",
    "#Plot the confusion matrix\n",
    "cm.poof()"
   ]
  },
  {
   "cell_type": "markdown",
   "metadata": {},
   "source": [
    "### 3. Linear SVC"
   ]
  },
  {
   "cell_type": "code",
   "execution_count": 28,
   "metadata": {},
   "outputs": [
    {
     "name": "stdout",
     "output_type": "stream",
     "text": [
      "ls accuracy: 0.8899171943497322\n",
      "ls f1: 0.8390423617541617\n",
      "              precision    recall  f1-score   support\n",
      "\n",
      "           0       1.00      0.01      0.02       228\n",
      "           1       0.89      1.00      0.94      1825\n",
      "\n",
      "    accuracy                           0.89      2053\n",
      "   macro avg       0.94      0.50      0.48      2053\n",
      "weighted avg       0.90      0.89      0.84      2053\n",
      "\n"
     ]
    }
   ],
   "source": [
    "#Linear SVC\n",
    "ls = LinearSVC()\n",
    "\n",
    "#fit\n",
    "tfidf = ls.fit(tfidf_x_train, y_train)\n",
    "\n",
    "#predict\n",
    "ls_tfidf_predict = ls.predict(tfidf_x_test)\n",
    "\n",
    "#accuracy\n",
    "ls_tfidf = accuracy_score(y_test,ls_tfidf_predict)\n",
    "\n",
    "# f1 Score\n",
    "ls_f1 = f1_score(y_test, ls_tfidf_predict, average= 'weighted')\n",
    "\n",
    "print('ls accuracy:', ls_tfidf)\n",
    "print('ls f1:', ls_f1)\n",
    "print(classification_report(y_test, ls_tfidf_predict))"
   ]
  },
  {
   "cell_type": "markdown",
   "metadata": {},
   "source": [
    "#### Linear SVC Confusion Matrix"
   ]
  },
  {
   "cell_type": "code",
   "execution_count": 29,
   "metadata": {},
   "outputs": [
    {
     "data": {
      "image/png": "[encoded data removed]",
      "text/plain": [
       "<Figure size 576x396 with 1 Axes>"
      ]
     },
     "metadata": {},
     "output_type": "display_data"
    },
    {
     "data": {
      "text/plain": [
       "<matplotlib.axes._subplots.AxesSubplot at 0x2bc90e23e50>"
      ]
     },
     "execution_count": 29,
     "metadata": {},
     "output_type": "execute_result"
    }
   ],
   "source": [
    "#The ConfusionMatrix visualizer taxes a model\n",
    "classes = ['0','1']\n",
    "cm = ConfusionMatrix(ls, classes=classes, percent=False)\n",
    "\n",
    "# Fit the model\n",
    "cm.fit(tfidf_x_train, y_train)\n",
    "\n",
    "#Score runs predict() on the data and then creates the confusion_matrix\n",
    "cm.score(tfidf_x_test, y_test)\n",
    "\n",
    "# change fontsize of the labels in the figure\n",
    "for label in cm.ax.texts:\n",
    "    label.set_size(20)\n",
    "    \n",
    "#Plot the confusion matrix\n",
    "cm.poof()"
   ]
  },
  {
   "cell_type": "markdown",
   "metadata": {},
   "source": [
    "### 4. Logistic Regression"
   ]
  },
  {
   "cell_type": "code",
   "execution_count": 99,
   "metadata": {},
   "outputs": [
    {
     "name": "stdout",
     "output_type": "stream",
     "text": [
      "lr accuracy: 0.8889430102289333\n",
      "lr f1: 0.8366792128250661\n",
      "              precision    recall  f1-score   support\n",
      "\n",
      "           0       0.00      0.00      0.00       228\n",
      "           1       0.89      1.00      0.94      1825\n",
      "\n",
      "    accuracy                           0.89      2053\n",
      "   macro avg       0.44      0.50      0.47      2053\n",
      "weighted avg       0.79      0.89      0.84      2053\n",
      "\n"
     ]
    }
   ],
   "source": [
    "#lr\n",
    "lr = LogisticRegression(solver='newton-cg')\n",
    "\n",
    "#fit\n",
    "tfidf = lr.fit(tfidf_x_train, y_train)\n",
    "\n",
    "#predict\n",
    "lr_tfidf_predict = lr.predict(tfidf_x_test)\n",
    "\n",
    "#accuracy\n",
    "lr_tfidf = accuracy_score(y_test,lr_tfidf_predict)\n",
    "\n",
    "# f1 Score\n",
    "lr_f1 = f1_score(y_test, lr_tfidf_predict, average= 'weighted')\n",
    "\n",
    "print('lr accuracy:', lr_tfidf)\n",
    "print('lr f1:', lr_f1)\n",
    "print(classification_report(y_test, lr_tfidf_predict))"
   ]
  },
  {
   "cell_type": "markdown",
   "metadata": {},
   "source": [
    "#### Logistic Regression Confusion Matrix"
   ]
  },
  {
   "cell_type": "code",
   "execution_count": 100,
   "metadata": {},
   "outputs": [
    {
     "data": {
      "image/png": "[encoded data removed]",
      "text/plain": [
       "<Figure size 432x288 with 1 Axes>"
      ]
     },
     "metadata": {
      "needs_background": "light"
     },
     "output_type": "display_data"
    },
    {
     "data": {
      "text/plain": [
       "<matplotlib.axes._subplots.AxesSubplot at 0x2bca7995340>"
      ]
     },
     "execution_count": 100,
     "metadata": {},
     "output_type": "execute_result"
    }
   ],
   "source": [
    "#The ConfusionMatrix visualizer taxes a model\n",
    "classes = ['0','1']\n",
    "cm = ConfusionMatrix(lr, classes=classes, percent=False)\n",
    "\n",
    "# Fit the model\n",
    "cm.fit(tfidf_x_train, y_train)\n",
    "\n",
    "#Score runs predict() on the data and then creates the confusion_matrix\n",
    "cm.score(tfidf_x_test, y_test)\n",
    "\n",
    "# change fontsize of the labels in the figure\n",
    "for label in cm.ax.texts:\n",
    "    label.set_size(20)\n",
    "    \n",
    "#Plot the confusion matrix\n",
    "cm.poof()"
   ]
  },
  {
   "cell_type": "markdown",
   "metadata": {},
   "source": [
    "### 5. XGB CLASSIFIER"
   ]
  },
  {
   "cell_type": "markdown",
   "metadata": {},
   "source": [
    "### Hyperparameter Tuning"
   ]
  },
  {
   "cell_type": "code",
   "execution_count": 32,
   "metadata": {},
   "outputs": [],
   "source": [
    "#RandomSearchCV\n",
    "# define the parameters to tune\n",
    "param_dist = {\"learning_rate\": uniform(0, 2),\n",
    "              \"gamma\": uniform(1, 0.000001),\n",
    "              \"max_depth\": range(1,50),\n",
    "              \"n_estimators\": range(1,300),\n",
    "              \"min_child_weight\": range(1,10),\n",
    "              'n_jobs': range(1,5)}\n",
    "#instance of RandomSearchCV\n",
    "rs = RandomizedSearchCV(XGBClassifier(eval_metric='mlogloss'), param_distributions=param_dist, n_iter=3)"
   ]
  },
  {
   "cell_type": "markdown",
   "metadata": {},
   "source": [
    "### Create Data Pipeline"
   ]
  },
  {
   "cell_type": "code",
   "execution_count": 33,
   "metadata": {},
   "outputs": [],
   "source": [
    "model  = Pipeline([\n",
    "    ('count', CountVectorizer()),\n",
    "    ('tfidf', TfidfTransformer()),\n",
    "    ('model', rs)\n",
    "])"
   ]
  },
  {
   "cell_type": "code",
   "execution_count": 34,
   "metadata": {},
   "outputs": [
    {
     "name": "stdout",
     "output_type": "stream",
     "text": [
      "xgb accuracy: 0.8879688261081344\n",
      "xgb f1: 0.8671027264915355\n",
      "              precision    recall  f1-score   support\n",
      "\n",
      "           0       0.49      0.21      0.29       228\n",
      "           1       0.91      0.97      0.94      1825\n",
      "\n",
      "    accuracy                           0.89      2053\n",
      "   macro avg       0.70      0.59      0.61      2053\n",
      "weighted avg       0.86      0.89      0.87      2053\n",
      "\n"
     ]
    }
   ],
   "source": [
    "#fit\n",
    "tfidf = model.fit(x_train, y_train)\n",
    "\n",
    "#predict\n",
    "xgb_tfidf_predict = model.predict(x_test)\n",
    "\n",
    "#accuracy\n",
    "xgb_tfidf = accuracy_score(y_test, xgb_tfidf_predict)\n",
    "\n",
    "# f1 Score\n",
    "xgb_f1 = f1_score(y_test, xgb_tfidf_predict, average= 'weighted')\n",
    "\n",
    "print('xgb accuracy:', xgb_tfidf)\n",
    "print('xgb f1:', xgb_f1)\n",
    "print(classification_report(y_test, xgb_tfidf_predict))"
   ]
  },
  {
   "cell_type": "code",
   "execution_count": 35,
   "metadata": {},
   "outputs": [],
   "source": [
    "# Separate function to create a confusion matrix for XGB Classifier \n",
    "def conf_matrix(y_test, pred_test):    \n",
    "    \n",
    "    # Creating a confusion matrix\n",
    "    con_mat = confusion_matrix(y_test, pred_test)\n",
    "    con_mat = pd.DataFrame(con_mat, range(2), range(2))\n",
    "   \n",
    "    #Ploting the confusion matrix\n",
    "    plt.figure(figsize=(6,6))\n",
    "    sns.set(font_scale=1.5) \n",
    "    sns.heatmap(con_mat, annot=True, annot_kws={\"size\": 16}, fmt='g', cmap='Blues', cbar=False)"
   ]
  },
  {
   "cell_type": "code",
   "execution_count": 36,
   "metadata": {},
   "outputs": [
    {
     "data": {
      "image/png": "[encoded data removed]",
      "text/plain": [
       "<Figure size 432x432 with 1 Axes>"
      ]
     },
     "metadata": {},
     "output_type": "display_data"
    }
   ],
   "source": [
    "#Calling function to plot Confusion Matrix for XGB Classifier\n",
    "conf_matrix(y_test, xgb_tfidf_predict)"
   ]
  },
  {
   "cell_type": "markdown",
   "metadata": {},
   "source": [
    "### Due to highly unbalanced dataset of customer feedback that has 88% of the postive reviews and 10% neutral and only 2% negative reviews, accuracy of all the models selected to run is almost the same = 89%."
   ]
  },
  {
   "cell_type": "markdown",
   "metadata": {},
   "source": [
    "### Let's manage the imbalanced dataset with help of evaluating below additional methods:"
   ]
  },
  {
   "cell_type": "markdown",
   "metadata": {},
   "source": [
    "1. Logistic Regression Model using class_weight\n",
    "2. Neural Network Classifier\n",
    "3. Neural Network Classifier with Keras\n",
    "4. Logistic Regression Model - with Downsampling\n",
    "5. Compare f1 Scores"
   ]
  },
  {
   "cell_type": "markdown",
   "metadata": {},
   "source": [
    "### 1. Logistic Regression model with class_weight on an Imbalanced Dataset"
   ]
  },
  {
   "cell_type": "code",
   "execution_count": 37,
   "metadata": {},
   "outputs": [
    {
     "name": "stdout",
     "output_type": "stream",
     "text": [
      "lrcw accuracy: 0.8918655625913298\n",
      "lrcw f1: 0.8436709501144031\n",
      "              precision    recall  f1-score   support\n",
      "\n",
      "           0       1.00      0.03      0.05       228\n",
      "           1       0.89      1.00      0.94      1825\n",
      "\n",
      "    accuracy                           0.89      2053\n",
      "   macro avg       0.95      0.51      0.50      2053\n",
      "weighted avg       0.90      0.89      0.84      2053\n",
      "\n"
     ]
    }
   ],
   "source": [
    "#lr-cw\n",
    "lrcw = LogisticRegression(solver='newton-cg', class_weight='balanced')\n",
    "\n",
    "#fit\n",
    "tfidf = lrcw.fit(tfidf_x_train, y_train)\n",
    "\n",
    "#predict\n",
    "lrcw_tfidf_predict = lrcw.predict(tfidf_x_test)\n",
    "\n",
    "#accuracy\n",
    "lrcw_tfidf = accuracy_score(y_test, lrcw_tfidf_predict)\n",
    "\n",
    "# f1 Score\n",
    "lrcw_f1 = f1_score(y_test, lrcw_tfidf_predict, average= 'weighted')\n",
    "\n",
    "print('lrcw accuracy:', lrcw_tfidf)\n",
    "print('lrcw f1:', lrcw_f1)\n",
    "print(classification_report(y_test, lrcw_tfidf_predict))"
   ]
  },
  {
   "cell_type": "markdown",
   "metadata": {},
   "source": [
    "#### Logistic Regression (class_weight) Confusion Matrix"
   ]
  },
  {
   "cell_type": "code",
   "execution_count": 38,
   "metadata": {},
   "outputs": [
    {
     "data": {
      "image/png": "[encoded data removed]",
      "text/plain": [
       "<Figure size 576x396 with 1 Axes>"
      ]
     },
     "metadata": {},
     "output_type": "display_data"
    },
    {
     "data": {
      "text/plain": [
       "<matplotlib.axes._subplots.AxesSubplot at 0x2bc91502dc0>"
      ]
     },
     "execution_count": 38,
     "metadata": {},
     "output_type": "execute_result"
    }
   ],
   "source": [
    "#The ConfusionMatrix visualizer taxes a model\n",
    "classes = ['0','1']\n",
    "cm = ConfusionMatrix(lrcw, classes=classes, percent=False)\n",
    "\n",
    "# Fit the model\n",
    "cm.fit(tfidf_x_train, y_train)\n",
    "\n",
    "#Score runs predict() on the data and then creates the confusion_matrix\n",
    "cm.score(tfidf_x_test, y_test)\n",
    "\n",
    "# change fontsize of the labels in the figure\n",
    "for label in cm.ax.texts:\n",
    "    label.set_size(20)\n",
    "    \n",
    "#Plot the confusion matrix\n",
    "cm.poof()"
   ]
  },
  {
   "cell_type": "markdown",
   "metadata": {},
   "source": [
    "### 2. Neural Network Classifier"
   ]
  },
  {
   "cell_type": "code",
   "execution_count": 39,
   "metadata": {},
   "outputs": [
    {
     "name": "stdout",
     "output_type": "stream",
     "text": [
      "mlp accuracy: 0.885046273745738\n",
      "mlp f1 score: 0.8475421209916555\n",
      "mlp confusion matrix:\n",
      "[[  16  212]\n",
      " [  24 1801]]\n",
      "              precision    recall  f1-score   support\n",
      "\n",
      "           0       0.40      0.07      0.12       228\n",
      "           1       0.89      0.99      0.94      1825\n",
      "\n",
      "    accuracy                           0.89      2053\n",
      "   macro avg       0.65      0.53      0.53      2053\n",
      "weighted avg       0.84      0.89      0.85      2053\n",
      "\n"
     ]
    }
   ],
   "source": [
    "# Neural Network Classifier\n",
    "mlp = MLPClassifier(hidden_layer_sizes=(100,75,50))\n",
    "\n",
    "#fit\n",
    "tfidf = mlp.fit(tfidf_x_train, y_train)\n",
    "\n",
    "#predict\n",
    "mlp_tfidf_predict = mlp.predict(tfidf_x_test)\n",
    "\n",
    "#accuracy\n",
    "mlp_tfidf = accuracy_score(y_test, mlp_tfidf_predict)\n",
    "\n",
    "# f1 Score\n",
    "mlp_f1 = f1_score(y_test, mlp_tfidf_predict, average= 'weighted')\n",
    "\n",
    "# confusion matrix\n",
    "mlp_matrix_tfidf = confusion_matrix(y_test, mlp_tfidf_predict)\n",
    "\n",
    "# display accuracy, f1 score, confusion matrix and classification report with precision and recall\n",
    "print('mlp accuracy:', mlp_tfidf)\n",
    "print('mlp f1 score:', mlp_f1)\n",
    "print('mlp confusion matrix:')\n",
    "print(mlp_matrix_tfidf)\n",
    "print(classification_report(y_test, mlp_tfidf_predict))"
   ]
  },
  {
   "cell_type": "markdown",
   "metadata": {},
   "source": [
    "#### Neural Network Classifier Confusion Matrix"
   ]
  },
  {
   "cell_type": "code",
   "execution_count": 40,
   "metadata": {},
   "outputs": [
    {
     "data": {
      "image/png": "[encoded data removed]",
      "text/plain": [
       "<Figure size 432x432 with 1 Axes>"
      ]
     },
     "metadata": {},
     "output_type": "display_data"
    }
   ],
   "source": [
    "#Calling function to plot Confusion Matrix for XGB Classifier\n",
    "conf_matrix(y_test, mlp_tfidf_predict)"
   ]
  },
  {
   "cell_type": "markdown",
   "metadata": {},
   "source": [
    "### 3. Neural Network Classifier with Keras"
   ]
  },
  {
   "cell_type": "code",
   "execution_count": 41,
   "metadata": {},
   "outputs": [],
   "source": [
    "# convert categories into an array\n",
    "y = np.array(y)"
   ]
  },
  {
   "cell_type": "code",
   "execution_count": 44,
   "metadata": {},
   "outputs": [],
   "source": [
    "# Encode target variables with value between 0 and n_classes-1 (n_classes = 3)\n",
    "label_encoder = preprocessing.LabelEncoder()\n",
    "int_encode = label_encoder.fit_transform(y)"
   ]
  },
  {
   "cell_type": "code",
   "execution_count": 45,
   "metadata": {},
   "outputs": [],
   "source": [
    "# Encode categorical features as a one-hot numeric array.\n",
    "# input is an array - int_encode created above\n",
    "# This creates a binary column for each category in y\n",
    "onehot_encoder = preprocessing.OneHotEncoder(sparse=False)\n",
    "int_encode = int_encode.reshape(len(int_encode), 1)\n",
    "y = onehot_encoder.fit_transform(int_encode)"
   ]
  },
  {
   "cell_type": "code",
   "execution_count": 46,
   "metadata": {},
   "outputs": [],
   "source": [
    "# Set the number of features we want\n",
    "number_of_features = 5000"
   ]
  },
  {
   "cell_type": "code",
   "execution_count": 47,
   "metadata": {},
   "outputs": [
    {
     "data": {
      "text/plain": [
       "(10261, 5000)"
      ]
     },
     "execution_count": 47,
     "metadata": {},
     "output_type": "execute_result"
    }
   ],
   "source": [
    "# convert feature data X to feature matrix\n",
    "token = Tokenizer(num_words=number_of_features)\n",
    "token.fit_on_texts(X)\n",
    "seq_X = token.texts_to_sequences(X)\n",
    "X = token.sequences_to_matrix(seq_X, mode='binary')\n",
    "X.shape"
   ]
  },
  {
   "cell_type": "code",
   "execution_count": 48,
   "metadata": {},
   "outputs": [],
   "source": [
    "#split the original data again after tokenization\n",
    "X_train,X_test,y_train,y_test = train_test_split(X,y,test_size = 0.2 , random_state = 0)"
   ]
  },
  {
   "cell_type": "code",
   "execution_count": 49,
   "metadata": {},
   "outputs": [
    {
     "data": {
      "text/plain": [
       "(8208, 2)"
      ]
     },
     "execution_count": 49,
     "metadata": {},
     "output_type": "execute_result"
    }
   ],
   "source": [
    "# display shape of target train\n",
    "y_train.shape"
   ]
  },
  {
   "cell_type": "code",
   "execution_count": 52,
   "metadata": {},
   "outputs": [],
   "source": [
    "# Set the Neural network\n",
    "model = Sequential()\n",
    "model.add(Dense(48, activation='relu', input_shape = (number_of_features,)))\n",
    "model.add(Dense(12, activation='relu'))\n",
    "model.add(Dense(2, activation='softmax'))\n",
    "\n",
    "model.compile(loss='categorical_crossentropy', optimizer='adam', metrics=['accuracy'])"
   ]
  },
  {
   "cell_type": "code",
   "execution_count": 53,
   "metadata": {},
   "outputs": [
    {
     "name": "stdout",
     "output_type": "stream",
     "text": [
      "Epoch 1/10\n",
      "116/116 [==============================] - 15s 20ms/step - loss: 0.4477 - accuracy: 0.8504 - val_loss: 0.2865 - val_accuracy: 0.8770\n",
      "Epoch 2/10\n",
      "116/116 [==============================] - 1s 11ms/step - loss: 0.2236 - accuracy: 0.9033 - val_loss: 0.2772 - val_accuracy: 0.8952\n",
      "Epoch 3/10\n",
      "116/116 [==============================] - 1s 12ms/step - loss: 0.1393 - accuracy: 0.9509 - val_loss: 0.3080 - val_accuracy: 0.8928\n",
      "Epoch 4/10\n",
      "116/116 [==============================] - 1s 12ms/step - loss: 0.0832 - accuracy: 0.9745 - val_loss: 0.3818 - val_accuracy: 0.8928\n",
      "Epoch 5/10\n",
      "116/116 [==============================] - 1s 11ms/step - loss: 0.0441 - accuracy: 0.9907 - val_loss: 0.4335 - val_accuracy: 0.8965\n",
      "Epoch 6/10\n",
      "116/116 [==============================] - 1s 10ms/step - loss: 0.0296 - accuracy: 0.9968 - val_loss: 0.5235 - val_accuracy: 0.8928\n",
      "Epoch 7/10\n",
      "116/116 [==============================] - 1s 11ms/step - loss: 0.0158 - accuracy: 0.9985 - val_loss: 0.5514 - val_accuracy: 0.8892\n",
      "Epoch 8/10\n",
      "116/116 [==============================] - 1s 11ms/step - loss: 0.0080 - accuracy: 0.9989 - val_loss: 0.6103 - val_accuracy: 0.8904\n",
      "Epoch 9/10\n",
      "116/116 [==============================] - 1s 12ms/step - loss: 0.0026 - accuracy: 0.9998 - val_loss: 0.6718 - val_accuracy: 0.8904\n",
      "Epoch 10/10\n",
      "116/116 [==============================] - 1s 11ms/step - loss: 0.0016 - accuracy: 0.9998 - val_loss: 0.6772 - val_accuracy: 0.8904\n"
     ]
    },
    {
     "data": {
      "text/plain": [
       "<keras.callbacks.History at 0x2bcaad916d0>"
      ]
     },
     "execution_count": 53,
     "metadata": {},
     "output_type": "execute_result"
    }
   ],
   "source": [
    "# fit the model\n",
    "history = model.fit(X_train, y_train, epochs=10, batch_size=64, verbose=1, validation_split=0.1)\n",
    "history"
   ]
  },
  {
   "cell_type": "code",
   "execution_count": 54,
   "metadata": {},
   "outputs": [
    {
     "name": "stdout",
     "output_type": "stream",
     "text": [
      "nn keras accuracy: 0.8899171943497322\n",
      "nn keras f1 score: 0.883326012532748\n",
      "nn keras confusion matrix:\n",
      "[[  88  140]\n",
      " [  86 1739]]\n",
      "              precision    recall  f1-score   support\n",
      "\n",
      "           0       0.51      0.39      0.44       228\n",
      "           1       0.93      0.95      0.94      1825\n",
      "\n",
      "    accuracy                           0.89      2053\n",
      "   macro avg       0.72      0.67      0.69      2053\n",
      "weighted avg       0.88      0.89      0.88      2053\n",
      "\n"
     ]
    }
   ],
   "source": [
    "#predict\n",
    "y_pred = model.predict(X_test)\n",
    "\n",
    "y_pred=np.argmax(y_pred, axis=1)\n",
    "y_test=np.argmax(y_test, axis=1)\n",
    "\n",
    "#accuracy\n",
    "nn_keras_accuracy = accuracy_score(y_test,y_pred)\n",
    "\n",
    "# f1 Score\n",
    "nn_keras_f1 = f1_score(y_test, y_pred, average= 'weighted')\n",
    "\n",
    "# confusion matrix\n",
    "nn_keras_matrix = confusion_matrix(y_test, y_pred)\n",
    "\n",
    "print('nn keras accuracy:', nn_keras_accuracy)\n",
    "print('nn keras f1 score:', nn_keras_f1)\n",
    "print('nn keras confusion matrix:')\n",
    "print(nn_keras_matrix)\n",
    "print(classification_report(y_test, y_pred))"
   ]
  },
  {
   "cell_type": "markdown",
   "metadata": {},
   "source": [
    "#### Neural Network Classifier with Keras - Confusion Matrix"
   ]
  },
  {
   "cell_type": "code",
   "execution_count": 55,
   "metadata": {
    "scrolled": true
   },
   "outputs": [
    {
     "data": {
      "image/png": "[encoded data removed]",
      "text/plain": [
       "<Figure size 432x432 with 1 Axes>"
      ]
     },
     "metadata": {
      "needs_background": "light"
     },
     "output_type": "display_data"
    }
   ],
   "source": [
    "#Calling function to plot Confusion Matrix for Neural Network with Keras\n",
    "conf_matrix(y_test, y_pred)"
   ]
  },
  {
   "cell_type": "markdown",
   "metadata": {},
   "source": [
    "### 4. Logistic Regression Model - with Downsampling"
   ]
  },
  {
   "cell_type": "code",
   "execution_count": 60,
   "metadata": {},
   "outputs": [
    {
     "data": {
      "text/plain": [
       "1    5000\n",
       "0    1239\n",
       "Name: overall, dtype: int64"
      ]
     },
     "execution_count": 60,
     "metadata": {},
     "output_type": "execute_result"
    }
   ],
   "source": [
    "# Separate majority and minority classes\n",
    "df_majority = df_feedback[df_feedback.overall==1]\n",
    "df_minority = df_feedback[df_feedback.overall==0]\n",
    " \n",
    "# Downsample majority class\n",
    "df_majority_downsampled = resample(df_majority, \n",
    "                                 replace=False,    # sample without replacement\n",
    "                                 n_samples=5000,   # to match minority class\n",
    "                                 random_state=123) # reproducible results\n",
    " \n",
    "# Combine minority class with downsampled majority class\n",
    "df_downsampled = pd.concat([df_majority_downsampled, df_minority])\n",
    " \n",
    "# Display new class counts\n",
    "df_downsampled.overall.value_counts()"
   ]
  },
  {
   "cell_type": "code",
   "execution_count": 61,
   "metadata": {},
   "outputs": [
    {
     "data": {
      "text/plain": [
       "(6239, 2)"
      ]
     },
     "execution_count": 61,
     "metadata": {},
     "output_type": "execute_result"
    }
   ],
   "source": [
    "# Display the downsampled dataframe shape\n",
    "df_downsampled.shape"
   ]
  },
  {
   "cell_type": "code",
   "execution_count": 62,
   "metadata": {},
   "outputs": [
    {
     "data": {
      "text/html": [
       "<div>\n",
       "<style scoped>\n",
       "    .dataframe tbody tr th:only-of-type {\n",
       "        vertical-align: middle;\n",
       "    }\n",
       "\n",
       "    .dataframe tbody tr th {\n",
       "        vertical-align: top;\n",
       "    }\n",
       "\n",
       "    .dataframe thead th {\n",
       "        text-align: right;\n",
       "    }\n",
       "</style>\n",
       "<table border=\"1\" class=\"dataframe\">\n",
       "  <thead>\n",
       "    <tr style=\"text-align: right;\">\n",
       "      <th></th>\n",
       "      <th>overall</th>\n",
       "      <th>feedbackText</th>\n",
       "    </tr>\n",
       "  </thead>\n",
       "  <tbody>\n",
       "    <tr>\n",
       "      <th>8547</th>\n",
       "      <td>1</td>\n",
       "      <td>i ve only recently heard of joyo pedals  and t...</td>\n",
       "    </tr>\n",
       "    <tr>\n",
       "      <th>858</th>\n",
       "      <td>1</td>\n",
       "      <td>perfect fit for me  i don t like a pick that i...</td>\n",
       "    </tr>\n",
       "    <tr>\n",
       "      <th>4034</th>\n",
       "      <td>1</td>\n",
       "      <td>i really like this strap  it s comfortable  ad...</td>\n",
       "    </tr>\n",
       "    <tr>\n",
       "      <th>5581</th>\n",
       "      <td>1</td>\n",
       "      <td>when i purchased this pedal from a local music...</td>\n",
       "    </tr>\n",
       "    <tr>\n",
       "      <th>3410</th>\n",
       "      <td>1</td>\n",
       "      <td>a little bigger than my other pick holder  so ...</td>\n",
       "    </tr>\n",
       "    <tr>\n",
       "      <th>...</th>\n",
       "      <td>...</td>\n",
       "      <td>...</td>\n",
       "    </tr>\n",
       "    <tr>\n",
       "      <th>10189</th>\n",
       "      <td>0</td>\n",
       "      <td>i am a fan of planet waves ns capos  but this ...</td>\n",
       "    </tr>\n",
       "    <tr>\n",
       "      <th>10192</th>\n",
       "      <td>0</td>\n",
       "      <td>the planet waves d addario artist capo seems l...</td>\n",
       "    </tr>\n",
       "    <tr>\n",
       "      <th>10237</th>\n",
       "      <td>0</td>\n",
       "      <td>don t get me wrong  the improvement over the o...</td>\n",
       "    </tr>\n",
       "    <tr>\n",
       "      <th>10247</th>\n",
       "      <td>0</td>\n",
       "      <td>i was looking forward to trying these  as i ve...</td>\n",
       "    </tr>\n",
       "    <tr>\n",
       "      <th>10255</th>\n",
       "      <td>0</td>\n",
       "      <td>i have lots of friends who play these strings ...</td>\n",
       "    </tr>\n",
       "  </tbody>\n",
       "</table>\n",
       "<p>6239 rows × 2 columns</p>\n",
       "</div>"
      ],
      "text/plain": [
       "       overall                                       feedbackText\n",
       "8547         1  i ve only recently heard of joyo pedals  and t...\n",
       "858          1  perfect fit for me  i don t like a pick that i...\n",
       "4034         1  i really like this strap  it s comfortable  ad...\n",
       "5581         1  when i purchased this pedal from a local music...\n",
       "3410         1  a little bigger than my other pick holder  so ...\n",
       "...        ...                                                ...\n",
       "10189        0  i am a fan of planet waves ns capos  but this ...\n",
       "10192        0  the planet waves d addario artist capo seems l...\n",
       "10237        0  don t get me wrong  the improvement over the o...\n",
       "10247        0  i was looking forward to trying these  as i ve...\n",
       "10255        0  i have lots of friends who play these strings ...\n",
       "\n",
       "[6239 rows x 2 columns]"
      ]
     },
     "execution_count": 62,
     "metadata": {},
     "output_type": "execute_result"
    }
   ],
   "source": [
    "# Display the downsampled data\n",
    "df_downsampled"
   ]
  },
  {
   "cell_type": "code",
   "execution_count": 63,
   "metadata": {},
   "outputs": [],
   "source": [
    "#Set the data to X and y\n",
    "X = df_downsampled.drop('overall', axis=1)\n",
    "y = df_downsampled.overall"
   ]
  },
  {
   "cell_type": "code",
   "execution_count": 64,
   "metadata": {},
   "outputs": [],
   "source": [
    "# Encode the string variables\n",
    "label_encoder = preprocessing.LabelEncoder()\n",
    "int_encode = label_encoder.fit_transform(X)"
   ]
  },
  {
   "cell_type": "code",
   "execution_count": 65,
   "metadata": {},
   "outputs": [],
   "source": [
    "# Encode the string variable as a one-hot numeric array\n",
    "onehot_encoder = preprocessing.OneHotEncoder(sparse=False)\n",
    "int_encode = int_encode.reshape(len(int_encode), 1)\n",
    "X = onehot_encoder.fit_transform(int_encode)"
   ]
  },
  {
   "cell_type": "code",
   "execution_count": 66,
   "metadata": {},
   "outputs": [],
   "source": [
    "#split the data\n",
    "X_train,X_test,y_train,y_test = train_test_split(X,y,test_size = 0.2 , random_state = 0)"
   ]
  },
  {
   "cell_type": "code",
   "execution_count": 68,
   "metadata": {},
   "outputs": [
    {
     "name": "stdout",
     "output_type": "stream",
     "text": [
      "lr accuracy: 0.8205128205128205\n",
      "lr f1: 0.7396171903214157\n",
      "              precision    recall  f1-score   support\n",
      "\n",
      "           0       0.00      0.00      0.00       224\n",
      "           1       0.82      1.00      0.90      1024\n",
      "\n",
      "    accuracy                           0.82      1248\n",
      "   macro avg       0.41      0.50      0.45      1248\n",
      "weighted avg       0.67      0.82      0.74      1248\n",
      "\n"
     ]
    }
   ],
   "source": [
    "# Run the Logistic Regression Model on downsampled dataset\n",
    "lr_dwn_smpl = LogisticRegression(solver='newton-cg')\n",
    "\n",
    "#fit\n",
    "lr_dwn_smpl_fit = lr_dwn_smpl.fit(X_train, y_train)\n",
    "\n",
    "#predict\n",
    "lr_dwn_smpl_predict = lr_dwn_smpl.predict(X_test)\n",
    "\n",
    "#accuracy\n",
    "lr_dwn_smpl_ac = accuracy_score(y_test, lr_dwn_smpl_predict)\n",
    "\n",
    "# f1 Score\n",
    "lr_dwn_smpl_f1 = f1_score(y_test, lr_dwn_smpl_predict, average= 'weighted')\n",
    "\n",
    "print('lr accuracy:', lr_dwn_smpl_ac)\n",
    "print('lr f1:', lr_dwn_smpl_f1)\n",
    "print(classification_report(y_test, lr_dwn_smpl_predict))"
   ]
  },
  {
   "cell_type": "markdown",
   "metadata": {},
   "source": [
    "#### Neural Network Classifier with Keras - Confusion Matrix"
   ]
  },
  {
   "cell_type": "code",
   "execution_count": 69,
   "metadata": {
    "scrolled": true
   },
   "outputs": [
    {
     "data": {
      "image/png": "[encoded data removed]",
      "text/plain": [
       "<Figure size 432x432 with 1 Axes>"
      ]
     },
     "metadata": {
      "needs_background": "light"
     },
     "output_type": "display_data"
    }
   ],
   "source": [
    "#Calling function to plot Confusion Matrix for Logistic Regression Model - with Downsampling\n",
    "conf_matrix(y_test, lr_dwn_smpl_predict)"
   ]
  },
  {
   "cell_type": "markdown",
   "metadata": {},
   "source": [
    "## Model Evaluation"
   ]
  },
  {
   "cell_type": "markdown",
   "metadata": {},
   "source": [
    "### Model evaluation based on accuracy"
   ]
  },
  {
   "cell_type": "code",
   "execution_count": 101,
   "metadata": {},
   "outputs": [
    {
     "data": {
      "text/html": [
       "<div>\n",
       "<style scoped>\n",
       "    .dataframe tbody tr th:only-of-type {\n",
       "        vertical-align: middle;\n",
       "    }\n",
       "\n",
       "    .dataframe tbody tr th {\n",
       "        vertical-align: top;\n",
       "    }\n",
       "\n",
       "    .dataframe thead th {\n",
       "        text-align: right;\n",
       "    }\n",
       "</style>\n",
       "<table border=\"1\" class=\"dataframe\">\n",
       "  <thead>\n",
       "    <tr style=\"text-align: right;\">\n",
       "      <th></th>\n",
       "      <th>model</th>\n",
       "      <th>accuracy</th>\n",
       "    </tr>\n",
       "  </thead>\n",
       "  <tbody>\n",
       "    <tr>\n",
       "      <th>0</th>\n",
       "      <td>Naive Bayes</td>\n",
       "      <td>88.894301</td>\n",
       "    </tr>\n",
       "    <tr>\n",
       "      <th>1</th>\n",
       "      <td>Random Forest</td>\n",
       "      <td>88.894301</td>\n",
       "    </tr>\n",
       "    <tr>\n",
       "      <th>2</th>\n",
       "      <td>Linear SVC</td>\n",
       "      <td>88.991719</td>\n",
       "    </tr>\n",
       "    <tr>\n",
       "      <th>3</th>\n",
       "      <td>Logistic Regression</td>\n",
       "      <td>88.894301</td>\n",
       "    </tr>\n",
       "    <tr>\n",
       "      <th>4</th>\n",
       "      <td>XGB Classifier</td>\n",
       "      <td>88.796883</td>\n",
       "    </tr>\n",
       "    <tr>\n",
       "      <th>5</th>\n",
       "      <td>Logistic Regression - class_weight</td>\n",
       "      <td>89.186556</td>\n",
       "    </tr>\n",
       "    <tr>\n",
       "      <th>6</th>\n",
       "      <td>Neural Network Classifier</td>\n",
       "      <td>88.504627</td>\n",
       "    </tr>\n",
       "    <tr>\n",
       "      <th>7</th>\n",
       "      <td>Neural Network Classifier with Keras</td>\n",
       "      <td>88.991719</td>\n",
       "    </tr>\n",
       "    <tr>\n",
       "      <th>8</th>\n",
       "      <td>Logistic Regression Model - with Downsampling</td>\n",
       "      <td>82.051282</td>\n",
       "    </tr>\n",
       "  </tbody>\n",
       "</table>\n",
       "</div>"
      ],
      "text/plain": [
       "                                           model   accuracy\n",
       "0                                    Naive Bayes  88.894301\n",
       "1                                  Random Forest  88.894301\n",
       "2                                     Linear SVC  88.991719\n",
       "3                            Logistic Regression  88.894301\n",
       "4                                 XGB Classifier  88.796883\n",
       "5             Logistic Regression - class_weight  89.186556\n",
       "6                      Neural Network Classifier  88.504627\n",
       "7           Neural Network Classifier with Keras  88.991719\n",
       "8  Logistic Regression Model - with Downsampling  82.051282"
      ]
     },
     "execution_count": 101,
     "metadata": {},
     "output_type": "execute_result"
    }
   ],
   "source": [
    "# Compare all the model results\n",
    "model_accuracy_data = {'model': ['Naive Bayes', 'Random Forest', 'Linear SVC', 'Logistic Regression', 'XGB Classifier', 'Logistic Regression - class_weight', 'Neural Network Classifier', 'Neural Network Classifier with Keras', 'Logistic Regression Model - with Downsampling'], \n",
    " 'accuracy': [nb_tfidf * 100, rf_tfidf * 100, ls_tfidf * 100, lr_tfidf * 100, xgb_tfidf * 100, lrcw_tfidf * 100, mlp_tfidf * 100, nn_keras_accuracy * 100, lr_dwn_smpl_ac * 100]\n",
    "}\n",
    "df_model_accuracy = pd.DataFrame(model_accuracy_data, columns = ['model', 'accuracy'])\n",
    "df_model_accuracy"
   ]
  },
  {
   "cell_type": "code",
   "execution_count": 102,
   "metadata": {},
   "outputs": [
    {
     "data": {
      "text/plain": [
       "<matplotlib.axes._subplots.AxesSubplot at 0x2bc91838910>"
      ]
     },
     "execution_count": 102,
     "metadata": {},
     "output_type": "execute_result"
    },
    {
     "data": {
      "image/png": "[encoded data removed]",
      "text/plain": [
       "<Figure size 1224x504 with 1 Axes>"
      ]
     },
     "metadata": {
      "needs_background": "light"
     },
     "output_type": "display_data"
    }
   ],
   "source": [
    "# Plot the Model Comparison based on accuracy\n",
    "plt.figure(figsize = (17,7))\n",
    "sns.barplot(y = df_model_accuracy.model, x = df_model_accuracy.accuracy)"
   ]
  },
  {
   "cell_type": "markdown",
   "metadata": {},
   "source": [
    "### For imbalanced data, Accuracy may not be the best measure of evaluating the model."
   ]
  },
  {
   "cell_type": "markdown",
   "metadata": {},
   "source": [
    "### However, downsampling the majority class data does show the variation in the accuracy. "
   ]
  },
  {
   "cell_type": "markdown",
   "metadata": {},
   "source": [
    "### Let's compare the f1 Scores instead."
   ]
  },
  {
   "cell_type": "markdown",
   "metadata": {},
   "source": [
    "### 1. Model evaluation based on f1 Score"
   ]
  },
  {
   "cell_type": "code",
   "execution_count": 103,
   "metadata": {},
   "outputs": [
    {
     "data": {
      "text/html": [
       "<div>\n",
       "<style scoped>\n",
       "    .dataframe tbody tr th:only-of-type {\n",
       "        vertical-align: middle;\n",
       "    }\n",
       "\n",
       "    .dataframe tbody tr th {\n",
       "        vertical-align: top;\n",
       "    }\n",
       "\n",
       "    .dataframe thead th {\n",
       "        text-align: right;\n",
       "    }\n",
       "</style>\n",
       "<table border=\"1\" class=\"dataframe\">\n",
       "  <thead>\n",
       "    <tr style=\"text-align: right;\">\n",
       "      <th></th>\n",
       "      <th>model</th>\n",
       "      <th>f1_score</th>\n",
       "    </tr>\n",
       "  </thead>\n",
       "  <tbody>\n",
       "    <tr>\n",
       "      <th>0</th>\n",
       "      <td>Naive Bayes</td>\n",
       "      <td>0.836679</td>\n",
       "    </tr>\n",
       "    <tr>\n",
       "      <th>1</th>\n",
       "      <td>Random Forest</td>\n",
       "      <td>0.836679</td>\n",
       "    </tr>\n",
       "    <tr>\n",
       "      <th>2</th>\n",
       "      <td>Linear SVC</td>\n",
       "      <td>0.839042</td>\n",
       "    </tr>\n",
       "    <tr>\n",
       "      <th>3</th>\n",
       "      <td>Logistic Regression</td>\n",
       "      <td>0.836679</td>\n",
       "    </tr>\n",
       "    <tr>\n",
       "      <th>4</th>\n",
       "      <td>XGB Classifier</td>\n",
       "      <td>0.867103</td>\n",
       "    </tr>\n",
       "    <tr>\n",
       "      <th>5</th>\n",
       "      <td>Logistic Regression - class_weight</td>\n",
       "      <td>0.843671</td>\n",
       "    </tr>\n",
       "    <tr>\n",
       "      <th>6</th>\n",
       "      <td>Neural Network Classifier</td>\n",
       "      <td>0.847542</td>\n",
       "    </tr>\n",
       "    <tr>\n",
       "      <th>7</th>\n",
       "      <td>Neural Network Classifier with Keras</td>\n",
       "      <td>0.883326</td>\n",
       "    </tr>\n",
       "    <tr>\n",
       "      <th>8</th>\n",
       "      <td>Logistic Regression Model - with Downsampling</td>\n",
       "      <td>0.739617</td>\n",
       "    </tr>\n",
       "  </tbody>\n",
       "</table>\n",
       "</div>"
      ],
      "text/plain": [
       "                                           model  f1_score\n",
       "0                                    Naive Bayes  0.836679\n",
       "1                                  Random Forest  0.836679\n",
       "2                                     Linear SVC  0.839042\n",
       "3                            Logistic Regression  0.836679\n",
       "4                                 XGB Classifier  0.867103\n",
       "5             Logistic Regression - class_weight  0.843671\n",
       "6                      Neural Network Classifier  0.847542\n",
       "7           Neural Network Classifier with Keras  0.883326\n",
       "8  Logistic Regression Model - with Downsampling  0.739617"
      ]
     },
     "execution_count": 103,
     "metadata": {},
     "output_type": "execute_result"
    }
   ],
   "source": [
    "# Compare all the f1 Scores\n",
    "model_f1_score_data = {'model': ['Naive Bayes', 'Random Forest', 'Linear SVC', 'Logistic Regression', 'XGB Classifier', 'Logistic Regression - class_weight', 'Neural Network Classifier', 'Neural Network Classifier with Keras', 'Logistic Regression Model - with Downsampling'], \n",
    " 'f1_score': [nb_f1, rf_f1, ls_f1, lr_f1, xgb_f1, lrcw_f1, mlp_f1, nn_keras_f1, lr_dwn_smpl_f1]\n",
    "}\n",
    "df_model_f1_score = pd.DataFrame(model_f1_score_data, columns = ['model', 'f1_score'])\n",
    "df_model_f1_score"
   ]
  },
  {
   "cell_type": "code",
   "execution_count": 104,
   "metadata": {},
   "outputs": [
    {
     "data": {
      "text/plain": [
       "<matplotlib.axes._subplots.AxesSubplot at 0x2bc8f7ffe50>"
      ]
     },
     "execution_count": 104,
     "metadata": {},
     "output_type": "execute_result"
    },
    {
     "data": {
      "image/png": "[encoded data removed]",
      "text/plain": [
       "<Figure size 1224x504 with 1 Axes>"
      ]
     },
     "metadata": {
      "needs_background": "light"
     },
     "output_type": "display_data"
    }
   ],
   "source": [
    "# Plot the Model Comparison based on accuracy\n",
    "plt.figure(figsize = (17,7))\n",
    "sns.barplot(y = df_model_f1_score.model, x = df_model_f1_score.f1_score)"
   ]
  },
  {
   "cell_type": "markdown",
   "metadata": {},
   "source": [
    "## Based on the f1 score of the weighted averages, Neural Network with Keras shows best results."
   ]
  },
  {
   "cell_type": "code",
   "execution_count": null,
   "metadata": {},
   "outputs": [],
   "source": []
  }
 ],
 "metadata": {
  "kernelspec": {
   "display_name": "Python 3",
   "language": "python",
   "name": "python3"
  },
  "language_info": {
   "codemirror_mode": {
    "name": "ipython",
    "version": 3
   },
   "file_extension": ".py",
   "mimetype": "text/x-python",
   "name": "python",
   "nbconvert_exporter": "python",
   "pygments_lexer": "ipython3",
   "version": "3.8.3"
  }
 },
 "nbformat": 4,
 "nbformat_minor": 4
}
