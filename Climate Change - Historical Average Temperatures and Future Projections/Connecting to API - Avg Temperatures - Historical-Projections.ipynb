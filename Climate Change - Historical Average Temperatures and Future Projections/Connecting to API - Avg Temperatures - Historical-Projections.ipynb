{
 "cells": [
  {
   "cell_type": "markdown",
   "metadata": {},
   "source": [
    "### <p style=\"text-align: center;\">Climate Change Knowledge Portal <br/> Historical Data and Projections</p>\n",
    "#### <p style=\"text-align: center;\">DSC540 – Data Preparation <br/> Term Project - Milestone 4 <br/> Winter 2020 <br/> Manish Kalkar</p>\n",
    "### <p style=\"text-align: center;\">Connecting to an API / Pulling in the Data and Cleaning / Formatting</p>"
   ]
  },
  {
   "cell_type": "markdown",
   "metadata": {},
   "source": [
    "## Historical Data - Average Yearly Temperatures for United States"
   ]
  },
  {
   "cell_type": "markdown",
   "metadata": {},
   "source": [
    "### Load the necessary libraries"
   ]
  },
  {
   "cell_type": "code",
   "execution_count": 1,
   "metadata": {},
   "outputs": [],
   "source": [
    "import pandas as pd\n",
    "import numpy as np\n",
    "import matplotlib.pyplot as plt"
   ]
  },
  {
   "cell_type": "markdown",
   "metadata": {},
   "source": [
    "### Connect to an API and import Average Yearly temperature (Historical) data in JSON format into the data frame"
   ]
  },
  {
   "cell_type": "code",
   "execution_count": 10,
   "metadata": {},
   "outputs": [
    {
     "data": {
      "text/html": [
       "<div>\n",
       "<style scoped>\n",
       "    .dataframe tbody tr th:only-of-type {\n",
       "        vertical-align: middle;\n",
       "    }\n",
       "\n",
       "    .dataframe tbody tr th {\n",
       "        vertical-align: top;\n",
       "    }\n",
       "\n",
       "    .dataframe thead th {\n",
       "        text-align: right;\n",
       "    }\n",
       "</style>\n",
       "<table border=\"1\" class=\"dataframe\">\n",
       "  <thead>\n",
       "    <tr style=\"text-align: right;\">\n",
       "      <th></th>\n",
       "      <th>year</th>\n",
       "      <th>data</th>\n",
       "    </tr>\n",
       "  </thead>\n",
       "  <tbody>\n",
       "    <tr>\n",
       "      <th>0</th>\n",
       "      <td>1901</td>\n",
       "      <td>6.618749</td>\n",
       "    </tr>\n",
       "    <tr>\n",
       "      <th>1</th>\n",
       "      <td>1902</td>\n",
       "      <td>6.464327</td>\n",
       "    </tr>\n",
       "    <tr>\n",
       "      <th>2</th>\n",
       "      <td>1903</td>\n",
       "      <td>6.073844</td>\n",
       "    </tr>\n",
       "    <tr>\n",
       "      <th>3</th>\n",
       "      <td>1904</td>\n",
       "      <td>6.149883</td>\n",
       "    </tr>\n",
       "    <tr>\n",
       "      <th>4</th>\n",
       "      <td>1905</td>\n",
       "      <td>6.599617</td>\n",
       "    </tr>\n",
       "    <tr>\n",
       "      <th>...</th>\n",
       "      <td>...</td>\n",
       "      <td>...</td>\n",
       "    </tr>\n",
       "    <tr>\n",
       "      <th>107</th>\n",
       "      <td>2008</td>\n",
       "      <td>6.935361</td>\n",
       "    </tr>\n",
       "    <tr>\n",
       "      <th>108</th>\n",
       "      <td>2009</td>\n",
       "      <td>7.102065</td>\n",
       "    </tr>\n",
       "    <tr>\n",
       "      <th>109</th>\n",
       "      <td>2010</td>\n",
       "      <td>7.409120</td>\n",
       "    </tr>\n",
       "    <tr>\n",
       "      <th>110</th>\n",
       "      <td>2011</td>\n",
       "      <td>7.405612</td>\n",
       "    </tr>\n",
       "    <tr>\n",
       "      <th>111</th>\n",
       "      <td>2012</td>\n",
       "      <td>7.939524</td>\n",
       "    </tr>\n",
       "  </tbody>\n",
       "</table>\n",
       "<p>112 rows × 2 columns</p>\n",
       "</div>"
      ],
      "text/plain": [
       "     year      data\n",
       "0    1901  6.618749\n",
       "1    1902  6.464327\n",
       "2    1903  6.073844\n",
       "3    1904  6.149883\n",
       "4    1905  6.599617\n",
       "..    ...       ...\n",
       "107  2008  6.935361\n",
       "108  2009  7.102065\n",
       "109  2010  7.409120\n",
       "110  2011  7.405612\n",
       "111  2012  7.939524\n",
       "\n",
       "[112 rows x 2 columns]"
      ]
     },
     "execution_count": 10,
     "metadata": {},
     "output_type": "execute_result"
    }
   ],
   "source": [
    "df_1901_2012 = pd.read_json (r'http://climatedataapi.worldbank.org/climateweb/rest/v1/country/cru/tas/year/USA.json')\n",
    "df_historical = df_1901_2012\n",
    "df_historical"
   ]
  },
  {
   "cell_type": "markdown",
   "metadata": {},
   "source": [
    "### Change order of the header columns - Swap data with year"
   ]
  },
  {
   "cell_type": "code",
   "execution_count": 11,
   "metadata": {},
   "outputs": [
    {
     "data": {
      "text/html": [
       "<div>\n",
       "<style scoped>\n",
       "    .dataframe tbody tr th:only-of-type {\n",
       "        vertical-align: middle;\n",
       "    }\n",
       "\n",
       "    .dataframe tbody tr th {\n",
       "        vertical-align: top;\n",
       "    }\n",
       "\n",
       "    .dataframe thead th {\n",
       "        text-align: right;\n",
       "    }\n",
       "</style>\n",
       "<table border=\"1\" class=\"dataframe\">\n",
       "  <thead>\n",
       "    <tr style=\"text-align: right;\">\n",
       "      <th></th>\n",
       "      <th>data</th>\n",
       "      <th>year</th>\n",
       "    </tr>\n",
       "  </thead>\n",
       "  <tbody>\n",
       "    <tr>\n",
       "      <th>0</th>\n",
       "      <td>6.618749</td>\n",
       "      <td>1901</td>\n",
       "    </tr>\n",
       "    <tr>\n",
       "      <th>1</th>\n",
       "      <td>6.464327</td>\n",
       "      <td>1902</td>\n",
       "    </tr>\n",
       "    <tr>\n",
       "      <th>2</th>\n",
       "      <td>6.073844</td>\n",
       "      <td>1903</td>\n",
       "    </tr>\n",
       "    <tr>\n",
       "      <th>3</th>\n",
       "      <td>6.149883</td>\n",
       "      <td>1904</td>\n",
       "    </tr>\n",
       "    <tr>\n",
       "      <th>4</th>\n",
       "      <td>6.599617</td>\n",
       "      <td>1905</td>\n",
       "    </tr>\n",
       "    <tr>\n",
       "      <th>...</th>\n",
       "      <td>...</td>\n",
       "      <td>...</td>\n",
       "    </tr>\n",
       "    <tr>\n",
       "      <th>107</th>\n",
       "      <td>6.935361</td>\n",
       "      <td>2008</td>\n",
       "    </tr>\n",
       "    <tr>\n",
       "      <th>108</th>\n",
       "      <td>7.102065</td>\n",
       "      <td>2009</td>\n",
       "    </tr>\n",
       "    <tr>\n",
       "      <th>109</th>\n",
       "      <td>7.409120</td>\n",
       "      <td>2010</td>\n",
       "    </tr>\n",
       "    <tr>\n",
       "      <th>110</th>\n",
       "      <td>7.405612</td>\n",
       "      <td>2011</td>\n",
       "    </tr>\n",
       "    <tr>\n",
       "      <th>111</th>\n",
       "      <td>7.939524</td>\n",
       "      <td>2012</td>\n",
       "    </tr>\n",
       "  </tbody>\n",
       "</table>\n",
       "<p>112 rows × 2 columns</p>\n",
       "</div>"
      ],
      "text/plain": [
       "         data  year\n",
       "0    6.618749  1901\n",
       "1    6.464327  1902\n",
       "2    6.073844  1903\n",
       "3    6.149883  1904\n",
       "4    6.599617  1905\n",
       "..        ...   ...\n",
       "107  6.935361  2008\n",
       "108  7.102065  2009\n",
       "109  7.409120  2010\n",
       "110  7.405612  2011\n",
       "111  7.939524  2012\n",
       "\n",
       "[112 rows x 2 columns]"
      ]
     },
     "execution_count": 11,
     "metadata": {},
     "output_type": "execute_result"
    }
   ],
   "source": [
    "df_historical = df_historical[['data', 'year']]\n",
    "df_historical"
   ]
  },
  {
   "cell_type": "markdown",
   "metadata": {},
   "source": [
    "### Replace Headers"
   ]
  },
  {
   "cell_type": "code",
   "execution_count": 12,
   "metadata": {},
   "outputs": [
    {
     "data": {
      "text/html": [
       "<div>\n",
       "<style scoped>\n",
       "    .dataframe tbody tr th:only-of-type {\n",
       "        vertical-align: middle;\n",
       "    }\n",
       "\n",
       "    .dataframe tbody tr th {\n",
       "        vertical-align: top;\n",
       "    }\n",
       "\n",
       "    .dataframe thead th {\n",
       "        text-align: right;\n",
       "    }\n",
       "</style>\n",
       "<table border=\"1\" class=\"dataframe\">\n",
       "  <thead>\n",
       "    <tr style=\"text-align: right;\">\n",
       "      <th></th>\n",
       "      <th>Average_Temperature_Deg_C</th>\n",
       "      <th>Year</th>\n",
       "    </tr>\n",
       "  </thead>\n",
       "  <tbody>\n",
       "    <tr>\n",
       "      <th>0</th>\n",
       "      <td>6.618749</td>\n",
       "      <td>1901</td>\n",
       "    </tr>\n",
       "    <tr>\n",
       "      <th>1</th>\n",
       "      <td>6.464327</td>\n",
       "      <td>1902</td>\n",
       "    </tr>\n",
       "    <tr>\n",
       "      <th>2</th>\n",
       "      <td>6.073844</td>\n",
       "      <td>1903</td>\n",
       "    </tr>\n",
       "    <tr>\n",
       "      <th>3</th>\n",
       "      <td>6.149883</td>\n",
       "      <td>1904</td>\n",
       "    </tr>\n",
       "    <tr>\n",
       "      <th>4</th>\n",
       "      <td>6.599617</td>\n",
       "      <td>1905</td>\n",
       "    </tr>\n",
       "    <tr>\n",
       "      <th>...</th>\n",
       "      <td>...</td>\n",
       "      <td>...</td>\n",
       "    </tr>\n",
       "    <tr>\n",
       "      <th>107</th>\n",
       "      <td>6.935361</td>\n",
       "      <td>2008</td>\n",
       "    </tr>\n",
       "    <tr>\n",
       "      <th>108</th>\n",
       "      <td>7.102065</td>\n",
       "      <td>2009</td>\n",
       "    </tr>\n",
       "    <tr>\n",
       "      <th>109</th>\n",
       "      <td>7.409120</td>\n",
       "      <td>2010</td>\n",
       "    </tr>\n",
       "    <tr>\n",
       "      <th>110</th>\n",
       "      <td>7.405612</td>\n",
       "      <td>2011</td>\n",
       "    </tr>\n",
       "    <tr>\n",
       "      <th>111</th>\n",
       "      <td>7.939524</td>\n",
       "      <td>2012</td>\n",
       "    </tr>\n",
       "  </tbody>\n",
       "</table>\n",
       "<p>112 rows × 2 columns</p>\n",
       "</div>"
      ],
      "text/plain": [
       "     Average_Temperature_Deg_C  Year\n",
       "0                     6.618749  1901\n",
       "1                     6.464327  1902\n",
       "2                     6.073844  1903\n",
       "3                     6.149883  1904\n",
       "4                     6.599617  1905\n",
       "..                         ...   ...\n",
       "107                   6.935361  2008\n",
       "108                   7.102065  2009\n",
       "109                   7.409120  2010\n",
       "110                   7.405612  2011\n",
       "111                   7.939524  2012\n",
       "\n",
       "[112 rows x 2 columns]"
      ]
     },
     "execution_count": 12,
     "metadata": {},
     "output_type": "execute_result"
    }
   ],
   "source": [
    "df_historical = df_historical.rename(columns={'data': 'Average_Temperature_Deg_C'})\n",
    "df_historical = df_historical.rename(columns={'year': 'Year'})\n",
    "df_historical"
   ]
  },
  {
   "cell_type": "markdown",
   "metadata": {},
   "source": [
    "### Format data"
   ]
  },
  {
   "cell_type": "markdown",
   "metadata": {},
   "source": [
    "### Check for duplicates"
   ]
  },
  {
   "cell_type": "code",
   "execution_count": 13,
   "metadata": {},
   "outputs": [
    {
     "name": "stdout",
     "output_type": "stream",
     "text": [
      "Average Temperature is duplictaed - False\n",
      "Year is duplictaed - False\n"
     ]
    }
   ],
   "source": [
    "print(\"Average Temperature is duplictaed - {}\".format(any(df_historical.Average_Temperature_Deg_C.duplicated())))\n",
    "print(\"Year is duplictaed - {}\".format(any(df_historical.Year.duplicated())))"
   ]
  },
  {
   "cell_type": "markdown",
   "metadata": {},
   "source": [
    "### Check for NaN values"
   ]
  },
  {
   "cell_type": "code",
   "execution_count": 14,
   "metadata": {},
   "outputs": [
    {
     "name": "stdout",
     "output_type": "stream",
     "text": [
      "The column Average Temperature contains NaN - False \n",
      "The column Year contains NaN - False \n"
     ]
    }
   ],
   "source": [
    "print(\"The column Average Temperature contains NaN - %r \" % df_historical.Average_Temperature_Deg_C.isnull().values.any())\n",
    "print(\"The column Year contains NaN - %r \" % df_historical.Year.isnull().values.any())"
   ]
  },
  {
   "cell_type": "markdown",
   "metadata": {},
   "source": [
    "### Fix inconsistent values"
   ]
  },
  {
   "cell_type": "markdown",
   "metadata": {},
   "source": [
    "####  Average Temperature column has inconsistent decimal places"
   ]
  },
  {
   "cell_type": "markdown",
   "metadata": {},
   "source": [
    "#### Round up Average Temperature Values to \"Two\" decimals"
   ]
  },
  {
   "cell_type": "code",
   "execution_count": 15,
   "metadata": {},
   "outputs": [
    {
     "data": {
      "text/html": [
       "<div>\n",
       "<style scoped>\n",
       "    .dataframe tbody tr th:only-of-type {\n",
       "        vertical-align: middle;\n",
       "    }\n",
       "\n",
       "    .dataframe tbody tr th {\n",
       "        vertical-align: top;\n",
       "    }\n",
       "\n",
       "    .dataframe thead th {\n",
       "        text-align: right;\n",
       "    }\n",
       "</style>\n",
       "<table border=\"1\" class=\"dataframe\">\n",
       "  <thead>\n",
       "    <tr style=\"text-align: right;\">\n",
       "      <th></th>\n",
       "      <th>Average_Temperature_Deg_C</th>\n",
       "      <th>Year</th>\n",
       "    </tr>\n",
       "  </thead>\n",
       "  <tbody>\n",
       "    <tr>\n",
       "      <th>0</th>\n",
       "      <td>6.62</td>\n",
       "      <td>1901</td>\n",
       "    </tr>\n",
       "    <tr>\n",
       "      <th>1</th>\n",
       "      <td>6.46</td>\n",
       "      <td>1902</td>\n",
       "    </tr>\n",
       "    <tr>\n",
       "      <th>2</th>\n",
       "      <td>6.07</td>\n",
       "      <td>1903</td>\n",
       "    </tr>\n",
       "    <tr>\n",
       "      <th>3</th>\n",
       "      <td>6.15</td>\n",
       "      <td>1904</td>\n",
       "    </tr>\n",
       "    <tr>\n",
       "      <th>4</th>\n",
       "      <td>6.60</td>\n",
       "      <td>1905</td>\n",
       "    </tr>\n",
       "    <tr>\n",
       "      <th>...</th>\n",
       "      <td>...</td>\n",
       "      <td>...</td>\n",
       "    </tr>\n",
       "    <tr>\n",
       "      <th>107</th>\n",
       "      <td>6.94</td>\n",
       "      <td>2008</td>\n",
       "    </tr>\n",
       "    <tr>\n",
       "      <th>108</th>\n",
       "      <td>7.10</td>\n",
       "      <td>2009</td>\n",
       "    </tr>\n",
       "    <tr>\n",
       "      <th>109</th>\n",
       "      <td>7.41</td>\n",
       "      <td>2010</td>\n",
       "    </tr>\n",
       "    <tr>\n",
       "      <th>110</th>\n",
       "      <td>7.41</td>\n",
       "      <td>2011</td>\n",
       "    </tr>\n",
       "    <tr>\n",
       "      <th>111</th>\n",
       "      <td>7.94</td>\n",
       "      <td>2012</td>\n",
       "    </tr>\n",
       "  </tbody>\n",
       "</table>\n",
       "<p>112 rows × 2 columns</p>\n",
       "</div>"
      ],
      "text/plain": [
       "     Average_Temperature_Deg_C  Year\n",
       "0                         6.62  1901\n",
       "1                         6.46  1902\n",
       "2                         6.07  1903\n",
       "3                         6.15  1904\n",
       "4                         6.60  1905\n",
       "..                         ...   ...\n",
       "107                       6.94  2008\n",
       "108                       7.10  2009\n",
       "109                       7.41  2010\n",
       "110                       7.41  2011\n",
       "111                       7.94  2012\n",
       "\n",
       "[112 rows x 2 columns]"
      ]
     },
     "execution_count": 15,
     "metadata": {},
     "output_type": "execute_result"
    }
   ],
   "source": [
    "df_historical[\"Average_Temperature_Deg_C\"] = round(df_historical.Average_Temperature_Deg_C, 2)\n",
    "df_historical"
   ]
  },
  {
   "cell_type": "markdown",
   "metadata": {},
   "source": [
    "### Identify Outliers - Create a box plot"
   ]
  },
  {
   "cell_type": "code",
   "execution_count": 16,
   "metadata": {
    "scrolled": true
   },
   "outputs": [
    {
     "data": {
      "text/plain": [
       "{'whiskers': [<matplotlib.lines.Line2D at 0x24d2c4b3040>,\n",
       "  <matplotlib.lines.Line2D at 0x24d2c4b33a0>],\n",
       " 'caps': [<matplotlib.lines.Line2D at 0x24d2c4b3700>,\n",
       "  <matplotlib.lines.Line2D at 0x24d2c4b3a60>],\n",
       " 'boxes': [<matplotlib.lines.Line2D at 0x24d2c49bca0>],\n",
       " 'medians': [<matplotlib.lines.Line2D at 0x24d2c4b3dc0>],\n",
       " 'fliers': [<matplotlib.lines.Line2D at 0x24d2c4bd100>],\n",
       " 'means': []}"
      ]
     },
     "execution_count": 16,
     "metadata": {},
     "output_type": "execute_result"
    },
    {
     "data": {
      "image/png": "[encoded data removed]",
      "text/plain": [
       "<Figure size 432x288 with 1 Axes>"
      ]
     },
     "metadata": {
      "needs_background": "light"
     },
     "output_type": "display_data"
    }
   ],
   "source": [
    "plt.boxplot(df_historical.Average_Temperature_Deg_C, notch=True)"
   ]
  },
  {
   "cell_type": "code",
   "execution_count": 17,
   "metadata": {},
   "outputs": [
    {
     "data": {
      "text/plain": [
       "8.05"
      ]
     },
     "execution_count": 17,
     "metadata": {},
     "output_type": "execute_result"
    }
   ],
   "source": [
    "# Find maximum average temperature - Future Projections\n",
    "df_historical.Average_Temperature_Deg_C.max()"
   ]
  },
  {
   "cell_type": "code",
   "execution_count": 18,
   "metadata": {},
   "outputs": [
    {
     "data": {
      "text/plain": [
       "5.67"
      ]
     },
     "execution_count": 18,
     "metadata": {},
     "output_type": "execute_result"
    }
   ],
   "source": [
    "# Find minimum average temperature - Future Projections\n",
    "df_historical.Average_Temperature_Deg_C.min()"
   ]
  },
  {
   "cell_type": "markdown",
   "metadata": {},
   "source": [
    "##### Data in this column in the interval (5.67 Deg C, 8.05 Deg C). However, the main concentration of the data is between 6.6 Deg C to 7.2 Deg C. Anything beyond 8 Deg C and bellow 6 Deg C are outliers."
   ]
  },
  {
   "cell_type": "markdown",
   "metadata": {},
   "source": [
    "### Report the size before getting rid of the outliers"
   ]
  },
  {
   "cell_type": "code",
   "execution_count": 19,
   "metadata": {},
   "outputs": [
    {
     "data": {
      "text/plain": [
       "(112, 2)"
      ]
     },
     "execution_count": 19,
     "metadata": {},
     "output_type": "execute_result"
    }
   ],
   "source": [
    "df_historical.shape"
   ]
  },
  {
   "cell_type": "markdown",
   "metadata": {},
   "source": [
    "### Ger rid of the outliers"
   ]
  },
  {
   "cell_type": "code",
   "execution_count": 21,
   "metadata": {},
   "outputs": [],
   "source": [
    "df_historical_minus_outliers = df_historical[(df_historical['Average_Temperature_Deg_C'] < 8) & (df_historical['Average_Temperature_Deg_C'] > 6)]"
   ]
  },
  {
   "cell_type": "markdown",
   "metadata": {},
   "source": [
    "### Report the size after getting rid of the outliers"
   ]
  },
  {
   "cell_type": "code",
   "execution_count": 22,
   "metadata": {
    "scrolled": true
   },
   "outputs": [
    {
     "data": {
      "text/plain": [
       "(110, 2)"
      ]
     },
     "execution_count": 22,
     "metadata": {},
     "output_type": "execute_result"
    }
   ],
   "source": [
    "df_historical_minus_outliers.shape"
   ]
  },
  {
   "cell_type": "markdown",
   "metadata": {},
   "source": [
    "### Export Dataframe into Output csv File - Future Projections"
   ]
  },
  {
   "cell_type": "code",
   "execution_count": 23,
   "metadata": {},
   "outputs": [],
   "source": [
    "df_historical_minus_outliers.to_csv('API_Historical_Data_Average_Temperatures_USA.csv', index=False)"
   ]
  },
  {
   "cell_type": "markdown",
   "metadata": {},
   "source": [
    "## Future Projections - Average Yearly (Ranges) Temperatures for United States"
   ]
  },
  {
   "cell_type": "markdown",
   "metadata": {},
   "source": [
    "### Connect to an API and import data in CSV format into the data frame"
   ]
  },
  {
   "cell_type": "code",
   "execution_count": 27,
   "metadata": {},
   "outputs": [],
   "source": [
    "df_2020_2039_gcm = pd.read_csv (r'http://climatedataapi.worldbank.org/climateweb/rest/v1/country/annualavg/tas/2020/2039/USA.csv')\n",
    "df_2040_2059_gcm = pd.read_csv (r'http://climatedataapi.worldbank.org/climateweb/rest/v1/country/annualavg/tas/2040/2059/USA.csv')\n",
    "df_2060_2079_gcm = pd.read_csv (r'http://climatedataapi.worldbank.org/climateweb/rest/v1/country/annualavg/tas/2060/2079/USA.csv')\n",
    "df_2080_2099_gcm = pd.read_csv (r'http://climatedataapi.worldbank.org/climateweb/rest/v1/country/annualavg/tas/2080/2099/USA.csv')"
   ]
  },
  {
   "cell_type": "code",
   "execution_count": 28,
   "metadata": {},
   "outputs": [
    {
     "data": {
      "text/html": [
       "<div>\n",
       "<style scoped>\n",
       "    .dataframe tbody tr th:only-of-type {\n",
       "        vertical-align: middle;\n",
       "    }\n",
       "\n",
       "    .dataframe tbody tr th {\n",
       "        vertical-align: top;\n",
       "    }\n",
       "\n",
       "    .dataframe thead th {\n",
       "        text-align: right;\n",
       "    }\n",
       "</style>\n",
       "<table border=\"1\" class=\"dataframe\">\n",
       "  <thead>\n",
       "    <tr style=\"text-align: right;\">\n",
       "      <th></th>\n",
       "      <th>GCM</th>\n",
       "      <th>var</th>\n",
       "      <th>scenario</th>\n",
       "      <th>from_year</th>\n",
       "      <th>to_year</th>\n",
       "      <th>annual</th>\n",
       "    </tr>\n",
       "  </thead>\n",
       "  <tbody>\n",
       "    <tr>\n",
       "      <th>0</th>\n",
       "      <td>bccr_bcm2_0</td>\n",
       "      <td>tas</td>\n",
       "      <td>a2</td>\n",
       "      <td>2020</td>\n",
       "      <td>2039</td>\n",
       "      <td>5.153055</td>\n",
       "    </tr>\n",
       "    <tr>\n",
       "      <th>1</th>\n",
       "      <td>bccr_bcm2_0</td>\n",
       "      <td>tas</td>\n",
       "      <td>b1</td>\n",
       "      <td>2020</td>\n",
       "      <td>2039</td>\n",
       "      <td>5.160215</td>\n",
       "    </tr>\n",
       "    <tr>\n",
       "      <th>2</th>\n",
       "      <td>cccma_cgcm3_1</td>\n",
       "      <td>tas</td>\n",
       "      <td>a2</td>\n",
       "      <td>2020</td>\n",
       "      <td>2039</td>\n",
       "      <td>7.168759</td>\n",
       "    </tr>\n",
       "    <tr>\n",
       "      <th>3</th>\n",
       "      <td>cccma_cgcm3_1</td>\n",
       "      <td>tas</td>\n",
       "      <td>b1</td>\n",
       "      <td>2020</td>\n",
       "      <td>2039</td>\n",
       "      <td>7.114585</td>\n",
       "    </tr>\n",
       "    <tr>\n",
       "      <th>4</th>\n",
       "      <td>cnrm_cm3</td>\n",
       "      <td>tas</td>\n",
       "      <td>a2</td>\n",
       "      <td>2020</td>\n",
       "      <td>2039</td>\n",
       "      <td>7.176206</td>\n",
       "    </tr>\n",
       "    <tr>\n",
       "      <th>5</th>\n",
       "      <td>cnrm_cm3</td>\n",
       "      <td>tas</td>\n",
       "      <td>b1</td>\n",
       "      <td>2020</td>\n",
       "      <td>2039</td>\n",
       "      <td>7.261905</td>\n",
       "    </tr>\n",
       "    <tr>\n",
       "      <th>6</th>\n",
       "      <td>csiro_mk3_5</td>\n",
       "      <td>tas</td>\n",
       "      <td>a2</td>\n",
       "      <td>2020</td>\n",
       "      <td>2039</td>\n",
       "      <td>11.526758</td>\n",
       "    </tr>\n",
       "    <tr>\n",
       "      <th>7</th>\n",
       "      <td>csiro_mk3_5</td>\n",
       "      <td>tas</td>\n",
       "      <td>b1</td>\n",
       "      <td>2020</td>\n",
       "      <td>2039</td>\n",
       "      <td>11.294736</td>\n",
       "    </tr>\n",
       "    <tr>\n",
       "      <th>8</th>\n",
       "      <td>gfdl_cm2_0</td>\n",
       "      <td>tas</td>\n",
       "      <td>a2</td>\n",
       "      <td>2020</td>\n",
       "      <td>2039</td>\n",
       "      <td>5.109728</td>\n",
       "    </tr>\n",
       "    <tr>\n",
       "      <th>9</th>\n",
       "      <td>gfdl_cm2_0</td>\n",
       "      <td>tas</td>\n",
       "      <td>b1</td>\n",
       "      <td>2020</td>\n",
       "      <td>2039</td>\n",
       "      <td>4.987581</td>\n",
       "    </tr>\n",
       "    <tr>\n",
       "      <th>10</th>\n",
       "      <td>gfdl_cm2_1</td>\n",
       "      <td>tas</td>\n",
       "      <td>a2</td>\n",
       "      <td>2020</td>\n",
       "      <td>2039</td>\n",
       "      <td>6.658757</td>\n",
       "    </tr>\n",
       "    <tr>\n",
       "      <th>11</th>\n",
       "      <td>gfdl_cm2_1</td>\n",
       "      <td>tas</td>\n",
       "      <td>b1</td>\n",
       "      <td>2020</td>\n",
       "      <td>2039</td>\n",
       "      <td>6.657962</td>\n",
       "    </tr>\n",
       "    <tr>\n",
       "      <th>12</th>\n",
       "      <td>ingv_echam4</td>\n",
       "      <td>tas</td>\n",
       "      <td>a2</td>\n",
       "      <td>2020</td>\n",
       "      <td>2039</td>\n",
       "      <td>9.863394</td>\n",
       "    </tr>\n",
       "    <tr>\n",
       "      <th>13</th>\n",
       "      <td>inmcm3_0</td>\n",
       "      <td>tas</td>\n",
       "      <td>a2</td>\n",
       "      <td>2020</td>\n",
       "      <td>2039</td>\n",
       "      <td>8.094970</td>\n",
       "    </tr>\n",
       "    <tr>\n",
       "      <th>14</th>\n",
       "      <td>inmcm3_0</td>\n",
       "      <td>tas</td>\n",
       "      <td>b1</td>\n",
       "      <td>2020</td>\n",
       "      <td>2039</td>\n",
       "      <td>8.029266</td>\n",
       "    </tr>\n",
       "    <tr>\n",
       "      <th>15</th>\n",
       "      <td>ipsl_cm4</td>\n",
       "      <td>tas</td>\n",
       "      <td>a2</td>\n",
       "      <td>2020</td>\n",
       "      <td>2039</td>\n",
       "      <td>8.753308</td>\n",
       "    </tr>\n",
       "    <tr>\n",
       "      <th>16</th>\n",
       "      <td>ipsl_cm4</td>\n",
       "      <td>tas</td>\n",
       "      <td>b1</td>\n",
       "      <td>2020</td>\n",
       "      <td>2039</td>\n",
       "      <td>8.678779</td>\n",
       "    </tr>\n",
       "    <tr>\n",
       "      <th>17</th>\n",
       "      <td>miroc3_2_medres</td>\n",
       "      <td>tas</td>\n",
       "      <td>a2</td>\n",
       "      <td>2020</td>\n",
       "      <td>2039</td>\n",
       "      <td>8.922777</td>\n",
       "    </tr>\n",
       "    <tr>\n",
       "      <th>18</th>\n",
       "      <td>miroc3_2_medres</td>\n",
       "      <td>tas</td>\n",
       "      <td>b1</td>\n",
       "      <td>2020</td>\n",
       "      <td>2039</td>\n",
       "      <td>9.001210</td>\n",
       "    </tr>\n",
       "    <tr>\n",
       "      <th>19</th>\n",
       "      <td>miub_echo_g</td>\n",
       "      <td>tas</td>\n",
       "      <td>a2</td>\n",
       "      <td>2020</td>\n",
       "      <td>2039</td>\n",
       "      <td>6.907948</td>\n",
       "    </tr>\n",
       "    <tr>\n",
       "      <th>20</th>\n",
       "      <td>miub_echo_g</td>\n",
       "      <td>tas</td>\n",
       "      <td>b1</td>\n",
       "      <td>2020</td>\n",
       "      <td>2039</td>\n",
       "      <td>7.264052</td>\n",
       "    </tr>\n",
       "    <tr>\n",
       "      <th>21</th>\n",
       "      <td>mpi_echam5</td>\n",
       "      <td>tas</td>\n",
       "      <td>a2</td>\n",
       "      <td>2020</td>\n",
       "      <td>2039</td>\n",
       "      <td>7.598175</td>\n",
       "    </tr>\n",
       "    <tr>\n",
       "      <th>22</th>\n",
       "      <td>mpi_echam5</td>\n",
       "      <td>tas</td>\n",
       "      <td>b1</td>\n",
       "      <td>2020</td>\n",
       "      <td>2039</td>\n",
       "      <td>7.449158</td>\n",
       "    </tr>\n",
       "    <tr>\n",
       "      <th>23</th>\n",
       "      <td>mri_cgcm2_3_2a</td>\n",
       "      <td>tas</td>\n",
       "      <td>a2</td>\n",
       "      <td>2020</td>\n",
       "      <td>2039</td>\n",
       "      <td>6.626919</td>\n",
       "    </tr>\n",
       "    <tr>\n",
       "      <th>24</th>\n",
       "      <td>mri_cgcm2_3_2a</td>\n",
       "      <td>tas</td>\n",
       "      <td>b1</td>\n",
       "      <td>2020</td>\n",
       "      <td>2039</td>\n",
       "      <td>6.636154</td>\n",
       "    </tr>\n",
       "    <tr>\n",
       "      <th>25</th>\n",
       "      <td>ukmo_hadcm3</td>\n",
       "      <td>tas</td>\n",
       "      <td>a2</td>\n",
       "      <td>2020</td>\n",
       "      <td>2039</td>\n",
       "      <td>6.796434</td>\n",
       "    </tr>\n",
       "    <tr>\n",
       "      <th>26</th>\n",
       "      <td>ukmo_hadcm3</td>\n",
       "      <td>tas</td>\n",
       "      <td>b1</td>\n",
       "      <td>2020</td>\n",
       "      <td>2039</td>\n",
       "      <td>6.856511</td>\n",
       "    </tr>\n",
       "    <tr>\n",
       "      <th>27</th>\n",
       "      <td>ukmo_hadgem1</td>\n",
       "      <td>tas</td>\n",
       "      <td>a2</td>\n",
       "      <td>2020</td>\n",
       "      <td>2039</td>\n",
       "      <td>6.782793</td>\n",
       "    </tr>\n",
       "  </tbody>\n",
       "</table>\n",
       "</div>"
      ],
      "text/plain": [
       "                GCM  var scenario  from_year  to_year     annual\n",
       "0       bccr_bcm2_0  tas       a2       2020     2039   5.153055\n",
       "1       bccr_bcm2_0  tas       b1       2020     2039   5.160215\n",
       "2     cccma_cgcm3_1  tas       a2       2020     2039   7.168759\n",
       "3     cccma_cgcm3_1  tas       b1       2020     2039   7.114585\n",
       "4          cnrm_cm3  tas       a2       2020     2039   7.176206\n",
       "5          cnrm_cm3  tas       b1       2020     2039   7.261905\n",
       "6       csiro_mk3_5  tas       a2       2020     2039  11.526758\n",
       "7       csiro_mk3_5  tas       b1       2020     2039  11.294736\n",
       "8        gfdl_cm2_0  tas       a2       2020     2039   5.109728\n",
       "9        gfdl_cm2_0  tas       b1       2020     2039   4.987581\n",
       "10       gfdl_cm2_1  tas       a2       2020     2039   6.658757\n",
       "11       gfdl_cm2_1  tas       b1       2020     2039   6.657962\n",
       "12      ingv_echam4  tas       a2       2020     2039   9.863394\n",
       "13         inmcm3_0  tas       a2       2020     2039   8.094970\n",
       "14         inmcm3_0  tas       b1       2020     2039   8.029266\n",
       "15         ipsl_cm4  tas       a2       2020     2039   8.753308\n",
       "16         ipsl_cm4  tas       b1       2020     2039   8.678779\n",
       "17  miroc3_2_medres  tas       a2       2020     2039   8.922777\n",
       "18  miroc3_2_medres  tas       b1       2020     2039   9.001210\n",
       "19      miub_echo_g  tas       a2       2020     2039   6.907948\n",
       "20      miub_echo_g  tas       b1       2020     2039   7.264052\n",
       "21       mpi_echam5  tas       a2       2020     2039   7.598175\n",
       "22       mpi_echam5  tas       b1       2020     2039   7.449158\n",
       "23   mri_cgcm2_3_2a  tas       a2       2020     2039   6.626919\n",
       "24   mri_cgcm2_3_2a  tas       b1       2020     2039   6.636154\n",
       "25      ukmo_hadcm3  tas       a2       2020     2039   6.796434\n",
       "26      ukmo_hadcm3  tas       b1       2020     2039   6.856511\n",
       "27     ukmo_hadgem1  tas       a2       2020     2039   6.782793"
      ]
     },
     "execution_count": 28,
     "metadata": {},
     "output_type": "execute_result"
    }
   ],
   "source": [
    "# GCM column displayes various models used to generate data (annual temperatures).\n",
    "# All models are applied for specific scenario (scenario column)\n",
    "\n",
    "df_2020_2039_gcm"
   ]
  },
  {
   "cell_type": "markdown",
   "metadata": {},
   "source": [
    "### Determine average mean annual temperature from all models (GCM) and scenarios for a year range 2020 - 2039"
   ]
  },
  {
   "cell_type": "code",
   "execution_count": 29,
   "metadata": {},
   "outputs": [
    {
     "data": {
      "text/plain": [
       "7.48328907650361"
      ]
     },
     "execution_count": 29,
     "metadata": {},
     "output_type": "execute_result"
    }
   ],
   "source": [
    "df_2020_2039_gcm['annual'].mean()"
   ]
  },
  {
   "cell_type": "markdown",
   "metadata": {},
   "source": [
    "### Create a new dataframe with average mean annual temperature determined above"
   ]
  },
  {
   "cell_type": "code",
   "execution_count": 30,
   "metadata": {},
   "outputs": [
    {
     "data": {
      "text/html": [
       "<div>\n",
       "<style scoped>\n",
       "    .dataframe tbody tr th:only-of-type {\n",
       "        vertical-align: middle;\n",
       "    }\n",
       "\n",
       "    .dataframe tbody tr th {\n",
       "        vertical-align: top;\n",
       "    }\n",
       "\n",
       "    .dataframe thead th {\n",
       "        text-align: right;\n",
       "    }\n",
       "</style>\n",
       "<table border=\"1\" class=\"dataframe\">\n",
       "  <thead>\n",
       "    <tr style=\"text-align: right;\">\n",
       "      <th></th>\n",
       "      <th>Year</th>\n",
       "      <th>Average_Temperature_Deg_C</th>\n",
       "    </tr>\n",
       "  </thead>\n",
       "  <tbody>\n",
       "    <tr>\n",
       "      <th>0</th>\n",
       "      <td>2020-2039</td>\n",
       "      <td>7.483289</td>\n",
       "    </tr>\n",
       "  </tbody>\n",
       "</table>\n",
       "</div>"
      ],
      "text/plain": [
       "        Year  Average_Temperature_Deg_C\n",
       "0  2020-2039                   7.483289"
      ]
     },
     "execution_count": 30,
     "metadata": {},
     "output_type": "execute_result"
    }
   ],
   "source": [
    "Avg_Temp_2020_2039 = {'Year': ['2020-2039'],\n",
    "                      'Average_Temperature_Deg_C': [df_2020_2039_gcm['annual'].mean()]\n",
    "                     }\n",
    "\n",
    "df_2020_2039 = pd.DataFrame(Avg_Temp_2020_2039, columns = ['Year', 'Average_Temperature_Deg_C'])\n",
    "df_2020_2039"
   ]
  },
  {
   "cell_type": "markdown",
   "metadata": {},
   "source": [
    "### Repeate the above procedure by calculating mean annual temperatures for all Year Ranges by creating the new dataframe for each Year Range"
   ]
  },
  {
   "cell_type": "code",
   "execution_count": 31,
   "metadata": {},
   "outputs": [
    {
     "data": {
      "text/html": [
       "<div>\n",
       "<style scoped>\n",
       "    .dataframe tbody tr th:only-of-type {\n",
       "        vertical-align: middle;\n",
       "    }\n",
       "\n",
       "    .dataframe tbody tr th {\n",
       "        vertical-align: top;\n",
       "    }\n",
       "\n",
       "    .dataframe thead th {\n",
       "        text-align: right;\n",
       "    }\n",
       "</style>\n",
       "<table border=\"1\" class=\"dataframe\">\n",
       "  <thead>\n",
       "    <tr style=\"text-align: right;\">\n",
       "      <th></th>\n",
       "      <th>Year</th>\n",
       "      <th>Average_Temperature_Deg_C</th>\n",
       "    </tr>\n",
       "  </thead>\n",
       "  <tbody>\n",
       "    <tr>\n",
       "      <th>0</th>\n",
       "      <td>2040-2059</td>\n",
       "      <td>8.195466</td>\n",
       "    </tr>\n",
       "  </tbody>\n",
       "</table>\n",
       "</div>"
      ],
      "text/plain": [
       "        Year  Average_Temperature_Deg_C\n",
       "0  2040-2059                   8.195466"
      ]
     },
     "execution_count": 31,
     "metadata": {},
     "output_type": "execute_result"
    }
   ],
   "source": [
    "Avg_Temp_2040_2059 = {'Year': ['2040-2059'],\n",
    "                      'Average_Temperature_Deg_C': [df_2040_2059_gcm['annual'].mean()]\n",
    "                     }\n",
    "\n",
    "df_2040_2059 = pd.DataFrame(Avg_Temp_2040_2059, columns = ['Year', 'Average_Temperature_Deg_C'])\n",
    "df_2040_2059"
   ]
  },
  {
   "cell_type": "code",
   "execution_count": 32,
   "metadata": {},
   "outputs": [
    {
     "data": {
      "text/html": [
       "<div>\n",
       "<style scoped>\n",
       "    .dataframe tbody tr th:only-of-type {\n",
       "        vertical-align: middle;\n",
       "    }\n",
       "\n",
       "    .dataframe tbody tr th {\n",
       "        vertical-align: top;\n",
       "    }\n",
       "\n",
       "    .dataframe thead th {\n",
       "        text-align: right;\n",
       "    }\n",
       "</style>\n",
       "<table border=\"1\" class=\"dataframe\">\n",
       "  <thead>\n",
       "    <tr style=\"text-align: right;\">\n",
       "      <th></th>\n",
       "      <th>Year</th>\n",
       "      <th>Average_Temperature_Deg_C</th>\n",
       "    </tr>\n",
       "  </thead>\n",
       "  <tbody>\n",
       "    <tr>\n",
       "      <th>0</th>\n",
       "      <td>2060-2079</td>\n",
       "      <td>9.047639</td>\n",
       "    </tr>\n",
       "  </tbody>\n",
       "</table>\n",
       "</div>"
      ],
      "text/plain": [
       "        Year  Average_Temperature_Deg_C\n",
       "0  2060-2079                   9.047639"
      ]
     },
     "execution_count": 32,
     "metadata": {},
     "output_type": "execute_result"
    }
   ],
   "source": [
    "Avg_Temp_2060_2079 = {'Year': ['2060-2079'],\n",
    "                      'Average_Temperature_Deg_C': [df_2060_2079_gcm['annual'].mean()]\n",
    "                     }\n",
    "\n",
    "df_2060_2079 = pd.DataFrame(Avg_Temp_2060_2079, columns = ['Year', 'Average_Temperature_Deg_C'])\n",
    "df_2060_2079"
   ]
  },
  {
   "cell_type": "code",
   "execution_count": 33,
   "metadata": {},
   "outputs": [
    {
     "data": {
      "text/html": [
       "<div>\n",
       "<style scoped>\n",
       "    .dataframe tbody tr th:only-of-type {\n",
       "        vertical-align: middle;\n",
       "    }\n",
       "\n",
       "    .dataframe tbody tr th {\n",
       "        vertical-align: top;\n",
       "    }\n",
       "\n",
       "    .dataframe thead th {\n",
       "        text-align: right;\n",
       "    }\n",
       "</style>\n",
       "<table border=\"1\" class=\"dataframe\">\n",
       "  <thead>\n",
       "    <tr style=\"text-align: right;\">\n",
       "      <th></th>\n",
       "      <th>Year</th>\n",
       "      <th>Average_Temperature_Deg_C</th>\n",
       "    </tr>\n",
       "  </thead>\n",
       "  <tbody>\n",
       "    <tr>\n",
       "      <th>0</th>\n",
       "      <td>2080-2099</td>\n",
       "      <td>9.961628</td>\n",
       "    </tr>\n",
       "  </tbody>\n",
       "</table>\n",
       "</div>"
      ],
      "text/plain": [
       "        Year  Average_Temperature_Deg_C\n",
       "0  2080-2099                   9.961628"
      ]
     },
     "execution_count": 33,
     "metadata": {},
     "output_type": "execute_result"
    }
   ],
   "source": [
    "Avg_Temp_2080_2099 = {'Year': ['2080-2099'],\n",
    "                      'Average_Temperature_Deg_C': [df_2080_2099_gcm['annual'].mean()]\n",
    "                     }\n",
    "\n",
    "df_2080_2099 = pd.DataFrame(Avg_Temp_2080_2099, columns = ['Year', 'Average_Temperature_Deg_C'])\n",
    "df_2080_2099"
   ]
  },
  {
   "cell_type": "markdown",
   "metadata": {},
   "source": [
    "### Append all newly created data frames into one single data frame\n",
    "### Display Data frame - Average mean temperatures (Future Projections) for all year ranges"
   ]
  },
  {
   "cell_type": "code",
   "execution_count": 34,
   "metadata": {},
   "outputs": [
    {
     "data": {
      "text/html": [
       "<div>\n",
       "<style scoped>\n",
       "    .dataframe tbody tr th:only-of-type {\n",
       "        vertical-align: middle;\n",
       "    }\n",
       "\n",
       "    .dataframe tbody tr th {\n",
       "        vertical-align: top;\n",
       "    }\n",
       "\n",
       "    .dataframe thead th {\n",
       "        text-align: right;\n",
       "    }\n",
       "</style>\n",
       "<table border=\"1\" class=\"dataframe\">\n",
       "  <thead>\n",
       "    <tr style=\"text-align: right;\">\n",
       "      <th></th>\n",
       "      <th>Year</th>\n",
       "      <th>Average_Temperature_Deg_C</th>\n",
       "    </tr>\n",
       "  </thead>\n",
       "  <tbody>\n",
       "    <tr>\n",
       "      <th>0</th>\n",
       "      <td>2020-2039</td>\n",
       "      <td>7.483289</td>\n",
       "    </tr>\n",
       "    <tr>\n",
       "      <th>1</th>\n",
       "      <td>2040-2059</td>\n",
       "      <td>8.195466</td>\n",
       "    </tr>\n",
       "    <tr>\n",
       "      <th>2</th>\n",
       "      <td>2060-2079</td>\n",
       "      <td>9.047639</td>\n",
       "    </tr>\n",
       "    <tr>\n",
       "      <th>3</th>\n",
       "      <td>2080-2099</td>\n",
       "      <td>9.961628</td>\n",
       "    </tr>\n",
       "  </tbody>\n",
       "</table>\n",
       "</div>"
      ],
      "text/plain": [
       "        Year  Average_Temperature_Deg_C\n",
       "0  2020-2039                   7.483289\n",
       "1  2040-2059                   8.195466\n",
       "2  2060-2079                   9.047639\n",
       "3  2080-2099                   9.961628"
      ]
     },
     "execution_count": 34,
     "metadata": {},
     "output_type": "execute_result"
    }
   ],
   "source": [
    "df_projections = df_2020_2039.append(df_2040_2059, ignore_index = True).append(df_2060_2079, ignore_index = True).append(df_2080_2099, ignore_index = True)\n",
    "df_projections"
   ]
  },
  {
   "cell_type": "markdown",
   "metadata": {},
   "source": [
    "### Change order of the header columns - Swap Average_Temperature_Deg_C with Year"
   ]
  },
  {
   "cell_type": "code",
   "execution_count": 35,
   "metadata": {},
   "outputs": [
    {
     "data": {
      "text/html": [
       "<div>\n",
       "<style scoped>\n",
       "    .dataframe tbody tr th:only-of-type {\n",
       "        vertical-align: middle;\n",
       "    }\n",
       "\n",
       "    .dataframe tbody tr th {\n",
       "        vertical-align: top;\n",
       "    }\n",
       "\n",
       "    .dataframe thead th {\n",
       "        text-align: right;\n",
       "    }\n",
       "</style>\n",
       "<table border=\"1\" class=\"dataframe\">\n",
       "  <thead>\n",
       "    <tr style=\"text-align: right;\">\n",
       "      <th></th>\n",
       "      <th>Average_Temperature_Deg_C</th>\n",
       "      <th>Year</th>\n",
       "    </tr>\n",
       "  </thead>\n",
       "  <tbody>\n",
       "    <tr>\n",
       "      <th>0</th>\n",
       "      <td>7.483289</td>\n",
       "      <td>2020-2039</td>\n",
       "    </tr>\n",
       "    <tr>\n",
       "      <th>1</th>\n",
       "      <td>8.195466</td>\n",
       "      <td>2040-2059</td>\n",
       "    </tr>\n",
       "    <tr>\n",
       "      <th>2</th>\n",
       "      <td>9.047639</td>\n",
       "      <td>2060-2079</td>\n",
       "    </tr>\n",
       "    <tr>\n",
       "      <th>3</th>\n",
       "      <td>9.961628</td>\n",
       "      <td>2080-2099</td>\n",
       "    </tr>\n",
       "  </tbody>\n",
       "</table>\n",
       "</div>"
      ],
      "text/plain": [
       "   Average_Temperature_Deg_C       Year\n",
       "0                   7.483289  2020-2039\n",
       "1                   8.195466  2040-2059\n",
       "2                   9.047639  2060-2079\n",
       "3                   9.961628  2080-2099"
      ]
     },
     "execution_count": 35,
     "metadata": {},
     "output_type": "execute_result"
    }
   ],
   "source": [
    "df_projections = df_projections[['Average_Temperature_Deg_C', 'Year']]\n",
    "df_projections"
   ]
  },
  {
   "cell_type": "markdown",
   "metadata": {},
   "source": [
    "### Format data"
   ]
  },
  {
   "cell_type": "markdown",
   "metadata": {},
   "source": [
    "### Check for duplicates"
   ]
  },
  {
   "cell_type": "code",
   "execution_count": 36,
   "metadata": {},
   "outputs": [
    {
     "name": "stdout",
     "output_type": "stream",
     "text": [
      "Average Temperature is duplictaed - False\n",
      "Year is duplictaed - False\n"
     ]
    }
   ],
   "source": [
    "print(\"Average Temperature is duplictaed - {}\".format(any(df_projections.Average_Temperature_Deg_C.duplicated())))\n",
    "print(\"Year is duplictaed - {}\".format(any(df_projections.Year.duplicated())))"
   ]
  },
  {
   "cell_type": "markdown",
   "metadata": {},
   "source": [
    "### Check for NaN values"
   ]
  },
  {
   "cell_type": "code",
   "execution_count": 37,
   "metadata": {},
   "outputs": [
    {
     "name": "stdout",
     "output_type": "stream",
     "text": [
      "The column Average Temperature contains NaN - False \n",
      "The column Year contains NaN - False \n"
     ]
    }
   ],
   "source": [
    "print(\"The column Average Temperature contains NaN - %r \" % df_projections.Average_Temperature_Deg_C.isnull().values.any())\n",
    "print(\"The column Year contains NaN - %r \" % df_projections.Year.isnull().values.any())"
   ]
  },
  {
   "cell_type": "markdown",
   "metadata": {},
   "source": [
    "### Fix inconsistent values"
   ]
  },
  {
   "cell_type": "markdown",
   "metadata": {},
   "source": [
    "####  Average Temperature column has inconsistent decimal places"
   ]
  },
  {
   "cell_type": "markdown",
   "metadata": {},
   "source": [
    "#### Round up Average Temperature Values to \"Two\" decimals"
   ]
  },
  {
   "cell_type": "code",
   "execution_count": 38,
   "metadata": {},
   "outputs": [
    {
     "data": {
      "text/html": [
       "<div>\n",
       "<style scoped>\n",
       "    .dataframe tbody tr th:only-of-type {\n",
       "        vertical-align: middle;\n",
       "    }\n",
       "\n",
       "    .dataframe tbody tr th {\n",
       "        vertical-align: top;\n",
       "    }\n",
       "\n",
       "    .dataframe thead th {\n",
       "        text-align: right;\n",
       "    }\n",
       "</style>\n",
       "<table border=\"1\" class=\"dataframe\">\n",
       "  <thead>\n",
       "    <tr style=\"text-align: right;\">\n",
       "      <th></th>\n",
       "      <th>Average_Temperature_Deg_C</th>\n",
       "      <th>Year</th>\n",
       "    </tr>\n",
       "  </thead>\n",
       "  <tbody>\n",
       "    <tr>\n",
       "      <th>0</th>\n",
       "      <td>7.48</td>\n",
       "      <td>2020-2039</td>\n",
       "    </tr>\n",
       "    <tr>\n",
       "      <th>1</th>\n",
       "      <td>8.20</td>\n",
       "      <td>2040-2059</td>\n",
       "    </tr>\n",
       "    <tr>\n",
       "      <th>2</th>\n",
       "      <td>9.05</td>\n",
       "      <td>2060-2079</td>\n",
       "    </tr>\n",
       "    <tr>\n",
       "      <th>3</th>\n",
       "      <td>9.96</td>\n",
       "      <td>2080-2099</td>\n",
       "    </tr>\n",
       "  </tbody>\n",
       "</table>\n",
       "</div>"
      ],
      "text/plain": [
       "   Average_Temperature_Deg_C       Year\n",
       "0                       7.48  2020-2039\n",
       "1                       8.20  2040-2059\n",
       "2                       9.05  2060-2079\n",
       "3                       9.96  2080-2099"
      ]
     },
     "execution_count": 38,
     "metadata": {},
     "output_type": "execute_result"
    }
   ],
   "source": [
    "df_projections[\"Average_Temperature_Deg_C\"] = round(df_projections.Average_Temperature_Deg_C, 2)\n",
    "df_projections"
   ]
  },
  {
   "cell_type": "markdown",
   "metadata": {},
   "source": [
    "### Identify Outliers - Create a box plot"
   ]
  },
  {
   "cell_type": "code",
   "execution_count": 39,
   "metadata": {
    "scrolled": true
   },
   "outputs": [
    {
     "data": {
      "text/plain": [
       "{'whiskers': [<matplotlib.lines.Line2D at 0x24d2c5677f0>,\n",
       "  <matplotlib.lines.Line2D at 0x24d2c567b50>],\n",
       " 'caps': [<matplotlib.lines.Line2D at 0x24d2c567ee0>,\n",
       "  <matplotlib.lines.Line2D at 0x24d2c571280>],\n",
       " 'boxes': [<matplotlib.lines.Line2D at 0x24d2c567490>],\n",
       " 'medians': [<matplotlib.lines.Line2D at 0x24d2c5715e0>],\n",
       " 'fliers': [<matplotlib.lines.Line2D at 0x24d2c5718e0>],\n",
       " 'means': []}"
      ]
     },
     "execution_count": 39,
     "metadata": {},
     "output_type": "execute_result"
    },
    {
     "data": {
      "image/png": "[encoded data removed]",
      "text/plain": [
       "<Figure size 432x288 with 1 Axes>"
      ]
     },
     "metadata": {
      "needs_background": "light"
     },
     "output_type": "display_data"
    }
   ],
   "source": [
    "plt.boxplot(df_projections.Average_Temperature_Deg_C, notch=True)"
   ]
  },
  {
   "cell_type": "code",
   "execution_count": 40,
   "metadata": {},
   "outputs": [
    {
     "data": {
      "text/plain": [
       "9.96"
      ]
     },
     "execution_count": 40,
     "metadata": {},
     "output_type": "execute_result"
    }
   ],
   "source": [
    "# Find maximum average temperature - Future Projections\n",
    "df_projections.Average_Temperature_Deg_C.max()"
   ]
  },
  {
   "cell_type": "code",
   "execution_count": 41,
   "metadata": {},
   "outputs": [
    {
     "data": {
      "text/plain": [
       "7.48"
      ]
     },
     "execution_count": 41,
     "metadata": {},
     "output_type": "execute_result"
    }
   ],
   "source": [
    "# Find minimum average temperature - Future Projections\n",
    "df_projections.Average_Temperature_Deg_C.min()"
   ]
  },
  {
   "cell_type": "markdown",
   "metadata": {},
   "source": [
    "### Data in this column in the interval (7.48 Deg C, 9.96 Deg C).\n",
    "### Average temperatures are determined for only 4 Year ranges.\n",
    "### So there are no outliers."
   ]
  },
  {
   "cell_type": "markdown",
   "metadata": {},
   "source": [
    "### Export Dataframe into Output csv File - Future Projections"
   ]
  },
  {
   "cell_type": "code",
   "execution_count": 42,
   "metadata": {},
   "outputs": [],
   "source": [
    "df_projections.to_csv('API_Future_Projections_Average_Temperatures_USA.csv', index=False)"
   ]
  },
  {
   "cell_type": "code",
   "execution_count": null,
   "metadata": {},
   "outputs": [],
   "source": []
  }
 ],
 "metadata": {
  "kernelspec": {
   "display_name": "Python 3",
   "language": "python",
   "name": "python3"
  },
  "language_info": {
   "codemirror_mode": {
    "name": "ipython",
    "version": 3
   },
   "file_extension": ".py",
   "mimetype": "text/x-python",
   "name": "python",
   "nbconvert_exporter": "python",
   "pygments_lexer": "ipython3",
   "version": "3.8.3"
  }
 },
 "nbformat": 4,
 "nbformat_minor": 4
}
