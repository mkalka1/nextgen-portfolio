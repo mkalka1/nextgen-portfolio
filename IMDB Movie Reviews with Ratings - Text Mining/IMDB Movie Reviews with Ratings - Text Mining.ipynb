{
 "cells": [
  {
   "cell_type": "markdown",
   "metadata": {},
   "source": [
    "### <p style=\"text-align: center;\">IMDB Movie Reviews with Ratings <br/> Final Project</p>\n",
    "#### <p style=\"text-align: center;\">DSC680 – Applied Data Science <br/> Winter 2021 <br/> Manish Kalkar</p>\n",
    "### <p style=\"text-align: center;\">Milestone 3 - Final Code</p>"
   ]
  },
  {
   "cell_type": "markdown",
   "metadata": {},
   "source": [
    "### Exploratory Data Analysis"
   ]
  },
  {
   "cell_type": "markdown",
   "metadata": {},
   "source": [
    "#### Load Libraries"
   ]
  },
  {
   "cell_type": "code",
   "execution_count": 63,
   "metadata": {},
   "outputs": [],
   "source": [
    "# Load necessary libraries\n",
    "import pandas as pd\n",
    "import numpy as np\n",
    "import matplotlib.pyplot as plt\n",
    "%matplotlib inline\n",
    "import seaborn as sns\n",
    "\n",
    "import nltk\n",
    "\n",
    "from nltk.tokenize import sent_tokenize\n",
    "from nltk.tokenize import word_tokenize\n",
    "from sklearn.feature_extraction.text import TfidfVectorizer\n",
    "from sklearn.feature_extraction.text import TfidfTransformer\n",
    "from sklearn.feature_extraction.text import CountVectorizer\n",
    "\n",
    "from textblob import TextBlob\n",
    "from textblob import Blobber\n",
    "from textblob.sentiments import NaiveBayesAnalyzer\n",
    "\n",
    "from vaderSentiment.vaderSentiment import SentimentIntensityAnalyzer\n",
    "\n",
    "import re\n",
    "import string"
   ]
  },
  {
   "cell_type": "markdown",
   "metadata": {},
   "source": [
    "#### Load the dataset into the DataFrame"
   ]
  },
  {
   "cell_type": "code",
   "execution_count": 64,
   "metadata": {},
   "outputs": [],
   "source": [
    "# Load the dataset into the DataFrame\n",
    "df_feedback = pd.read_csv(\"imdb_sup.csv\")"
   ]
  },
  {
   "cell_type": "markdown",
   "metadata": {},
   "source": [
    "#### Display the data"
   ]
  },
  {
   "cell_type": "code",
   "execution_count": 65,
   "metadata": {},
   "outputs": [
    {
     "data": {
      "text/html": [
       "<div>\n",
       "<style scoped>\n",
       "    .dataframe tbody tr th:only-of-type {\n",
       "        vertical-align: middle;\n",
       "    }\n",
       "\n",
       "    .dataframe tbody tr th {\n",
       "        vertical-align: top;\n",
       "    }\n",
       "\n",
       "    .dataframe thead th {\n",
       "        text-align: right;\n",
       "    }\n",
       "</style>\n",
       "<table border=\"1\" class=\"dataframe\">\n",
       "  <thead>\n",
       "    <tr style=\"text-align: right;\">\n",
       "      <th></th>\n",
       "      <th>Review</th>\n",
       "      <th>Rating</th>\n",
       "      <th>Sentiment</th>\n",
       "    </tr>\n",
       "  </thead>\n",
       "  <tbody>\n",
       "    <tr>\n",
       "      <th>0</th>\n",
       "      <td>Kurt Russell's chameleon-like performance, cou...</td>\n",
       "      <td>10</td>\n",
       "      <td>1</td>\n",
       "    </tr>\n",
       "    <tr>\n",
       "      <th>1</th>\n",
       "      <td>It was extremely low budget(it some scenes it ...</td>\n",
       "      <td>8</td>\n",
       "      <td>1</td>\n",
       "    </tr>\n",
       "    <tr>\n",
       "      <th>2</th>\n",
       "      <td>James Cagney is best known for his tough chara...</td>\n",
       "      <td>8</td>\n",
       "      <td>1</td>\n",
       "    </tr>\n",
       "    <tr>\n",
       "      <th>3</th>\n",
       "      <td>Following the brilliant \"Goyôkiba\" (aka. \"Hanz...</td>\n",
       "      <td>8</td>\n",
       "      <td>1</td>\n",
       "    </tr>\n",
       "    <tr>\n",
       "      <th>4</th>\n",
       "      <td>One of the last classics of the French New Wav...</td>\n",
       "      <td>10</td>\n",
       "      <td>1</td>\n",
       "    </tr>\n",
       "    <tr>\n",
       "      <th>...</th>\n",
       "      <td>...</td>\n",
       "      <td>...</td>\n",
       "      <td>...</td>\n",
       "    </tr>\n",
       "    <tr>\n",
       "      <th>49995</th>\n",
       "      <td>(spoiler) it could be the one the worst movie ...</td>\n",
       "      <td>4</td>\n",
       "      <td>0</td>\n",
       "    </tr>\n",
       "    <tr>\n",
       "      <th>49996</th>\n",
       "      <td>So, you've seen the Romero movies, yes? And yo...</td>\n",
       "      <td>1</td>\n",
       "      <td>0</td>\n",
       "    </tr>\n",
       "    <tr>\n",
       "      <th>49997</th>\n",
       "      <td>Just listen to the Broadway cast album and to ...</td>\n",
       "      <td>3</td>\n",
       "      <td>0</td>\n",
       "    </tr>\n",
       "    <tr>\n",
       "      <th>49998</th>\n",
       "      <td>I have been a fan of the Carpenters for a long...</td>\n",
       "      <td>3</td>\n",
       "      <td>0</td>\n",
       "    </tr>\n",
       "    <tr>\n",
       "      <th>49999</th>\n",
       "      <td>Set in 1945, Skenbart follows a failed Swedish...</td>\n",
       "      <td>1</td>\n",
       "      <td>0</td>\n",
       "    </tr>\n",
       "  </tbody>\n",
       "</table>\n",
       "<p>50000 rows × 3 columns</p>\n",
       "</div>"
      ],
      "text/plain": [
       "                                                  Review  Rating  Sentiment\n",
       "0      Kurt Russell's chameleon-like performance, cou...      10          1\n",
       "1      It was extremely low budget(it some scenes it ...       8          1\n",
       "2      James Cagney is best known for his tough chara...       8          1\n",
       "3      Following the brilliant \"Goyôkiba\" (aka. \"Hanz...       8          1\n",
       "4      One of the last classics of the French New Wav...      10          1\n",
       "...                                                  ...     ...        ...\n",
       "49995  (spoiler) it could be the one the worst movie ...       4          0\n",
       "49996  So, you've seen the Romero movies, yes? And yo...       1          0\n",
       "49997  Just listen to the Broadway cast album and to ...       3          0\n",
       "49998  I have been a fan of the Carpenters for a long...       3          0\n",
       "49999  Set in 1945, Skenbart follows a failed Swedish...       1          0\n",
       "\n",
       "[50000 rows x 3 columns]"
      ]
     },
     "execution_count": 65,
     "metadata": {},
     "output_type": "execute_result"
    }
   ],
   "source": [
    "# Display the data\n",
    "df_feedback"
   ]
  },
  {
   "cell_type": "code",
   "execution_count": 66,
   "metadata": {},
   "outputs": [
    {
     "data": {
      "text/plain": [
       "(50000, 3)"
      ]
     },
     "execution_count": 66,
     "metadata": {},
     "output_type": "execute_result"
    }
   ],
   "source": [
    "# Find the total number of rows (customer reviews) in DatFrame\n",
    "df_feedback.shape"
   ]
  },
  {
   "cell_type": "code",
   "execution_count": 67,
   "metadata": {},
   "outputs": [
    {
     "name": "stdout",
     "output_type": "stream",
     "text": [
      "Review\n",
      "Rating\n",
      "Sentiment\n"
     ]
    }
   ],
   "source": [
    "# Display columns of the DataFrame\n",
    "# iterating through the columns\n",
    "for feedback_columns in df_feedback.columns:\n",
    "    print(feedback_columns)"
   ]
  },
  {
   "cell_type": "markdown",
   "metadata": {},
   "source": [
    "<P>\n",
    "The goal is to perform the analysis of the IMDB Movie Reviews along with the Sentiment Analysis of the reviews and build model to predict the Overall Rating of the Movies. Review and Rating are the only relevant features / columns in the dataset.\n",
    "</P>"
   ]
  },
  {
   "cell_type": "markdown",
   "metadata": {},
   "source": [
    "### 1. Plot the Total Number of Ratings (Counts) of the IMDB Reviews"
   ]
  },
  {
   "cell_type": "code",
   "execution_count": 68,
   "metadata": {},
   "outputs": [
    {
     "data": {
      "text/plain": [
       "1     10122\n",
       "10     9731\n",
       "8      5859\n",
       "4      5331\n",
       "3      4961\n",
       "7      4803\n",
       "9      4607\n",
       "2      4586\n",
       "Name: Rating, dtype: int64"
      ]
     },
     "execution_count": 68,
     "metadata": {},
     "output_type": "execute_result"
    }
   ],
   "source": [
    "# Counts of each Rating of the IMDB Movie review in the DataFrame\n",
    "df_feedback['Rating'].value_counts()"
   ]
  },
  {
   "cell_type": "code",
   "execution_count": 69,
   "metadata": {},
   "outputs": [
    {
     "data": {
      "text/plain": [
       "<matplotlib.axes._subplots.AxesSubplot at 0x25c19c53c40>"
      ]
     },
     "execution_count": 69,
     "metadata": {},
     "output_type": "execute_result"
    },
    {
     "data": {
      "image/png": "[encoded data removed]",
      "text/plain": [
       "<Figure size 432x288 with 1 Axes>"
      ]
     },
     "metadata": {
      "needs_background": "light"
     },
     "output_type": "display_data"
    }
   ],
   "source": [
    "# Plot the counts of each Rating of the IMDB Movie review in the DataFrame\n",
    "sns.countplot(x=df_feedback['Rating'],data=df_feedback)"
   ]
  },
  {
   "cell_type": "markdown",
   "metadata": {},
   "source": [
    "<P>\n",
    "Interestingly Rating 1 has got the highest number of counts followed by 10, 8 and 4. The reviews seem to have Ratings that are distributed almost evenly across from the happiest movie watchers with Rating 10 has Count of 9731 are almost the same as unhappiest movie watchers with Rating 1 that has count of 10122.\n",
    "</P>"
   ]
  },
  {
   "cell_type": "markdown",
   "metadata": {},
   "source": [
    "### 2. Plot the Total Number of Overall Ratings (Percentages) of the customer reviews"
   ]
  },
  {
   "cell_type": "code",
   "execution_count": 70,
   "metadata": {},
   "outputs": [
    {
     "data": {
      "text/plain": [
       "1     20.244\n",
       "10    19.462\n",
       "8     11.718\n",
       "4     10.662\n",
       "3      9.922\n",
       "7      9.606\n",
       "9      9.214\n",
       "2      9.172\n",
       "Name: Rating, dtype: float64"
      ]
     },
     "execution_count": 70,
     "metadata": {},
     "output_type": "execute_result"
    }
   ],
   "source": [
    "# Calculate percentages of each Rating of the IMDB Movie review in the DataFrame\n",
    "df_feedback['Rating'].value_counts(normalize=True)*100"
   ]
  },
  {
   "cell_type": "code",
   "execution_count": 71,
   "metadata": {},
   "outputs": [
    {
     "data": {
      "image/png": "[encoded data removed]",
      "text/plain": [
       "<Figure size 720x432 with 1 Axes>"
      ]
     },
     "metadata": {
      "needs_background": "light"
     },
     "output_type": "display_data"
    }
   ],
   "source": [
    "# Plot the Ratings - Percentages\n",
    "t=pd.DataFrame(data=df_feedback['Rating'].value_counts(normalize=True)*100)\n",
    "plt.figure(figsize=(10,6))\n",
    "sns.barplot(x=t.index, y=t.Rating)\n",
    "plt.xlabel('Rating',fontsize=20)\n",
    "plt.ylabel('Percent of Total Ratings',fontsize=20)\n",
    "plt.show()"
   ]
  },
  {
   "cell_type": "markdown",
   "metadata": {},
   "source": [
    "<P>\n",
    "Based on the count, Rating 1 has got the highest percentages followed by 10, 8 and 4. The reviews seem to have Ratings that are distributed evenly across from the happiest movie watchers with Rating 10 are about 20%, which are almost the same as unhappiest movie watchers with Rating 1 are 19.46%.\n",
    "</P>"
   ]
  },
  {
   "cell_type": "markdown",
   "metadata": {},
   "source": [
    "### 3. Plot the Pie Chart showing Overall Ratings - Percentages"
   ]
  },
  {
   "cell_type": "code",
   "execution_count": 72,
   "metadata": {},
   "outputs": [
    {
     "data": {
      "image/png": "[encoded data removed]",
      "text/plain": [
       "<Figure size 432x288 with 1 Axes>"
      ]
     },
     "metadata": {},
     "output_type": "display_data"
    }
   ],
   "source": [
    "# Assign the labels - Rating\n",
    "x = ['1','10','8','4','3','7','9','2']\n",
    "\n",
    "# Calculate the percentage of each Overall Rating\n",
    "y = df_feedback['Rating'].value_counts(normalize=True)*100\n",
    "\n",
    "# Define function to covert percentages into actual values\n",
    "# to be displayed on the pie chart\n",
    "def autopct_format(values):\n",
    "    def my_format(pct):\n",
    "        total = sum(values)\n",
    "        val = int(round(pct*total/100.0))\n",
    "        return '{v:d}'.format(v=val)\n",
    "    return my_format\n",
    "\n",
    "# plot the pie chart\n",
    "plt.pie(y, labels = x, autopct = autopct_format(y))\n",
    "plt.show()"
   ]
  },
  {
   "cell_type": "markdown",
   "metadata": {},
   "source": [
    "<P>\n",
    "Above Pie Chart shows the Rating 1 has got the highest percentages followed by 10, 8 and 4. The reviews seem to have Ratings that are distributed evenly across from the happiest movie watchers with Rating 10 are about 20%, which are almost the same as unhappiest moview watchers with Rating 1 are 19%.\n",
    "</P>"
   ]
  },
  {
   "cell_type": "code",
   "execution_count": 73,
   "metadata": {},
   "outputs": [],
   "source": [
    "# Rename the Sentiment column with Original Sentiment\n",
    "df_feedback.rename(columns = { 'Sentiment':'OriginalSentiment'}, inplace = True)"
   ]
  },
  {
   "cell_type": "markdown",
   "metadata": {},
   "source": [
    "### Check if there are any missing data issues"
   ]
  },
  {
   "cell_type": "code",
   "execution_count": 74,
   "metadata": {},
   "outputs": [
    {
     "data": {
      "text/plain": [
       "Review               0\n",
       "Rating               0\n",
       "OriginalSentiment    0\n",
       "dtype: int64"
      ]
     },
     "execution_count": 74,
     "metadata": {},
     "output_type": "execute_result"
    }
   ],
   "source": [
    "# Determine / Find missing values\n",
    "df_feedback.isnull().sum()"
   ]
  },
  {
   "cell_type": "markdown",
   "metadata": {},
   "source": [
    "## Sentiment Analysis"
   ]
  },
  {
   "cell_type": "markdown",
   "metadata": {},
   "source": [
    "### Sentiment Analysis has been performed based on below listed methods:"
   ]
  },
  {
   "cell_type": "markdown",
   "metadata": {},
   "source": [
    "1. VADER\n",
    "2. textblob\n",
    "3. Based on mapping of Overall Rating Score"
   ]
  },
  {
   "cell_type": "code",
   "execution_count": 75,
   "metadata": {},
   "outputs": [],
   "source": [
    "# Add two new features / columns to accomodate sentiment data\n",
    "# Initialize new columns with no values\n",
    "df_feedback['sentiment'] = \"\"\n",
    "df_feedback['sentimentScore'] = \"\""
   ]
  },
  {
   "cell_type": "code",
   "execution_count": 76,
   "metadata": {},
   "outputs": [
    {
     "data": {
      "text/html": [
       "<div>\n",
       "<style scoped>\n",
       "    .dataframe tbody tr th:only-of-type {\n",
       "        vertical-align: middle;\n",
       "    }\n",
       "\n",
       "    .dataframe tbody tr th {\n",
       "        vertical-align: top;\n",
       "    }\n",
       "\n",
       "    .dataframe thead th {\n",
       "        text-align: right;\n",
       "    }\n",
       "</style>\n",
       "<table border=\"1\" class=\"dataframe\">\n",
       "  <thead>\n",
       "    <tr style=\"text-align: right;\">\n",
       "      <th></th>\n",
       "      <th>Review</th>\n",
       "      <th>Rating</th>\n",
       "      <th>OriginalSentiment</th>\n",
       "      <th>sentiment</th>\n",
       "      <th>sentimentScore</th>\n",
       "    </tr>\n",
       "  </thead>\n",
       "  <tbody>\n",
       "    <tr>\n",
       "      <th>0</th>\n",
       "      <td>Kurt Russell's chameleon-like performance, cou...</td>\n",
       "      <td>10</td>\n",
       "      <td>1</td>\n",
       "      <td></td>\n",
       "      <td></td>\n",
       "    </tr>\n",
       "    <tr>\n",
       "      <th>1</th>\n",
       "      <td>It was extremely low budget(it some scenes it ...</td>\n",
       "      <td>8</td>\n",
       "      <td>1</td>\n",
       "      <td></td>\n",
       "      <td></td>\n",
       "    </tr>\n",
       "    <tr>\n",
       "      <th>2</th>\n",
       "      <td>James Cagney is best known for his tough chara...</td>\n",
       "      <td>8</td>\n",
       "      <td>1</td>\n",
       "      <td></td>\n",
       "      <td></td>\n",
       "    </tr>\n",
       "    <tr>\n",
       "      <th>3</th>\n",
       "      <td>Following the brilliant \"Goyôkiba\" (aka. \"Hanz...</td>\n",
       "      <td>8</td>\n",
       "      <td>1</td>\n",
       "      <td></td>\n",
       "      <td></td>\n",
       "    </tr>\n",
       "    <tr>\n",
       "      <th>4</th>\n",
       "      <td>One of the last classics of the French New Wav...</td>\n",
       "      <td>10</td>\n",
       "      <td>1</td>\n",
       "      <td></td>\n",
       "      <td></td>\n",
       "    </tr>\n",
       "    <tr>\n",
       "      <th>...</th>\n",
       "      <td>...</td>\n",
       "      <td>...</td>\n",
       "      <td>...</td>\n",
       "      <td>...</td>\n",
       "      <td>...</td>\n",
       "    </tr>\n",
       "    <tr>\n",
       "      <th>49995</th>\n",
       "      <td>(spoiler) it could be the one the worst movie ...</td>\n",
       "      <td>4</td>\n",
       "      <td>0</td>\n",
       "      <td></td>\n",
       "      <td></td>\n",
       "    </tr>\n",
       "    <tr>\n",
       "      <th>49996</th>\n",
       "      <td>So, you've seen the Romero movies, yes? And yo...</td>\n",
       "      <td>1</td>\n",
       "      <td>0</td>\n",
       "      <td></td>\n",
       "      <td></td>\n",
       "    </tr>\n",
       "    <tr>\n",
       "      <th>49997</th>\n",
       "      <td>Just listen to the Broadway cast album and to ...</td>\n",
       "      <td>3</td>\n",
       "      <td>0</td>\n",
       "      <td></td>\n",
       "      <td></td>\n",
       "    </tr>\n",
       "    <tr>\n",
       "      <th>49998</th>\n",
       "      <td>I have been a fan of the Carpenters for a long...</td>\n",
       "      <td>3</td>\n",
       "      <td>0</td>\n",
       "      <td></td>\n",
       "      <td></td>\n",
       "    </tr>\n",
       "    <tr>\n",
       "      <th>49999</th>\n",
       "      <td>Set in 1945, Skenbart follows a failed Swedish...</td>\n",
       "      <td>1</td>\n",
       "      <td>0</td>\n",
       "      <td></td>\n",
       "      <td></td>\n",
       "    </tr>\n",
       "  </tbody>\n",
       "</table>\n",
       "<p>50000 rows × 5 columns</p>\n",
       "</div>"
      ],
      "text/plain": [
       "                                                  Review  Rating  \\\n",
       "0      Kurt Russell's chameleon-like performance, cou...      10   \n",
       "1      It was extremely low budget(it some scenes it ...       8   \n",
       "2      James Cagney is best known for his tough chara...       8   \n",
       "3      Following the brilliant \"Goyôkiba\" (aka. \"Hanz...       8   \n",
       "4      One of the last classics of the French New Wav...      10   \n",
       "...                                                  ...     ...   \n",
       "49995  (spoiler) it could be the one the worst movie ...       4   \n",
       "49996  So, you've seen the Romero movies, yes? And yo...       1   \n",
       "49997  Just listen to the Broadway cast album and to ...       3   \n",
       "49998  I have been a fan of the Carpenters for a long...       3   \n",
       "49999  Set in 1945, Skenbart follows a failed Swedish...       1   \n",
       "\n",
       "       OriginalSentiment sentiment sentimentScore  \n",
       "0                      1                           \n",
       "1                      1                           \n",
       "2                      1                           \n",
       "3                      1                           \n",
       "4                      1                           \n",
       "...                  ...       ...            ...  \n",
       "49995                  0                           \n",
       "49996                  0                           \n",
       "49997                  0                           \n",
       "49998                  0                           \n",
       "49999                  0                           \n",
       "\n",
       "[50000 rows x 5 columns]"
      ]
     },
     "execution_count": 76,
     "metadata": {},
     "output_type": "execute_result"
    }
   ],
   "source": [
    "# Display DataFrame with two new features\n",
    "df_feedback"
   ]
  },
  {
   "cell_type": "markdown",
   "metadata": {},
   "source": [
    "### Sentiment Analysis - Method 1 - Using VADER"
   ]
  },
  {
   "cell_type": "code",
   "execution_count": 77,
   "metadata": {},
   "outputs": [],
   "source": [
    "# Find the Sentiment Analysis using VADER for each record in the DataFrame\n",
    "\n",
    "# Create a VADER SentimentIntensityAnalyzer object.\n",
    "sid_obj = SentimentIntensityAnalyzer()\n",
    "\n",
    "# Loop through each record in the DataFrame\n",
    "for index, row in df_feedback.iterrows():\n",
    "\n",
    "    # polarity_scores method of SentimentIntensityAnalyzer\n",
    "    # object gives a sentiment dictionary.\n",
    "    # which contains pos, neg, neu, and compound scores.    \n",
    "    sentiment_dict = sid_obj.polarity_scores(row['Review'])\n",
    "    \n",
    "    # decide sentiment as positive, negative and neutral\n",
    "    # sentiment - sentiment data (pos - Postive, neg - Negative, neu - Neutral)\n",
    "    # sentimentScore - measure sentiment (2 for Postive, 0 for Negative and 0 for Neutral)\n",
    "    if sentiment_dict['compound'] >= 0.05:\n",
    "        df_feedback.at[index, 'sentiment'] = \"pos\"\n",
    "        df_feedback.at[index, 'sentimentScore'] = 2\n",
    "    elif sentiment_dict['compound'] <= - 0.05:\n",
    "        df_feedback.at[index, 'sentiment'] = \"neg\"\n",
    "        df_feedback.at[index, 'sentimentScore'] = 0 \n",
    "    else:\n",
    "        df_feedback.at[index, 'sentiment'] = \"neu\"\n",
    "        df_feedback.at[index, 'sentimentScore'] = 1"
   ]
  },
  {
   "cell_type": "code",
   "execution_count": 78,
   "metadata": {},
   "outputs": [
    {
     "data": {
      "text/html": [
       "<div>\n",
       "<style scoped>\n",
       "    .dataframe tbody tr th:only-of-type {\n",
       "        vertical-align: middle;\n",
       "    }\n",
       "\n",
       "    .dataframe tbody tr th {\n",
       "        vertical-align: top;\n",
       "    }\n",
       "\n",
       "    .dataframe thead th {\n",
       "        text-align: right;\n",
       "    }\n",
       "</style>\n",
       "<table border=\"1\" class=\"dataframe\">\n",
       "  <thead>\n",
       "    <tr style=\"text-align: right;\">\n",
       "      <th></th>\n",
       "      <th>Review</th>\n",
       "      <th>Rating</th>\n",
       "      <th>OriginalSentiment</th>\n",
       "      <th>sentiment</th>\n",
       "      <th>sentimentScore</th>\n",
       "    </tr>\n",
       "  </thead>\n",
       "  <tbody>\n",
       "    <tr>\n",
       "      <th>0</th>\n",
       "      <td>Kurt Russell's chameleon-like performance, cou...</td>\n",
       "      <td>10</td>\n",
       "      <td>1</td>\n",
       "      <td>pos</td>\n",
       "      <td>2</td>\n",
       "    </tr>\n",
       "    <tr>\n",
       "      <th>1</th>\n",
       "      <td>It was extremely low budget(it some scenes it ...</td>\n",
       "      <td>8</td>\n",
       "      <td>1</td>\n",
       "      <td>neg</td>\n",
       "      <td>0</td>\n",
       "    </tr>\n",
       "    <tr>\n",
       "      <th>2</th>\n",
       "      <td>James Cagney is best known for his tough chara...</td>\n",
       "      <td>8</td>\n",
       "      <td>1</td>\n",
       "      <td>pos</td>\n",
       "      <td>2</td>\n",
       "    </tr>\n",
       "    <tr>\n",
       "      <th>3</th>\n",
       "      <td>Following the brilliant \"Goyôkiba\" (aka. \"Hanz...</td>\n",
       "      <td>8</td>\n",
       "      <td>1</td>\n",
       "      <td>pos</td>\n",
       "      <td>2</td>\n",
       "    </tr>\n",
       "    <tr>\n",
       "      <th>4</th>\n",
       "      <td>One of the last classics of the French New Wav...</td>\n",
       "      <td>10</td>\n",
       "      <td>1</td>\n",
       "      <td>pos</td>\n",
       "      <td>2</td>\n",
       "    </tr>\n",
       "    <tr>\n",
       "      <th>...</th>\n",
       "      <td>...</td>\n",
       "      <td>...</td>\n",
       "      <td>...</td>\n",
       "      <td>...</td>\n",
       "      <td>...</td>\n",
       "    </tr>\n",
       "    <tr>\n",
       "      <th>49995</th>\n",
       "      <td>(spoiler) it could be the one the worst movie ...</td>\n",
       "      <td>4</td>\n",
       "      <td>0</td>\n",
       "      <td>pos</td>\n",
       "      <td>2</td>\n",
       "    </tr>\n",
       "    <tr>\n",
       "      <th>49996</th>\n",
       "      <td>So, you've seen the Romero movies, yes? And yo...</td>\n",
       "      <td>1</td>\n",
       "      <td>0</td>\n",
       "      <td>neg</td>\n",
       "      <td>0</td>\n",
       "    </tr>\n",
       "    <tr>\n",
       "      <th>49997</th>\n",
       "      <td>Just listen to the Broadway cast album and to ...</td>\n",
       "      <td>3</td>\n",
       "      <td>0</td>\n",
       "      <td>pos</td>\n",
       "      <td>2</td>\n",
       "    </tr>\n",
       "    <tr>\n",
       "      <th>49998</th>\n",
       "      <td>I have been a fan of the Carpenters for a long...</td>\n",
       "      <td>3</td>\n",
       "      <td>0</td>\n",
       "      <td>pos</td>\n",
       "      <td>2</td>\n",
       "    </tr>\n",
       "    <tr>\n",
       "      <th>49999</th>\n",
       "      <td>Set in 1945, Skenbart follows a failed Swedish...</td>\n",
       "      <td>1</td>\n",
       "      <td>0</td>\n",
       "      <td>neg</td>\n",
       "      <td>0</td>\n",
       "    </tr>\n",
       "  </tbody>\n",
       "</table>\n",
       "<p>50000 rows × 5 columns</p>\n",
       "</div>"
      ],
      "text/plain": [
       "                                                  Review  Rating  \\\n",
       "0      Kurt Russell's chameleon-like performance, cou...      10   \n",
       "1      It was extremely low budget(it some scenes it ...       8   \n",
       "2      James Cagney is best known for his tough chara...       8   \n",
       "3      Following the brilliant \"Goyôkiba\" (aka. \"Hanz...       8   \n",
       "4      One of the last classics of the French New Wav...      10   \n",
       "...                                                  ...     ...   \n",
       "49995  (spoiler) it could be the one the worst movie ...       4   \n",
       "49996  So, you've seen the Romero movies, yes? And yo...       1   \n",
       "49997  Just listen to the Broadway cast album and to ...       3   \n",
       "49998  I have been a fan of the Carpenters for a long...       3   \n",
       "49999  Set in 1945, Skenbart follows a failed Swedish...       1   \n",
       "\n",
       "       OriginalSentiment sentiment sentimentScore  \n",
       "0                      1       pos              2  \n",
       "1                      1       neg              0  \n",
       "2                      1       pos              2  \n",
       "3                      1       pos              2  \n",
       "4                      1       pos              2  \n",
       "...                  ...       ...            ...  \n",
       "49995                  0       pos              2  \n",
       "49996                  0       neg              0  \n",
       "49997                  0       pos              2  \n",
       "49998                  0       pos              2  \n",
       "49999                  0       neg              0  \n",
       "\n",
       "[50000 rows x 5 columns]"
      ]
     },
     "execution_count": 78,
     "metadata": {},
     "output_type": "execute_result"
    }
   ],
   "source": [
    "# Display the DataFrame with Sentiment Data\n",
    "df_feedback"
   ]
  },
  {
   "cell_type": "code",
   "execution_count": 79,
   "metadata": {},
   "outputs": [
    {
     "data": {
      "text/plain": [
       "2    66.154\n",
       "0    33.144\n",
       "1     0.702\n",
       "Name: sentimentScore, dtype: float64"
      ]
     },
     "execution_count": 79,
     "metadata": {},
     "output_type": "execute_result"
    }
   ],
   "source": [
    "# Determine percentage of Postive, Negative and Neutral Reviews\n",
    "df_feedback.sentimentScore.value_counts(normalize=True)*100"
   ]
  },
  {
   "cell_type": "markdown",
   "metadata": {},
   "source": [
    "#### There are 66% positive reviews and about 33% with negative reviews."
   ]
  },
  {
   "cell_type": "code",
   "execution_count": 80,
   "metadata": {},
   "outputs": [
    {
     "data": {
      "image/png": "[encoded data removed]",
      "text/plain": [
       "<Figure size 720x432 with 1 Axes>"
      ]
     },
     "metadata": {},
     "output_type": "display_data"
    }
   ],
   "source": [
    "# Plot Sentiment Analysis - Percentages\n",
    "plt.figure(figsize=(10,6))\n",
    "colors=['#99ff99','#ff9999','#66b3ff']\n",
    " \n",
    "plt.pie(df_feedback['sentimentScore'].value_counts(normalize=True),colors=colors,labels=['Positive','Negative','Neutral'],autopct='%1.2f%%',shadow=True)\n",
    "plt.title('Sentiment Analysis using VADER',fontsize=20)\n",
    "\n",
    "plt.show()"
   ]
  },
  {
   "cell_type": "markdown",
   "metadata": {},
   "source": [
    "### Sentiment Analysis - Method 2 - Using textblob and NaiveBayesAnalyzer"
   ]
  },
  {
   "cell_type": "code",
   "execution_count": 81,
   "metadata": {},
   "outputs": [],
   "source": [
    "# Find the Sentiment Analysis using textBlob Blobber for each record in the DataFrame\n",
    "tb = Blobber(analyzer=NaiveBayesAnalyzer())\n",
    "for index, row in df_feedback.iterrows():\n",
    "    blob = tb(row['Review'])\n",
    "    sentiment = blob.sentiment.classification\n",
    "    # sentiment - sentiment data (pos - Postive, neg - Negative)\n",
    "    # sentimentScore - measure sentiment (1 for Postive, 0 for Negative)    \n",
    "    if sentiment == \"pos\":\n",
    "        df_feedback.at[index, 'sentiment'] = \"pos\"\n",
    "        df_feedback.at[index, 'sentimentScore'] = 1\n",
    "    elif sentiment == \"neg\":\n",
    "        df_feedback.at[index, 'sentiment'] = \"neg\"\n",
    "        df_feedback.at[index, 'sentimentScore'] = 0"
   ]
  },
  {
   "cell_type": "code",
   "execution_count": 82,
   "metadata": {},
   "outputs": [
    {
     "data": {
      "text/html": [
       "<div>\n",
       "<style scoped>\n",
       "    .dataframe tbody tr th:only-of-type {\n",
       "        vertical-align: middle;\n",
       "    }\n",
       "\n",
       "    .dataframe tbody tr th {\n",
       "        vertical-align: top;\n",
       "    }\n",
       "\n",
       "    .dataframe thead th {\n",
       "        text-align: right;\n",
       "    }\n",
       "</style>\n",
       "<table border=\"1\" class=\"dataframe\">\n",
       "  <thead>\n",
       "    <tr style=\"text-align: right;\">\n",
       "      <th></th>\n",
       "      <th>Review</th>\n",
       "      <th>Rating</th>\n",
       "      <th>OriginalSentiment</th>\n",
       "      <th>sentiment</th>\n",
       "      <th>sentimentScore</th>\n",
       "    </tr>\n",
       "  </thead>\n",
       "  <tbody>\n",
       "    <tr>\n",
       "      <th>0</th>\n",
       "      <td>Kurt Russell's chameleon-like performance, cou...</td>\n",
       "      <td>10</td>\n",
       "      <td>1</td>\n",
       "      <td>pos</td>\n",
       "      <td>1</td>\n",
       "    </tr>\n",
       "    <tr>\n",
       "      <th>1</th>\n",
       "      <td>It was extremely low budget(it some scenes it ...</td>\n",
       "      <td>8</td>\n",
       "      <td>1</td>\n",
       "      <td>pos</td>\n",
       "      <td>1</td>\n",
       "    </tr>\n",
       "    <tr>\n",
       "      <th>2</th>\n",
       "      <td>James Cagney is best known for his tough chara...</td>\n",
       "      <td>8</td>\n",
       "      <td>1</td>\n",
       "      <td>pos</td>\n",
       "      <td>1</td>\n",
       "    </tr>\n",
       "    <tr>\n",
       "      <th>3</th>\n",
       "      <td>Following the brilliant \"Goyôkiba\" (aka. \"Hanz...</td>\n",
       "      <td>8</td>\n",
       "      <td>1</td>\n",
       "      <td>pos</td>\n",
       "      <td>1</td>\n",
       "    </tr>\n",
       "    <tr>\n",
       "      <th>4</th>\n",
       "      <td>One of the last classics of the French New Wav...</td>\n",
       "      <td>10</td>\n",
       "      <td>1</td>\n",
       "      <td>pos</td>\n",
       "      <td>1</td>\n",
       "    </tr>\n",
       "    <tr>\n",
       "      <th>...</th>\n",
       "      <td>...</td>\n",
       "      <td>...</td>\n",
       "      <td>...</td>\n",
       "      <td>...</td>\n",
       "      <td>...</td>\n",
       "    </tr>\n",
       "    <tr>\n",
       "      <th>49995</th>\n",
       "      <td>(spoiler) it could be the one the worst movie ...</td>\n",
       "      <td>4</td>\n",
       "      <td>0</td>\n",
       "      <td>neg</td>\n",
       "      <td>0</td>\n",
       "    </tr>\n",
       "    <tr>\n",
       "      <th>49996</th>\n",
       "      <td>So, you've seen the Romero movies, yes? And yo...</td>\n",
       "      <td>1</td>\n",
       "      <td>0</td>\n",
       "      <td>neg</td>\n",
       "      <td>0</td>\n",
       "    </tr>\n",
       "    <tr>\n",
       "      <th>49997</th>\n",
       "      <td>Just listen to the Broadway cast album and to ...</td>\n",
       "      <td>3</td>\n",
       "      <td>0</td>\n",
       "      <td>pos</td>\n",
       "      <td>1</td>\n",
       "    </tr>\n",
       "    <tr>\n",
       "      <th>49998</th>\n",
       "      <td>I have been a fan of the Carpenters for a long...</td>\n",
       "      <td>3</td>\n",
       "      <td>0</td>\n",
       "      <td>pos</td>\n",
       "      <td>1</td>\n",
       "    </tr>\n",
       "    <tr>\n",
       "      <th>49999</th>\n",
       "      <td>Set in 1945, Skenbart follows a failed Swedish...</td>\n",
       "      <td>1</td>\n",
       "      <td>0</td>\n",
       "      <td>neg</td>\n",
       "      <td>0</td>\n",
       "    </tr>\n",
       "  </tbody>\n",
       "</table>\n",
       "<p>50000 rows × 5 columns</p>\n",
       "</div>"
      ],
      "text/plain": [
       "                                                  Review  Rating  \\\n",
       "0      Kurt Russell's chameleon-like performance, cou...      10   \n",
       "1      It was extremely low budget(it some scenes it ...       8   \n",
       "2      James Cagney is best known for his tough chara...       8   \n",
       "3      Following the brilliant \"Goyôkiba\" (aka. \"Hanz...       8   \n",
       "4      One of the last classics of the French New Wav...      10   \n",
       "...                                                  ...     ...   \n",
       "49995  (spoiler) it could be the one the worst movie ...       4   \n",
       "49996  So, you've seen the Romero movies, yes? And yo...       1   \n",
       "49997  Just listen to the Broadway cast album and to ...       3   \n",
       "49998  I have been a fan of the Carpenters for a long...       3   \n",
       "49999  Set in 1945, Skenbart follows a failed Swedish...       1   \n",
       "\n",
       "       OriginalSentiment sentiment sentimentScore  \n",
       "0                      1       pos              1  \n",
       "1                      1       pos              1  \n",
       "2                      1       pos              1  \n",
       "3                      1       pos              1  \n",
       "4                      1       pos              1  \n",
       "...                  ...       ...            ...  \n",
       "49995                  0       neg              0  \n",
       "49996                  0       neg              0  \n",
       "49997                  0       pos              1  \n",
       "49998                  0       pos              1  \n",
       "49999                  0       neg              0  \n",
       "\n",
       "[50000 rows x 5 columns]"
      ]
     },
     "execution_count": 82,
     "metadata": {},
     "output_type": "execute_result"
    }
   ],
   "source": [
    "# Display the DataFrame with Sentiment Data\n",
    "df_feedback"
   ]
  },
  {
   "cell_type": "code",
   "execution_count": 83,
   "metadata": {},
   "outputs": [
    {
     "data": {
      "text/plain": [
       "1    70.67\n",
       "0    29.33\n",
       "Name: sentimentScore, dtype: float64"
      ]
     },
     "execution_count": 83,
     "metadata": {},
     "output_type": "execute_result"
    }
   ],
   "source": [
    "# Determine percentage of Postive, Negative Reviews\n",
    "df_feedback.sentimentScore.value_counts(normalize=True)*100"
   ]
  },
  {
   "cell_type": "markdown",
   "metadata": {},
   "source": [
    "#### There are about 71% positive reviews and 29% with negative reviews."
   ]
  },
  {
   "cell_type": "code",
   "execution_count": 84,
   "metadata": {},
   "outputs": [
    {
     "data": {
      "image/png": "[encoded data removed]",
      "text/plain": [
       "<Figure size 720x432 with 1 Axes>"
      ]
     },
     "metadata": {},
     "output_type": "display_data"
    }
   ],
   "source": [
    "# Plot Sentiment Analysis - Percentages\n",
    "plt.figure(figsize=(10,6))\n",
    "#colors=['#99ff99','#ff9999']\n",
    " \n",
    "plt.pie(df_feedback['sentimentScore'].value_counts(normalize=True),labels=['Positive','Negative'],autopct='%1.2f%%',shadow=True)\n",
    "plt.title('Sentiment Analysis using textblob and NaiveBayesAnalyzer',fontsize=20)\n",
    "\n",
    "plt.show()"
   ]
  },
  {
   "cell_type": "markdown",
   "metadata": {},
   "source": [
    "### Sentiment Analysis - Method 3 - Based on Original Sentiment Score given the dataset"
   ]
  },
  {
   "cell_type": "code",
   "execution_count": 85,
   "metadata": {},
   "outputs": [
    {
     "data": {
      "text/plain": [
       "1    50.0\n",
       "0    50.0\n",
       "Name: OriginalSentiment, dtype: float64"
      ]
     },
     "execution_count": 85,
     "metadata": {},
     "output_type": "execute_result"
    }
   ],
   "source": [
    "# Determine percentage of Postive and Negative Reviews\n",
    "df_feedback.OriginalSentiment.value_counts(normalize=True)*100"
   ]
  },
  {
   "cell_type": "markdown",
   "metadata": {},
   "source": [
    "#### There are 50% positive reviews and 50% with negative reviews."
   ]
  },
  {
   "cell_type": "code",
   "execution_count": 86,
   "metadata": {},
   "outputs": [
    {
     "data": {
      "image/png": "[encoded data removed]",
      "text/plain": [
       "<Figure size 720x432 with 1 Axes>"
      ]
     },
     "metadata": {},
     "output_type": "display_data"
    }
   ],
   "source": [
    "# Plot Sentiment Analysis - Percentages\n",
    "plt.figure(figsize=(10,6))\n",
    "#colors=['#99ff99','#ff9999']\n",
    " \n",
    "plt.pie(df_feedback['OriginalSentiment'].value_counts(normalize=True),labels=['Positive','Negative'],autopct='%1.2f%%',shadow=True)\n",
    "plt.title('Sentiment Analysis - Original Sentiment Score in the dataset',fontsize=20)\n",
    "\n",
    "plt.show()"
   ]
  },
  {
   "cell_type": "markdown",
   "metadata": {},
   "source": [
    "### Data Preparaion"
   ]
  },
  {
   "cell_type": "markdown",
   "metadata": {},
   "source": [
    "#### Feature Engineering"
   ]
  },
  {
   "cell_type": "markdown",
   "metadata": {},
   "source": [
    "#### Make raw data ready for modeling"
   ]
  },
  {
   "cell_type": "code",
   "execution_count": 87,
   "metadata": {},
   "outputs": [],
   "source": [
    "# Define function to perform below text cleaning\n",
    "# Make text lowercase\n",
    "# Remove text in square brackets\n",
    "# Remove links\n",
    "# Remove special characters\n",
    "# Remove words containing numbers\n",
    "# Remove punctuation\n",
    "\n",
    "def text_cleaning(text):\n",
    "\n",
    "    text = text.lower()\n",
    "    text = re.sub('\\[.*?\\]', '', text)\n",
    "    text = re.sub(\"\\\\W\",\" \",text) # remove special chars\n",
    "    text = re.sub('https?://\\S+|www\\.\\S+', '', text)\n",
    "    text = re.sub('<.*?>+', '', text)\n",
    "    text = re.sub('[%s]' % re.escape(string.punctuation), '', text)\n",
    "    text = re.sub('\\n', '', text)\n",
    "    text = re.sub('\\w*\\d\\w*', '', text)\n",
    "    \n",
    "    return text"
   ]
  },
  {
   "cell_type": "code",
   "execution_count": 88,
   "metadata": {},
   "outputs": [],
   "source": [
    "# Apply text cleaning function to the DataFrame\n",
    "df_feedback['Review'] = df_feedback['Review'].apply(text_cleaning)"
   ]
  },
  {
   "cell_type": "code",
   "execution_count": 89,
   "metadata": {},
   "outputs": [
    {
     "data": {
      "text/html": [
       "<div>\n",
       "<style scoped>\n",
       "    .dataframe tbody tr th:only-of-type {\n",
       "        vertical-align: middle;\n",
       "    }\n",
       "\n",
       "    .dataframe tbody tr th {\n",
       "        vertical-align: top;\n",
       "    }\n",
       "\n",
       "    .dataframe thead th {\n",
       "        text-align: right;\n",
       "    }\n",
       "</style>\n",
       "<table border=\"1\" class=\"dataframe\">\n",
       "  <thead>\n",
       "    <tr style=\"text-align: right;\">\n",
       "      <th></th>\n",
       "      <th>Review</th>\n",
       "      <th>Rating</th>\n",
       "      <th>OriginalSentiment</th>\n",
       "      <th>sentiment</th>\n",
       "      <th>sentimentScore</th>\n",
       "    </tr>\n",
       "  </thead>\n",
       "  <tbody>\n",
       "    <tr>\n",
       "      <th>0</th>\n",
       "      <td>kurt russell s chameleon like performance  cou...</td>\n",
       "      <td>10</td>\n",
       "      <td>1</td>\n",
       "      <td>pos</td>\n",
       "      <td>1</td>\n",
       "    </tr>\n",
       "    <tr>\n",
       "      <th>1</th>\n",
       "      <td>it was extremely low budget it some scenes it ...</td>\n",
       "      <td>8</td>\n",
       "      <td>1</td>\n",
       "      <td>pos</td>\n",
       "      <td>1</td>\n",
       "    </tr>\n",
       "    <tr>\n",
       "      <th>2</th>\n",
       "      <td>james cagney is best known for his tough chara...</td>\n",
       "      <td>8</td>\n",
       "      <td>1</td>\n",
       "      <td>pos</td>\n",
       "      <td>1</td>\n",
       "    </tr>\n",
       "    <tr>\n",
       "      <th>3</th>\n",
       "      <td>following the brilliant  goyôkiba   aka   hanz...</td>\n",
       "      <td>8</td>\n",
       "      <td>1</td>\n",
       "      <td>pos</td>\n",
       "      <td>1</td>\n",
       "    </tr>\n",
       "    <tr>\n",
       "      <th>4</th>\n",
       "      <td>one of the last classics of the french new wav...</td>\n",
       "      <td>10</td>\n",
       "      <td>1</td>\n",
       "      <td>pos</td>\n",
       "      <td>1</td>\n",
       "    </tr>\n",
       "    <tr>\n",
       "      <th>...</th>\n",
       "      <td>...</td>\n",
       "      <td>...</td>\n",
       "      <td>...</td>\n",
       "      <td>...</td>\n",
       "      <td>...</td>\n",
       "    </tr>\n",
       "    <tr>\n",
       "      <th>49995</th>\n",
       "      <td>spoiler  it could be the one the worst movie ...</td>\n",
       "      <td>4</td>\n",
       "      <td>0</td>\n",
       "      <td>neg</td>\n",
       "      <td>0</td>\n",
       "    </tr>\n",
       "    <tr>\n",
       "      <th>49996</th>\n",
       "      <td>so  you ve seen the romero movies  yes  and yo...</td>\n",
       "      <td>1</td>\n",
       "      <td>0</td>\n",
       "      <td>neg</td>\n",
       "      <td>0</td>\n",
       "    </tr>\n",
       "    <tr>\n",
       "      <th>49997</th>\n",
       "      <td>just listen to the broadway cast album and to ...</td>\n",
       "      <td>3</td>\n",
       "      <td>0</td>\n",
       "      <td>pos</td>\n",
       "      <td>1</td>\n",
       "    </tr>\n",
       "    <tr>\n",
       "      <th>49998</th>\n",
       "      <td>i have been a fan of the carpenters for a long...</td>\n",
       "      <td>3</td>\n",
       "      <td>0</td>\n",
       "      <td>pos</td>\n",
       "      <td>1</td>\n",
       "    </tr>\n",
       "    <tr>\n",
       "      <th>49999</th>\n",
       "      <td>set in   skenbart follows a failed swedish boo...</td>\n",
       "      <td>1</td>\n",
       "      <td>0</td>\n",
       "      <td>neg</td>\n",
       "      <td>0</td>\n",
       "    </tr>\n",
       "  </tbody>\n",
       "</table>\n",
       "<p>50000 rows × 5 columns</p>\n",
       "</div>"
      ],
      "text/plain": [
       "                                                  Review  Rating  \\\n",
       "0      kurt russell s chameleon like performance  cou...      10   \n",
       "1      it was extremely low budget it some scenes it ...       8   \n",
       "2      james cagney is best known for his tough chara...       8   \n",
       "3      following the brilliant  goyôkiba   aka   hanz...       8   \n",
       "4      one of the last classics of the french new wav...      10   \n",
       "...                                                  ...     ...   \n",
       "49995   spoiler  it could be the one the worst movie ...       4   \n",
       "49996  so  you ve seen the romero movies  yes  and yo...       1   \n",
       "49997  just listen to the broadway cast album and to ...       3   \n",
       "49998  i have been a fan of the carpenters for a long...       3   \n",
       "49999  set in   skenbart follows a failed swedish boo...       1   \n",
       "\n",
       "       OriginalSentiment sentiment sentimentScore  \n",
       "0                      1       pos              1  \n",
       "1                      1       pos              1  \n",
       "2                      1       pos              1  \n",
       "3                      1       pos              1  \n",
       "4                      1       pos              1  \n",
       "...                  ...       ...            ...  \n",
       "49995                  0       neg              0  \n",
       "49996                  0       neg              0  \n",
       "49997                  0       pos              1  \n",
       "49998                  0       pos              1  \n",
       "49999                  0       neg              0  \n",
       "\n",
       "[50000 rows x 5 columns]"
      ]
     },
     "execution_count": 89,
     "metadata": {},
     "output_type": "execute_result"
    }
   ],
   "source": [
    "# Display the cleaned data\n",
    "df_feedback"
   ]
  },
  {
   "cell_type": "markdown",
   "metadata": {},
   "source": [
    "#### Vectorizing text data"
   ]
  },
  {
   "cell_type": "code",
   "execution_count": 90,
   "metadata": {},
   "outputs": [
    {
     "data": {
      "text/plain": [
       "(50000, 154565)"
      ]
     },
     "execution_count": 90,
     "metadata": {},
     "output_type": "execute_result"
    }
   ],
   "source": [
    "# TFIDF Vectorizer\n",
    "tfidf = TfidfVectorizer(sublinear_tf=True, min_df=5, norm='l2', encoding='latin-1', ngram_range=(1, 2), stop_words='english')\n",
    "featureCounts = tfidf.fit_transform(df_feedback.Review)\n",
    "tfidf_transformer = TfidfTransformer()\n",
    "features = tfidf_transformer.fit_transform(featureCounts)\n",
    "labels = df_feedback.Rating\n",
    "features.shape"
   ]
  },
  {
   "cell_type": "code",
   "execution_count": 91,
   "metadata": {},
   "outputs": [
    {
     "data": {
      "text/plain": [
       "(50000, 253214)"
      ]
     },
     "execution_count": 91,
     "metadata": {},
     "output_type": "execute_result"
    }
   ],
   "source": [
    "# Bag of Words\n",
    "vectorizer = CountVectorizer(min_df=10,ngram_range=(1,4))\n",
    "vectorizer.fit(df_feedback['Review'].values) \n",
    "\n",
    "# Use the fitted CountVectorizer to convert the text to vector\n",
    "bow = vectorizer.transform(df_feedback['Review'].values)\n",
    "\n",
    "bow.shape"
   ]
  },
  {
   "cell_type": "markdown",
   "metadata": {},
   "source": [
    "### Methods - Model Selection and Evaluation"
   ]
  },
  {
   "cell_type": "code",
   "execution_count": 92,
   "metadata": {},
   "outputs": [],
   "source": [
    "# Load necessary libraries\n",
    "import pandas as pd\n",
    "import numpy as np\n",
    "import matplotlib.pyplot as plt\n",
    "%matplotlib inline\n",
    "import seaborn as sns\n",
    "\n",
    "import nltk\n",
    "\n",
    "from nltk.tokenize import sent_tokenize\n",
    "from nltk.tokenize import word_tokenize\n",
    "from sklearn.feature_extraction.text import TfidfVectorizer\n",
    "from sklearn.feature_extraction.text import TfidfTransformer\n",
    "from sklearn.feature_extraction.text import CountVectorizer\n",
    "from sklearn.pipeline import Pipeline\n",
    "from scipy.stats import uniform\n",
    "from scipy import interp\n",
    "\n",
    "from sklearn.model_selection import train_test_split\n",
    "from sklearn.model_selection import RandomizedSearchCV\n",
    "from sklearn.model_selection import StratifiedKFold\n",
    "from sklearn.model_selection import cross_val_score\n",
    "from sklearn.model_selection import cross_validate\n",
    "from sklearn.model_selection import RepeatedStratifiedKFold\n",
    "\n",
    "from sklearn.metrics import accuracy_score\n",
    "from sklearn.metrics import f1_score\n",
    "from sklearn.metrics import confusion_matrix\n",
    "from sklearn.metrics import plot_confusion_matrix\n",
    "from sklearn.metrics import classification_report\n",
    "\n",
    "from sklearn.naive_bayes import MultinomialNB\n",
    "from sklearn.linear_model import LogisticRegression\n",
    "from sklearn.ensemble import RandomForestClassifier\n",
    "from sklearn.svm import LinearSVC\n",
    "from xgboost import XGBClassifier\n",
    "from sklearn.neural_network import MLPClassifier\n",
    "\n",
    "from sklearn.datasets import make_classification\n",
    "\n",
    "from yellowbrick.classifier import ConfusionMatrix\n",
    "from yellowbrick.classifier import ClassificationReport\n",
    "from yellowbrick.classifier import ROCAUC\n",
    "\n",
    "from sklearn import preprocessing\n",
    "from keras.preprocessing.text import Tokenizer\n",
    "\n",
    "import keras\n",
    "from keras.models import Sequential\n",
    "from keras.layers import Dense\n",
    "\n",
    "import re\n",
    "import string\n",
    "from numpy import mean\n",
    "from sklearn.utils import resample\n",
    "\n",
    "import warnings\n",
    "warnings.filterwarnings('ignore')"
   ]
  },
  {
   "cell_type": "code",
   "execution_count": 93,
   "metadata": {
    "scrolled": true
   },
   "outputs": [
    {
     "data": {
      "text/html": [
       "<div>\n",
       "<style scoped>\n",
       "    .dataframe tbody tr th:only-of-type {\n",
       "        vertical-align: middle;\n",
       "    }\n",
       "\n",
       "    .dataframe tbody tr th {\n",
       "        vertical-align: top;\n",
       "    }\n",
       "\n",
       "    .dataframe thead th {\n",
       "        text-align: right;\n",
       "    }\n",
       "</style>\n",
       "<table border=\"1\" class=\"dataframe\">\n",
       "  <thead>\n",
       "    <tr style=\"text-align: right;\">\n",
       "      <th></th>\n",
       "      <th>Review</th>\n",
       "      <th>Rating</th>\n",
       "      <th>OriginalSentiment</th>\n",
       "      <th>sentiment</th>\n",
       "      <th>sentimentScore</th>\n",
       "    </tr>\n",
       "  </thead>\n",
       "  <tbody>\n",
       "    <tr>\n",
       "      <th>0</th>\n",
       "      <td>kurt russell s chameleon like performance  cou...</td>\n",
       "      <td>10</td>\n",
       "      <td>1</td>\n",
       "      <td>pos</td>\n",
       "      <td>1</td>\n",
       "    </tr>\n",
       "    <tr>\n",
       "      <th>1</th>\n",
       "      <td>it was extremely low budget it some scenes it ...</td>\n",
       "      <td>8</td>\n",
       "      <td>1</td>\n",
       "      <td>pos</td>\n",
       "      <td>1</td>\n",
       "    </tr>\n",
       "    <tr>\n",
       "      <th>2</th>\n",
       "      <td>james cagney is best known for his tough chara...</td>\n",
       "      <td>8</td>\n",
       "      <td>1</td>\n",
       "      <td>pos</td>\n",
       "      <td>1</td>\n",
       "    </tr>\n",
       "    <tr>\n",
       "      <th>3</th>\n",
       "      <td>following the brilliant  goyôkiba   aka   hanz...</td>\n",
       "      <td>8</td>\n",
       "      <td>1</td>\n",
       "      <td>pos</td>\n",
       "      <td>1</td>\n",
       "    </tr>\n",
       "    <tr>\n",
       "      <th>4</th>\n",
       "      <td>one of the last classics of the french new wav...</td>\n",
       "      <td>10</td>\n",
       "      <td>1</td>\n",
       "      <td>pos</td>\n",
       "      <td>1</td>\n",
       "    </tr>\n",
       "    <tr>\n",
       "      <th>...</th>\n",
       "      <td>...</td>\n",
       "      <td>...</td>\n",
       "      <td>...</td>\n",
       "      <td>...</td>\n",
       "      <td>...</td>\n",
       "    </tr>\n",
       "    <tr>\n",
       "      <th>49995</th>\n",
       "      <td>spoiler  it could be the one the worst movie ...</td>\n",
       "      <td>4</td>\n",
       "      <td>0</td>\n",
       "      <td>neg</td>\n",
       "      <td>0</td>\n",
       "    </tr>\n",
       "    <tr>\n",
       "      <th>49996</th>\n",
       "      <td>so  you ve seen the romero movies  yes  and yo...</td>\n",
       "      <td>1</td>\n",
       "      <td>0</td>\n",
       "      <td>neg</td>\n",
       "      <td>0</td>\n",
       "    </tr>\n",
       "    <tr>\n",
       "      <th>49997</th>\n",
       "      <td>just listen to the broadway cast album and to ...</td>\n",
       "      <td>3</td>\n",
       "      <td>0</td>\n",
       "      <td>pos</td>\n",
       "      <td>1</td>\n",
       "    </tr>\n",
       "    <tr>\n",
       "      <th>49998</th>\n",
       "      <td>i have been a fan of the carpenters for a long...</td>\n",
       "      <td>3</td>\n",
       "      <td>0</td>\n",
       "      <td>pos</td>\n",
       "      <td>1</td>\n",
       "    </tr>\n",
       "    <tr>\n",
       "      <th>49999</th>\n",
       "      <td>set in   skenbart follows a failed swedish boo...</td>\n",
       "      <td>1</td>\n",
       "      <td>0</td>\n",
       "      <td>neg</td>\n",
       "      <td>0</td>\n",
       "    </tr>\n",
       "  </tbody>\n",
       "</table>\n",
       "<p>50000 rows × 5 columns</p>\n",
       "</div>"
      ],
      "text/plain": [
       "                                                  Review  Rating  \\\n",
       "0      kurt russell s chameleon like performance  cou...      10   \n",
       "1      it was extremely low budget it some scenes it ...       8   \n",
       "2      james cagney is best known for his tough chara...       8   \n",
       "3      following the brilliant  goyôkiba   aka   hanz...       8   \n",
       "4      one of the last classics of the french new wav...      10   \n",
       "...                                                  ...     ...   \n",
       "49995   spoiler  it could be the one the worst movie ...       4   \n",
       "49996  so  you ve seen the romero movies  yes  and yo...       1   \n",
       "49997  just listen to the broadway cast album and to ...       3   \n",
       "49998  i have been a fan of the carpenters for a long...       3   \n",
       "49999  set in   skenbart follows a failed swedish boo...       1   \n",
       "\n",
       "       OriginalSentiment sentiment sentimentScore  \n",
       "0                      1       pos              1  \n",
       "1                      1       pos              1  \n",
       "2                      1       pos              1  \n",
       "3                      1       pos              1  \n",
       "4                      1       pos              1  \n",
       "...                  ...       ...            ...  \n",
       "49995                  0       neg              0  \n",
       "49996                  0       neg              0  \n",
       "49997                  0       pos              1  \n",
       "49998                  0       pos              1  \n",
       "49999                  0       neg              0  \n",
       "\n",
       "[50000 rows x 5 columns]"
      ]
     },
     "execution_count": 93,
     "metadata": {},
     "output_type": "execute_result"
    }
   ],
   "source": [
    "# Display the data\n",
    "df_feedback"
   ]
  },
  {
   "cell_type": "code",
   "execution_count": 94,
   "metadata": {},
   "outputs": [],
   "source": [
    "# Drop the unnecessary features from the dataset that are not needed for modeling\n",
    "df_feedback = df_feedback.drop(['OriginalSentiment','sentiment','sentimentScore'],axis=1)"
   ]
  },
  {
   "cell_type": "code",
   "execution_count": 95,
   "metadata": {},
   "outputs": [
    {
     "data": {
      "text/html": [
       "<div>\n",
       "<style scoped>\n",
       "    .dataframe tbody tr th:only-of-type {\n",
       "        vertical-align: middle;\n",
       "    }\n",
       "\n",
       "    .dataframe tbody tr th {\n",
       "        vertical-align: top;\n",
       "    }\n",
       "\n",
       "    .dataframe thead th {\n",
       "        text-align: right;\n",
       "    }\n",
       "</style>\n",
       "<table border=\"1\" class=\"dataframe\">\n",
       "  <thead>\n",
       "    <tr style=\"text-align: right;\">\n",
       "      <th></th>\n",
       "      <th>Review</th>\n",
       "      <th>Rating</th>\n",
       "    </tr>\n",
       "  </thead>\n",
       "  <tbody>\n",
       "    <tr>\n",
       "      <th>0</th>\n",
       "      <td>kurt russell s chameleon like performance  cou...</td>\n",
       "      <td>10</td>\n",
       "    </tr>\n",
       "    <tr>\n",
       "      <th>1</th>\n",
       "      <td>it was extremely low budget it some scenes it ...</td>\n",
       "      <td>8</td>\n",
       "    </tr>\n",
       "    <tr>\n",
       "      <th>2</th>\n",
       "      <td>james cagney is best known for his tough chara...</td>\n",
       "      <td>8</td>\n",
       "    </tr>\n",
       "    <tr>\n",
       "      <th>3</th>\n",
       "      <td>following the brilliant  goyôkiba   aka   hanz...</td>\n",
       "      <td>8</td>\n",
       "    </tr>\n",
       "    <tr>\n",
       "      <th>4</th>\n",
       "      <td>one of the last classics of the french new wav...</td>\n",
       "      <td>10</td>\n",
       "    </tr>\n",
       "    <tr>\n",
       "      <th>...</th>\n",
       "      <td>...</td>\n",
       "      <td>...</td>\n",
       "    </tr>\n",
       "    <tr>\n",
       "      <th>49995</th>\n",
       "      <td>spoiler  it could be the one the worst movie ...</td>\n",
       "      <td>4</td>\n",
       "    </tr>\n",
       "    <tr>\n",
       "      <th>49996</th>\n",
       "      <td>so  you ve seen the romero movies  yes  and yo...</td>\n",
       "      <td>1</td>\n",
       "    </tr>\n",
       "    <tr>\n",
       "      <th>49997</th>\n",
       "      <td>just listen to the broadway cast album and to ...</td>\n",
       "      <td>3</td>\n",
       "    </tr>\n",
       "    <tr>\n",
       "      <th>49998</th>\n",
       "      <td>i have been a fan of the carpenters for a long...</td>\n",
       "      <td>3</td>\n",
       "    </tr>\n",
       "    <tr>\n",
       "      <th>49999</th>\n",
       "      <td>set in   skenbart follows a failed swedish boo...</td>\n",
       "      <td>1</td>\n",
       "    </tr>\n",
       "  </tbody>\n",
       "</table>\n",
       "<p>50000 rows × 2 columns</p>\n",
       "</div>"
      ],
      "text/plain": [
       "                                                  Review  Rating\n",
       "0      kurt russell s chameleon like performance  cou...      10\n",
       "1      it was extremely low budget it some scenes it ...       8\n",
       "2      james cagney is best known for his tough chara...       8\n",
       "3      following the brilliant  goyôkiba   aka   hanz...       8\n",
       "4      one of the last classics of the french new wav...      10\n",
       "...                                                  ...     ...\n",
       "49995   spoiler  it could be the one the worst movie ...       4\n",
       "49996  so  you ve seen the romero movies  yes  and yo...       1\n",
       "49997  just listen to the broadway cast album and to ...       3\n",
       "49998  i have been a fan of the carpenters for a long...       3\n",
       "49999  set in   skenbart follows a failed swedish boo...       1\n",
       "\n",
       "[50000 rows x 2 columns]"
      ]
     },
     "execution_count": 95,
     "metadata": {},
     "output_type": "execute_result"
    }
   ],
   "source": [
    "# Display the cleaned data\n",
    "df_feedback"
   ]
  },
  {
   "cell_type": "code",
   "execution_count": 96,
   "metadata": {},
   "outputs": [
    {
     "data": {
      "text/html": [
       "<div>\n",
       "<style scoped>\n",
       "    .dataframe tbody tr th:only-of-type {\n",
       "        vertical-align: middle;\n",
       "    }\n",
       "\n",
       "    .dataframe tbody tr th {\n",
       "        vertical-align: top;\n",
       "    }\n",
       "\n",
       "    .dataframe thead th {\n",
       "        text-align: right;\n",
       "    }\n",
       "</style>\n",
       "<table border=\"1\" class=\"dataframe\">\n",
       "  <thead>\n",
       "    <tr style=\"text-align: right;\">\n",
       "      <th></th>\n",
       "      <th>Review</th>\n",
       "      <th>Rating</th>\n",
       "    </tr>\n",
       "  </thead>\n",
       "  <tbody>\n",
       "    <tr>\n",
       "      <th>0</th>\n",
       "      <td>kurt russell s chameleon like performance  cou...</td>\n",
       "      <td>1</td>\n",
       "    </tr>\n",
       "    <tr>\n",
       "      <th>1</th>\n",
       "      <td>it was extremely low budget it some scenes it ...</td>\n",
       "      <td>1</td>\n",
       "    </tr>\n",
       "    <tr>\n",
       "      <th>2</th>\n",
       "      <td>james cagney is best known for his tough chara...</td>\n",
       "      <td>1</td>\n",
       "    </tr>\n",
       "    <tr>\n",
       "      <th>3</th>\n",
       "      <td>following the brilliant  goyôkiba   aka   hanz...</td>\n",
       "      <td>1</td>\n",
       "    </tr>\n",
       "    <tr>\n",
       "      <th>4</th>\n",
       "      <td>one of the last classics of the french new wav...</td>\n",
       "      <td>1</td>\n",
       "    </tr>\n",
       "    <tr>\n",
       "      <th>...</th>\n",
       "      <td>...</td>\n",
       "      <td>...</td>\n",
       "    </tr>\n",
       "    <tr>\n",
       "      <th>49995</th>\n",
       "      <td>spoiler  it could be the one the worst movie ...</td>\n",
       "      <td>1</td>\n",
       "    </tr>\n",
       "    <tr>\n",
       "      <th>49996</th>\n",
       "      <td>so  you ve seen the romero movies  yes  and yo...</td>\n",
       "      <td>0</td>\n",
       "    </tr>\n",
       "    <tr>\n",
       "      <th>49997</th>\n",
       "      <td>just listen to the broadway cast album and to ...</td>\n",
       "      <td>0</td>\n",
       "    </tr>\n",
       "    <tr>\n",
       "      <th>49998</th>\n",
       "      <td>i have been a fan of the carpenters for a long...</td>\n",
       "      <td>0</td>\n",
       "    </tr>\n",
       "    <tr>\n",
       "      <th>49999</th>\n",
       "      <td>set in   skenbart follows a failed swedish boo...</td>\n",
       "      <td>0</td>\n",
       "    </tr>\n",
       "  </tbody>\n",
       "</table>\n",
       "<p>50000 rows × 2 columns</p>\n",
       "</div>"
      ],
      "text/plain": [
       "                                                  Review  Rating\n",
       "0      kurt russell s chameleon like performance  cou...       1\n",
       "1      it was extremely low budget it some scenes it ...       1\n",
       "2      james cagney is best known for his tough chara...       1\n",
       "3      following the brilliant  goyôkiba   aka   hanz...       1\n",
       "4      one of the last classics of the french new wav...       1\n",
       "...                                                  ...     ...\n",
       "49995   spoiler  it could be the one the worst movie ...       1\n",
       "49996  so  you ve seen the romero movies  yes  and yo...       0\n",
       "49997  just listen to the broadway cast album and to ...       0\n",
       "49998  i have been a fan of the carpenters for a long...       0\n",
       "49999  set in   skenbart follows a failed swedish boo...       0\n",
       "\n",
       "[50000 rows x 2 columns]"
      ]
     },
     "execution_count": 96,
     "metadata": {},
     "output_type": "execute_result"
    }
   ],
   "source": [
    "# Simplify Rating by re-assigning the values as below\n",
    "# Rating 4 and above = 1\n",
    "# Rating 3 and below = 0\n",
    "df_feedback['Rating'] = df_feedback.Rating.apply(lambda x: 1 if x>=4.0 else 0)\n",
    "df_feedback"
   ]
  },
  {
   "cell_type": "code",
   "execution_count": 97,
   "metadata": {},
   "outputs": [
    {
     "data": {
      "text/plain": [
       "1    30331\n",
       "0    19669\n",
       "Name: Rating, dtype: int64"
      ]
     },
     "execution_count": 97,
     "metadata": {},
     "output_type": "execute_result"
    }
   ],
   "source": [
    "# Display value counts for Rating\n",
    "df_feedback.Rating.value_counts()"
   ]
  },
  {
   "cell_type": "code",
   "execution_count": 98,
   "metadata": {},
   "outputs": [
    {
     "data": {
      "text/plain": [
       "<matplotlib.axes._subplots.AxesSubplot at 0x25cc17fceb0>"
      ]
     },
     "execution_count": 98,
     "metadata": {},
     "output_type": "execute_result"
    },
    {
     "data": {
      "image/png": "[encoded data removed]",
      "text/plain": [
       "<Figure size 432x288 with 1 Axes>"
      ]
     },
     "metadata": {
      "needs_background": "light"
     },
     "output_type": "display_data"
    }
   ],
   "source": [
    "sns.countplot(df_feedback.Rating)"
   ]
  },
  {
   "cell_type": "code",
   "execution_count": 99,
   "metadata": {},
   "outputs": [
    {
     "data": {
      "text/plain": [
       "1    60.662\n",
       "0    39.338\n",
       "Name: Rating, dtype: float64"
      ]
     },
     "execution_count": 99,
     "metadata": {},
     "output_type": "execute_result"
    }
   ],
   "source": [
    "# Calculate percentages of each Rating of the IMDB Moview review in the DataFrame\n",
    "df_feedback['Rating'].value_counts(normalize=True)*100"
   ]
  },
  {
   "cell_type": "markdown",
   "metadata": {},
   "source": [
    "### Split the data for modeling"
   ]
  },
  {
   "cell_type": "code",
   "execution_count": 100,
   "metadata": {},
   "outputs": [],
   "source": [
    "#split the data\n",
    "X = df_feedback.Review\n",
    "y = df_feedback.Rating\n",
    "\n",
    "x_train,x_test,y_train,y_test = train_test_split(X,y,test_size = 0.2 , random_state = 0)"
   ]
  },
  {
   "cell_type": "markdown",
   "metadata": {},
   "source": [
    "### Vectorizing text data"
   ]
  },
  {
   "cell_type": "code",
   "execution_count": 101,
   "metadata": {},
   "outputs": [
    {
     "name": "stdout",
     "output_type": "stream",
     "text": [
      "tfidf_x_train: (40000, 2048395)\n",
      "tfidf_x_test: (10000, 2048395)\n"
     ]
    }
   ],
   "source": [
    "# TFIDF Vectorizer\n",
    "\n",
    "tv = TfidfVectorizer(min_df=0,max_df=1,use_idf=True,ngram_range=(1,2), stop_words='english')\n",
    "\n",
    "tfidf_x_train = tv.fit_transform(x_train)\n",
    "tfidf_x_test = tv.transform(x_test)\n",
    "\n",
    "print('tfidf_x_train:',tfidf_x_train.shape)\n",
    "print('tfidf_x_test:',tfidf_x_test.shape)"
   ]
  },
  {
   "cell_type": "markdown",
   "metadata": {},
   "source": [
    "## Model Selection"
   ]
  },
  {
   "cell_type": "markdown",
   "metadata": {},
   "source": [
    "### With over 60% of positive customer feedback reviews, as many as five types of models are selected to run as listed below:"
   ]
  },
  {
   "cell_type": "markdown",
   "metadata": {},
   "source": [
    "1. Multinomial Naive Bayes\n",
    "2. Random Forest\n",
    "3. Linear SVC\n",
    "4. Logistic Regression\n",
    "5. XGB Classifier\n",
    "6. Logistic Regression Model using class_weight\n",
    "7. Neural Network Classifier with Keras"
   ]
  },
  {
   "cell_type": "markdown",
   "metadata": {},
   "source": [
    "### 1. Naive Bayes"
   ]
  },
  {
   "cell_type": "code",
   "execution_count": 102,
   "metadata": {},
   "outputs": [
    {
     "name": "stdout",
     "output_type": "stream",
     "text": [
      "NB accuracy: 0.6179\n",
      "NB f1: 0.4849698378546941\n",
      "              precision    recall  f1-score   support\n",
      "\n",
      "           0       0.94      0.03      0.06      3938\n",
      "           1       0.61      1.00      0.76      6062\n",
      "\n",
      "    accuracy                           0.62     10000\n",
      "   macro avg       0.78      0.52      0.41     10000\n",
      "weighted avg       0.74      0.62      0.48     10000\n",
      "\n"
     ]
    }
   ],
   "source": [
    "#Naive Bayes\n",
    "nb = MultinomialNB()\n",
    "\n",
    "#fit\n",
    "tfidf = nb.fit(tfidf_x_train, y_train)\n",
    "\n",
    "#predict\n",
    "nb_tfidf_predict = nb.predict(tfidf_x_test)\n",
    "\n",
    "#accuracy\n",
    "nb_tfidf = accuracy_score(y_test,nb_tfidf_predict)\n",
    "\n",
    "# f1 Score\n",
    "nb_f1 = f1_score(y_test, nb_tfidf_predict, average= 'weighted')\n",
    "\n",
    "print('NB accuracy:', nb_tfidf)\n",
    "print('NB f1:', nb_f1)\n",
    "print(classification_report(y_test, nb_tfidf_predict))"
   ]
  },
  {
   "cell_type": "markdown",
   "metadata": {},
   "source": [
    "#### MultinomialNB Confusion Matrix"
   ]
  },
  {
   "cell_type": "code",
   "execution_count": 103,
   "metadata": {},
   "outputs": [
    {
     "data": {
      "image/png": "[encoded data removed]",
      "text/plain": [
       "<Figure size 432x288 with 1 Axes>"
      ]
     },
     "metadata": {
      "needs_background": "light"
     },
     "output_type": "display_data"
    },
    {
     "data": {
      "text/plain": [
       "<matplotlib.axes._subplots.AxesSubplot at 0x25d091d69d0>"
      ]
     },
     "execution_count": 103,
     "metadata": {},
     "output_type": "execute_result"
    }
   ],
   "source": [
    "#The ConfusionMatrix visualizer taxes a model\n",
    "classes = ['0','1']\n",
    "cm = ConfusionMatrix(nb, classes=classes, percent=False)\n",
    "\n",
    "# Fit the model\n",
    "cm.fit(tfidf_x_train, y_train)\n",
    "\n",
    "#Score runs predict() on the data and then creates the confusion_matrix\n",
    "cm.score(tfidf_x_test, y_test)\n",
    "\n",
    "# change fontsize of the labels in the figure\n",
    "for label in cm.ax.texts:\n",
    "    label.set_size(20)\n",
    "    \n",
    "#Plot the confusion matrix\n",
    "cm.poof()"
   ]
  },
  {
   "cell_type": "code",
   "execution_count": 104,
   "metadata": {},
   "outputs": [
    {
     "data": {
      "image/png": "[encoded data removed]",
      "text/plain": [
       "<Figure size 432x288 with 1 Axes>"
      ]
     },
     "metadata": {
      "needs_background": "light"
     },
     "output_type": "display_data"
    }
   ],
   "source": [
    "# ROC and AUC\n",
    "#Instantiate the visualizer\n",
    "visualizer = ROCAUC(nb)\n",
    "\n",
    "visualizer.fit(tfidf_x_train, y_train)  # Fit the training data to the visualizer\n",
    "visualizer.score(tfidf_x_test, y_test)  # Evaluate the model on the test data\n",
    "g = visualizer.poof()"
   ]
  },
  {
   "cell_type": "markdown",
   "metadata": {},
   "source": [
    "### 2. Random Forest"
   ]
  },
  {
   "cell_type": "code",
   "execution_count": 105,
   "metadata": {},
   "outputs": [
    {
     "name": "stdout",
     "output_type": "stream",
     "text": [
      "rf accuracy: 0.6062\n",
      "rf f1: 0.4575749470800648\n",
      "              precision    recall  f1-score   support\n",
      "\n",
      "           0       0.00      0.00      0.00      3938\n",
      "           1       0.61      1.00      0.75      6062\n",
      "\n",
      "    accuracy                           0.61     10000\n",
      "   macro avg       0.30      0.50      0.38     10000\n",
      "weighted avg       0.37      0.61      0.46     10000\n",
      "\n"
     ]
    }
   ],
   "source": [
    "#random forest\n",
    "rf = RandomForestClassifier(n_estimators=200, max_depth=3, random_state=0)\n",
    "\n",
    "#fit\n",
    "tfidf = rf.fit(tfidf_x_train, y_train)\n",
    "\n",
    "#predict\n",
    "rf_tfidf_predict = rf.predict(tfidf_x_test)\n",
    "\n",
    "#accuracy\n",
    "rf_tfidf = accuracy_score(y_test,rf_tfidf_predict)\n",
    "\n",
    "# f1 Score\n",
    "rf_f1 = f1_score(y_test, rf_tfidf_predict, average= 'weighted')\n",
    "\n",
    "print('rf accuracy:', rf_tfidf)\n",
    "print('rf f1:', rf_f1)\n",
    "print(classification_report(y_test, rf_tfidf_predict))"
   ]
  },
  {
   "cell_type": "markdown",
   "metadata": {},
   "source": [
    "#### Random Forest Classifier Confusion Matrix"
   ]
  },
  {
   "cell_type": "code",
   "execution_count": 106,
   "metadata": {},
   "outputs": [
    {
     "data": {
      "image/png": "[encoded data removed]",
      "text/plain": [
       "<Figure size 432x288 with 1 Axes>"
      ]
     },
     "metadata": {
      "needs_background": "light"
     },
     "output_type": "display_data"
    },
    {
     "data": {
      "text/plain": [
       "<matplotlib.axes._subplots.AxesSubplot at 0x25cc00ecb50>"
      ]
     },
     "execution_count": 106,
     "metadata": {},
     "output_type": "execute_result"
    }
   ],
   "source": [
    "#The ConfusionMatrix visualizer taxes a model\n",
    "classes = ['0','1']\n",
    "cm = ConfusionMatrix(rf, classes=classes, percent=False)\n",
    "\n",
    "# Fit the model\n",
    "cm.fit(tfidf_x_train, y_train)\n",
    "\n",
    "#Score runs predict() on the data and then creates the confusion_matrix\n",
    "cm.score(tfidf_x_test, y_test)\n",
    "\n",
    "# change fontsize of the labels in the figure\n",
    "for label in cm.ax.texts:\n",
    "    label.set_size(20)\n",
    "    \n",
    "#Plot the confusion matrix\n",
    "cm.poof()"
   ]
  },
  {
   "cell_type": "markdown",
   "metadata": {},
   "source": [
    "### 3. Linear SVC"
   ]
  },
  {
   "cell_type": "code",
   "execution_count": 107,
   "metadata": {},
   "outputs": [
    {
     "name": "stdout",
     "output_type": "stream",
     "text": [
      "ls accuracy: 0.6393\n",
      "ls f1: 0.5413708105310395\n",
      "              precision    recall  f1-score   support\n",
      "\n",
      "           0       0.81      0.11      0.19      3938\n",
      "           1       0.63      0.98      0.77      6062\n",
      "\n",
      "    accuracy                           0.64     10000\n",
      "   macro avg       0.72      0.55      0.48     10000\n",
      "weighted avg       0.70      0.64      0.54     10000\n",
      "\n"
     ]
    }
   ],
   "source": [
    "#Linear SVC\n",
    "ls = LinearSVC()\n",
    "\n",
    "#fit\n",
    "tfidf = ls.fit(tfidf_x_train, y_train)\n",
    "\n",
    "#predict\n",
    "ls_tfidf_predict = ls.predict(tfidf_x_test)\n",
    "\n",
    "#accuracy\n",
    "ls_tfidf = accuracy_score(y_test,ls_tfidf_predict)\n",
    "\n",
    "# f1 Score\n",
    "ls_f1 = f1_score(y_test, ls_tfidf_predict, average= 'weighted')\n",
    "\n",
    "print('ls accuracy:', ls_tfidf)\n",
    "print('ls f1:', ls_f1)\n",
    "print(classification_report(y_test, ls_tfidf_predict))"
   ]
  },
  {
   "cell_type": "markdown",
   "metadata": {},
   "source": [
    "#### Linear SVC Confusion Matrix"
   ]
  },
  {
   "cell_type": "code",
   "execution_count": 108,
   "metadata": {},
   "outputs": [
    {
     "data": {
      "image/png": "[encoded data removed]",
      "text/plain": [
       "<Figure size 432x288 with 1 Axes>"
      ]
     },
     "metadata": {
      "needs_background": "light"
     },
     "output_type": "display_data"
    },
    {
     "data": {
      "text/plain": [
       "<matplotlib.axes._subplots.AxesSubplot at 0x25c65049610>"
      ]
     },
     "execution_count": 108,
     "metadata": {},
     "output_type": "execute_result"
    }
   ],
   "source": [
    "#The ConfusionMatrix visualizer taxes a model\n",
    "classes = ['0','1']\n",
    "cm = ConfusionMatrix(ls, classes=classes, percent=False)\n",
    "\n",
    "# Fit the model\n",
    "cm.fit(tfidf_x_train, y_train)\n",
    "\n",
    "#Score runs predict() on the data and then creates the confusion_matrix\n",
    "cm.score(tfidf_x_test, y_test)\n",
    "\n",
    "# change fontsize of the labels in the figure\n",
    "for label in cm.ax.texts:\n",
    "    label.set_size(20)\n",
    "    \n",
    "#Plot the confusion matrix\n",
    "cm.poof()"
   ]
  },
  {
   "cell_type": "markdown",
   "metadata": {},
   "source": [
    "### 4. Logistic Regression"
   ]
  },
  {
   "cell_type": "code",
   "execution_count": 109,
   "metadata": {},
   "outputs": [
    {
     "name": "stdout",
     "output_type": "stream",
     "text": [
      "lr accuracy: 0.6151\n",
      "lr f1: 0.47769966502483824\n",
      "              precision    recall  f1-score   support\n",
      "\n",
      "           0       0.99      0.02      0.04      3938\n",
      "           1       0.61      1.00      0.76      6062\n",
      "\n",
      "    accuracy                           0.62     10000\n",
      "   macro avg       0.80      0.51      0.40     10000\n",
      "weighted avg       0.76      0.62      0.48     10000\n",
      "\n"
     ]
    }
   ],
   "source": [
    "#lr\n",
    "lr = LogisticRegression(solver='newton-cg')\n",
    "\n",
    "#fit\n",
    "tfidf = lr.fit(tfidf_x_train, y_train)\n",
    "\n",
    "#predict\n",
    "lr_tfidf_predict = lr.predict(tfidf_x_test)\n",
    "\n",
    "#accuracy\n",
    "lr_tfidf = accuracy_score(y_test,lr_tfidf_predict)\n",
    "\n",
    "# f1 Score\n",
    "lr_f1 = f1_score(y_test, lr_tfidf_predict, average= 'weighted')\n",
    "\n",
    "print('lr accuracy:', lr_tfidf)\n",
    "print('lr f1:', lr_f1)\n",
    "print(classification_report(y_test, lr_tfidf_predict))"
   ]
  },
  {
   "cell_type": "markdown",
   "metadata": {},
   "source": [
    "#### Logistic Regression Confusion Matrix"
   ]
  },
  {
   "cell_type": "code",
   "execution_count": 110,
   "metadata": {},
   "outputs": [
    {
     "data": {
      "image/png": "[encoded data removed]",
      "text/plain": [
       "<Figure size 432x288 with 1 Axes>"
      ]
     },
     "metadata": {
      "needs_background": "light"
     },
     "output_type": "display_data"
    },
    {
     "data": {
      "text/plain": [
       "<matplotlib.axes._subplots.AxesSubplot at 0x25cb1f496d0>"
      ]
     },
     "execution_count": 110,
     "metadata": {},
     "output_type": "execute_result"
    }
   ],
   "source": [
    "#The ConfusionMatrix visualizer taxes a model\n",
    "classes = ['0','1']\n",
    "cm = ConfusionMatrix(lr, classes=classes, percent=False)\n",
    "\n",
    "# Fit the model\n",
    "cm.fit(tfidf_x_train, y_train)\n",
    "\n",
    "#Score runs predict() on the data and then creates the confusion_matrix\n",
    "cm.score(tfidf_x_test, y_test)\n",
    "\n",
    "# change fontsize of the labels in the figure\n",
    "for label in cm.ax.texts:\n",
    "    label.set_size(20)\n",
    "    \n",
    "#Plot the confusion matrix\n",
    "cm.poof()"
   ]
  },
  {
   "cell_type": "markdown",
   "metadata": {},
   "source": [
    "### 5. XGB CLASSIFIER"
   ]
  },
  {
   "cell_type": "markdown",
   "metadata": {},
   "source": [
    "### Hyperparameter Tuning"
   ]
  },
  {
   "cell_type": "code",
   "execution_count": 111,
   "metadata": {},
   "outputs": [],
   "source": [
    "#RandomSearchCV\n",
    "# define the parameters to tune\n",
    "param_dist = {\"learning_rate\": uniform(0, 2),\n",
    "              \"gamma\": uniform(1, 0.000001),\n",
    "              \"max_depth\": range(1,50),\n",
    "              \"n_estimators\": range(1,300),\n",
    "              \"min_child_weight\": range(1,10),\n",
    "              'n_jobs': range(1,5)}\n",
    "#instance of RandomSearchCV\n",
    "rs = RandomizedSearchCV(XGBClassifier(eval_metric='mlogloss'), param_distributions=param_dist, n_iter=3)"
   ]
  },
  {
   "cell_type": "markdown",
   "metadata": {},
   "source": [
    "### Create Data Pipeline"
   ]
  },
  {
   "cell_type": "code",
   "execution_count": 112,
   "metadata": {},
   "outputs": [],
   "source": [
    "model  = Pipeline([\n",
    "    ('count', CountVectorizer()),\n",
    "    ('tfidf', TfidfTransformer()),\n",
    "    ('model', rs)\n",
    "])"
   ]
  },
  {
   "cell_type": "code",
   "execution_count": 113,
   "metadata": {},
   "outputs": [
    {
     "name": "stdout",
     "output_type": "stream",
     "text": [
      "xgb accuracy: 0.8193\n",
      "xgb f1: 0.8181989600911407\n",
      "              precision    recall  f1-score   support\n",
      "\n",
      "           0       0.79      0.74      0.76      3938\n",
      "           1       0.84      0.87      0.85      6062\n",
      "\n",
      "    accuracy                           0.82     10000\n",
      "   macro avg       0.81      0.81      0.81     10000\n",
      "weighted avg       0.82      0.82      0.82     10000\n",
      "\n"
     ]
    }
   ],
   "source": [
    "#fit\n",
    "tfidf = model.fit(x_train, y_train)\n",
    "\n",
    "#predict\n",
    "xgb_tfidf_predict = model.predict(x_test)\n",
    "\n",
    "#accuracy\n",
    "xgb_tfidf = accuracy_score(y_test, xgb_tfidf_predict)\n",
    "\n",
    "# f1 Score\n",
    "xgb_f1 = f1_score(y_test, xgb_tfidf_predict, average= 'weighted')\n",
    "\n",
    "print('xgb accuracy:', xgb_tfidf)\n",
    "print('xgb f1:', xgb_f1)\n",
    "print(classification_report(y_test, xgb_tfidf_predict))"
   ]
  },
  {
   "cell_type": "code",
   "execution_count": 114,
   "metadata": {},
   "outputs": [],
   "source": [
    "# Separate function to create a confusion matrix for XGB Classifier \n",
    "def conf_matrix(y_test, pred_test):    \n",
    "    \n",
    "    # Creating a confusion matrix\n",
    "    con_mat = confusion_matrix(y_test, pred_test)\n",
    "    con_mat = pd.DataFrame(con_mat, range(2), range(2))\n",
    "   \n",
    "    #Ploting the confusion matrix\n",
    "    plt.figure(figsize=(6,6))\n",
    "    sns.set(font_scale=1.5) \n",
    "    sns.heatmap(con_mat, annot=True, annot_kws={\"size\": 16}, fmt='g', cmap='Blues', cbar=False)"
   ]
  },
  {
   "cell_type": "code",
   "execution_count": 115,
   "metadata": {},
   "outputs": [
    {
     "data": {
      "image/png": "[encoded data removed]",
      "text/plain": [
       "<Figure size 432x432 with 1 Axes>"
      ]
     },
     "metadata": {
      "needs_background": "light"
     },
     "output_type": "display_data"
    }
   ],
   "source": [
    "#Calling function to plot Confusion Matrix for XGB Classifier\n",
    "conf_matrix(y_test, xgb_tfidf_predict)"
   ]
  },
  {
   "cell_type": "markdown",
   "metadata": {},
   "source": [
    "### 6. Logistic Regression model with class_weight"
   ]
  },
  {
   "cell_type": "code",
   "execution_count": 116,
   "metadata": {},
   "outputs": [
    {
     "name": "stdout",
     "output_type": "stream",
     "text": [
      "lrcw accuracy: 0.6643\n",
      "lrcw f1: 0.6110325257614779\n",
      "              precision    recall  f1-score   support\n",
      "\n",
      "           0       0.72      0.24      0.36      3938\n",
      "           1       0.66      0.94      0.77      6062\n",
      "\n",
      "    accuracy                           0.66     10000\n",
      "   macro avg       0.69      0.59      0.57     10000\n",
      "weighted avg       0.68      0.66      0.61     10000\n",
      "\n"
     ]
    }
   ],
   "source": [
    "#lr-cw\n",
    "lrcw = LogisticRegression(solver='newton-cg', class_weight='balanced')\n",
    "\n",
    "#fit\n",
    "tfidf = lrcw.fit(tfidf_x_train, y_train)\n",
    "\n",
    "#predict\n",
    "lrcw_tfidf_predict = lrcw.predict(tfidf_x_test)\n",
    "\n",
    "#accuracy\n",
    "lrcw_tfidf = accuracy_score(y_test, lrcw_tfidf_predict)\n",
    "\n",
    "# f1 Score\n",
    "lrcw_f1 = f1_score(y_test, lrcw_tfidf_predict, average= 'weighted')\n",
    "\n",
    "print('lrcw accuracy:', lrcw_tfidf)\n",
    "print('lrcw f1:', lrcw_f1)\n",
    "print(classification_report(y_test, lrcw_tfidf_predict))"
   ]
  },
  {
   "cell_type": "markdown",
   "metadata": {},
   "source": [
    "#### Logistic Regression (class_weight) Confusion Matrix"
   ]
  },
  {
   "cell_type": "code",
   "execution_count": 117,
   "metadata": {},
   "outputs": [
    {
     "data": {
      "image/png": "[encoded data removed]",
      "text/plain": [
       "<Figure size 432x288 with 1 Axes>"
      ]
     },
     "metadata": {},
     "output_type": "display_data"
    },
    {
     "data": {
      "text/plain": [
       "<matplotlib.axes._subplots.AxesSubplot at 0x25c8fb380d0>"
      ]
     },
     "execution_count": 117,
     "metadata": {},
     "output_type": "execute_result"
    }
   ],
   "source": [
    "#The ConfusionMatrix visualizer taxes a model\n",
    "classes = ['0','1']\n",
    "cm = ConfusionMatrix(lrcw, classes=classes, percent=False)\n",
    "\n",
    "# Fit the model\n",
    "cm.fit(tfidf_x_train, y_train)\n",
    "\n",
    "#Score runs predict() on the data and then creates the confusion_matrix\n",
    "cm.score(tfidf_x_test, y_test)\n",
    "\n",
    "# change fontsize of the labels in the figure\n",
    "for label in cm.ax.texts:\n",
    "    label.set_size(20)\n",
    "    \n",
    "#Plot the confusion matrix\n",
    "cm.poof()"
   ]
  },
  {
   "cell_type": "markdown",
   "metadata": {},
   "source": [
    "### 7. Neural Network Classifier with Keras"
   ]
  },
  {
   "cell_type": "code",
   "execution_count": 120,
   "metadata": {},
   "outputs": [],
   "source": [
    "# convert categories into an array\n",
    "y = np.array(y)"
   ]
  },
  {
   "cell_type": "code",
   "execution_count": 121,
   "metadata": {},
   "outputs": [],
   "source": [
    "# Encode target variables with value between 0 and n_classes-1 (n_classes = 3)\n",
    "label_encoder = preprocessing.LabelEncoder()\n",
    "int_encode = label_encoder.fit_transform(y)"
   ]
  },
  {
   "cell_type": "code",
   "execution_count": 122,
   "metadata": {},
   "outputs": [],
   "source": [
    "# Encode categorical features as a one-hot numeric array.\n",
    "# input is an array - int_encode created above\n",
    "# This creates a binary column for each category in y\n",
    "onehot_encoder = preprocessing.OneHotEncoder(sparse=False)\n",
    "int_encode = int_encode.reshape(len(int_encode), 1)\n",
    "y = onehot_encoder.fit_transform(int_encode)"
   ]
  },
  {
   "cell_type": "code",
   "execution_count": 123,
   "metadata": {},
   "outputs": [],
   "source": [
    "# Set the number of features we want\n",
    "number_of_features = 5000"
   ]
  },
  {
   "cell_type": "code",
   "execution_count": 124,
   "metadata": {},
   "outputs": [
    {
     "data": {
      "text/plain": [
       "(50000, 5000)"
      ]
     },
     "execution_count": 124,
     "metadata": {},
     "output_type": "execute_result"
    }
   ],
   "source": [
    "# convert feature data X to feature matrix\n",
    "token = Tokenizer(num_words=number_of_features)\n",
    "token.fit_on_texts(X)\n",
    "seq_X = token.texts_to_sequences(X)\n",
    "X = token.sequences_to_matrix(seq_X, mode='binary')\n",
    "X.shape"
   ]
  },
  {
   "cell_type": "code",
   "execution_count": 125,
   "metadata": {},
   "outputs": [],
   "source": [
    "#split the original data again after tokenization\n",
    "X_train,X_test,y_train,y_test = train_test_split(X,y,test_size = 0.2 , random_state = 0)"
   ]
  },
  {
   "cell_type": "code",
   "execution_count": 126,
   "metadata": {},
   "outputs": [
    {
     "data": {
      "text/plain": [
       "(40000, 2)"
      ]
     },
     "execution_count": 126,
     "metadata": {},
     "output_type": "execute_result"
    }
   ],
   "source": [
    "# display shape of target train\n",
    "y_train.shape"
   ]
  },
  {
   "cell_type": "code",
   "execution_count": 127,
   "metadata": {},
   "outputs": [],
   "source": [
    "# Set the Neural network\n",
    "model = Sequential()\n",
    "model.add(Dense(48, activation='relu', input_shape = (number_of_features,)))\n",
    "model.add(Dense(12, activation='relu'))\n",
    "model.add(Dense(2, activation='softmax'))\n",
    "\n",
    "model.compile(loss='categorical_crossentropy', optimizer='adam', metrics=['accuracy'])"
   ]
  },
  {
   "cell_type": "code",
   "execution_count": 128,
   "metadata": {},
   "outputs": [
    {
     "name": "stdout",
     "output_type": "stream",
     "text": [
      "Epoch 1/10\n",
      "563/563 [==============================] - 183s 25ms/step - loss: 0.4428 - accuracy: 0.7925 - val_loss: 0.3447 - val_accuracy: 0.8475\n",
      "Epoch 2/10\n",
      "563/563 [==============================] - 7s 12ms/step - loss: 0.2755 - accuracy: 0.8827 - val_loss: 0.3461 - val_accuracy: 0.8487\n",
      "Epoch 3/10\n",
      "563/563 [==============================] - 7s 13ms/step - loss: 0.2125 - accuracy: 0.9139 - val_loss: 0.3906 - val_accuracy: 0.8428\n",
      "Epoch 4/10\n",
      "563/563 [==============================] - 6s 11ms/step - loss: 0.1305 - accuracy: 0.9526 - val_loss: 0.4769 - val_accuracy: 0.8388\n",
      "Epoch 5/10\n",
      "563/563 [==============================] - 7s 12ms/step - loss: 0.0565 - accuracy: 0.9826 - val_loss: 0.6337 - val_accuracy: 0.8340\n",
      "Epoch 6/10\n",
      "563/563 [==============================] - 7s 12ms/step - loss: 0.0207 - accuracy: 0.9947 - val_loss: 0.7978 - val_accuracy: 0.8273\n",
      "Epoch 7/10\n",
      "563/563 [==============================] - 6s 11ms/step - loss: 0.0069 - accuracy: 0.9992 - val_loss: 0.9662 - val_accuracy: 0.8213\n",
      "Epoch 8/10\n",
      "563/563 [==============================] - 7s 12ms/step - loss: 0.0043 - accuracy: 0.9992 - val_loss: 1.0267 - val_accuracy: 0.8275\n",
      "Epoch 9/10\n",
      "563/563 [==============================] - 6s 11ms/step - loss: 0.0149 - accuracy: 0.9955 - val_loss: 1.0716 - val_accuracy: 0.8240\n",
      "Epoch 10/10\n",
      "563/563 [==============================] - 7s 12ms/step - loss: 0.0184 - accuracy: 0.9944 - val_loss: 1.1334 - val_accuracy: 0.8320\n"
     ]
    },
    {
     "data": {
      "text/plain": [
       "<keras.callbacks.History at 0x25c5f031d30>"
      ]
     },
     "execution_count": 128,
     "metadata": {},
     "output_type": "execute_result"
    }
   ],
   "source": [
    "# fit the model\n",
    "history = model.fit(X_train, y_train, epochs=10, batch_size=64, verbose=1, validation_split=0.1)\n",
    "history"
   ]
  },
  {
   "cell_type": "code",
   "execution_count": 129,
   "metadata": {},
   "outputs": [
    {
     "name": "stdout",
     "output_type": "stream",
     "text": [
      "nn keras accuracy: 0.8175\n",
      "nn keras f1 score: 0.8172272609822093\n",
      "nn keras confusion matrix:\n",
      "[[2993  945]\n",
      " [ 880 5182]]\n",
      "              precision    recall  f1-score   support\n",
      "\n",
      "           0       0.77      0.76      0.77      3938\n",
      "           1       0.85      0.85      0.85      6062\n",
      "\n",
      "    accuracy                           0.82     10000\n",
      "   macro avg       0.81      0.81      0.81     10000\n",
      "weighted avg       0.82      0.82      0.82     10000\n",
      "\n"
     ]
    }
   ],
   "source": [
    "#predict\n",
    "y_pred = model.predict(X_test)\n",
    "\n",
    "y_pred=np.argmax(y_pred, axis=1)\n",
    "y_test=np.argmax(y_test, axis=1)\n",
    "\n",
    "#accuracy\n",
    "nn_keras_accuracy = accuracy_score(y_test,y_pred)\n",
    "\n",
    "# f1 Score\n",
    "nn_keras_f1 = f1_score(y_test, y_pred, average= 'weighted')\n",
    "\n",
    "# confusion matrix\n",
    "nn_keras_matrix = confusion_matrix(y_test, y_pred)\n",
    "\n",
    "print('nn keras accuracy:', nn_keras_accuracy)\n",
    "print('nn keras f1 score:', nn_keras_f1)\n",
    "print('nn keras confusion matrix:')\n",
    "print(nn_keras_matrix)\n",
    "print(classification_report(y_test, y_pred))"
   ]
  },
  {
   "cell_type": "markdown",
   "metadata": {},
   "source": [
    "#### Neural Network Classifier with Keras - Confusion Matrix"
   ]
  },
  {
   "cell_type": "code",
   "execution_count": 130,
   "metadata": {
    "scrolled": true
   },
   "outputs": [
    {
     "data": {
      "image/png": "[encoded data removed]",
      "text/plain": [
       "<Figure size 432x432 with 1 Axes>"
      ]
     },
     "metadata": {},
     "output_type": "display_data"
    }
   ],
   "source": [
    "#Calling function to plot Confusion Matrix for Neural Network with Keras\n",
    "conf_matrix(y_test, y_pred)"
   ]
  },
  {
   "cell_type": "markdown",
   "metadata": {},
   "source": [
    "## Results - Model Evaluation"
   ]
  },
  {
   "cell_type": "markdown",
   "metadata": {},
   "source": [
    "#### Model evaluation based on accuracy"
   ]
  },
  {
   "cell_type": "code",
   "execution_count": 131,
   "metadata": {},
   "outputs": [
    {
     "data": {
      "text/html": [
       "<div>\n",
       "<style scoped>\n",
       "    .dataframe tbody tr th:only-of-type {\n",
       "        vertical-align: middle;\n",
       "    }\n",
       "\n",
       "    .dataframe tbody tr th {\n",
       "        vertical-align: top;\n",
       "    }\n",
       "\n",
       "    .dataframe thead th {\n",
       "        text-align: right;\n",
       "    }\n",
       "</style>\n",
       "<table border=\"1\" class=\"dataframe\">\n",
       "  <thead>\n",
       "    <tr style=\"text-align: right;\">\n",
       "      <th></th>\n",
       "      <th>model</th>\n",
       "      <th>accuracy</th>\n",
       "    </tr>\n",
       "  </thead>\n",
       "  <tbody>\n",
       "    <tr>\n",
       "      <th>0</th>\n",
       "      <td>Naive Bayes</td>\n",
       "      <td>61.79</td>\n",
       "    </tr>\n",
       "    <tr>\n",
       "      <th>1</th>\n",
       "      <td>Random Forest</td>\n",
       "      <td>60.62</td>\n",
       "    </tr>\n",
       "    <tr>\n",
       "      <th>2</th>\n",
       "      <td>Linear SVC</td>\n",
       "      <td>63.93</td>\n",
       "    </tr>\n",
       "    <tr>\n",
       "      <th>3</th>\n",
       "      <td>Logistic Regression</td>\n",
       "      <td>61.51</td>\n",
       "    </tr>\n",
       "    <tr>\n",
       "      <th>4</th>\n",
       "      <td>XGB Classifier</td>\n",
       "      <td>81.93</td>\n",
       "    </tr>\n",
       "    <tr>\n",
       "      <th>5</th>\n",
       "      <td>Logistic Regression - class_weight</td>\n",
       "      <td>66.43</td>\n",
       "    </tr>\n",
       "    <tr>\n",
       "      <th>6</th>\n",
       "      <td>Neural Network Classifier with Keras</td>\n",
       "      <td>81.75</td>\n",
       "    </tr>\n",
       "  </tbody>\n",
       "</table>\n",
       "</div>"
      ],
      "text/plain": [
       "                                  model  accuracy\n",
       "0                           Naive Bayes     61.79\n",
       "1                         Random Forest     60.62\n",
       "2                            Linear SVC     63.93\n",
       "3                   Logistic Regression     61.51\n",
       "4                        XGB Classifier     81.93\n",
       "5    Logistic Regression - class_weight     66.43\n",
       "6  Neural Network Classifier with Keras     81.75"
      ]
     },
     "execution_count": 131,
     "metadata": {},
     "output_type": "execute_result"
    }
   ],
   "source": [
    "# Compare all the model results\n",
    "model_accuracy_data = {'model': ['Naive Bayes', 'Random Forest', 'Linear SVC', 'Logistic Regression', 'XGB Classifier', 'Logistic Regression - class_weight', 'Neural Network Classifier with Keras'], \n",
    " 'accuracy': [nb_tfidf * 100, rf_tfidf * 100, ls_tfidf * 100, lr_tfidf * 100, xgb_tfidf * 100, lrcw_tfidf * 100, nn_keras_accuracy * 100]\n",
    "}\n",
    "df_model_accuracy = pd.DataFrame(model_accuracy_data, columns = ['model', 'accuracy'])\n",
    "df_model_accuracy"
   ]
  },
  {
   "cell_type": "code",
   "execution_count": 132,
   "metadata": {},
   "outputs": [
    {
     "data": {
      "text/plain": [
       "<matplotlib.axes._subplots.AxesSubplot at 0x25c150f3be0>"
      ]
     },
     "execution_count": 132,
     "metadata": {},
     "output_type": "execute_result"
    },
    {
     "data": {
      "image/png": "[encoded data removed]",
      "text/plain": [
       "<Figure size 1224x504 with 1 Axes>"
      ]
     },
     "metadata": {},
     "output_type": "display_data"
    }
   ],
   "source": [
    "# Plot the Model Comparison based on accuracy\n",
    "plt.figure(figsize = (17,7))\n",
    "sns.barplot(y = df_model_accuracy.model, x = df_model_accuracy.accuracy)"
   ]
  },
  {
   "cell_type": "markdown",
   "metadata": {},
   "source": [
    "### Based on the Results / Model Evaluation, the accuracy of the XGB Classifier and Neural Network with Keras shows best results as below:"
   ]
  },
  {
   "cell_type": "markdown",
   "metadata": {},
   "source": [
    "### XGB Classifier - 81.93%\n",
    "### Neural Network Classifier with Keras - 81.75%"
   ]
  },
  {
   "cell_type": "code",
   "execution_count": null,
   "metadata": {},
   "outputs": [],
   "source": []
  }
 ],
 "metadata": {
  "kernelspec": {
   "display_name": "Python 3",
   "language": "python",
   "name": "python3"
  },
  "language_info": {
   "codemirror_mode": {
    "name": "ipython",
    "version": 3
   },
   "file_extension": ".py",
   "mimetype": "text/x-python",
   "name": "python",
   "nbconvert_exporter": "python",
   "pygments_lexer": "ipython3",
   "version": "3.8.3"
  }
 },
 "nbformat": 4,
 "nbformat_minor": 4
}
